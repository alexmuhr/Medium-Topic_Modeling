{
 "cells": [
  {
   "cell_type": "code",
   "execution_count": 1,
   "metadata": {},
   "outputs": [],
   "source": [
    "import numpy as np\n",
    "import pandas as pd\n",
    "import matplotlib.pyplot as plt\n",
    "import seaborn as sns\n",
    "import string\n",
    "import re\n",
    "from ast import literal_eval\n",
    "from collections import Counter\n",
    "%matplotlib inline\n",
    "\n",
    "from sklearn.decomposition import NMF\n",
    "from sklearn.feature_extraction.text import TfidfVectorizer\n",
    "from sklearn.metrics.pairwise import cosine_similarity\n",
    "from sklearn.decomposition import TruncatedSVD\n",
    "\n",
    "from gensim.parsing.preprocessing import STOPWORDS\n"
   ]
  },
  {
   "cell_type": "markdown",
   "metadata": {},
   "source": [
    "### Read in Data, Preprocess"
   ]
  },
  {
   "cell_type": "code",
   "execution_count": 2,
   "metadata": {},
   "outputs": [],
   "source": [
    "medium = pd.read_csv('medium_dataset.csv')\n",
    "\n",
    "# The allTags column needs to be converted to type list. By default pandas will read the lists in as strings.\n",
    "def convert_tags(tags):\n",
    "    try:\n",
    "        tags = literal_eval(tags)\n",
    "        return tags\n",
    "    except:\n",
    "        return tags\n",
    "\n",
    "medium['allTags'] = medium['allTags'].apply(convert_tags)\n",
    "\n",
    "processed_text = pd.read_csv('processed_text.csv', engine = 'python')\n",
    "processed_text.drop(columns = 'Unnamed: 0')\n",
    "medium = medium.merge(processed_text, on = 'title')\n",
    "\n",
    "medium = medium[medium['totalClapCount'] >= 25]\n",
    "medium.reset_index(drop = True, inplace = True)\n",
    "\n",
    "medium = medium[['title', 'allTags', 'firstPublishedDatetime', 'url', 'readingTime', 'processedText']]"
   ]
  },
  {
   "cell_type": "code",
   "execution_count": 3,
   "metadata": {},
   "outputs": [],
   "source": [
    "processed_text = 0"
   ]
  },
  {
   "cell_type": "code",
   "execution_count": 4,
   "metadata": {},
   "outputs": [],
   "source": [
    "# When merging it seems a few messed up rows were generated with null values. remove these.\n",
    "\n",
    "medium.drop(index = medium[medium['processedText'].isnull() == True].index, inplace = True)"
   ]
  },
  {
   "cell_type": "code",
   "execution_count": 5,
   "metadata": {},
   "outputs": [],
   "source": [
    "stop_list = STOPWORDS.union(set(['data', 'ai', 'learning', 'time', 'machine', 'like', 'use', 'new', 'intelligence', 'need', \"it's\", 'way',\n",
    "                                 'artificial', 'based', 'want', 'know', 'learn', \"don't\", 'things', 'lot', \"let's\", 'model', 'input',\n",
    "                                 'output', 'train', 'training', 'trained', 'it', 'we', 'don', 'you', 'ce', 'hasn', 'sa', 'do', 'som',\n",
    "                                 'can']))"
   ]
  },
  {
   "cell_type": "code",
   "execution_count": 6,
   "metadata": {},
   "outputs": [
    {
     "name": "stderr",
     "output_type": "stream",
     "text": [
      "/Users/alex/anaconda3/lib/python3.7/site-packages/sklearn/feature_extraction/text.py:286: UserWarning: Your stop_words may be inconsistent with your preprocessing. Tokenizing the stop words generated tokens ['let'] not in stop_words.\n",
      "  sorted(inconsistent))\n"
     ]
    },
    {
     "data": {
      "text/plain": [
       "(24328, 122166)"
      ]
     },
     "execution_count": 6,
     "metadata": {},
     "output_type": "execute_result"
    }
   ],
   "source": [
    "vectorizer = TfidfVectorizer(stop_words = stop_list, ngram_range = (1,1))\n",
    "doc_word = vectorizer.fit_transform(medium['processedText'])\n",
    "doc_word.shape"
   ]
  },
  {
   "cell_type": "markdown",
   "metadata": {},
   "source": [
    "### NMF with TFIDF"
   ]
  },
  {
   "cell_type": "code",
   "execution_count": 7,
   "metadata": {},
   "outputs": [],
   "source": [
    "nmf = NMF(8)\n",
    "doc_topic = nmf.fit_transform(doc_word)"
   ]
  },
  {
   "cell_type": "code",
   "execution_count": 8,
   "metadata": {},
   "outputs": [],
   "source": [
    "def display_topics(model, feature_names, no_top_words, no_top_topics, topic_names=None):\n",
    "    count = 0\n",
    "    for ix, topic in enumerate(model.components_):\n",
    "        if count == no_top_topics:\n",
    "            break\n",
    "        if not topic_names or not topic_names[ix]:\n",
    "            print(\"\\nTopic \", (ix + 1))\n",
    "        else:\n",
    "            print(\"\\nTopic: '\",topic_names[ix],\"'\")\n",
    "        print(\", \".join([feature_names[i]\n",
    "                        for i in topic.argsort()[:-no_top_words - 1:-1]]))\n",
    "        count += 1"
   ]
  },
  {
   "cell_type": "code",
   "execution_count": 245,
   "metadata": {},
   "outputs": [
    {
     "name": "stdout",
     "output_type": "stream",
     "text": [
      "\n",
      "Topic: ' Tech '\n",
      "human, robot, technolog, peopl, machin, world, think, futur, brain, job\n",
      "\n",
      "Topic: ' Modeling '\n",
      "valu, predict, variabl, featur, regress, function, algorithm, linear, set, test\n",
      "\n",
      "Topic: ' Chatbots '\n",
      "chatbot, bot, custom, user, convers, messag, servic, chat, busi, messeng\n",
      "\n",
      "Topic: ' Deep Learning '\n",
      "network, imag, layer, neural, deep, convolut, neuron, cnn, weight, function\n",
      "\n",
      "Topic: ' Coding '\n",
      "file, tensorflow, python, imag, code, instal, api, run, notebook, googl\n",
      "\n",
      "Topic: ' Business '\n",
      "blockchain, market, technolog, compani, busi, custom, product, platform, servic, token\n",
      "\n",
      "Topic: ' Careers '\n",
      "scienc, scientist, cours, work, skill, team, job, peopl, project, engin\n",
      "\n",
      "Topic: ' NLP '\n",
      "word, vector, text, sentenc, embed, languag, document, sentiment, nlp, corpu\n"
     ]
    }
   ],
   "source": [
    "display_topics(nmf, vectorizer.get_feature_names(), 10, 8, topic_names = topic_names)"
   ]
  },
  {
   "cell_type": "markdown",
   "metadata": {},
   "source": [
    "### Name Topics and Save Results"
   ]
  },
  {
   "cell_type": "code",
   "execution_count": 10,
   "metadata": {},
   "outputs": [],
   "source": [
    "topic_names = ['Tech', 'Modeling', 'Chatbots', 'Deep Learning', 'Coding', 'Business', 'Careers', 'NLP']"
   ]
  },
  {
   "cell_type": "code",
   "execution_count": 11,
   "metadata": {},
   "outputs": [],
   "source": [
    "topic_words = ['Human, Robot, Technology, People, Machine',\n",
    "               'Value, Predict, Variable, Feature, Regression',\n",
    "               'Chatbot, Bot, Customer, User, Conversation',\n",
    "               'Network, Image, Layer, Neural, Deep',\n",
    "               'File, Python, Image, Code, Install',\n",
    "               'Blockchain, Market, Company, Business, Product',\n",
    "               'Scientist, Course, Work, Skill, Team',\n",
    "               'Word, Vector, Text, Sentence, Embed']"
   ]
  },
  {
   "cell_type": "code",
   "execution_count": 124,
   "metadata": {},
   "outputs": [
    {
     "data": {
      "text/html": [
       "<div>\n",
       "<style scoped>\n",
       "    .dataframe tbody tr th:only-of-type {\n",
       "        vertical-align: middle;\n",
       "    }\n",
       "\n",
       "    .dataframe tbody tr th {\n",
       "        vertical-align: top;\n",
       "    }\n",
       "\n",
       "    .dataframe thead th {\n",
       "        text-align: right;\n",
       "    }\n",
       "</style>\n",
       "<table border=\"1\" class=\"dataframe\">\n",
       "  <thead>\n",
       "    <tr style=\"text-align: right;\">\n",
       "      <th></th>\n",
       "      <th>title</th>\n",
       "      <th>url</th>\n",
       "      <th>allTags</th>\n",
       "      <th>readingTime</th>\n",
       "      <th>Tech</th>\n",
       "      <th>Modeling</th>\n",
       "      <th>Chatbots</th>\n",
       "      <th>Deep Learning</th>\n",
       "      <th>Coding</th>\n",
       "      <th>Business</th>\n",
       "      <th>Careers</th>\n",
       "      <th>NLP</th>\n",
       "    </tr>\n",
       "  </thead>\n",
       "  <tbody>\n",
       "    <tr>\n",
       "      <th>0</th>\n",
       "      <td>Private Business, Government and Blockchain</td>\n",
       "      <td>https://medium.com/s/story/private-business-go...</td>\n",
       "      <td>[Blockchain, Samsung, It]</td>\n",
       "      <td>0.958491</td>\n",
       "      <td>0.003274</td>\n",
       "      <td>0.000000</td>\n",
       "      <td>0.000000</td>\n",
       "      <td>0.000000</td>\n",
       "      <td>0.000000</td>\n",
       "      <td>0.076575</td>\n",
       "      <td>0.000000</td>\n",
       "      <td>0.000000</td>\n",
       "    </tr>\n",
       "    <tr>\n",
       "      <th>1</th>\n",
       "      <td>Can a robot love us better than another human ...</td>\n",
       "      <td>https://medium.com/s/story/can-a-robot-love-us...</td>\n",
       "      <td>[Robotics, Meditation, Therapy, Artificial Int...</td>\n",
       "      <td>0.652830</td>\n",
       "      <td>0.052594</td>\n",
       "      <td>0.000000</td>\n",
       "      <td>0.000000</td>\n",
       "      <td>0.000000</td>\n",
       "      <td>0.000000</td>\n",
       "      <td>0.000000</td>\n",
       "      <td>0.000000</td>\n",
       "      <td>0.000000</td>\n",
       "    </tr>\n",
       "    <tr>\n",
       "      <th>2</th>\n",
       "      <td>2017 Big Data, AI and IOT Use Cases</td>\n",
       "      <td>https://medium.com/s/story/2017-big-data-ai-an...</td>\n",
       "      <td>[Artificial Intelligence, Data Science, Big Da...</td>\n",
       "      <td>7.055031</td>\n",
       "      <td>0.020592</td>\n",
       "      <td>0.016506</td>\n",
       "      <td>0.000000</td>\n",
       "      <td>0.011496</td>\n",
       "      <td>0.004362</td>\n",
       "      <td>0.044861</td>\n",
       "      <td>0.016316</td>\n",
       "      <td>0.000000</td>\n",
       "    </tr>\n",
       "    <tr>\n",
       "      <th>3</th>\n",
       "      <td>The Meta Model and Meta Meta-Model of Deep Lea...</td>\n",
       "      <td>https://medium.com/s/story/the-meta-model-and-...</td>\n",
       "      <td>[Machine Learning, Deep Learning, Artificial I...</td>\n",
       "      <td>5.684906</td>\n",
       "      <td>0.008734</td>\n",
       "      <td>0.001640</td>\n",
       "      <td>0.000000</td>\n",
       "      <td>0.045441</td>\n",
       "      <td>0.000836</td>\n",
       "      <td>0.000000</td>\n",
       "      <td>0.009885</td>\n",
       "      <td>0.006307</td>\n",
       "    </tr>\n",
       "    <tr>\n",
       "      <th>4</th>\n",
       "      <td>Don’t trust “Do you trust this computer”</td>\n",
       "      <td>https://medium.com/s/story/dont-trust-do-you-t...</td>\n",
       "      <td>[Artificial Intelligence, Ethics, Elon Musk, D...</td>\n",
       "      <td>2.739623</td>\n",
       "      <td>0.026799</td>\n",
       "      <td>0.005586</td>\n",
       "      <td>0.003179</td>\n",
       "      <td>0.000000</td>\n",
       "      <td>0.000545</td>\n",
       "      <td>0.005267</td>\n",
       "      <td>0.017274</td>\n",
       "      <td>0.004096</td>\n",
       "    </tr>\n",
       "    <tr>\n",
       "      <th>5</th>\n",
       "      <td>AI based UI Development (AI-UI)</td>\n",
       "      <td>https://medium.com/s/story/ai-based-ui-develop...</td>\n",
       "      <td>[Machine Learning, Artificial Intelligence, De...</td>\n",
       "      <td>5.705660</td>\n",
       "      <td>0.023335</td>\n",
       "      <td>0.000000</td>\n",
       "      <td>0.006009</td>\n",
       "      <td>0.051248</td>\n",
       "      <td>0.035063</td>\n",
       "      <td>0.004568</td>\n",
       "      <td>0.010492</td>\n",
       "      <td>0.057667</td>\n",
       "    </tr>\n",
       "    <tr>\n",
       "      <th>6</th>\n",
       "      <td>Can Technology Replace Record Companies?</td>\n",
       "      <td>https://medium.com/s/story/can-technology-repl...</td>\n",
       "      <td>[Music, Business, Data Science, Business Strat...</td>\n",
       "      <td>3.205975</td>\n",
       "      <td>0.008898</td>\n",
       "      <td>0.007189</td>\n",
       "      <td>0.002466</td>\n",
       "      <td>0.000432</td>\n",
       "      <td>0.000000</td>\n",
       "      <td>0.051221</td>\n",
       "      <td>0.029810</td>\n",
       "      <td>0.000000</td>\n",
       "    </tr>\n",
       "    <tr>\n",
       "      <th>7</th>\n",
       "      <td>Five tech trends that shaped 2017</td>\n",
       "      <td>https://medium.com/s/story/five-tech-trends-th...</td>\n",
       "      <td>[Artificial Intelligence, Trends, Venture Capi...</td>\n",
       "      <td>4.416038</td>\n",
       "      <td>0.022113</td>\n",
       "      <td>0.012507</td>\n",
       "      <td>0.002418</td>\n",
       "      <td>0.000168</td>\n",
       "      <td>0.000000</td>\n",
       "      <td>0.070791</td>\n",
       "      <td>0.000000</td>\n",
       "      <td>0.000000</td>\n",
       "    </tr>\n",
       "    <tr>\n",
       "      <th>8</th>\n",
       "      <td>Vectorized implementation of back-propagation</td>\n",
       "      <td>https://medium.com/s/story/vectorized-implemen...</td>\n",
       "      <td>[Machine Learning, Neural Networks, Backpropag...</td>\n",
       "      <td>5.348428</td>\n",
       "      <td>0.000000</td>\n",
       "      <td>0.047683</td>\n",
       "      <td>0.000000</td>\n",
       "      <td>0.025370</td>\n",
       "      <td>0.002062</td>\n",
       "      <td>0.000000</td>\n",
       "      <td>0.000000</td>\n",
       "      <td>0.035136</td>\n",
       "    </tr>\n",
       "    <tr>\n",
       "      <th>9</th>\n",
       "      <td>Building Smarter Businesses With Cognitive Ser...</td>\n",
       "      <td>https://medium.com/s/story/building-smarter-bu...</td>\n",
       "      <td>[Artificial Intelligence, Machine Learning, Co...</td>\n",
       "      <td>6.069811</td>\n",
       "      <td>0.026020</td>\n",
       "      <td>0.000000</td>\n",
       "      <td>0.025512</td>\n",
       "      <td>0.007639</td>\n",
       "      <td>0.014731</td>\n",
       "      <td>0.043691</td>\n",
       "      <td>0.000000</td>\n",
       "      <td>0.010116</td>\n",
       "    </tr>\n",
       "  </tbody>\n",
       "</table>\n",
       "</div>"
      ],
      "text/plain": [
       "                                               title  \\\n",
       "0        Private Business, Government and Blockchain   \n",
       "1  Can a robot love us better than another human ...   \n",
       "2                2017 Big Data, AI and IOT Use Cases   \n",
       "3  The Meta Model and Meta Meta-Model of Deep Lea...   \n",
       "4           Don’t trust “Do you trust this computer”   \n",
       "5                    AI based UI Development (AI-UI)   \n",
       "6           Can Technology Replace Record Companies?   \n",
       "7                  Five tech trends that shaped 2017   \n",
       "8      Vectorized implementation of back-propagation   \n",
       "9  Building Smarter Businesses With Cognitive Ser...   \n",
       "\n",
       "                                                 url  \\\n",
       "0  https://medium.com/s/story/private-business-go...   \n",
       "1  https://medium.com/s/story/can-a-robot-love-us...   \n",
       "2  https://medium.com/s/story/2017-big-data-ai-an...   \n",
       "3  https://medium.com/s/story/the-meta-model-and-...   \n",
       "4  https://medium.com/s/story/dont-trust-do-you-t...   \n",
       "5  https://medium.com/s/story/ai-based-ui-develop...   \n",
       "6  https://medium.com/s/story/can-technology-repl...   \n",
       "7  https://medium.com/s/story/five-tech-trends-th...   \n",
       "8  https://medium.com/s/story/vectorized-implemen...   \n",
       "9  https://medium.com/s/story/building-smarter-bu...   \n",
       "\n",
       "                                             allTags  readingTime      Tech  \\\n",
       "0                          [Blockchain, Samsung, It]     0.958491  0.003274   \n",
       "1  [Robotics, Meditation, Therapy, Artificial Int...     0.652830  0.052594   \n",
       "2  [Artificial Intelligence, Data Science, Big Da...     7.055031  0.020592   \n",
       "3  [Machine Learning, Deep Learning, Artificial I...     5.684906  0.008734   \n",
       "4  [Artificial Intelligence, Ethics, Elon Musk, D...     2.739623  0.026799   \n",
       "5  [Machine Learning, Artificial Intelligence, De...     5.705660  0.023335   \n",
       "6  [Music, Business, Data Science, Business Strat...     3.205975  0.008898   \n",
       "7  [Artificial Intelligence, Trends, Venture Capi...     4.416038  0.022113   \n",
       "8  [Machine Learning, Neural Networks, Backpropag...     5.348428  0.000000   \n",
       "9  [Artificial Intelligence, Machine Learning, Co...     6.069811  0.026020   \n",
       "\n",
       "   Modeling  Chatbots  Deep Learning    Coding  Business   Careers       NLP  \n",
       "0  0.000000  0.000000       0.000000  0.000000  0.076575  0.000000  0.000000  \n",
       "1  0.000000  0.000000       0.000000  0.000000  0.000000  0.000000  0.000000  \n",
       "2  0.016506  0.000000       0.011496  0.004362  0.044861  0.016316  0.000000  \n",
       "3  0.001640  0.000000       0.045441  0.000836  0.000000  0.009885  0.006307  \n",
       "4  0.005586  0.003179       0.000000  0.000545  0.005267  0.017274  0.004096  \n",
       "5  0.000000  0.006009       0.051248  0.035063  0.004568  0.010492  0.057667  \n",
       "6  0.007189  0.002466       0.000432  0.000000  0.051221  0.029810  0.000000  \n",
       "7  0.012507  0.002418       0.000168  0.000000  0.070791  0.000000  0.000000  \n",
       "8  0.047683  0.000000       0.025370  0.002062  0.000000  0.000000  0.035136  \n",
       "9  0.000000  0.025512       0.007639  0.014731  0.043691  0.000000  0.010116  "
      ]
     },
     "execution_count": 124,
     "metadata": {},
     "output_type": "execute_result"
    }
   ],
   "source": [
    "column_names = ['title', 'url', 'allTags', 'readingTime', 'Tech', 'Modeling', 'Chatbots', 'Deep Learning', 'Coding', 'Business', 'Careers', 'NLP']\n",
    "doc_topic_df = pd.DataFrame(data = doc_topic)\n",
    "doc_topic_df.reset_index(drop = True, inplace = True)\n",
    "medium.reset_index(drop = True, inplace = True)\n",
    "doc_topic_df = pd.concat([medium[['title', 'url', 'allTags', 'readingTime']], doc_topic_df], axis = 1)\n",
    "doc_topic_df.columns = column_names\n",
    "doc_topic_df.to_csv('doc_topics/tfidf_nmf_8topics.csv', index = False)\n",
    "doc_topic_df.head(10)"
   ]
  },
  {
   "cell_type": "markdown",
   "metadata": {},
   "source": [
    "### Build pyldavis style plot in Bokeh"
   ]
  },
  {
   "cell_type": "code",
   "execution_count": 14,
   "metadata": {},
   "outputs": [
    {
     "name": "stdout",
     "output_type": "stream",
     "text": [
      "[311.88142016 307.90581222 182.7436377  230.8928612  314.82157683\n",
      " 389.82169153 327.34683269 188.68972613]\n"
     ]
    }
   ],
   "source": [
    "topic_strength = np.sum(doc_topic, axis = 0)\n",
    "print(topic_strength)"
   ]
  },
  {
   "cell_type": "code",
   "execution_count": 220,
   "metadata": {},
   "outputs": [],
   "source": [
    "adjustment = 10/np.max(doc_topic)"
   ]
  },
  {
   "cell_type": "code",
   "execution_count": 221,
   "metadata": {},
   "outputs": [
    {
     "data": {
      "text/plain": [
       "40.25186407228774"
      ]
     },
     "execution_count": 221,
     "metadata": {},
     "output_type": "execute_result"
    }
   ],
   "source": [
    "adjustment"
   ]
  },
  {
   "cell_type": "code",
   "execution_count": 15,
   "metadata": {},
   "outputs": [],
   "source": [
    "# Save topic components and run SVD(2) on them. This will allow the topics to be plotted in 2D.\n",
    "topics = nmf.components_"
   ]
  },
  {
   "cell_type": "code",
   "execution_count": 16,
   "metadata": {},
   "outputs": [
    {
     "data": {
      "text/plain": [
       "0.29612377460968636"
      ]
     },
     "execution_count": 16,
     "metadata": {},
     "output_type": "execute_result"
    }
   ],
   "source": [
    "lsa = TruncatedSVD(2)\n",
    "topics2D = lsa.fit_transform(topics)\n",
    "sum(lsa.explained_variance_ratio_)"
   ]
  },
  {
   "cell_type": "code",
   "execution_count": 17,
   "metadata": {},
   "outputs": [
    {
     "data": {
      "text/plain": [
       "array([[ 3.95880149, -1.87770049],\n",
       "       [ 2.26994545,  1.56844503],\n",
       "       [ 1.28125477, -0.75777582],\n",
       "       [ 2.08622884,  3.3229708 ],\n",
       "       [ 1.51903561,  0.68677364],\n",
       "       [ 2.44177456, -0.9660976 ],\n",
       "       [ 2.3932953 , -0.56435253],\n",
       "       [ 1.02189958,  0.56561959]])"
      ]
     },
     "execution_count": 17,
     "metadata": {},
     "output_type": "execute_result"
    }
   ],
   "source": [
    "topics2D"
   ]
  },
  {
   "cell_type": "code",
   "execution_count": 18,
   "metadata": {},
   "outputs": [],
   "source": [
    "pc1 = []\n",
    "pc2 = []\n",
    "\n",
    "for topic in topics2D:\n",
    "    pc1.append(topic[0])\n",
    "    pc2.append(topic[1])\n",
    "\n",
    "pc1 = np.array(pc1)\n",
    "pc2 = np.array(pc2)\n",
    "\n",
    "pc1 = pc1 - np.mean(pc1)\n",
    "pc2 = pc2 - np.mean(pc2)"
   ]
  },
  {
   "cell_type": "code",
   "execution_count": 19,
   "metadata": {},
   "outputs": [
    {
     "data": {
      "text/plain": [
       "<matplotlib.axes._subplots.AxesSubplot at 0x1a214e7630>"
      ]
     },
     "execution_count": 19,
     "metadata": {},
     "output_type": "execute_result"
    },
    {
     "data": {
      "image/png": "[encoded data removed]",
      "text/plain": [
       "<Figure size 432x288 with 1 Axes>"
      ]
     },
     "metadata": {
      "needs_background": "light"
     },
     "output_type": "display_data"
    }
   ],
   "source": [
    "# This crudely shows which topics are most similar\n",
    "# Find a prettier way to plot this\n",
    "sns.scatterplot(pc1, pc2)"
   ]
  },
  {
   "cell_type": "code",
   "execution_count": 22,
   "metadata": {},
   "outputs": [
    {
     "data": {
      "text/html": [
       "\n",
       "    <div class=\"bk-root\">\n",
       "        <a href=\"https://bokeh.pydata.org\" target=\"_blank\" class=\"bk-logo bk-logo-small bk-logo-notebook\"></a>\n",
       "        <span id=\"1037\">Loading BokehJS ...</span>\n",
       "    </div>"
      ]
     },
     "metadata": {},
     "output_type": "display_data"
    },
    {
     "data": {
      "application/javascript": [
       "\n",
       "(function(root) {\n",
       "  function now() {\n",
       "    return new Date();\n",
       "  }\n",
       "\n",
       "  var force = true;\n",
       "\n",
       "  if (typeof (root._bokeh_onload_callbacks) === \"undefined\" || force === true) {\n",
       "    root._bokeh_onload_callbacks = [];\n",
       "    root._bokeh_is_loading = undefined;\n",
       "  }\n",
       "\n",
       "  var JS_MIME_TYPE = 'application/javascript';\n",
       "  var HTML_MIME_TYPE = 'text/html';\n",
       "  var EXEC_MIME_TYPE = 'application/vnd.bokehjs_exec.v0+json';\n",
       "  var CLASS_NAME = 'output_bokeh rendered_html';\n",
       "\n",
       "  /**\n",
       "   * Render data to the DOM node\n",
       "   */\n",
       "  function render(props, node) {\n",
       "    var script = document.createElement(\"script\");\n",
       "    node.appendChild(script);\n",
       "  }\n",
       "\n",
       "  /**\n",
       "   * Handle when an output is cleared or removed\n",
       "   */\n",
       "  function handleClearOutput(event, handle) {\n",
       "    var cell = handle.cell;\n",
       "\n",
       "    var id = cell.output_area._bokeh_element_id;\n",
       "    var server_id = cell.output_area._bokeh_server_id;\n",
       "    // Clean up Bokeh references\n",
       "    if (id != null && id in Bokeh.index) {\n",
       "      Bokeh.index[id].model.document.clear();\n",
       "      delete Bokeh.index[id];\n",
       "    }\n",
       "\n",
       "    if (server_id !== undefined) {\n",
       "      // Clean up Bokeh references\n",
       "      var cmd = \"from bokeh.io.state import curstate; print(curstate().uuid_to_server['\" + server_id + \"'].get_sessions()[0].document.roots[0]._id)\";\n",
       "      cell.notebook.kernel.execute(cmd, {\n",
       "        iopub: {\n",
       "          output: function(msg) {\n",
       "            var id = msg.content.text.trim();\n",
       "            if (id in Bokeh.index) {\n",
       "              Bokeh.index[id].model.document.clear();\n",
       "              delete Bokeh.index[id];\n",
       "            }\n",
       "          }\n",
       "        }\n",
       "      });\n",
       "      // Destroy server and session\n",
       "      var cmd = \"import bokeh.io.notebook as ion; ion.destroy_server('\" + server_id + \"')\";\n",
       "      cell.notebook.kernel.execute(cmd);\n",
       "    }\n",
       "  }\n",
       "\n",
       "  /**\n",
       "   * Handle when a new output is added\n",
       "   */\n",
       "  function handleAddOutput(event, handle) {\n",
       "    var output_area = handle.output_area;\n",
       "    var output = handle.output;\n",
       "\n",
       "    // limit handleAddOutput to display_data with EXEC_MIME_TYPE content only\n",
       "    if ((output.output_type != \"display_data\") || (!output.data.hasOwnProperty(EXEC_MIME_TYPE))) {\n",
       "      return\n",
       "    }\n",
       "\n",
       "    var toinsert = output_area.element.find(\".\" + CLASS_NAME.split(' ')[0]);\n",
       "\n",
       "    if (output.metadata[EXEC_MIME_TYPE][\"id\"] !== undefined) {\n",
       "      toinsert[toinsert.length - 1].firstChild.textContent = output.data[JS_MIME_TYPE];\n",
       "      // store reference to embed id on output_area\n",
       "      output_area._bokeh_element_id = output.metadata[EXEC_MIME_TYPE][\"id\"];\n",
       "    }\n",
       "    if (output.metadata[EXEC_MIME_TYPE][\"server_id\"] !== undefined) {\n",
       "      var bk_div = document.createElement(\"div\");\n",
       "      bk_div.innerHTML = output.data[HTML_MIME_TYPE];\n",
       "      var script_attrs = bk_div.children[0].attributes;\n",
       "      for (var i = 0; i < script_attrs.length; i++) {\n",
       "        toinsert[toinsert.length - 1].firstChild.setAttribute(script_attrs[i].name, script_attrs[i].value);\n",
       "      }\n",
       "      // store reference to server id on output_area\n",
       "      output_area._bokeh_server_id = output.metadata[EXEC_MIME_TYPE][\"server_id\"];\n",
       "    }\n",
       "  }\n",
       "\n",
       "  function register_renderer(events, OutputArea) {\n",
       "\n",
       "    function append_mime(data, metadata, element) {\n",
       "      // create a DOM node to render to\n",
       "      var toinsert = this.create_output_subarea(\n",
       "        metadata,\n",
       "        CLASS_NAME,\n",
       "        EXEC_MIME_TYPE\n",
       "      );\n",
       "      this.keyboard_manager.register_events(toinsert);\n",
       "      // Render to node\n",
       "      var props = {data: data, metadata: metadata[EXEC_MIME_TYPE]};\n",
       "      render(props, toinsert[toinsert.length - 1]);\n",
       "      element.append(toinsert);\n",
       "      return toinsert\n",
       "    }\n",
       "\n",
       "    /* Handle when an output is cleared or removed */\n",
       "    events.on('clear_output.CodeCell', handleClearOutput);\n",
       "    events.on('delete.Cell', handleClearOutput);\n",
       "\n",
       "    /* Handle when a new output is added */\n",
       "    events.on('output_added.OutputArea', handleAddOutput);\n",
       "\n",
       "    /**\n",
       "     * Register the mime type and append_mime function with output_area\n",
       "     */\n",
       "    OutputArea.prototype.register_mime_type(EXEC_MIME_TYPE, append_mime, {\n",
       "      /* Is output safe? */\n",
       "      safe: true,\n",
       "      /* Index of renderer in `output_area.display_order` */\n",
       "      index: 0\n",
       "    });\n",
       "  }\n",
       "\n",
       "  // register the mime type if in Jupyter Notebook environment and previously unregistered\n",
       "  if (root.Jupyter !== undefined) {\n",
       "    var events = require('base/js/events');\n",
       "    var OutputArea = require('notebook/js/outputarea').OutputArea;\n",
       "\n",
       "    if (OutputArea.prototype.mime_types().indexOf(EXEC_MIME_TYPE) == -1) {\n",
       "      register_renderer(events, OutputArea);\n",
       "    }\n",
       "  }\n",
       "\n",
       "  \n",
       "  if (typeof (root._bokeh_timeout) === \"undefined\" || force === true) {\n",
       "    root._bokeh_timeout = Date.now() + 5000;\n",
       "    root._bokeh_failed_load = false;\n",
       "  }\n",
       "\n",
       "  var NB_LOAD_WARNING = {'data': {'text/html':\n",
       "     \"<div style='background-color: #fdd'>\\n\"+\n",
       "     \"<p>\\n\"+\n",
       "     \"BokehJS does not appear to have successfully loaded. If loading BokehJS from CDN, this \\n\"+\n",
       "     \"may be due to a slow or bad network connection. Possible fixes:\\n\"+\n",
       "     \"</p>\\n\"+\n",
       "     \"<ul>\\n\"+\n",
       "     \"<li>re-rerun `output_notebook()` to attempt to load from CDN again, or</li>\\n\"+\n",
       "     \"<li>use INLINE resources instead, as so:</li>\\n\"+\n",
       "     \"</ul>\\n\"+\n",
       "     \"<code>\\n\"+\n",
       "     \"from bokeh.resources import INLINE\\n\"+\n",
       "     \"output_notebook(resources=INLINE)\\n\"+\n",
       "     \"</code>\\n\"+\n",
       "     \"</div>\"}};\n",
       "\n",
       "  function display_loaded() {\n",
       "    var el = document.getElementById(\"1037\");\n",
       "    if (el != null) {\n",
       "      el.textContent = \"BokehJS is loading...\";\n",
       "    }\n",
       "    if (root.Bokeh !== undefined) {\n",
       "      if (el != null) {\n",
       "        el.textContent = \"BokehJS \" + root.Bokeh.version + \" successfully loaded.\";\n",
       "      }\n",
       "    } else if (Date.now() < root._bokeh_timeout) {\n",
       "      setTimeout(display_loaded, 100)\n",
       "    }\n",
       "  }\n",
       "\n",
       "\n",
       "  function run_callbacks() {\n",
       "    try {\n",
       "      root._bokeh_onload_callbacks.forEach(function(callback) { callback() });\n",
       "    }\n",
       "    finally {\n",
       "      delete root._bokeh_onload_callbacks\n",
       "    }\n",
       "    console.info(\"Bokeh: all callbacks have finished\");\n",
       "  }\n",
       "\n",
       "  function load_libs(js_urls, callback) {\n",
       "    root._bokeh_onload_callbacks.push(callback);\n",
       "    if (root._bokeh_is_loading > 0) {\n",
       "      console.log(\"Bokeh: BokehJS is being loaded, scheduling callback at\", now());\n",
       "      return null;\n",
       "    }\n",
       "    if (js_urls == null || js_urls.length === 0) {\n",
       "      run_callbacks();\n",
       "      return null;\n",
       "    }\n",
       "    console.log(\"Bokeh: BokehJS not loaded, scheduling load and callback at\", now());\n",
       "    root._bokeh_is_loading = js_urls.length;\n",
       "    for (var i = 0; i < js_urls.length; i++) {\n",
       "      var url = js_urls[i];\n",
       "      var s = document.createElement('script');\n",
       "      s.src = url;\n",
       "      s.async = false;\n",
       "      s.onreadystatechange = s.onload = function() {\n",
       "        root._bokeh_is_loading--;\n",
       "        if (root._bokeh_is_loading === 0) {\n",
       "          console.log(\"Bokeh: all BokehJS libraries loaded\");\n",
       "          run_callbacks()\n",
       "        }\n",
       "      };\n",
       "      s.onerror = function() {\n",
       "        console.warn(\"failed to load library \" + url);\n",
       "      };\n",
       "      console.log(\"Bokeh: injecting script tag for BokehJS library: \", url);\n",
       "      document.getElementsByTagName(\"head\")[0].appendChild(s);\n",
       "    }\n",
       "  };var element = document.getElementById(\"1037\");\n",
       "  if (element == null) {\n",
       "    console.log(\"Bokeh: ERROR: autoload.js configured with elementid '1037' but no matching script tag was found. \")\n",
       "    return false;\n",
       "  }\n",
       "\n",
       "  var js_urls = [\"https://cdn.pydata.org/bokeh/release/bokeh-1.0.4.min.js\", \"https://cdn.pydata.org/bokeh/release/bokeh-widgets-1.0.4.min.js\", \"https://cdn.pydata.org/bokeh/release/bokeh-tables-1.0.4.min.js\", \"https://cdn.pydata.org/bokeh/release/bokeh-gl-1.0.4.min.js\"];\n",
       "\n",
       "  var inline_js = [\n",
       "    function(Bokeh) {\n",
       "      Bokeh.set_log_level(\"info\");\n",
       "    },\n",
       "    \n",
       "    function(Bokeh) {\n",
       "      \n",
       "    },\n",
       "    function(Bokeh) {\n",
       "      console.log(\"Bokeh: injecting CSS: https://cdn.pydata.org/bokeh/release/bokeh-1.0.4.min.css\");\n",
       "      Bokeh.embed.inject_css(\"https://cdn.pydata.org/bokeh/release/bokeh-1.0.4.min.css\");\n",
       "      console.log(\"Bokeh: injecting CSS: https://cdn.pydata.org/bokeh/release/bokeh-widgets-1.0.4.min.css\");\n",
       "      Bokeh.embed.inject_css(\"https://cdn.pydata.org/bokeh/release/bokeh-widgets-1.0.4.min.css\");\n",
       "      console.log(\"Bokeh: injecting CSS: https://cdn.pydata.org/bokeh/release/bokeh-tables-1.0.4.min.css\");\n",
       "      Bokeh.embed.inject_css(\"https://cdn.pydata.org/bokeh/release/bokeh-tables-1.0.4.min.css\");\n",
       "    }\n",
       "  ];\n",
       "\n",
       "  function run_inline_js() {\n",
       "    \n",
       "    if ((root.Bokeh !== undefined) || (force === true)) {\n",
       "      for (var i = 0; i < inline_js.length; i++) {\n",
       "        inline_js[i].call(root, root.Bokeh);\n",
       "      }if (force === true) {\n",
       "        display_loaded();\n",
       "      }} else if (Date.now() < root._bokeh_timeout) {\n",
       "      setTimeout(run_inline_js, 100);\n",
       "    } else if (!root._bokeh_failed_load) {\n",
       "      console.log(\"Bokeh: BokehJS failed to load within specified timeout.\");\n",
       "      root._bokeh_failed_load = true;\n",
       "    } else if (force !== true) {\n",
       "      var cell = $(document.getElementById(\"1037\")).parents('.cell').data().cell;\n",
       "      cell.output_area.append_execute_result(NB_LOAD_WARNING)\n",
       "    }\n",
       "\n",
       "  }\n",
       "\n",
       "  if (root._bokeh_is_loading === 0) {\n",
       "    console.log(\"Bokeh: BokehJS loaded, going straight to plotting\");\n",
       "    run_inline_js();\n",
       "  } else {\n",
       "    load_libs(js_urls, function() {\n",
       "      console.log(\"Bokeh: BokehJS plotting callback run at\", now());\n",
       "      run_inline_js();\n",
       "    });\n",
       "  }\n",
       "}(window));"
      ],
      "application/vnd.bokehjs_load.v0+json": "\n(function(root) {\n  function now() {\n    return new Date();\n  }\n\n  var force = true;\n\n  if (typeof (root._bokeh_onload_callbacks) === \"undefined\" || force === true) {\n    root._bokeh_onload_callbacks = [];\n    root._bokeh_is_loading = undefined;\n  }\n\n  \n\n  \n  if (typeof (root._bokeh_timeout) === \"undefined\" || force === true) {\n    root._bokeh_timeout = Date.now() + 5000;\n    root._bokeh_failed_load = false;\n  }\n\n  var NB_LOAD_WARNING = {'data': {'text/html':\n     \"<div style='background-color: #fdd'>\\n\"+\n     \"<p>\\n\"+\n     \"BokehJS does not appear to have successfully loaded. If loading BokehJS from CDN, this \\n\"+\n     \"may be due to a slow or bad network connection. Possible fixes:\\n\"+\n     \"</p>\\n\"+\n     \"<ul>\\n\"+\n     \"<li>re-rerun `output_notebook()` to attempt to load from CDN again, or</li>\\n\"+\n     \"<li>use INLINE resources instead, as so:</li>\\n\"+\n     \"</ul>\\n\"+\n     \"<code>\\n\"+\n     \"from bokeh.resources import INLINE\\n\"+\n     \"output_notebook(resources=INLINE)\\n\"+\n     \"</code>\\n\"+\n     \"</div>\"}};\n\n  function display_loaded() {\n    var el = document.getElementById(\"1037\");\n    if (el != null) {\n      el.textContent = \"BokehJS is loading...\";\n    }\n    if (root.Bokeh !== undefined) {\n      if (el != null) {\n        el.textContent = \"BokehJS \" + root.Bokeh.version + \" successfully loaded.\";\n      }\n    } else if (Date.now() < root._bokeh_timeout) {\n      setTimeout(display_loaded, 100)\n    }\n  }\n\n\n  function run_callbacks() {\n    try {\n      root._bokeh_onload_callbacks.forEach(function(callback) { callback() });\n    }\n    finally {\n      delete root._bokeh_onload_callbacks\n    }\n    console.info(\"Bokeh: all callbacks have finished\");\n  }\n\n  function load_libs(js_urls, callback) {\n    root._bokeh_onload_callbacks.push(callback);\n    if (root._bokeh_is_loading > 0) {\n      console.log(\"Bokeh: BokehJS is being loaded, scheduling callback at\", now());\n      return null;\n    }\n    if (js_urls == null || js_urls.length === 0) {\n      run_callbacks();\n      return null;\n    }\n    console.log(\"Bokeh: BokehJS not loaded, scheduling load and callback at\", now());\n    root._bokeh_is_loading = js_urls.length;\n    for (var i = 0; i < js_urls.length; i++) {\n      var url = js_urls[i];\n      var s = document.createElement('script');\n      s.src = url;\n      s.async = false;\n      s.onreadystatechange = s.onload = function() {\n        root._bokeh_is_loading--;\n        if (root._bokeh_is_loading === 0) {\n          console.log(\"Bokeh: all BokehJS libraries loaded\");\n          run_callbacks()\n        }\n      };\n      s.onerror = function() {\n        console.warn(\"failed to load library \" + url);\n      };\n      console.log(\"Bokeh: injecting script tag for BokehJS library: \", url);\n      document.getElementsByTagName(\"head\")[0].appendChild(s);\n    }\n  };var element = document.getElementById(\"1037\");\n  if (element == null) {\n    console.log(\"Bokeh: ERROR: autoload.js configured with elementid '1037' but no matching script tag was found. \")\n    return false;\n  }\n\n  var js_urls = [\"https://cdn.pydata.org/bokeh/release/bokeh-1.0.4.min.js\", \"https://cdn.pydata.org/bokeh/release/bokeh-widgets-1.0.4.min.js\", \"https://cdn.pydata.org/bokeh/release/bokeh-tables-1.0.4.min.js\", \"https://cdn.pydata.org/bokeh/release/bokeh-gl-1.0.4.min.js\"];\n\n  var inline_js = [\n    function(Bokeh) {\n      Bokeh.set_log_level(\"info\");\n    },\n    \n    function(Bokeh) {\n      \n    },\n    function(Bokeh) {\n      console.log(\"Bokeh: injecting CSS: https://cdn.pydata.org/bokeh/release/bokeh-1.0.4.min.css\");\n      Bokeh.embed.inject_css(\"https://cdn.pydata.org/bokeh/release/bokeh-1.0.4.min.css\");\n      console.log(\"Bokeh: injecting CSS: https://cdn.pydata.org/bokeh/release/bokeh-widgets-1.0.4.min.css\");\n      Bokeh.embed.inject_css(\"https://cdn.pydata.org/bokeh/release/bokeh-widgets-1.0.4.min.css\");\n      console.log(\"Bokeh: injecting CSS: https://cdn.pydata.org/bokeh/release/bokeh-tables-1.0.4.min.css\");\n      Bokeh.embed.inject_css(\"https://cdn.pydata.org/bokeh/release/bokeh-tables-1.0.4.min.css\");\n    }\n  ];\n\n  function run_inline_js() {\n    \n    if ((root.Bokeh !== undefined) || (force === true)) {\n      for (var i = 0; i < inline_js.length; i++) {\n        inline_js[i].call(root, root.Bokeh);\n      }if (force === true) {\n        display_loaded();\n      }} else if (Date.now() < root._bokeh_timeout) {\n      setTimeout(run_inline_js, 100);\n    } else if (!root._bokeh_failed_load) {\n      console.log(\"Bokeh: BokehJS failed to load within specified timeout.\");\n      root._bokeh_failed_load = true;\n    } else if (force !== true) {\n      var cell = $(document.getElementById(\"1037\")).parents('.cell').data().cell;\n      cell.output_area.append_execute_result(NB_LOAD_WARNING)\n    }\n\n  }\n\n  if (root._bokeh_is_loading === 0) {\n    console.log(\"Bokeh: BokehJS loaded, going straight to plotting\");\n    run_inline_js();\n  } else {\n    load_libs(js_urls, function() {\n      console.log(\"Bokeh: BokehJS plotting callback run at\", now());\n      run_inline_js();\n    });\n  }\n}(window));"
     },
     "metadata": {},
     "output_type": "display_data"
    }
   ],
   "source": [
    "from bokeh.embed import components #generates javascript to be embedded on web page\n",
    "from bokeh.plotting import show, figure\n",
    "from bokeh.models import ColumnDataSource, LinearColorMapper, BasicTicker, PrintfTickFormatter, HoverTool, CategoricalColorMapper, LabelSet\n",
    "from bokeh.palettes import Spectral\n",
    "from bokeh.transform import transform\n",
    "\n",
    "from bokeh.io import output_notebook #render in notebook\n",
    "output_notebook()"
   ]
  },
  {
   "cell_type": "code",
   "execution_count": 122,
   "metadata": {},
   "outputs": [
    {
     "data": {
      "text/html": [
       "\n",
       "\n",
       "\n",
       "\n",
       "\n",
       "\n",
       "  <div class=\"bk-root\" id=\"22e76bf4-8bd3-45c5-9f1d-39f34f714730\" data-root-id=\"4764\"></div>\n"
      ]
     },
     "metadata": {},
     "output_type": "display_data"
    },
    {
     "data": {
      "application/javascript": [
       "(function(root) {\n",
       "  function embed_document(root) {\n",
       "    \n",
       "  var docs_json = {\"e753c20a-d27e-48b9-a22d-eeda82536371\":{\"roots\":{\"references\":[{\"attributes\":{\"below\":[{\"id\":\"4773\",\"type\":\"LinearAxis\"}],\"left\":[{\"id\":\"4778\",\"type\":\"LinearAxis\"}],\"plot_height\":500,\"plot_width\":500,\"renderers\":[{\"id\":\"4773\",\"type\":\"LinearAxis\"},{\"id\":\"4777\",\"type\":\"Grid\"},{\"id\":\"4778\",\"type\":\"LinearAxis\"},{\"id\":\"4782\",\"type\":\"Grid\"},{\"id\":\"4791\",\"type\":\"BoxAnnotation\"},{\"id\":\"4812\",\"type\":\"Legend\"},{\"id\":\"4803\",\"type\":\"GlyphRenderer\"}],\"title\":{\"id\":\"4805\",\"type\":\"Title\"},\"toolbar\":{\"id\":\"4789\",\"type\":\"Toolbar\"},\"x_range\":{\"id\":\"4765\",\"type\":\"Range1d\"},\"x_scale\":{\"id\":\"4769\",\"type\":\"LinearScale\"},\"y_range\":{\"id\":\"4767\",\"type\":\"Range1d\"},\"y_scale\":{\"id\":\"4771\",\"type\":\"LinearScale\"}},\"id\":\"4764\",\"subtype\":\"Figure\",\"type\":\"Plot\"},{\"attributes\":{\"callback\":null,\"end\":2.5,\"start\":-1.5},\"id\":\"4765\",\"type\":\"Range1d\"},{\"attributes\":{\"fill_alpha\":{\"value\":0.1},\"fill_color\":{\"value\":\"#1f77b4\"},\"line_alpha\":{\"value\":0.1},\"line_color\":{\"value\":\"#1f77b4\"},\"size\":{\"field\":\"count_scaled\",\"units\":\"screen\"},\"x\":{\"field\":\"x\"},\"y\":{\"field\":\"y\"}},\"id\":\"4802\",\"type\":\"Circle\"},{\"attributes\":{\"data_source\":{\"id\":\"4799\",\"type\":\"ColumnDataSource\"},\"glyph\":{\"id\":\"4801\",\"type\":\"Circle\"},\"hover_glyph\":null,\"muted_glyph\":null,\"nonselection_glyph\":{\"id\":\"4802\",\"type\":\"Circle\"},\"selection_glyph\":null,\"view\":{\"id\":\"4804\",\"type\":\"CDSView\"}},\"id\":\"4803\",\"type\":\"GlyphRenderer\"},{\"attributes\":{},\"id\":\"4787\",\"type\":\"ResetTool\"},{\"attributes\":{\"callback\":null,\"end\":3.7,\"start\":-2.7},\"id\":\"4767\",\"type\":\"Range1d\"},{\"attributes\":{\"source\":{\"id\":\"4799\",\"type\":\"ColumnDataSource\"}},\"id\":\"4804\",\"type\":\"CDSView\"},{\"attributes\":{},\"id\":\"5000\",\"type\":\"UnionRenderers\"},{\"attributes\":{\"plot\":null,\"text\":\"\"},\"id\":\"4805\",\"type\":\"Title\"},{\"attributes\":{},\"id\":\"4769\",\"type\":\"LinearScale\"},{\"attributes\":{\"overlay\":{\"id\":\"4791\",\"type\":\"BoxAnnotation\"}},\"id\":\"4785\",\"type\":\"BoxZoomTool\"},{\"attributes\":{},\"id\":\"4808\",\"type\":\"BasicTickFormatter\"},{\"attributes\":{\"fill_alpha\":{\"value\":0.7},\"fill_color\":{\"field\":\"topics\",\"transform\":{\"id\":\"4798\",\"type\":\"CategoricalColorMapper\"}},\"line_alpha\":{\"value\":0.7},\"line_color\":{\"field\":\"topics\",\"transform\":{\"id\":\"4798\",\"type\":\"CategoricalColorMapper\"}},\"size\":{\"field\":\"count_scaled\",\"units\":\"screen\"},\"x\":{\"field\":\"x\"},\"y\":{\"field\":\"y\"}},\"id\":\"4801\",\"type\":\"Circle\"},{\"attributes\":{},\"id\":\"4810\",\"type\":\"BasicTickFormatter\"},{\"attributes\":{},\"id\":\"4784\",\"type\":\"WheelZoomTool\"},{\"attributes\":{},\"id\":\"4999\",\"type\":\"Selection\"},{\"attributes\":{\"callback\":null,\"data\":{\"count\":{\"__ndarray__\":\"5iUGTBp+c0AayPQ0fj5zQPJYSeHL12ZAGTClUZLcbEAVob8tJa1zQMMvBaYlXXhAqLNuoIx1dEBlHos8EpZnQA==\",\"dtype\":\"float64\",\"shape\":[8]},\"count_scaled\":{\"__ndarray__\":\"cAk9EyowT0D2DO6HY8pOQI6tOrQ8RkJAeiaEdNsWR0C7AZmvbntPQDYmBLi3fVNAUynyGQpeUEBRGDz9dN5CQA==\",\"dtype\":\"float64\",\"shape\":[8]},\"index\":[0,1,2,3,4,5,6,7],\"topics\":[\"Tech\",\"Modeling\",\"Chatbots\",\"Deep Learning\",\"Coding\",\"Business\",\"Careers\",\"NLP\"],\"words\":[\"Human, Robot, Technology, People, Machine\",\"Value, Predict, Variable, Feature, Regression\",\"Chatbot, Bot, Customer, User, Conversation\",\"Network, Image, Layer, Neural, Deep\",\"File, Python, Image, Code, Install\",\"Blockchain, Market, Company, Business, Product\",\"Scientist, Course, Work, Skill, Team\",\"Word, Vector, Text, Sentence, Embed\"],\"x\":{\"__ndarray__\":\"AnsnX3dl/T/AneufS//CP7idYbuH4+q/QL8P/esSor8g56UooUfjvwjmOFvlftQ/mC8Dmpxk0T++s4d+FZjxvw==\",\"dtype\":\"float64\",\"shape\":[8]},\"y\":{\"__ndarray__\":\"pKtHWt7/AMDsP7vHrCP1P+4kopGGFPC/J+Z+MxubCECdaHpRZSHcP7nT2crPafO/9lcHF4f46b8nVt1laGDUPw==\",\"dtype\":\"float64\",\"shape\":[8]}},\"selected\":{\"id\":\"4999\",\"type\":\"Selection\"},\"selection_policy\":{\"id\":\"5000\",\"type\":\"UnionRenderers\"}},\"id\":\"4799\",\"type\":\"ColumnDataSource\"},{\"attributes\":{},\"id\":\"4774\",\"type\":\"BasicTicker\"},{\"attributes\":{},\"id\":\"4786\",\"type\":\"SaveTool\"},{\"attributes\":{\"formatter\":{\"id\":\"4808\",\"type\":\"BasicTickFormatter\"},\"plot\":{\"id\":\"4764\",\"subtype\":\"Figure\",\"type\":\"Plot\"},\"ticker\":{\"id\":\"4779\",\"type\":\"BasicTicker\"}},\"id\":\"4778\",\"type\":\"LinearAxis\"},{\"attributes\":{\"plot\":{\"id\":\"4764\",\"subtype\":\"Figure\",\"type\":\"Plot\"},\"ticker\":{\"id\":\"4774\",\"type\":\"BasicTicker\"}},\"id\":\"4777\",\"type\":\"Grid\"},{\"attributes\":{\"dimension\":1,\"plot\":{\"id\":\"4764\",\"subtype\":\"Figure\",\"type\":\"Plot\"},\"ticker\":{\"id\":\"4779\",\"type\":\"BasicTicker\"}},\"id\":\"4782\",\"type\":\"Grid\"},{\"attributes\":{\"callback\":null,\"tooltips\":[[\"Topic\",\"@topics\"],[\"Top Words\",\"@words\"]]},\"id\":\"4814\",\"type\":\"HoverTool\"},{\"attributes\":{},\"id\":\"4779\",\"type\":\"BasicTicker\"},{\"attributes\":{\"label\":{\"field\":\"topics\"},\"renderers\":[{\"id\":\"4803\",\"type\":\"GlyphRenderer\"}]},\"id\":\"4813\",\"type\":\"LegendItem\"},{\"attributes\":{\"items\":[{\"id\":\"4813\",\"type\":\"LegendItem\"}],\"plot\":{\"id\":\"4764\",\"subtype\":\"Figure\",\"type\":\"Plot\"}},\"id\":\"4812\",\"type\":\"Legend\"},{\"attributes\":{\"factors\":[\"Tech\",\"Modeling\",\"Chatbots\",\"Deep Learning\",\"Coding\",\"Business\",\"Careers\",\"NLP\"],\"palette\":[\"#3288bd\",\"#66c2a5\",\"#abdda4\",\"#e6f598\",\"#fee08b\",\"#fdae61\",\"#f46d43\",\"#d53e4f\"]},\"id\":\"4798\",\"type\":\"CategoricalColorMapper\"},{\"attributes\":{},\"id\":\"4771\",\"type\":\"LinearScale\"},{\"attributes\":{\"formatter\":{\"id\":\"4810\",\"type\":\"BasicTickFormatter\"},\"plot\":{\"id\":\"4764\",\"subtype\":\"Figure\",\"type\":\"Plot\"},\"ticker\":{\"id\":\"4774\",\"type\":\"BasicTicker\"}},\"id\":\"4773\",\"type\":\"LinearAxis\"},{\"attributes\":{\"bottom_units\":\"screen\",\"fill_alpha\":{\"value\":0.5},\"fill_color\":{\"value\":\"lightgrey\"},\"left_units\":\"screen\",\"level\":\"overlay\",\"line_alpha\":{\"value\":1.0},\"line_color\":{\"value\":\"black\"},\"line_dash\":[4,4],\"line_width\":{\"value\":2},\"plot\":null,\"render_mode\":\"css\",\"right_units\":\"screen\",\"top_units\":\"screen\"},\"id\":\"4791\",\"type\":\"BoxAnnotation\"},{\"attributes\":{},\"id\":\"4783\",\"type\":\"PanTool\"},{\"attributes\":{},\"id\":\"4788\",\"type\":\"HelpTool\"},{\"attributes\":{\"active_drag\":\"auto\",\"active_inspect\":\"auto\",\"active_multi\":null,\"active_scroll\":\"auto\",\"active_tap\":\"auto\",\"tools\":[{\"id\":\"4783\",\"type\":\"PanTool\"},{\"id\":\"4784\",\"type\":\"WheelZoomTool\"},{\"id\":\"4785\",\"type\":\"BoxZoomTool\"},{\"id\":\"4786\",\"type\":\"SaveTool\"},{\"id\":\"4787\",\"type\":\"ResetTool\"},{\"id\":\"4788\",\"type\":\"HelpTool\"},{\"id\":\"4814\",\"type\":\"HoverTool\"}]},\"id\":\"4789\",\"type\":\"Toolbar\"}],\"root_ids\":[\"4764\"]},\"title\":\"Bokeh Application\",\"version\":\"1.0.4\"}};\n",
       "  var render_items = [{\"docid\":\"e753c20a-d27e-48b9-a22d-eeda82536371\",\"roots\":{\"4764\":\"22e76bf4-8bd3-45c5-9f1d-39f34f714730\"}}];\n",
       "  root.Bokeh.embed.embed_items_notebook(docs_json, render_items);\n",
       "\n",
       "  }\n",
       "  if (root.Bokeh !== undefined) {\n",
       "    embed_document(root);\n",
       "  } else {\n",
       "    var attempts = 0;\n",
       "    var timer = setInterval(function(root) {\n",
       "      if (root.Bokeh !== undefined) {\n",
       "        embed_document(root);\n",
       "        clearInterval(timer);\n",
       "      }\n",
       "      attempts++;\n",
       "      if (attempts > 100) {\n",
       "        console.log(\"Bokeh: ERROR: Unable to run BokehJS code because BokehJS library is missing\");\n",
       "        clearInterval(timer);\n",
       "      }\n",
       "    }, 10, root)\n",
       "  }\n",
       "})(window);"
      ],
      "application/vnd.bokehjs_exec.v0+json": ""
     },
     "metadata": {
      "application/vnd.bokehjs_exec.v0+json": {
       "id": "4764"
      }
     },
     "output_type": "display_data"
    }
   ],
   "source": [
    "scale = 5\n",
    "topic_scaled = topic_strength / scale\n",
    "\n",
    "\n",
    "df = pd.DataFrame({'x': pc1, 'y': pc2, 'count': topic_strength, 'count_scaled': topic_scaled,\n",
    "                   'topics': topic_names, 'words': topic_words})\n",
    "\n",
    "# df = pd.DataFrame(data = d)\n",
    "source = ColumnDataSource(df)\n",
    "p = figure(plot_width=500, plot_height=500, x_range = (-1.5, 2.5), y_range = (-2.7, 3.7))\n",
    "\n",
    "color_mapper = CategoricalColorMapper(factors = df['topics'], \n",
    "                                     palette= Spectral[8])\n",
    "\n",
    "p.circle('x', 'y', source = df, legend = 'topics', size = 'count_scaled', alpha = 0.7,\n",
    "                   color={ #map color to target classes\n",
    "                       'field': 'topics',\n",
    "                       'transform': color_mapper\n",
    "                   })\n",
    "\n",
    "p.add_tools(HoverTool(tooltips = [('Topic', '@topics'), ('Top Words', '@words')]))\n",
    "\n",
    "show(p)"
   ]
  },
  {
   "cell_type": "code",
   "execution_count": 246,
   "metadata": {},
   "outputs": [],
   "source": [
    "script, div = components(p)\n",
    "\n",
    "with open('bokeh/script.js', 'w') as file:\n",
    "    file.write(script)\n",
    "    file.close()\n",
    "\n",
    "with open('bokeh/div.html', 'w') as file:\n",
    "    file.write(div)\n",
    "    file.close()"
   ]
  },
  {
   "cell_type": "markdown",
   "metadata": {},
   "source": [
    "### Build Recommender Script"
   ]
  },
  {
   "cell_type": "code",
   "execution_count": 111,
   "metadata": {},
   "outputs": [],
   "source": [
    "tech = 3\n",
    "modeling = 4\n",
    "chatbots = 1\n",
    "deep = 5\n",
    "coding = 3\n",
    "business = 4\n",
    "careers = 2\n",
    "nlp = 6\n",
    "\n",
    "top_vec = np.array([tech, modeling, chatbots, deep, coding, business, careers, nlp])"
   ]
  },
  {
   "cell_type": "code",
   "execution_count": 56,
   "metadata": {},
   "outputs": [],
   "source": [
    "topic_array = np.array(doc_topic_df[topic_names])\n",
    "norms = np.linalg.norm(topic_array, axis = 1)"
   ]
  },
  {
   "cell_type": "code",
   "execution_count": 131,
   "metadata": {},
   "outputs": [
    {
     "data": {
      "text/plain": [
       "array([3.1228744 , 4.01058191, 1.10618451, 5.00128214, 3.0778294 ,\n",
       "       4.15016961, 2.19988222, 6.03756152])"
      ]
     },
     "execution_count": 131,
     "metadata": {},
     "output_type": "execute_result"
    }
   ],
   "source": [
    "top_vec + np.random.rand(8,)/5"
   ]
  },
  {
   "cell_type": "code",
   "execution_count": 230,
   "metadata": {},
   "outputs": [],
   "source": [
    "def compute_dists(top_vec, topic_array):\n",
    "    dots = np.matmul(topic_array, top_vec)\n",
    "    input_norm = np.linalg.norm(top_vec)\n",
    "    co_dists = dots / (input_norm * norms)\n",
    "\n",
    "    return co_dists\n",
    "\n",
    "def produce_rec(top_vec, topic_array = topic_array, metadata = doc_topic_df):\n",
    "    # Add a bit of randomness to top_vec\n",
    "    top_vec = top_vec + np.random.rand(8,)/(np.sum(top_vec)*0.005)\n",
    "    co_dists = compute_dists(top_vec, topic_array)\n",
    "    return metadata.loc[np.argmax(co_dists)]"
   ]
  },
  {
   "cell_type": "code",
   "execution_count": 237,
   "metadata": {},
   "outputs": [
    {
     "data": {
      "text/plain": [
       "title            Building the Next Generation of Personalized T...\n",
       "url              https://engineering.pandora.com/building-the-n...\n",
       "allTags          [Machine Learning, Streaming Music, Pandora, D...\n",
       "readingTime                                                7.63585\n",
       "Tech                                                    0.00735476\n",
       "Modeling                                                 0.0125969\n",
       "Chatbots                                                0.00270124\n",
       "Deep Learning                                           0.00838692\n",
       "Coding                                                  0.00386756\n",
       "Business                                                0.00600131\n",
       "Careers                                                 0.00747548\n",
       "NLP                                                      0.0190519\n",
       "Name: 18005, dtype: object"
      ]
     },
     "execution_count": 237,
     "metadata": {},
     "output_type": "execute_result"
    }
   ],
   "source": [
    "rec = produce_rec(top_vec, topic_array, doc_topic_df)\n",
    "\n",
    "rec"
   ]
  },
  {
   "cell_type": "code",
   "execution_count": 242,
   "metadata": {},
   "outputs": [
    {
     "data": {
      "text/plain": [
       "'https://engineering.pandora.com/building-the-next-generation-of-personalized-themed-playlists-43f567b964f9'"
      ]
     },
     "execution_count": 242,
     "metadata": {},
     "output_type": "execute_result"
    }
   ],
   "source": [
    "rec['url']"
   ]
  },
  {
   "cell_type": "markdown",
   "metadata": {},
   "source": [
    "### Build bokeh radar plot to display article topic distribution"
   ]
  },
  {
   "cell_type": "code",
   "execution_count": 228,
   "metadata": {},
   "outputs": [],
   "source": [
    "def build_radar_plot(metadata, topic_names = topic_names):\n",
    "    num_vars = 8\n",
    "\n",
    "    theta = np.linspace(0, 2*np.pi, num_vars, endpoint=False)\n",
    "    # rotate theta such that the first axis is at the top\n",
    "    theta += np.pi/2\n",
    "\n",
    "    def unit_poly_verts(theta):\n",
    "        \"\"\"Return vertices of polygon for subplot axes.\n",
    "        This polygon is circumscribed by a unit circle centered at (0.5, 0.5)\n",
    "        \"\"\"\n",
    "        x0, y0, r = [0.5] * 3\n",
    "        verts = [(r*np.cos(t) + x0, r*np.sin(t) + y0) for t in theta]\n",
    "        return verts\n",
    "\n",
    "    def radar_patch(r, theta):\n",
    "        yt = (r + 0.01) * np.sin(theta) + 0.5\n",
    "        xt = (r + 0.01) * np.cos(theta) + 0.5\n",
    "        return xt, yt\n",
    "\n",
    "    verts = unit_poly_verts(theta)\n",
    "    x = [v[0] for v in verts] \n",
    "    y = [v[1] for v in verts] \n",
    "\n",
    "    p = figure(title=\"Article Topic Distribution\", x_range = (-0.05, 1.2), y_range = (-0.15, 1.15),\n",
    "              plot_width = 500, plot_height = 500)\n",
    "    \n",
    "    text = topic_names + ['']\n",
    "    source = ColumnDataSource({'x':x+ [0.5],'y':y+ [1],'text':text})\n",
    "\n",
    "    p.line(x=\"x\", y=\"y\", source=source)\n",
    "\n",
    "    labels = LabelSet(x=\"x\",y=\"y\",text=\"text\",source=source)\n",
    "\n",
    "    p.add_layout(labels)\n",
    "\n",
    "    # example factor:\n",
    "    f1 = metadata[topic_names].values\n",
    "    f1 = f1 * (0.49 / np.max(f1))\n",
    "\n",
    "    #xt = np.array(x)\n",
    "    color = Spectral[8][np.argmax(f1)]\n",
    "    xt, yt = radar_patch(f1, theta)\n",
    "    p.patch(x=xt, y=yt, fill_alpha=0.15, fill_color=color)\n",
    "    show(p)"
   ]
  },
  {
   "cell_type": "code",
   "execution_count": 229,
   "metadata": {},
   "outputs": [
    {
     "data": {
      "text/html": [
       "\n",
       "\n",
       "\n",
       "\n",
       "\n",
       "\n",
       "  <div class=\"bk-root\" id=\"6fe91b9d-8501-4e9f-a50c-c123528e5a6b\" data-root-id=\"6052\"></div>\n"
      ]
     },
     "metadata": {},
     "output_type": "display_data"
    },
    {
     "data": {
      "application/javascript": [
       "(function(root) {\n",
       "  function embed_document(root) {\n",
       "    \n",
       "  var docs_json = {\"b03d8740-68a6-4967-b610-0f6002d00bf7\":{\"roots\":{\"references\":[{\"attributes\":{\"below\":[{\"id\":\"6062\",\"type\":\"LinearAxis\"}],\"left\":[{\"id\":\"6067\",\"type\":\"LinearAxis\"}],\"plot_height\":500,\"plot_width\":500,\"renderers\":[{\"id\":\"6062\",\"type\":\"LinearAxis\"},{\"id\":\"6066\",\"type\":\"Grid\"},{\"id\":\"6067\",\"type\":\"LinearAxis\"},{\"id\":\"6071\",\"type\":\"Grid\"},{\"id\":\"6080\",\"type\":\"BoxAnnotation\"},{\"id\":\"6091\",\"type\":\"GlyphRenderer\"},{\"id\":\"6093\",\"type\":\"LabelSet\"},{\"id\":\"6098\",\"type\":\"GlyphRenderer\"}],\"title\":{\"id\":\"6051\",\"type\":\"Title\"},\"toolbar\":{\"id\":\"6078\",\"type\":\"Toolbar\"},\"x_range\":{\"id\":\"6054\",\"type\":\"Range1d\"},\"x_scale\":{\"id\":\"6058\",\"type\":\"LinearScale\"},\"y_range\":{\"id\":\"6056\",\"type\":\"Range1d\"},\"y_scale\":{\"id\":\"6060\",\"type\":\"LinearScale\"}},\"id\":\"6052\",\"subtype\":\"Figure\",\"type\":\"Plot\"},{\"attributes\":{\"dimension\":1,\"plot\":{\"id\":\"6052\",\"subtype\":\"Figure\",\"type\":\"Plot\"},\"ticker\":{\"id\":\"6068\",\"type\":\"BasicTicker\"}},\"id\":\"6071\",\"type\":\"Grid\"},{\"attributes\":{\"line_color\":\"#1f77b4\",\"x\":{\"field\":\"x\"},\"y\":{\"field\":\"y\"}},\"id\":\"6089\",\"type\":\"Line\"},{\"attributes\":{\"fill_alpha\":0.1,\"fill_color\":\"#1f77b4\",\"line_alpha\":0.1,\"line_color\":\"#1f77b4\",\"x\":{\"field\":\"x\"},\"y\":{\"field\":\"y\"}},\"id\":\"6097\",\"type\":\"Patch\"},{\"attributes\":{\"fill_alpha\":0.15,\"fill_color\":\"#e6f598\",\"line_color\":\"#1f77b4\",\"x\":{\"field\":\"x\"},\"y\":{\"field\":\"y\"}},\"id\":\"6096\",\"type\":\"Patch\"},{\"attributes\":{\"callback\":null,\"data\":{\"x\":[0.5,0.3431658042148138,0.49,0.1464466094067262,0.49999999999999994,0.6611181182569124,0.5852698397044757,0.7953758464292928],\"y\":[0.9535121889023088,0.6568341957851862,0.5,0.14644660940672632,0.09104960466186357,0.33888188174308764,0.5,0.7953758464292927]},\"selected\":{\"id\":\"6323\",\"type\":\"Selection\"},\"selection_policy\":{\"id\":\"6324\",\"type\":\"UnionRenderers\"}},\"id\":\"6095\",\"type\":\"ColumnDataSource\"},{\"attributes\":{},\"id\":\"6068\",\"type\":\"BasicTicker\"},{\"attributes\":{\"data_source\":{\"id\":\"6095\",\"type\":\"ColumnDataSource\"},\"glyph\":{\"id\":\"6096\",\"type\":\"Patch\"},\"hover_glyph\":null,\"muted_glyph\":null,\"nonselection_glyph\":{\"id\":\"6097\",\"type\":\"Patch\"},\"selection_glyph\":null,\"view\":{\"id\":\"6099\",\"type\":\"CDSView\"}},\"id\":\"6098\",\"type\":\"GlyphRenderer\"},{\"attributes\":{\"callback\":null,\"end\":1.2,\"start\":-0.05},\"id\":\"6054\",\"type\":\"Range1d\"},{\"attributes\":{\"source\":{\"id\":\"6095\",\"type\":\"ColumnDataSource\"}},\"id\":\"6099\",\"type\":\"CDSView\"},{\"attributes\":{\"line_alpha\":0.1,\"line_color\":\"#1f77b4\",\"x\":{\"field\":\"x\"},\"y\":{\"field\":\"y\"}},\"id\":\"6090\",\"type\":\"Line\"},{\"attributes\":{},\"id\":\"6072\",\"type\":\"PanTool\"},{\"attributes\":{},\"id\":\"6058\",\"type\":\"LinearScale\"},{\"attributes\":{},\"id\":\"6321\",\"type\":\"Selection\"},{\"attributes\":{},\"id\":\"6073\",\"type\":\"WheelZoomTool\"},{\"attributes\":{\"overlay\":{\"id\":\"6080\",\"type\":\"BoxAnnotation\"}},\"id\":\"6074\",\"type\":\"BoxZoomTool\"},{\"attributes\":{},\"id\":\"6319\",\"type\":\"BasicTickFormatter\"},{\"attributes\":{},\"id\":\"6075\",\"type\":\"SaveTool\"},{\"attributes\":{},\"id\":\"6076\",\"type\":\"ResetTool\"},{\"attributes\":{},\"id\":\"6322\",\"type\":\"UnionRenderers\"},{\"attributes\":{\"formatter\":{\"id\":\"6319\",\"type\":\"BasicTickFormatter\"},\"plot\":{\"id\":\"6052\",\"subtype\":\"Figure\",\"type\":\"Plot\"},\"ticker\":{\"id\":\"6063\",\"type\":\"BasicTicker\"}},\"id\":\"6062\",\"type\":\"LinearAxis\"},{\"attributes\":{},\"id\":\"6077\",\"type\":\"HelpTool\"},{\"attributes\":{},\"id\":\"6323\",\"type\":\"Selection\"},{\"attributes\":{\"active_drag\":\"auto\",\"active_inspect\":\"auto\",\"active_multi\":null,\"active_scroll\":\"auto\",\"active_tap\":\"auto\",\"tools\":[{\"id\":\"6072\",\"type\":\"PanTool\"},{\"id\":\"6073\",\"type\":\"WheelZoomTool\"},{\"id\":\"6074\",\"type\":\"BoxZoomTool\"},{\"id\":\"6075\",\"type\":\"SaveTool\"},{\"id\":\"6076\",\"type\":\"ResetTool\"},{\"id\":\"6077\",\"type\":\"HelpTool\"}]},\"id\":\"6078\",\"type\":\"Toolbar\"},{\"attributes\":{\"plot\":{\"id\":\"6052\",\"subtype\":\"Figure\",\"type\":\"Plot\"},\"ticker\":{\"id\":\"6063\",\"type\":\"BasicTicker\"}},\"id\":\"6066\",\"type\":\"Grid\"},{\"attributes\":{},\"id\":\"6317\",\"type\":\"BasicTickFormatter\"},{\"attributes\":{},\"id\":\"6324\",\"type\":\"UnionRenderers\"},{\"attributes\":{\"plot\":null,\"text\":\"Article Topic Distribution\"},\"id\":\"6051\",\"type\":\"Title\"},{\"attributes\":{\"bottom_units\":\"screen\",\"fill_alpha\":{\"value\":0.5},\"fill_color\":{\"value\":\"lightgrey\"},\"left_units\":\"screen\",\"level\":\"overlay\",\"line_alpha\":{\"value\":1.0},\"line_color\":{\"value\":\"black\"},\"line_dash\":[4,4],\"line_width\":{\"value\":2},\"plot\":null,\"render_mode\":\"css\",\"right_units\":\"screen\",\"top_units\":\"screen\"},\"id\":\"6080\",\"type\":\"BoxAnnotation\"},{\"attributes\":{\"callback\":null,\"end\":1.15,\"start\":-0.15},\"id\":\"6056\",\"type\":\"Range1d\"},{\"attributes\":{},\"id\":\"6060\",\"type\":\"LinearScale\"},{\"attributes\":{\"data_source\":{\"id\":\"6087\",\"type\":\"ColumnDataSource\"},\"glyph\":{\"id\":\"6089\",\"type\":\"Line\"},\"hover_glyph\":null,\"muted_glyph\":null,\"nonselection_glyph\":{\"id\":\"6090\",\"type\":\"Line\"},\"selection_glyph\":null,\"view\":{\"id\":\"6092\",\"type\":\"CDSView\"}},\"id\":\"6091\",\"type\":\"GlyphRenderer\"},{\"attributes\":{\"source\":{\"id\":\"6087\",\"type\":\"ColumnDataSource\"}},\"id\":\"6092\",\"type\":\"CDSView\"},{\"attributes\":{},\"id\":\"6063\",\"type\":\"BasicTicker\"},{\"attributes\":{\"formatter\":{\"id\":\"6317\",\"type\":\"BasicTickFormatter\"},\"plot\":{\"id\":\"6052\",\"subtype\":\"Figure\",\"type\":\"Plot\"},\"ticker\":{\"id\":\"6068\",\"type\":\"BasicTicker\"}},\"id\":\"6067\",\"type\":\"LinearAxis\"},{\"attributes\":{\"plot\":{\"id\":\"6052\",\"subtype\":\"Figure\",\"type\":\"Plot\"},\"source\":{\"id\":\"6087\",\"type\":\"ColumnDataSource\"},\"x\":{\"field\":\"x\"},\"y\":{\"field\":\"y\"}},\"id\":\"6093\",\"type\":\"LabelSet\"},{\"attributes\":{\"callback\":null,\"data\":{\"text\":[\"Tech\",\"Modeling\",\"Chatbots\",\"Deep Learning\",\"Coding\",\"Business\",\"Careers\",\"NLP\",\"\"],\"x\":[0.5,0.14644660940672627,0.0,0.14644660940672616,0.4999999999999999,0.8535533905932737,1.0,0.8535533905932738,0.5],\"y\":[1.0,0.8535533905932737,0.5000000000000001,0.14644660940672627,0.0,0.14644660940672616,0.4999999999999999,0.8535533905932737,1]},\"selected\":{\"id\":\"6321\",\"type\":\"Selection\"},\"selection_policy\":{\"id\":\"6322\",\"type\":\"UnionRenderers\"}},\"id\":\"6087\",\"type\":\"ColumnDataSource\"}],\"root_ids\":[\"6052\"]},\"title\":\"Bokeh Application\",\"version\":\"1.0.4\"}};\n",
       "  var render_items = [{\"docid\":\"b03d8740-68a6-4967-b610-0f6002d00bf7\",\"roots\":{\"6052\":\"6fe91b9d-8501-4e9f-a50c-c123528e5a6b\"}}];\n",
       "  root.Bokeh.embed.embed_items_notebook(docs_json, render_items);\n",
       "\n",
       "  }\n",
       "  if (root.Bokeh !== undefined) {\n",
       "    embed_document(root);\n",
       "  } else {\n",
       "    var attempts = 0;\n",
       "    var timer = setInterval(function(root) {\n",
       "      if (root.Bokeh !== undefined) {\n",
       "        embed_document(root);\n",
       "        clearInterval(timer);\n",
       "      }\n",
       "      attempts++;\n",
       "      if (attempts > 100) {\n",
       "        console.log(\"Bokeh: ERROR: Unable to run BokehJS code because BokehJS library is missing\");\n",
       "        clearInterval(timer);\n",
       "      }\n",
       "    }, 10, root)\n",
       "  }\n",
       "})(window);"
      ],
      "application/vnd.bokehjs_exec.v0+json": ""
     },
     "metadata": {
      "application/vnd.bokehjs_exec.v0+json": {
       "id": "6052"
      }
     },
     "output_type": "display_data"
    }
   ],
   "source": [
    "build_radar_plot(rec)"
   ]
  },
  {
   "cell_type": "code",
   "execution_count": null,
   "metadata": {},
   "outputs": [],
   "source": []
  }
 ],
 "metadata": {
  "kernelspec": {
   "display_name": "metis",
   "language": "python",
   "name": "metis"
  },
  "language_info": {
   "codemirror_mode": {
    "name": "ipython",
    "version": 3
   },
   "file_extension": ".py",
   "mimetype": "text/x-python",
   "name": "python",
   "nbconvert_exporter": "python",
   "pygments_lexer": "ipython3",
   "version": "3.7.3"
  }
 },
 "nbformat": 4,
 "nbformat_minor": 2
}
