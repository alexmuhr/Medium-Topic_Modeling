{
 "cells": [
  {
   "cell_type": "code",
   "execution_count": 124,
   "metadata": {},
   "outputs": [],
   "source": [
    "import pandas as pd\n",
    "import numpy as np\n",
    "import matplotlib.pyplot as plt\n",
    "import seaborn as sns\n",
    "import re\n",
    "import string\n",
    "%matplotlib inline"
   ]
  },
  {
   "cell_type": "code",
   "execution_count": 2,
   "metadata": {},
   "outputs": [],
   "source": [
    "# First I want to read in the full dataset and remove duplicate entries.\n",
    "# The dataset author has said that articles are duplicated for each tag (this makes no sense LOL)."
   ]
  },
  {
   "cell_type": "code",
   "execution_count": 3,
   "metadata": {},
   "outputs": [
    {
     "data": {
      "text/html": [
       "<div>\n",
       "<style scoped>\n",
       "    .dataframe tbody tr th:only-of-type {\n",
       "        vertical-align: middle;\n",
       "    }\n",
       "\n",
       "    .dataframe tbody tr th {\n",
       "        vertical-align: top;\n",
       "    }\n",
       "\n",
       "    .dataframe thead th {\n",
       "        text-align: right;\n",
       "    }\n",
       "</style>\n",
       "<table border=\"1\" class=\"dataframe\">\n",
       "  <thead>\n",
       "    <tr style=\"text-align: right;\">\n",
       "      <th></th>\n",
       "      <th>audioVersionDurationSec</th>\n",
       "      <th>codeBlock</th>\n",
       "      <th>codeBlockCount</th>\n",
       "      <th>collectionId</th>\n",
       "      <th>createdDate</th>\n",
       "      <th>createdDatetime</th>\n",
       "      <th>firstPublishedDate</th>\n",
       "      <th>firstPublishedDatetime</th>\n",
       "      <th>imageCount</th>\n",
       "      <th>isSubscriptionLocked</th>\n",
       "      <th>...</th>\n",
       "      <th>slug</th>\n",
       "      <th>name</th>\n",
       "      <th>postCount</th>\n",
       "      <th>author</th>\n",
       "      <th>bio</th>\n",
       "      <th>userId</th>\n",
       "      <th>userName</th>\n",
       "      <th>usersFollowedByCount</th>\n",
       "      <th>usersFollowedCount</th>\n",
       "      <th>scrappedDate</th>\n",
       "    </tr>\n",
       "  </thead>\n",
       "  <tbody>\n",
       "    <tr>\n",
       "      <th>0</th>\n",
       "      <td>0</td>\n",
       "      <td>NaN</td>\n",
       "      <td>0.0</td>\n",
       "      <td>638f418c8464</td>\n",
       "      <td>2018-09-18</td>\n",
       "      <td>2018-09-18 20:55:34</td>\n",
       "      <td>2018-09-18</td>\n",
       "      <td>2018-09-18 20:57:03</td>\n",
       "      <td>1</td>\n",
       "      <td>False</td>\n",
       "      <td>...</td>\n",
       "      <td>blockchain</td>\n",
       "      <td>Blockchain</td>\n",
       "      <td>265164.0</td>\n",
       "      <td>Anar Babaev</td>\n",
       "      <td>NaN</td>\n",
       "      <td>f1ad85af0169</td>\n",
       "      <td>babaevanar</td>\n",
       "      <td>450.0</td>\n",
       "      <td>404.0</td>\n",
       "      <td>20181104</td>\n",
       "    </tr>\n",
       "    <tr>\n",
       "      <th>1</th>\n",
       "      <td>0</td>\n",
       "      <td>NaN</td>\n",
       "      <td>0.0</td>\n",
       "      <td>638f418c8464</td>\n",
       "      <td>2018-09-18</td>\n",
       "      <td>2018-09-18 20:55:34</td>\n",
       "      <td>2018-09-18</td>\n",
       "      <td>2018-09-18 20:57:03</td>\n",
       "      <td>1</td>\n",
       "      <td>False</td>\n",
       "      <td>...</td>\n",
       "      <td>samsung</td>\n",
       "      <td>Samsung</td>\n",
       "      <td>5708.0</td>\n",
       "      <td>Anar Babaev</td>\n",
       "      <td>NaN</td>\n",
       "      <td>f1ad85af0169</td>\n",
       "      <td>babaevanar</td>\n",
       "      <td>450.0</td>\n",
       "      <td>404.0</td>\n",
       "      <td>20181104</td>\n",
       "    </tr>\n",
       "    <tr>\n",
       "      <th>2</th>\n",
       "      <td>0</td>\n",
       "      <td>NaN</td>\n",
       "      <td>0.0</td>\n",
       "      <td>638f418c8464</td>\n",
       "      <td>2018-09-18</td>\n",
       "      <td>2018-09-18 20:55:34</td>\n",
       "      <td>2018-09-18</td>\n",
       "      <td>2018-09-18 20:57:03</td>\n",
       "      <td>1</td>\n",
       "      <td>False</td>\n",
       "      <td>...</td>\n",
       "      <td>it</td>\n",
       "      <td>It</td>\n",
       "      <td>3720.0</td>\n",
       "      <td>Anar Babaev</td>\n",
       "      <td>NaN</td>\n",
       "      <td>f1ad85af0169</td>\n",
       "      <td>babaevanar</td>\n",
       "      <td>450.0</td>\n",
       "      <td>404.0</td>\n",
       "      <td>20181104</td>\n",
       "    </tr>\n",
       "    <tr>\n",
       "      <th>3</th>\n",
       "      <td>0</td>\n",
       "      <td>NaN</td>\n",
       "      <td>0.0</td>\n",
       "      <td>NaN</td>\n",
       "      <td>2018-01-07</td>\n",
       "      <td>2018-01-07 17:04:37</td>\n",
       "      <td>2018-01-07</td>\n",
       "      <td>2018-01-07 17:06:29</td>\n",
       "      <td>13</td>\n",
       "      <td>False</td>\n",
       "      <td>...</td>\n",
       "      <td>technology</td>\n",
       "      <td>Technology</td>\n",
       "      <td>166125.0</td>\n",
       "      <td>George Sykes</td>\n",
       "      <td>NaN</td>\n",
       "      <td>93b9e94f08ca</td>\n",
       "      <td>tasty231</td>\n",
       "      <td>6.0</td>\n",
       "      <td>22.0</td>\n",
       "      <td>20181104</td>\n",
       "    </tr>\n",
       "    <tr>\n",
       "      <th>4</th>\n",
       "      <td>0</td>\n",
       "      <td>NaN</td>\n",
       "      <td>0.0</td>\n",
       "      <td>NaN</td>\n",
       "      <td>2018-01-07</td>\n",
       "      <td>2018-01-07 17:04:37</td>\n",
       "      <td>2018-01-07</td>\n",
       "      <td>2018-01-07 17:06:29</td>\n",
       "      <td>13</td>\n",
       "      <td>False</td>\n",
       "      <td>...</td>\n",
       "      <td>robotics</td>\n",
       "      <td>Robotics</td>\n",
       "      <td>9103.0</td>\n",
       "      <td>George Sykes</td>\n",
       "      <td>NaN</td>\n",
       "      <td>93b9e94f08ca</td>\n",
       "      <td>tasty231</td>\n",
       "      <td>6.0</td>\n",
       "      <td>22.0</td>\n",
       "      <td>20181104</td>\n",
       "    </tr>\n",
       "  </tbody>\n",
       "</table>\n",
       "<p>5 rows × 50 columns</p>\n",
       "</div>"
      ],
      "text/plain": [
       "   audioVersionDurationSec codeBlock  codeBlockCount  collectionId  \\\n",
       "0                        0       NaN             0.0  638f418c8464   \n",
       "1                        0       NaN             0.0  638f418c8464   \n",
       "2                        0       NaN             0.0  638f418c8464   \n",
       "3                        0       NaN             0.0           NaN   \n",
       "4                        0       NaN             0.0           NaN   \n",
       "\n",
       "  createdDate      createdDatetime firstPublishedDate firstPublishedDatetime  \\\n",
       "0  2018-09-18  2018-09-18 20:55:34         2018-09-18    2018-09-18 20:57:03   \n",
       "1  2018-09-18  2018-09-18 20:55:34         2018-09-18    2018-09-18 20:57:03   \n",
       "2  2018-09-18  2018-09-18 20:55:34         2018-09-18    2018-09-18 20:57:03   \n",
       "3  2018-01-07  2018-01-07 17:04:37         2018-01-07    2018-01-07 17:06:29   \n",
       "4  2018-01-07  2018-01-07 17:04:37         2018-01-07    2018-01-07 17:06:29   \n",
       "\n",
       "   imageCount  isSubscriptionLocked  ...        slug        name postCount  \\\n",
       "0           1                 False  ...  blockchain  Blockchain  265164.0   \n",
       "1           1                 False  ...     samsung     Samsung    5708.0   \n",
       "2           1                 False  ...          it          It    3720.0   \n",
       "3          13                 False  ...  technology  Technology  166125.0   \n",
       "4          13                 False  ...    robotics    Robotics    9103.0   \n",
       "\n",
       "         author  bio        userId    userName  usersFollowedByCount  \\\n",
       "0   Anar Babaev  NaN  f1ad85af0169  babaevanar                 450.0   \n",
       "1   Anar Babaev  NaN  f1ad85af0169  babaevanar                 450.0   \n",
       "2   Anar Babaev  NaN  f1ad85af0169  babaevanar                 450.0   \n",
       "3  George Sykes  NaN  93b9e94f08ca    tasty231                   6.0   \n",
       "4  George Sykes  NaN  93b9e94f08ca    tasty231                   6.0   \n",
       "\n",
       "   usersFollowedCount scrappedDate  \n",
       "0               404.0     20181104  \n",
       "1               404.0     20181104  \n",
       "2               404.0     20181104  \n",
       "3                22.0     20181104  \n",
       "4                22.0     20181104  \n",
       "\n",
       "[5 rows x 50 columns]"
      ]
     },
     "execution_count": 3,
     "metadata": {},
     "output_type": "execute_result"
    }
   ],
   "source": [
    "medium = pd.read_csv('Medium_AggregatedData.csv')\n",
    "medium.head()"
   ]
  },
  {
   "cell_type": "code",
   "execution_count": 12,
   "metadata": {},
   "outputs": [
    {
     "data": {
      "text/plain": [
       "Index(['audioVersionDurationSec', 'codeBlock', 'codeBlockCount',\n",
       "       'collectionId', 'createdDate', 'createdDatetime', 'firstPublishedDate',\n",
       "       'firstPublishedDatetime', 'imageCount', 'isSubscriptionLocked',\n",
       "       'language', 'latestPublishedDate', 'latestPublishedDatetime',\n",
       "       'linksCount', 'postId', 'readingTime', 'recommends',\n",
       "       'responsesCreatedCount', 'socialRecommendsCount', 'subTitle',\n",
       "       'tagsCount', 'text', 'title', 'totalClapCount', 'uniqueSlug',\n",
       "       'updatedDate', 'updatedDatetime', 'url', 'vote', 'wordCount',\n",
       "       'publicationdescription', 'publicationdomain',\n",
       "       'publicationfacebookPageName', 'publicationfollowerCount',\n",
       "       'publicationname', 'publicationpublicEmail', 'publicationslug',\n",
       "       'publicationtags', 'publicationtwitterUsername', 'tag_name', 'slug',\n",
       "       'name', 'postCount', 'author', 'bio', 'userId', 'userName',\n",
       "       'usersFollowedByCount', 'usersFollowedCount', 'scrappedDate'],\n",
       "      dtype='object')"
      ]
     },
     "execution_count": 12,
     "metadata": {},
     "output_type": "execute_result"
    }
   ],
   "source": [
    "medium.columns"
   ]
  },
  {
   "cell_type": "code",
   "execution_count": 10,
   "metadata": {},
   "outputs": [
    {
     "data": {
      "text/html": [
       "<div>\n",
       "<style scoped>\n",
       "    .dataframe tbody tr th:only-of-type {\n",
       "        vertical-align: middle;\n",
       "    }\n",
       "\n",
       "    .dataframe tbody tr th {\n",
       "        vertical-align: top;\n",
       "    }\n",
       "\n",
       "    .dataframe thead th {\n",
       "        text-align: right;\n",
       "    }\n",
       "</style>\n",
       "<table border=\"1\" class=\"dataframe\">\n",
       "  <thead>\n",
       "    <tr style=\"text-align: right;\">\n",
       "      <th></th>\n",
       "      <th>title</th>\n",
       "      <th>uniqueSlug</th>\n",
       "      <th>tag_name</th>\n",
       "      <th>slug</th>\n",
       "      <th>name</th>\n",
       "      <th>language</th>\n",
       "    </tr>\n",
       "  </thead>\n",
       "  <tbody>\n",
       "    <tr>\n",
       "      <th>0</th>\n",
       "      <td>Private Business, Government and Blockchain</td>\n",
       "      <td>private-business-government-and-blockchain-100...</td>\n",
       "      <td>Blockchain</td>\n",
       "      <td>blockchain</td>\n",
       "      <td>Blockchain</td>\n",
       "      <td>en</td>\n",
       "    </tr>\n",
       "    <tr>\n",
       "      <th>1</th>\n",
       "      <td>Private Business, Government and Blockchain</td>\n",
       "      <td>private-business-government-and-blockchain-100...</td>\n",
       "      <td>Samsung</td>\n",
       "      <td>samsung</td>\n",
       "      <td>Samsung</td>\n",
       "      <td>en</td>\n",
       "    </tr>\n",
       "    <tr>\n",
       "      <th>2</th>\n",
       "      <td>Private Business, Government and Blockchain</td>\n",
       "      <td>private-business-government-and-blockchain-100...</td>\n",
       "      <td>It</td>\n",
       "      <td>it</td>\n",
       "      <td>It</td>\n",
       "      <td>en</td>\n",
       "    </tr>\n",
       "    <tr>\n",
       "      <th>3</th>\n",
       "      <td>EPQ draft 1 (4844 words)</td>\n",
       "      <td>introduction-3-1000c43bcb97</td>\n",
       "      <td>Technology</td>\n",
       "      <td>technology</td>\n",
       "      <td>Technology</td>\n",
       "      <td>en</td>\n",
       "    </tr>\n",
       "    <tr>\n",
       "      <th>4</th>\n",
       "      <td>EPQ draft 1 (4844 words)</td>\n",
       "      <td>introduction-3-1000c43bcb97</td>\n",
       "      <td>Robotics</td>\n",
       "      <td>robotics</td>\n",
       "      <td>Robotics</td>\n",
       "      <td>en</td>\n",
       "    </tr>\n",
       "    <tr>\n",
       "      <th>5</th>\n",
       "      <td>EPQ draft 1 (4844 words)</td>\n",
       "      <td>introduction-3-1000c43bcb97</td>\n",
       "      <td>Automation</td>\n",
       "      <td>automation</td>\n",
       "      <td>Automation</td>\n",
       "      <td>en</td>\n",
       "    </tr>\n",
       "    <tr>\n",
       "      <th>6</th>\n",
       "      <td>EPQ draft 1 (4844 words)</td>\n",
       "      <td>introduction-3-1000c43bcb97</td>\n",
       "      <td>Epq</td>\n",
       "      <td>epq</td>\n",
       "      <td>Epq</td>\n",
       "      <td>en</td>\n",
       "    </tr>\n",
       "    <tr>\n",
       "      <th>7</th>\n",
       "      <td>Ascent of data Science, SAS and Big data Analy...</td>\n",
       "      <td>ascent-of-data-science-sas-and-big-data-analys...</td>\n",
       "      <td>Data Science</td>\n",
       "      <td>data-science</td>\n",
       "      <td>Data Science</td>\n",
       "      <td>en</td>\n",
       "    </tr>\n",
       "    <tr>\n",
       "      <th>8</th>\n",
       "      <td>Ascent of data Science, SAS and Big data Analy...</td>\n",
       "      <td>ascent-of-data-science-sas-and-big-data-analys...</td>\n",
       "      <td>Sas Training In Pune</td>\n",
       "      <td>sas-training-in-pune</td>\n",
       "      <td>Sas Training In Pune</td>\n",
       "      <td>en</td>\n",
       "    </tr>\n",
       "    <tr>\n",
       "      <th>9</th>\n",
       "      <td>Ascent of data Science, SAS and Big data Analy...</td>\n",
       "      <td>ascent-of-data-science-sas-and-big-data-analys...</td>\n",
       "      <td>Hadoop Training Mumbai</td>\n",
       "      <td>hadoop-training-mumbai</td>\n",
       "      <td>Hadoop Training Mumbai</td>\n",
       "      <td>en</td>\n",
       "    </tr>\n",
       "  </tbody>\n",
       "</table>\n",
       "</div>"
      ],
      "text/plain": [
       "                                               title  \\\n",
       "0        Private Business, Government and Blockchain   \n",
       "1        Private Business, Government and Blockchain   \n",
       "2        Private Business, Government and Blockchain   \n",
       "3                           EPQ draft 1 (4844 words)   \n",
       "4                           EPQ draft 1 (4844 words)   \n",
       "5                           EPQ draft 1 (4844 words)   \n",
       "6                           EPQ draft 1 (4844 words)   \n",
       "7  Ascent of data Science, SAS and Big data Analy...   \n",
       "8  Ascent of data Science, SAS and Big data Analy...   \n",
       "9  Ascent of data Science, SAS and Big data Analy...   \n",
       "\n",
       "                                          uniqueSlug                tag_name  \\\n",
       "0  private-business-government-and-blockchain-100...              Blockchain   \n",
       "1  private-business-government-and-blockchain-100...                 Samsung   \n",
       "2  private-business-government-and-blockchain-100...                      It   \n",
       "3                        introduction-3-1000c43bcb97              Technology   \n",
       "4                        introduction-3-1000c43bcb97                Robotics   \n",
       "5                        introduction-3-1000c43bcb97              Automation   \n",
       "6                        introduction-3-1000c43bcb97                     Epq   \n",
       "7  ascent-of-data-science-sas-and-big-data-analys...            Data Science   \n",
       "8  ascent-of-data-science-sas-and-big-data-analys...    Sas Training In Pune   \n",
       "9  ascent-of-data-science-sas-and-big-data-analys...  Hadoop Training Mumbai   \n",
       "\n",
       "                     slug                    name language  \n",
       "0              blockchain              Blockchain       en  \n",
       "1                 samsung                 Samsung       en  \n",
       "2                      it                      It       en  \n",
       "3              technology              Technology       en  \n",
       "4                robotics                Robotics       en  \n",
       "5              automation              Automation       en  \n",
       "6                     epq                     Epq       en  \n",
       "7            data-science            Data Science       en  \n",
       "8    sas-training-in-pune    Sas Training In Pune       en  \n",
       "9  hadoop-training-mumbai  Hadoop Training Mumbai       en  "
      ]
     },
     "execution_count": 10,
     "metadata": {},
     "output_type": "execute_result"
    }
   ],
   "source": [
    "# Obviously there are a ton of duplicate entries here\n",
    "\n",
    "medium[['title', 'uniqueSlug', 'tag_name', 'slug', 'name', 'language']].head(10)"
   ]
  },
  {
   "cell_type": "code",
   "execution_count": 13,
   "metadata": {},
   "outputs": [
    {
     "data": {
      "text/plain": [
       "70276"
      ]
     },
     "execution_count": 13,
     "metadata": {},
     "output_type": "execute_result"
    }
   ],
   "source": [
    "# Create a list of unique titles\n",
    "# Then for each title, create a list of tags it contains\n",
    "# Add these tuples to a list\n",
    "# Delete duplicate titles from the dataset, then add the list of tag-tuples as a new column\n",
    "# This will reduce the size of the dataset by ~75%\n",
    "\n",
    "titles = medium['title'].unique()\n",
    "len(titles)"
   ]
  },
  {
   "cell_type": "code",
   "execution_count": 14,
   "metadata": {},
   "outputs": [],
   "source": [
    "# 'Only' 70,276 unique articles in this dataset"
   ]
  },
  {
   "cell_type": "code",
   "execution_count": 15,
   "metadata": {},
   "outputs": [
    {
     "data": {
      "text/plain": [
       "19278"
      ]
     },
     "execution_count": 15,
     "metadata": {},
     "output_type": "execute_result"
    }
   ],
   "source": [
    "tags = medium['tag_name'].unique()\n",
    "len(tags)"
   ]
  },
  {
   "cell_type": "code",
   "execution_count": 24,
   "metadata": {},
   "outputs": [],
   "source": [
    "# The dataset contains 19,278 tags!"
   ]
  },
  {
   "cell_type": "code",
   "execution_count": 35,
   "metadata": {},
   "outputs": [],
   "source": [
    "# Function to find all tags for a certain title and return a list of tags\n",
    "def find_tags(title):\n",
    "    rows = medium[medium['title'] == title]\n",
    "    tags = list(rows['tag_name'].values)\n",
    "    return tags"
   ]
  },
  {
   "cell_type": "code",
   "execution_count": 37,
   "metadata": {},
   "outputs": [
    {
     "data": {
      "text/plain": [
       "['Blockchain', 'Samsung', 'It']"
      ]
     },
     "execution_count": 37,
     "metadata": {},
     "output_type": "execute_result"
    }
   ],
   "source": [
    "find_tags('Private Business, Government and Blockchain')"
   ]
  },
  {
   "cell_type": "code",
   "execution_count": 38,
   "metadata": {},
   "outputs": [
    {
     "name": "stdout",
     "output_type": "stream",
     "text": [
      "11.1 ms ± 368 µs per loop (mean ± std. dev. of 7 runs, 100 loops each)\n"
     ]
    }
   ],
   "source": [
    "%timeit find_tags('Private Business, Government and Blockchain')"
   ]
  },
  {
   "cell_type": "code",
   "execution_count": 39,
   "metadata": {},
   "outputs": [],
   "source": [
    "# This will take a very long time on the full dataset.\n",
    "# Lets drop rows of non-english articles first\n",
    "\n",
    "medium = medium[medium['language'] == 'en']"
   ]
  },
  {
   "cell_type": "code",
   "execution_count": 43,
   "metadata": {},
   "outputs": [],
   "source": [
    "tag_dict = {'titles': [], 'tags': []}\n",
    "\n",
    "for title in titles:\n",
    "    tag_dict['titles'].append(title)\n",
    "    tag_dict['tags'].append(find_tags(title))"
   ]
  },
  {
   "cell_type": "code",
   "execution_count": 44,
   "metadata": {},
   "outputs": [],
   "source": [
    "tag_df = pd.DataFrame(tag_dict)"
   ]
  },
  {
   "cell_type": "code",
   "execution_count": 50,
   "metadata": {},
   "outputs": [],
   "source": [
    "medium = medium.drop_duplicates(subset = 'title', keep = 'first')"
   ]
  },
  {
   "cell_type": "code",
   "execution_count": 68,
   "metadata": {},
   "outputs": [],
   "source": [
    "def addTags(title):\n",
    "    try:\n",
    "        tags = list(tag_df[tag_df['titles'] == title]['tags'])[0]\n",
    "    except:\n",
    "        tags = np.NaN\n",
    "    return tags"
   ]
  },
  {
   "cell_type": "code",
   "execution_count": null,
   "metadata": {},
   "outputs": [],
   "source": [
    "medium['allTags'] = [addTags(x) for x in medium['title']]"
   ]
  },
  {
   "cell_type": "code",
   "execution_count": 72,
   "metadata": {},
   "outputs": [],
   "source": [
    "medium.reset_index(drop = True, inplace = True)"
   ]
  },
  {
   "cell_type": "code",
   "execution_count": 73,
   "metadata": {},
   "outputs": [
    {
     "data": {
      "text/html": [
       "<div>\n",
       "<style scoped>\n",
       "    .dataframe tbody tr th:only-of-type {\n",
       "        vertical-align: middle;\n",
       "    }\n",
       "\n",
       "    .dataframe tbody tr th {\n",
       "        vertical-align: top;\n",
       "    }\n",
       "\n",
       "    .dataframe thead th {\n",
       "        text-align: right;\n",
       "    }\n",
       "</style>\n",
       "<table border=\"1\" class=\"dataframe\">\n",
       "  <thead>\n",
       "    <tr style=\"text-align: right;\">\n",
       "      <th></th>\n",
       "      <th>title</th>\n",
       "      <th>allTags</th>\n",
       "    </tr>\n",
       "  </thead>\n",
       "  <tbody>\n",
       "    <tr>\n",
       "      <th>0</th>\n",
       "      <td>Private Business, Government and Blockchain</td>\n",
       "      <td>[Blockchain, Samsung, It]</td>\n",
       "    </tr>\n",
       "    <tr>\n",
       "      <th>1</th>\n",
       "      <td>EPQ draft 1 (4844 words)</td>\n",
       "      <td>[Technology, Robotics, Automation, Epq]</td>\n",
       "    </tr>\n",
       "    <tr>\n",
       "      <th>2</th>\n",
       "      <td>Ascent of data Science, SAS and Big data Analy...</td>\n",
       "      <td>[Data Science, Sas Training In Pune, Hadoop Tr...</td>\n",
       "    </tr>\n",
       "    <tr>\n",
       "      <th>3</th>\n",
       "      <td>Can a robot love us better than another human ...</td>\n",
       "      <td>[Robotics, Meditation, Therapy, Artificial Int...</td>\n",
       "    </tr>\n",
       "    <tr>\n",
       "      <th>4</th>\n",
       "      <td>2017 Big Data, AI and IOT Use Cases</td>\n",
       "      <td>[Artificial Intelligence, Data Science, Big Da...</td>\n",
       "    </tr>\n",
       "  </tbody>\n",
       "</table>\n",
       "</div>"
      ],
      "text/plain": [
       "                                               title  \\\n",
       "0        Private Business, Government and Blockchain   \n",
       "1                           EPQ draft 1 (4844 words)   \n",
       "2  Ascent of data Science, SAS and Big data Analy...   \n",
       "3  Can a robot love us better than another human ...   \n",
       "4                2017 Big Data, AI and IOT Use Cases   \n",
       "\n",
       "                                             allTags  \n",
       "0                          [Blockchain, Samsung, It]  \n",
       "1            [Technology, Robotics, Automation, Epq]  \n",
       "2  [Data Science, Sas Training In Pune, Hadoop Tr...  \n",
       "3  [Robotics, Meditation, Therapy, Artificial Int...  \n",
       "4  [Artificial Intelligence, Data Science, Big Da...  "
      ]
     },
     "execution_count": 73,
     "metadata": {},
     "output_type": "execute_result"
    }
   ],
   "source": [
    "medium[['title', 'allTags']].head()"
   ]
  },
  {
   "cell_type": "code",
   "execution_count": 76,
   "metadata": {},
   "outputs": [
    {
     "data": {
      "text/plain": [
       "(64417, 51)"
      ]
     },
     "execution_count": 76,
     "metadata": {},
     "output_type": "execute_result"
    }
   ],
   "source": [
    "# the number of rows has now been greatly reduced.\n",
    "medium.shape"
   ]
  },
  {
   "cell_type": "code",
   "execution_count": 81,
   "metadata": {},
   "outputs": [],
   "source": [
    "# It seems that there are still many redundant columns.\n",
    "# Drop all the date columns and only keep the datetime columns\n",
    "\n",
    "medium.drop(columns = ['createdDate', 'firstPublishedDate', 'latestPublishedDate', 'updatedDate'], inplace = True)"
   ]
  },
  {
   "cell_type": "code",
   "execution_count": 82,
   "metadata": {},
   "outputs": [
    {
     "data": {
      "text/plain": [
       "Index(['audioVersionDurationSec', 'codeBlock', 'codeBlockCount',\n",
       "       'collectionId', 'createdDatetime', 'firstPublishedDatetime',\n",
       "       'imageCount', 'isSubscriptionLocked', 'language',\n",
       "       'latestPublishedDatetime', 'linksCount', 'postId', 'readingTime',\n",
       "       'recommends', 'responsesCreatedCount', 'socialRecommendsCount',\n",
       "       'subTitle', 'tagsCount', 'text', 'title', 'totalClapCount',\n",
       "       'uniqueSlug', 'updatedDatetime', 'url', 'vote', 'wordCount',\n",
       "       'publicationdescription', 'publicationdomain',\n",
       "       'publicationfacebookPageName', 'publicationfollowerCount',\n",
       "       'publicationname', 'publicationpublicEmail', 'publicationslug',\n",
       "       'publicationtags', 'publicationtwitterUsername', 'tag_name', 'slug',\n",
       "       'name', 'postCount', 'author', 'bio', 'userId', 'userName',\n",
       "       'usersFollowedByCount', 'usersFollowedCount', 'scrappedDate',\n",
       "       'allTags'],\n",
       "      dtype='object')"
      ]
     },
     "execution_count": 82,
     "metadata": {},
     "output_type": "execute_result"
    }
   ],
   "source": [
    "medium.columns"
   ]
  },
  {
   "cell_type": "code",
   "execution_count": 118,
   "metadata": {},
   "outputs": [],
   "source": [
    "# drop some more unnecessary columns\n",
    "\n",
    "# audioVersionDurationSec is unneccessary\n",
    "# language is all english\n",
    "# tagsCount is inaccurate\n",
    "# uniqueSlug is just a combination of title and postId\n",
    "# vote is just whether the dataset aggregator clapped\n",
    "# I really doubt I'll need the publication facebook page name, domain, email, slug, or twitter\n",
    "# tag_name is now unneccessary\n",
    "# slug and name are redundant with tags\n",
    "# postCount is just the number of posts with a tag, meaningless now\n",
    "# userId is mostly meaningless. Already have author name and userName\n",
    "# scrappedDate is just 20181104 for every article\n",
    "\n",
    "medium.drop(columns = ['audioVersionDurationSec', 'language', 'tagsCount', 'uniqueSlug', 'vote',\n",
    "                      'publicationfacebookPageName', 'publicationpublicEmail', 'publicationdomain',\n",
    "                      'publicationslug', 'publicationtwitterUsername', 'tag_name', 'slug', 'name',\n",
    "                      'postCount', 'userId', 'scrappedDate'], inplace = True)"
   ]
  },
  {
   "cell_type": "code",
   "execution_count": 119,
   "metadata": {},
   "outputs": [
    {
     "data": {
      "text/plain": [
       "(64417, 31)"
      ]
     },
     "execution_count": 119,
     "metadata": {},
     "output_type": "execute_result"
    }
   ],
   "source": [
    "# Number of columns has now been reduced by 40%\n",
    "medium.shape"
   ]
  },
  {
   "cell_type": "code",
   "execution_count": 120,
   "metadata": {},
   "outputs": [
    {
     "data": {
      "text/plain": [
       "Index(['codeBlock', 'codeBlockCount', 'collectionId', 'createdDatetime',\n",
       "       'firstPublishedDatetime', 'imageCount', 'isSubscriptionLocked',\n",
       "       'latestPublishedDatetime', 'linksCount', 'postId', 'readingTime',\n",
       "       'recommends', 'responsesCreatedCount', 'socialRecommendsCount',\n",
       "       'subTitle', 'text', 'title', 'totalClapCount', 'updatedDatetime', 'url',\n",
       "       'wordCount', 'publicationdescription', 'publicationfollowerCount',\n",
       "       'publicationname', 'publicationtags', 'author', 'bio', 'userName',\n",
       "       'usersFollowedByCount', 'usersFollowedCount', 'allTags'],\n",
       "      dtype='object')"
      ]
     },
     "execution_count": 120,
     "metadata": {},
     "output_type": "execute_result"
    }
   ],
   "source": [
    "medium.columns"
   ]
  },
  {
   "cell_type": "code",
   "execution_count": 122,
   "metadata": {},
   "outputs": [],
   "source": [
    "medium.to_csv('medium_dataset.csv', index = False)"
   ]
  },
  {
   "cell_type": "code",
   "execution_count": 164,
   "metadata": {},
   "outputs": [],
   "source": [
    "medium = pd.read_csv('medium_dataset.csv')"
   ]
  },
  {
   "cell_type": "code",
   "execution_count": 324,
   "metadata": {},
   "outputs": [
    {
     "data": {
      "text/plain": [
       "list"
      ]
     },
     "execution_count": 324,
     "metadata": {},
     "output_type": "execute_result"
    }
   ],
   "source": []
  },
  {
   "cell_type": "code",
   "execution_count": null,
   "metadata": {},
   "outputs": [],
   "source": []
  }
 ],
 "metadata": {
  "kernelspec": {
   "display_name": "metis",
   "language": "python",
   "name": "metis"
  },
  "language_info": {
   "codemirror_mode": {
    "name": "ipython",
    "version": 3
   },
   "file_extension": ".py",
   "mimetype": "text/x-python",
   "name": "python",
   "nbconvert_exporter": "python",
   "pygments_lexer": "ipython3",
   "version": "3.7.3"
  }
 },
 "nbformat": 4,
 "nbformat_minor": 2
}
