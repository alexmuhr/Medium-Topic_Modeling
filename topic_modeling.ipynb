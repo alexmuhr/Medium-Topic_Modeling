{
 "cells": [
  {
   "cell_type": "code",
   "execution_count": 1,
   "metadata": {},
   "outputs": [],
   "source": [
    "import numpy as np\n",
    "import pandas as pd\n",
    "import matplotlib.pyplot as plt\n",
    "import seaborn as sns\n",
    "import string\n",
    "import re\n",
    "from ast import literal_eval\n",
    "from collections import Counter\n",
    "%matplotlib inline\n",
    "\n",
    "from sklearn.feature_extraction.text import CountVectorizer\n",
    "from sklearn.feature_extraction.text import TfidfVectorizer\n",
    "from sklearn.decomposition import TruncatedSVD\n",
    "from sklearn.decomposition import NMF\n",
    "from sklearn.metrics.pairwise import cosine_similarity\n",
    "\n",
    "import gensim\n",
    "from gensim.parsing.preprocessing import STOPWORDS\n",
    "from gensim import corpora, models, similarities, matutils\n",
    "from gensim.utils import simple_preprocess\n",
    "from gensim.models import CoherenceModel\n",
    "\n",
    "from nltk.stem.porter import PorterStemmer"
   ]
  },
  {
   "cell_type": "markdown",
   "metadata": {},
   "source": [
    "### Prep Data"
   ]
  },
  {
   "cell_type": "code",
   "execution_count": 2,
   "metadata": {},
   "outputs": [],
   "source": [
    "medium = pd.read_csv('medium_dataset.csv')"
   ]
  },
  {
   "cell_type": "code",
   "execution_count": 3,
   "metadata": {},
   "outputs": [
    {
     "data": {
      "text/plain": [
       "Index(['codeBlock', 'codeBlockCount', 'collectionId', 'createdDatetime',\n",
       "       'firstPublishedDatetime', 'imageCount', 'isSubscriptionLocked',\n",
       "       'latestPublishedDatetime', 'linksCount', 'postId', 'readingTime',\n",
       "       'recommends', 'responsesCreatedCount', 'socialRecommendsCount',\n",
       "       'subTitle', 'text', 'title', 'totalClapCount', 'updatedDatetime', 'url',\n",
       "       'wordCount', 'publicationdescription', 'publicationfollowerCount',\n",
       "       'publicationname', 'publicationtags', 'author', 'bio', 'userName',\n",
       "       'usersFollowedByCount', 'usersFollowedCount', 'allTags'],\n",
       "      dtype='object')"
      ]
     },
     "execution_count": 3,
     "metadata": {},
     "output_type": "execute_result"
    }
   ],
   "source": [
    "medium.columns"
   ]
  },
  {
   "cell_type": "code",
   "execution_count": 6,
   "metadata": {},
   "outputs": [],
   "source": [
    "# The allTags column needs to be converted to type list. By default pandas will read the lists in as strings.\n",
    "def convert_tags(tags):\n",
    "    try:\n",
    "        tags = literal_eval(tags)\n",
    "        return tags\n",
    "    except:\n",
    "        return tags\n",
    "\n",
    "medium['allTags'] = medium['allTags'].apply(convert_tags)"
   ]
  },
  {
   "cell_type": "code",
   "execution_count": 7,
   "metadata": {},
   "outputs": [],
   "source": [
    "# Define a function to remove links from text\n",
    "# Then remove non-alphanumeric characters, punctuation, and make lower case\n",
    "\n",
    "def clean_text(text):\n",
    "    # Remove links\n",
    "    text = re.sub('(?:(?:https?|ftp):\\/\\/)?[\\w/\\-?=%.]+\\.[\\w/\\-?=%.]+','', text)\n",
    "    # Remove non-alphanumerics\n",
    "    text = re.sub('\\w*\\d\\w*', ' ', text)\n",
    "    # Remove punctuation and lowercase\n",
    "    text = re.sub('[%s]' % re.escape(string.punctuation), ' ', text.lower())\n",
    "    # Remove newline characters\n",
    "    text = text.replace('\\n', ' ')\n",
    "    \n",
    "    return text\n",
    "\n",
    "medium['text'] = medium['text'].apply(clean_text)"
   ]
  },
  {
   "cell_type": "code",
   "execution_count": 8,
   "metadata": {},
   "outputs": [
    {
     "data": {
      "text/plain": [
       "'private business  government and blockchain  a major private it company implements blockchain  artificial intelligence  and internet of things to optimize and improve high technology workflow  the representatives of a major state structure from the same country like this experiment so much they decide to use it in their work and conclude an agreement with the it giant  this is an ideal example of interaction between private business and the state regarding blockchain  don’t you think  what is even better is that this story is real  in south korea a local customs office has signed the respective partnership agreement with samsung  i believe that the near term development of blockchain will be built on just such examples of cooperation  in a world where all the best technological decisions are copied at supersonic speed  one cannot remain behind the trends for long  that’s why i’m confident that blockchain and other crypto technologies will soon be adopted around the world  in the   century it would be strange to go searching for a telephone booth to make a call  when you can do so from anywhere on the planet with one click on your gadget   '"
      ]
     },
     "execution_count": 8,
     "metadata": {},
     "output_type": "execute_result"
    }
   ],
   "source": [
    "medium.loc[0,'text']"
   ]
  },
  {
   "cell_type": "code",
   "execution_count": 9,
   "metadata": {},
   "outputs": [
    {
     "data": {
      "text/plain": [
       "['Blockchain', 'Samsung', 'It']"
      ]
     },
     "execution_count": 9,
     "metadata": {},
     "output_type": "execute_result"
    }
   ],
   "source": [
    "medium.loc[0,'allTags']"
   ]
  },
  {
   "cell_type": "markdown",
   "metadata": {},
   "source": [
    "### Simple Analysis"
   ]
  },
  {
   "cell_type": "code",
   "execution_count": 14,
   "metadata": {},
   "outputs": [],
   "source": [
    "# Appears that our text and tags are looking good\n",
    "# Lets create a single list of tags to represent topics that people are writing about\n",
    "tag_list = []\n",
    "\n",
    "for tags in medium['allTags']:\n",
    "    if type(tags) == list:\n",
    "        for tag in tags:\n",
    "            tag_list.append(tag)\n",
    "    "
   ]
  },
  {
   "cell_type": "code",
   "execution_count": 20,
   "metadata": {},
   "outputs": [
    {
     "data": {
      "text/plain": [
       "257650"
      ]
     },
     "execution_count": 20,
     "metadata": {},
     "output_type": "execute_result"
    }
   ],
   "source": [
    "# Total number of tags applied\n",
    "len(tag_list)"
   ]
  },
  {
   "cell_type": "code",
   "execution_count": 22,
   "metadata": {},
   "outputs": [
    {
     "data": {
      "text/plain": [
       "64417"
      ]
     },
     "execution_count": 22,
     "metadata": {},
     "output_type": "execute_result"
    }
   ],
   "source": [
    "# Total number of articles\n",
    "medium.shape[0]"
   ]
  },
  {
   "cell_type": "code",
   "execution_count": 23,
   "metadata": {},
   "outputs": [
    {
     "data": {
      "text/plain": [
       "3.999720570656814"
      ]
     },
     "execution_count": 23,
     "metadata": {},
     "output_type": "execute_result"
    }
   ],
   "source": [
    "# Average tags per article\n",
    "len(tag_list)/medium.shape[0]"
   ]
  },
  {
   "cell_type": "code",
   "execution_count": 24,
   "metadata": {},
   "outputs": [
    {
     "data": {
      "text/plain": [
       "Artificial Intelligence    32824\n",
       "Machine Learning           27382\n",
       "Data Science               16689\n",
       "Deep Learning               6194\n",
       "Technology                  6163\n",
       "Blockchain                  4800\n",
       "Python                      3075\n",
       "Big Data                    2670\n",
       "Tech                        2599\n",
       "Chatbots                    2515\n",
       "Name: tags, dtype: int64"
      ]
     },
     "execution_count": 24,
     "metadata": {},
     "output_type": "execute_result"
    }
   ],
   "source": [
    "# Top 10 most popular tags in this dataset\n",
    "pd.DataFrame(data = tag_list, columns = ['tags'])['tags'].value_counts().head(10)"
   ]
  },
  {
   "cell_type": "code",
   "execution_count": 27,
   "metadata": {},
   "outputs": [
    {
     "data": {
      "text/plain": [
       "Artificial Intelligence    0.509555\n",
       "Machine Learning           0.425074\n",
       "Data Science               0.259078\n",
       "Deep Learning              0.096155\n",
       "Technology                 0.095674\n",
       "Blockchain                 0.074514\n",
       "Python                     0.047736\n",
       "Big Data                   0.041449\n",
       "Tech                       0.040346\n",
       "Chatbots                   0.039042\n",
       "Name: tags, dtype: float64"
      ]
     },
     "execution_count": 27,
     "metadata": {},
     "output_type": "execute_result"
    }
   ],
   "source": [
    "# Frequency at which popular tags appear in the dataset\n",
    "pd.DataFrame(data = tag_list, columns = ['tags'])['tags'].value_counts().head(10)/medium.shape[0]"
   ]
  },
  {
   "cell_type": "code",
   "execution_count": 34,
   "metadata": {},
   "outputs": [
    {
     "name": "stdout",
     "output_type": "stream",
     "text": [
      "Latest Published Date: 2018-09-30 23:52:12\n",
      "Earliest Published Date: 2010-10-27 07:00:00\n"
     ]
    }
   ],
   "source": [
    "# Dataset covers articles over an 8 year span from 2010 to 2018\n",
    "print(\"Latest Published Date: \" + str(medium['firstPublishedDatetime'].max()))\n",
    "print(\"Earliest Published Date: \" + str(medium['firstPublishedDatetime'].min()))"
   ]
  },
  {
   "cell_type": "code",
   "execution_count": 37,
   "metadata": {},
   "outputs": [
    {
     "data": {
      "text/plain": [
       "Towards Data Science                                3715\n",
       "Hacker Noon                                         1185\n",
       "Becoming Human: Artificial Intelligence Magazine     732\n",
       "Data Driven Investor                                 637\n",
       "Chatbots Life                                        461\n",
       "SyncedReview                                         366\n",
       "Chatbots Magazine                                    342\n",
       "The Startup                                          310\n",
       "DEEPAERODRONES                                       273\n",
       "Good Audience                                        258\n",
       "Name: publicationname, dtype: int64"
      ]
     },
     "execution_count": 37,
     "metadata": {},
     "output_type": "execute_result"
    }
   ],
   "source": [
    "# Towards Data Science is the most prolific publication in the dataset\n",
    "medium['publicationname'].value_counts().head(10)"
   ]
  },
  {
   "cell_type": "code",
   "execution_count": 39,
   "metadata": {},
   "outputs": [
    {
     "data": {
      "text/plain": [
       "Synced                  377\n",
       "DEEP AERO DRONES        279\n",
       "Yves Mulkers            182\n",
       "C Gavilanes             163\n",
       "Jae Duk Seo             158\n",
       "WELTARE Strategies      140\n",
       "TWiML & AI              134\n",
       "Michael K. Spencer      124\n",
       "Corsair's Publishing    121\n",
       "Vantagepoint ai         113\n",
       "Name: author, dtype: int64"
      ]
     },
     "execution_count": 39,
     "metadata": {},
     "output_type": "execute_result"
    }
   ],
   "source": [
    "medium['author'].value_counts().head(10)"
   ]
  },
  {
   "cell_type": "code",
   "execution_count": 53,
   "metadata": {},
   "outputs": [
    {
     "data": {
      "text/plain": [
       "[('', 20), ('the', 11), ('and', 6), ('a', 6), ('blockchain', 5)]"
      ]
     },
     "execution_count": 53,
     "metadata": {},
     "output_type": "execute_result"
    }
   ],
   "source": [
    "test = Counter(medium.loc[0, 'text'].split(' '))\n",
    "test.most_common(5)"
   ]
  },
  {
   "cell_type": "code",
   "execution_count": 57,
   "metadata": {},
   "outputs": [],
   "source": [
    "# Run a word count to determine most common words in corpus\n",
    "# These words will likely need to be added to the stopwords list\n",
    "# Don't count words that are allready in the default stopwords list\n",
    "\n",
    "def update_counter(text):\n",
    "    '''\n",
    "    Function to update a word counter for corpus of documents\n",
    "    '''\n",
    "    word_list = []\n",
    "    for word in text.split(' '):\n",
    "        if word not in STOPWORDS:\n",
    "            word_list.append(word)\n",
    "    word_counter.update(word_list)\n",
    "\n",
    "word_counter = Counter()\n",
    "\n",
    "medium['text'].apply(update_counter)"
   ]
  },
  {
   "cell_type": "code",
   "execution_count": 62,
   "metadata": {},
   "outputs": [
    {
     "name": "stdout",
     "output_type": "stream",
     "text": [
      "[('', 9268338), ('data', 405551), ('ai', 223239), ('learning', 195515), ('—', 189145), ('time', 128504), ('machine', 126912), ('like', 126808), ('use', 115446), ('new', 111253), ('model', 108896), ('intelligence', 84933), ('people', 82011), ('need', 81119), ('it’s', 80934), ('human', 79753), ('technology', 75069), ('”', 74216), ('work', 72607), ('way', 71261), ('artificial', 68172), ('based', 65169), ('different', 62642), ('information', 62467), ('world', 62111), ('business', 58426), ('example', 58218), ('deep', 56145), ('training', 55299), ('set', 54501), ('network', 53781), ('science', 53150), ('want', 52164), ('better', 51989), ('help', 51391), ('know', 51230), ('future', 49531), ('image', 48455), ('process', 48144), ('value', 48000), ('number', 46962), ('good', 46569), ('learn', 46234), ('neural', 46179), ('models', 45635), ('create', 45014), ('think', 43510), ('companies', 43006), ('don’t', 42986), ('problem', 42941), ('best', 42668), ('google', 42010), ('real', 41909), ('code', 41524), ('right', 41451), ('able', 40526), ('function', 40348), ('things', 39936), ('user', 39838), ('research', 38957), ('systems', 38623), ('algorithms', 38461), ('analysis', 37754), ('years', 37237), ('look', 36985), ('experience', 36802), ('important', 36380), ('understand', 36324), ('going', 36212), ('users', 35842), ('team', 35447), ('results', 34897), ('customer', 34499), ('big', 34308), ('features', 34178), ('project', 33848), ('build', 33336), ('product', 33317), ('start', 33257), ('algorithm', 33226), ('company', 32969), ('lot', 32421), ('making', 32321), ('case', 31952), ('language', 31913), ('high', 31819), ('read', 31623), ('point', 31507), ('networks', 31447), ('software', 31321), ('day', 31044), ('end', 30805), ('python', 30691), ('humans', 30662), ('let’s', 30491), ('simple', 30369), ('images', 30295), ('level', 30287), ('dataset', 29735), ('possible', 29589)]\n"
     ]
    }
   ],
   "source": [
    "print(word_counter.most_common(100))"
   ]
  },
  {
   "cell_type": "markdown",
   "metadata": {},
   "source": [
    "### Remove Stopwords and Stem"
   ]
  },
  {
   "cell_type": "code",
   "execution_count": 10,
   "metadata": {},
   "outputs": [],
   "source": [
    "# Need custom stopword list to remove extremely common words and uninformative words\n",
    "# List is based on word counter\n",
    "\n",
    "stop_list = STOPWORDS.union(set(['data', 'ai', 'learning', 'time', 'machine', 'like', 'use', 'new', 'intelligence', 'need', \"it's\", 'way',\n",
    "                                 'artificial', 'based', 'want', 'know', 'learn', \"don't\", 'things', 'lot', \"let's\", 'model', 'input',\n",
    "                                 'output', 'train', 'training', 'trained', 'it', 'we', 'don', 'you', 'ce', 'hasn', 'sa', 'do', 'som',\n",
    "                                 'can']))"
   ]
  },
  {
   "cell_type": "code",
   "execution_count": 11,
   "metadata": {},
   "outputs": [],
   "source": [
    "# Remove stopwords before stemming\n",
    "def remove_stopwords(text):\n",
    "    clean_text = []\n",
    "    for word in text.split(' '):\n",
    "        if word not in stop_list and (len(word) > 2):\n",
    "            clean_text.append(word)\n",
    "    return ' '.join(clean_text)\n",
    "\n",
    "# medium['processedText'] = medium['text'].apply(remove_stopwords)"
   ]
  },
  {
   "cell_type": "code",
   "execution_count": 12,
   "metadata": {},
   "outputs": [],
   "source": [
    "# Apply stemmer to processedText\n",
    "stemmer = PorterStemmer()\n",
    "\n",
    "def stem_text(text):\n",
    "    word_list = []\n",
    "    for word in text.split(' '):\n",
    "        word_list.append(stemmer.stem(word))\n",
    "    return ' '.join(word_list)\n",
    "\n",
    "# medium['processedText'] = medium['processedText'].apply(stem_text)"
   ]
  },
  {
   "cell_type": "code",
   "execution_count": 15,
   "metadata": {},
   "outputs": [],
   "source": [
    "# Text processing takes a long time so lets save this to a csv file.\n",
    "# Only include title and processed text. Can merge later if needed.\n",
    "\n",
    "# processed_text = medium[['title', 'processedText']]\n",
    "# processed_text.to_csv('processed_text.csv')"
   ]
  },
  {
   "cell_type": "code",
   "execution_count": 23,
   "metadata": {},
   "outputs": [],
   "source": [
    "processed_text = pd.read_csv('processed_text.csv', engine = 'python')\n",
    "medium.merge(processed_text, on = 'title')"
   ]
  },
  {
   "cell_type": "code",
   "execution_count": 24,
   "metadata": {},
   "outputs": [],
   "source": [
    "# Remove articles that have less than 25 claps\n",
    "medium = medium[medium['totalClapCount'] >= 25]\n",
    "medium.reset_index(drop = True, inplace = True)"
   ]
  },
  {
   "cell_type": "markdown",
   "metadata": {},
   "source": [
    "### LSA with Count-Vectorizer"
   ]
  },
  {
   "cell_type": "code",
   "execution_count": 59,
   "metadata": {},
   "outputs": [
    {
     "name": "stderr",
     "output_type": "stream",
     "text": [
      "/Users/alex/anaconda3/lib/python3.7/site-packages/sklearn/feature_extraction/text.py:286: UserWarning: Your stop_words may be inconsistent with your preprocessing. Tokenizing the stop words generated tokens ['let'] not in stop_words.\n",
      "  sorted(inconsistent))\n"
     ]
    },
    {
     "data": {
      "text/plain": [
       "(24331, 122181)"
      ]
     },
     "execution_count": 59,
     "metadata": {},
     "output_type": "execute_result"
    }
   ],
   "source": [
    "vectorizer = CountVectorizer(stop_words = stop_list, ngram_range = (1,1))\n",
    "doc_word = vectorizer.fit_transform(medium['processedText'])\n",
    "doc_word.shape"
   ]
  },
  {
   "cell_type": "code",
   "execution_count": 60,
   "metadata": {},
   "outputs": [
    {
     "data": {
      "text/plain": [
       "0.18551683177319656"
      ]
     },
     "execution_count": 60,
     "metadata": {},
     "output_type": "execute_result"
    }
   ],
   "source": [
    "lsa = TruncatedSVD(10)\n",
    "doc_topic = lsa.fit_transform(doc_word)\n",
    "sum(lsa.explained_variance_ratio_)"
   ]
  },
  {
   "cell_type": "code",
   "execution_count": 61,
   "metadata": {},
   "outputs": [],
   "source": [
    "def display_topics(model, feature_names, no_top_words, no_top_topics, topic_names=None):\n",
    "    count = 0\n",
    "    for ix, topic in enumerate(model.components_):\n",
    "        if count == no_top_topics:\n",
    "            break\n",
    "        if not topic_names or not topic_names[ix]:\n",
    "            print(\"\\nTopic \", (ix + 1))\n",
    "        else:\n",
    "            print(\"\\nTopic: '\",topic_names[ix],\"'\")\n",
    "        print(\", \".join([feature_names[i]\n",
    "                        for i in topic.argsort()[:-no_top_words - 1:-1]]))\n",
    "        count += 1"
   ]
  },
  {
   "cell_type": "code",
   "execution_count": 62,
   "metadata": {},
   "outputs": [
    {
     "name": "stdout",
     "output_type": "stream",
     "text": [
      "\n",
      "Topic  1\n",
      "work, imag, network, valu, differ, gener, set, human, creat, exampl, function, algorithm, featur, predict, process\n",
      "\n",
      "Topic  2\n",
      "technolog, human, compani, develop, peopl, busi, product, user, world, market, custom, year, servic, univers, design\n",
      "\n",
      "Topic  3\n",
      "imag, network, neural, layer, deep, technolog, convolut, univers, human, develop, detect, gener, research, cnn, architectur\n",
      "\n",
      "Topic  4\n",
      "user, imag, post, articl, recommend, read, contain, link, medium, product, minut, got, follow, tag, total\n",
      "\n",
      "Topic  5\n",
      "word, vector, text, languag, sentenc, embed, document, human, context, univers, gener, topic, similar, sequenc, neural\n"
     ]
    }
   ],
   "source": [
    "display_topics(lsa, vectorizer.get_feature_names(), 15, 5)"
   ]
  },
  {
   "cell_type": "code",
   "execution_count": 63,
   "metadata": {},
   "outputs": [
    {
     "data": {
      "image/png": "[encoded data removed]",
      "text/plain": [
       "<Figure size 432x288 with 1 Axes>"
      ]
     },
     "metadata": {
      "needs_background": "light"
     },
     "output_type": "display_data"
    }
   ],
   "source": [
    "# Make scree plot to find \"elbow\" in the curve\n",
    "def scree_plot(model):\n",
    "    sns.scatterplot(range(1,len(model.singular_values_) + 1), model.singular_values_)\n",
    "    sns.lineplot(range(1, len(model.singular_values_) + 1), model.singular_values_)\n",
    "    plt.ylabel('Singular Values')\n",
    "    plt.xlabel('Components')\n",
    "    plt.title('Scree Plot');\n",
    "\n",
    "scree_plot(lsa)"
   ]
  },
  {
   "cell_type": "code",
   "execution_count": 64,
   "metadata": {},
   "outputs": [],
   "source": [
    "column_names = ['title', 'topic1', 'topic2', 'topic3', 'topic4', 'topic5', 'topic6', 'topic7', 'topic8', 'topic9', 'topic10']\n",
    "doc_topic_df = pd.DataFrame(data = doc_topic)\n",
    "doc_topic_df = pd.concat([medium['title'], doc_topic_df], axis = 1)\n",
    "doc_topic_df.columns = column_names\n",
    "doc_topic_df.to_csv('doc_topics/cv_lsa.csv')"
   ]
  },
  {
   "cell_type": "code",
   "execution_count": 65,
   "metadata": {},
   "outputs": [
    {
     "data": {
      "text/html": [
       "<div>\n",
       "<style scoped>\n",
       "    .dataframe tbody tr th:only-of-type {\n",
       "        vertical-align: middle;\n",
       "    }\n",
       "\n",
       "    .dataframe tbody tr th {\n",
       "        vertical-align: top;\n",
       "    }\n",
       "\n",
       "    .dataframe thead th {\n",
       "        text-align: right;\n",
       "    }\n",
       "</style>\n",
       "<table border=\"1\" class=\"dataframe\">\n",
       "  <thead>\n",
       "    <tr style=\"text-align: right;\">\n",
       "      <th></th>\n",
       "      <th>title</th>\n",
       "      <th>topic1</th>\n",
       "      <th>topic2</th>\n",
       "      <th>topic3</th>\n",
       "      <th>topic4</th>\n",
       "      <th>topic5</th>\n",
       "      <th>topic6</th>\n",
       "      <th>topic7</th>\n",
       "      <th>topic8</th>\n",
       "      <th>topic9</th>\n",
       "      <th>topic10</th>\n",
       "    </tr>\n",
       "  </thead>\n",
       "  <tbody>\n",
       "    <tr>\n",
       "      <th>0</th>\n",
       "      <td>Private Business, Government and Blockchain</td>\n",
       "      <td>2.572103</td>\n",
       "      <td>2.187154</td>\n",
       "      <td>0.502166</td>\n",
       "      <td>-0.873994</td>\n",
       "      <td>-0.421615</td>\n",
       "      <td>-0.439496</td>\n",
       "      <td>0.684973</td>\n",
       "      <td>-0.213432</td>\n",
       "      <td>0.492300</td>\n",
       "      <td>0.906722</td>\n",
       "    </tr>\n",
       "    <tr>\n",
       "      <th>1</th>\n",
       "      <td>Can a robot love us better than another human ...</td>\n",
       "      <td>2.138676</td>\n",
       "      <td>1.941139</td>\n",
       "      <td>0.855390</td>\n",
       "      <td>-1.372673</td>\n",
       "      <td>0.534460</td>\n",
       "      <td>-0.496961</td>\n",
       "      <td>-2.615383</td>\n",
       "      <td>-0.067351</td>\n",
       "      <td>0.998855</td>\n",
       "      <td>-1.583857</td>\n",
       "    </tr>\n",
       "    <tr>\n",
       "      <th>2</th>\n",
       "      <td>2017 Big Data, AI and IOT Use Cases</td>\n",
       "      <td>21.507346</td>\n",
       "      <td>6.918177</td>\n",
       "      <td>2.540492</td>\n",
       "      <td>-1.441746</td>\n",
       "      <td>-2.156544</td>\n",
       "      <td>-0.580637</td>\n",
       "      <td>0.893407</td>\n",
       "      <td>-0.107590</td>\n",
       "      <td>1.444580</td>\n",
       "      <td>6.561033</td>\n",
       "    </tr>\n",
       "    <tr>\n",
       "      <th>3</th>\n",
       "      <td>The Meta Model and Meta Meta-Model of Deep Lea...</td>\n",
       "      <td>17.596733</td>\n",
       "      <td>-7.913611</td>\n",
       "      <td>8.052864</td>\n",
       "      <td>-8.077486</td>\n",
       "      <td>2.819822</td>\n",
       "      <td>-3.767872</td>\n",
       "      <td>2.580095</td>\n",
       "      <td>7.798444</td>\n",
       "      <td>-4.198906</td>\n",
       "      <td>0.045903</td>\n",
       "    </tr>\n",
       "    <tr>\n",
       "      <th>4</th>\n",
       "      <td>Don’t trust “Do you trust this computer”</td>\n",
       "      <td>6.086537</td>\n",
       "      <td>1.791294</td>\n",
       "      <td>-0.512620</td>\n",
       "      <td>-0.800008</td>\n",
       "      <td>0.321344</td>\n",
       "      <td>-0.454184</td>\n",
       "      <td>-1.771749</td>\n",
       "      <td>-0.432767</td>\n",
       "      <td>-0.213229</td>\n",
       "      <td>-0.495882</td>\n",
       "    </tr>\n",
       "    <tr>\n",
       "      <th>5</th>\n",
       "      <td>AI based UI Development (AI-UI)</td>\n",
       "      <td>23.336545</td>\n",
       "      <td>-3.233887</td>\n",
       "      <td>11.677909</td>\n",
       "      <td>4.893821</td>\n",
       "      <td>6.821510</td>\n",
       "      <td>-1.320850</td>\n",
       "      <td>0.839488</td>\n",
       "      <td>-4.740960</td>\n",
       "      <td>-3.268678</td>\n",
       "      <td>-2.310289</td>\n",
       "    </tr>\n",
       "    <tr>\n",
       "      <th>6</th>\n",
       "      <td>Can Technology Replace Record Companies?</td>\n",
       "      <td>10.269063</td>\n",
       "      <td>6.771809</td>\n",
       "      <td>0.331749</td>\n",
       "      <td>0.256963</td>\n",
       "      <td>-1.687690</td>\n",
       "      <td>-0.959218</td>\n",
       "      <td>-0.094428</td>\n",
       "      <td>1.028008</td>\n",
       "      <td>1.170641</td>\n",
       "      <td>3.113925</td>\n",
       "    </tr>\n",
       "    <tr>\n",
       "      <th>7</th>\n",
       "      <td>Five tech trends that shaped 2017</td>\n",
       "      <td>9.214466</td>\n",
       "      <td>4.473292</td>\n",
       "      <td>0.069785</td>\n",
       "      <td>-0.176298</td>\n",
       "      <td>-1.365136</td>\n",
       "      <td>-0.861852</td>\n",
       "      <td>0.027734</td>\n",
       "      <td>-0.747685</td>\n",
       "      <td>2.421319</td>\n",
       "      <td>3.476138</td>\n",
       "    </tr>\n",
       "    <tr>\n",
       "      <th>8</th>\n",
       "      <td>Vectorized implementation of back-propagation</td>\n",
       "      <td>13.481701</td>\n",
       "      <td>-9.371026</td>\n",
       "      <td>-4.874353</td>\n",
       "      <td>-1.712090</td>\n",
       "      <td>0.257150</td>\n",
       "      <td>-0.179776</td>\n",
       "      <td>3.535885</td>\n",
       "      <td>4.069254</td>\n",
       "      <td>-0.647734</td>\n",
       "      <td>0.607250</td>\n",
       "    </tr>\n",
       "    <tr>\n",
       "      <th>9</th>\n",
       "      <td>Building Smarter Businesses With Cognitive Ser...</td>\n",
       "      <td>24.122838</td>\n",
       "      <td>12.162627</td>\n",
       "      <td>3.499068</td>\n",
       "      <td>1.292071</td>\n",
       "      <td>0.531736</td>\n",
       "      <td>-7.154521</td>\n",
       "      <td>6.610337</td>\n",
       "      <td>-1.755313</td>\n",
       "      <td>1.508663</td>\n",
       "      <td>-6.280733</td>\n",
       "    </tr>\n",
       "  </tbody>\n",
       "</table>\n",
       "</div>"
      ],
      "text/plain": [
       "                                               title     topic1     topic2  \\\n",
       "0        Private Business, Government and Blockchain   2.572103   2.187154   \n",
       "1  Can a robot love us better than another human ...   2.138676   1.941139   \n",
       "2                2017 Big Data, AI and IOT Use Cases  21.507346   6.918177   \n",
       "3  The Meta Model and Meta Meta-Model of Deep Lea...  17.596733  -7.913611   \n",
       "4           Don’t trust “Do you trust this computer”   6.086537   1.791294   \n",
       "5                    AI based UI Development (AI-UI)  23.336545  -3.233887   \n",
       "6           Can Technology Replace Record Companies?  10.269063   6.771809   \n",
       "7                  Five tech trends that shaped 2017   9.214466   4.473292   \n",
       "8      Vectorized implementation of back-propagation  13.481701  -9.371026   \n",
       "9  Building Smarter Businesses With Cognitive Ser...  24.122838  12.162627   \n",
       "\n",
       "      topic3    topic4    topic5    topic6    topic7    topic8    topic9  \\\n",
       "0   0.502166 -0.873994 -0.421615 -0.439496  0.684973 -0.213432  0.492300   \n",
       "1   0.855390 -1.372673  0.534460 -0.496961 -2.615383 -0.067351  0.998855   \n",
       "2   2.540492 -1.441746 -2.156544 -0.580637  0.893407 -0.107590  1.444580   \n",
       "3   8.052864 -8.077486  2.819822 -3.767872  2.580095  7.798444 -4.198906   \n",
       "4  -0.512620 -0.800008  0.321344 -0.454184 -1.771749 -0.432767 -0.213229   \n",
       "5  11.677909  4.893821  6.821510 -1.320850  0.839488 -4.740960 -3.268678   \n",
       "6   0.331749  0.256963 -1.687690 -0.959218 -0.094428  1.028008  1.170641   \n",
       "7   0.069785 -0.176298 -1.365136 -0.861852  0.027734 -0.747685  2.421319   \n",
       "8  -4.874353 -1.712090  0.257150 -0.179776  3.535885  4.069254 -0.647734   \n",
       "9   3.499068  1.292071  0.531736 -7.154521  6.610337 -1.755313  1.508663   \n",
       "\n",
       "    topic10  \n",
       "0  0.906722  \n",
       "1 -1.583857  \n",
       "2  6.561033  \n",
       "3  0.045903  \n",
       "4 -0.495882  \n",
       "5 -2.310289  \n",
       "6  3.113925  \n",
       "7  3.476138  \n",
       "8  0.607250  \n",
       "9 -6.280733  "
      ]
     },
     "execution_count": 65,
     "metadata": {},
     "output_type": "execute_result"
    }
   ],
   "source": [
    "doc_topic_df.head(10)"
   ]
  },
  {
   "cell_type": "markdown",
   "metadata": {},
   "source": [
    "### LSA topic modeling with TF-IDF"
   ]
  },
  {
   "cell_type": "code",
   "execution_count": 67,
   "metadata": {},
   "outputs": [
    {
     "name": "stderr",
     "output_type": "stream",
     "text": [
      "/Users/alex/anaconda3/lib/python3.7/site-packages/sklearn/feature_extraction/text.py:286: UserWarning: Your stop_words may be inconsistent with your preprocessing. Tokenizing the stop words generated tokens ['let'] not in stop_words.\n",
      "  sorted(inconsistent))\n"
     ]
    },
    {
     "data": {
      "text/plain": [
       "(24331, 122181)"
      ]
     },
     "execution_count": 67,
     "metadata": {},
     "output_type": "execute_result"
    }
   ],
   "source": [
    "# Now use TF-IDF on stemmed words\n",
    "vectorizer = TfidfVectorizer(stop_words = stop_list, ngram_range = (1,1))\n",
    "doc_word = vectorizer.fit_transform(medium['processedText'])\n",
    "doc_word.shape"
   ]
  },
  {
   "cell_type": "code",
   "execution_count": 68,
   "metadata": {},
   "outputs": [
    {
     "data": {
      "text/plain": [
       "0.060918372439343865"
      ]
     },
     "execution_count": 68,
     "metadata": {},
     "output_type": "execute_result"
    }
   ],
   "source": [
    "lsa = TruncatedSVD(10)\n",
    "doc_topic = lsa.fit_transform(doc_word)\n",
    "sum(lsa.explained_variance_ratio_)"
   ]
  },
  {
   "cell_type": "code",
   "execution_count": 69,
   "metadata": {},
   "outputs": [
    {
     "name": "stdout",
     "output_type": "stream",
     "text": [
      "\n",
      "Topic  1\n",
      "human, network, imag, technolog, work, user, algorithm, predict, peopl, compani, product, busi, deep, custom, develop\n",
      "\n",
      "Topic  2\n",
      "imag, layer, network, neural, function, dataset, featur, weight, convolut, vector, valu, gradient, deep, predict, paramet\n",
      "\n",
      "Topic  3\n",
      "chatbot, bot, user, custom, convers, app, messag, messeng, chat, servic, text, word, voic, assist, interact\n",
      "\n",
      "Topic  4\n",
      "imag, network, layer, neural, human, convolut, deep, chatbot, robot, neuron, technolog, cnn, brain, gan, architectur\n",
      "\n",
      "Topic  5\n",
      "imag, blockchain, tensorflow, file, python, project, token, api, cloud, instal, platform, app, code, team, googl\n"
     ]
    }
   ],
   "source": [
    "display_topics(lsa, vectorizer.get_feature_names(), 15, 5)"
   ]
  },
  {
   "cell_type": "code",
   "execution_count": 70,
   "metadata": {},
   "outputs": [
    {
     "data": {
      "image/png": "[encoded data removed]",
      "text/plain": [
       "<Figure size 432x288 with 1 Axes>"
      ]
     },
     "metadata": {
      "needs_background": "light"
     },
     "output_type": "display_data"
    }
   ],
   "source": [
    "scree_plot(lsa)"
   ]
  },
  {
   "cell_type": "code",
   "execution_count": 71,
   "metadata": {},
   "outputs": [],
   "source": [
    "column_names = ['title', 'topic1', 'topic2', 'topic3', 'topic4', 'topic5', 'topic6', 'topic7', 'topic8', 'topic9', 'topic10']\n",
    "doc_topic_df = pd.DataFrame(data = doc_topic)\n",
    "doc_topic_df = pd.concat([medium['title'], doc_topic_df], axis = 1)\n",
    "doc_topic_df.columns = column_names\n",
    "doc_topic_df.to_csv('doc_topics/tfidf_lsa.csv')"
   ]
  },
  {
   "cell_type": "code",
   "execution_count": 72,
   "metadata": {},
   "outputs": [
    {
     "data": {
      "text/html": [
       "<div>\n",
       "<style scoped>\n",
       "    .dataframe tbody tr th:only-of-type {\n",
       "        vertical-align: middle;\n",
       "    }\n",
       "\n",
       "    .dataframe tbody tr th {\n",
       "        vertical-align: top;\n",
       "    }\n",
       "\n",
       "    .dataframe thead th {\n",
       "        text-align: right;\n",
       "    }\n",
       "</style>\n",
       "<table border=\"1\" class=\"dataframe\">\n",
       "  <thead>\n",
       "    <tr style=\"text-align: right;\">\n",
       "      <th></th>\n",
       "      <th>title</th>\n",
       "      <th>topic1</th>\n",
       "      <th>topic2</th>\n",
       "      <th>topic3</th>\n",
       "      <th>topic4</th>\n",
       "      <th>topic5</th>\n",
       "      <th>topic6</th>\n",
       "      <th>topic7</th>\n",
       "      <th>topic8</th>\n",
       "      <th>topic9</th>\n",
       "      <th>topic10</th>\n",
       "    </tr>\n",
       "  </thead>\n",
       "  <tbody>\n",
       "    <tr>\n",
       "      <th>0</th>\n",
       "      <td>Private Business, Government and Blockchain</td>\n",
       "      <td>0.178884</td>\n",
       "      <td>-0.121232</td>\n",
       "      <td>-0.069383</td>\n",
       "      <td>0.038513</td>\n",
       "      <td>0.085572</td>\n",
       "      <td>0.202256</td>\n",
       "      <td>0.003007</td>\n",
       "      <td>0.082129</td>\n",
       "      <td>-0.066861</td>\n",
       "      <td>-0.120637</td>\n",
       "    </tr>\n",
       "    <tr>\n",
       "      <th>1</th>\n",
       "      <td>Can a robot love us better than another human ...</td>\n",
       "      <td>0.127685</td>\n",
       "      <td>-0.081833</td>\n",
       "      <td>-0.073055</td>\n",
       "      <td>0.078810</td>\n",
       "      <td>-0.135534</td>\n",
       "      <td>-0.101230</td>\n",
       "      <td>-0.053367</td>\n",
       "      <td>0.000688</td>\n",
       "      <td>-0.087831</td>\n",
       "      <td>-0.017994</td>\n",
       "    </tr>\n",
       "    <tr>\n",
       "      <th>2</th>\n",
       "      <td>2017 Big Data, AI and IOT Use Cases</td>\n",
       "      <td>0.303092</td>\n",
       "      <td>-0.048748</td>\n",
       "      <td>-0.060017</td>\n",
       "      <td>0.006398</td>\n",
       "      <td>0.010995</td>\n",
       "      <td>0.047787</td>\n",
       "      <td>-0.009899</td>\n",
       "      <td>-0.023107</td>\n",
       "      <td>0.015369</td>\n",
       "      <td>0.004864</td>\n",
       "    </tr>\n",
       "    <tr>\n",
       "      <th>3</th>\n",
       "      <td>The Meta Model and Meta Meta-Model of Deep Lea...</td>\n",
       "      <td>0.159462</td>\n",
       "      <td>0.119690</td>\n",
       "      <td>-0.017373</td>\n",
       "      <td>0.099864</td>\n",
       "      <td>-0.021567</td>\n",
       "      <td>-0.013477</td>\n",
       "      <td>0.096826</td>\n",
       "      <td>0.032550</td>\n",
       "      <td>-0.002159</td>\n",
       "      <td>0.038268</td>\n",
       "    </tr>\n",
       "    <tr>\n",
       "      <th>4</th>\n",
       "      <td>Don’t trust “Do you trust this computer”</td>\n",
       "      <td>0.176201</td>\n",
       "      <td>-0.054761</td>\n",
       "      <td>-0.039563</td>\n",
       "      <td>-0.012132</td>\n",
       "      <td>-0.044707</td>\n",
       "      <td>-0.032058</td>\n",
       "      <td>-0.012744</td>\n",
       "      <td>0.006832</td>\n",
       "      <td>-0.002659</td>\n",
       "      <td>-0.028011</td>\n",
       "    </tr>\n",
       "    <tr>\n",
       "      <th>5</th>\n",
       "      <td>AI based UI Development (AI-UI)</td>\n",
       "      <td>0.354908</td>\n",
       "      <td>0.130072</td>\n",
       "      <td>0.023945</td>\n",
       "      <td>0.150442</td>\n",
       "      <td>0.052031</td>\n",
       "      <td>-0.119153</td>\n",
       "      <td>-0.080988</td>\n",
       "      <td>0.090753</td>\n",
       "      <td>0.095866</td>\n",
       "      <td>-0.024011</td>\n",
       "    </tr>\n",
       "    <tr>\n",
       "      <th>6</th>\n",
       "      <td>Can Technology Replace Record Companies?</td>\n",
       "      <td>0.255896</td>\n",
       "      <td>-0.112751</td>\n",
       "      <td>-0.039948</td>\n",
       "      <td>-0.025354</td>\n",
       "      <td>0.016787</td>\n",
       "      <td>0.073536</td>\n",
       "      <td>0.029555</td>\n",
       "      <td>-0.051935</td>\n",
       "      <td>0.070180</td>\n",
       "      <td>0.029426</td>\n",
       "    </tr>\n",
       "    <tr>\n",
       "      <th>7</th>\n",
       "      <td>Five tech trends that shaped 2017</td>\n",
       "      <td>0.290928</td>\n",
       "      <td>-0.125446</td>\n",
       "      <td>-0.051235</td>\n",
       "      <td>0.023141</td>\n",
       "      <td>0.033080</td>\n",
       "      <td>0.113100</td>\n",
       "      <td>-0.042130</td>\n",
       "      <td>0.001659</td>\n",
       "      <td>-0.011924</td>\n",
       "      <td>-0.025267</td>\n",
       "    </tr>\n",
       "    <tr>\n",
       "      <th>8</th>\n",
       "      <td>Vectorized implementation of back-propagation</td>\n",
       "      <td>0.182779</td>\n",
       "      <td>0.216899</td>\n",
       "      <td>0.029648</td>\n",
       "      <td>-0.048771</td>\n",
       "      <td>-0.068699</td>\n",
       "      <td>0.128676</td>\n",
       "      <td>0.033490</td>\n",
       "      <td>0.088935</td>\n",
       "      <td>-0.036723</td>\n",
       "      <td>0.026918</td>\n",
       "    </tr>\n",
       "    <tr>\n",
       "      <th>9</th>\n",
       "      <td>Building Smarter Businesses With Cognitive Ser...</td>\n",
       "      <td>0.295806</td>\n",
       "      <td>-0.109444</td>\n",
       "      <td>0.053222</td>\n",
       "      <td>0.055372</td>\n",
       "      <td>0.011529</td>\n",
       "      <td>0.018186</td>\n",
       "      <td>-0.032056</td>\n",
       "      <td>0.003509</td>\n",
       "      <td>0.023319</td>\n",
       "      <td>0.090634</td>\n",
       "    </tr>\n",
       "  </tbody>\n",
       "</table>\n",
       "</div>"
      ],
      "text/plain": [
       "                                               title    topic1    topic2  \\\n",
       "0        Private Business, Government and Blockchain  0.178884 -0.121232   \n",
       "1  Can a robot love us better than another human ...  0.127685 -0.081833   \n",
       "2                2017 Big Data, AI and IOT Use Cases  0.303092 -0.048748   \n",
       "3  The Meta Model and Meta Meta-Model of Deep Lea...  0.159462  0.119690   \n",
       "4           Don’t trust “Do you trust this computer”  0.176201 -0.054761   \n",
       "5                    AI based UI Development (AI-UI)  0.354908  0.130072   \n",
       "6           Can Technology Replace Record Companies?  0.255896 -0.112751   \n",
       "7                  Five tech trends that shaped 2017  0.290928 -0.125446   \n",
       "8      Vectorized implementation of back-propagation  0.182779  0.216899   \n",
       "9  Building Smarter Businesses With Cognitive Ser...  0.295806 -0.109444   \n",
       "\n",
       "     topic3    topic4    topic5    topic6    topic7    topic8    topic9  \\\n",
       "0 -0.069383  0.038513  0.085572  0.202256  0.003007  0.082129 -0.066861   \n",
       "1 -0.073055  0.078810 -0.135534 -0.101230 -0.053367  0.000688 -0.087831   \n",
       "2 -0.060017  0.006398  0.010995  0.047787 -0.009899 -0.023107  0.015369   \n",
       "3 -0.017373  0.099864 -0.021567 -0.013477  0.096826  0.032550 -0.002159   \n",
       "4 -0.039563 -0.012132 -0.044707 -0.032058 -0.012744  0.006832 -0.002659   \n",
       "5  0.023945  0.150442  0.052031 -0.119153 -0.080988  0.090753  0.095866   \n",
       "6 -0.039948 -0.025354  0.016787  0.073536  0.029555 -0.051935  0.070180   \n",
       "7 -0.051235  0.023141  0.033080  0.113100 -0.042130  0.001659 -0.011924   \n",
       "8  0.029648 -0.048771 -0.068699  0.128676  0.033490  0.088935 -0.036723   \n",
       "9  0.053222  0.055372  0.011529  0.018186 -0.032056  0.003509  0.023319   \n",
       "\n",
       "    topic10  \n",
       "0 -0.120637  \n",
       "1 -0.017994  \n",
       "2  0.004864  \n",
       "3  0.038268  \n",
       "4 -0.028011  \n",
       "5 -0.024011  \n",
       "6  0.029426  \n",
       "7 -0.025267  \n",
       "8  0.026918  \n",
       "9  0.090634  "
      ]
     },
     "execution_count": 72,
     "metadata": {},
     "output_type": "execute_result"
    }
   ],
   "source": [
    "doc_topic_df.head(10)"
   ]
  },
  {
   "cell_type": "markdown",
   "metadata": {},
   "source": [
    "### NMF with Count-Vectorizer"
   ]
  },
  {
   "cell_type": "code",
   "execution_count": 73,
   "metadata": {},
   "outputs": [
    {
     "name": "stderr",
     "output_type": "stream",
     "text": [
      "/Users/alex/anaconda3/lib/python3.7/site-packages/sklearn/feature_extraction/text.py:286: UserWarning: Your stop_words may be inconsistent with your preprocessing. Tokenizing the stop words generated tokens ['let'] not in stop_words.\n",
      "  sorted(inconsistent))\n"
     ]
    },
    {
     "data": {
      "text/plain": [
       "(24331, 122181)"
      ]
     },
     "execution_count": 73,
     "metadata": {},
     "output_type": "execute_result"
    }
   ],
   "source": [
    "vectorizer = CountVectorizer(stop_words = stop_list, ngram_range = (1,1))\n",
    "doc_word = vectorizer.fit_transform(medium['processedText'])\n",
    "doc_word.shape"
   ]
  },
  {
   "cell_type": "code",
   "execution_count": 74,
   "metadata": {},
   "outputs": [],
   "source": [
    "nmf = NMF(10)\n",
    "doc_topic = nmf.fit_transform(doc_word)"
   ]
  },
  {
   "cell_type": "code",
   "execution_count": 75,
   "metadata": {},
   "outputs": [
    {
     "name": "stdout",
     "output_type": "stream",
     "text": [
      "\n",
      "Topic  1\n",
      "human, peopl, work, think, world, problem, robot, design, understand, algorithm, year, technolog, question, gener, game\n",
      "\n",
      "Topic  2\n",
      "valu, featur, predict, set, function, algorithm, variabl, number, test, mean, differ, point, exampl, result, distribut\n",
      "\n",
      "Topic  3\n",
      "imag, gener, detect, featur, object, dataset, convolut, layer, label, class, cnn, face, differ, classifi, pixel\n",
      "\n",
      "Topic  4\n",
      "post, articl, read, recommend, user, medium, link, total, got, minut, contain, tag, follow, imag, titl\n",
      "\n",
      "Topic  5\n",
      "word, vector, text, sentenc, embed, languag, document, gener, similar, context, exampl, process, topic, sequenc, mean\n",
      "\n",
      "Topic  6\n",
      "univers, introduct, scienc, technolog, institut, cours, universidad, state, school, econom, nation, école, research, health, program\n",
      "\n",
      "Topic  7\n",
      "compani, technolog, develop, busi, market, product, servic, blockchain, industri, team, provid, year, custom, platform, process\n",
      "\n",
      "Topic  8\n",
      "network, neural, layer, deep, function, weight, neuron, activ, convolut, gradient, comput, gener, architectur, loss, connect\n",
      "\n",
      "Topic  9\n",
      "code, creat, python, work, run, file, project, start, build, ll, function, set, scienc, instal, cours\n",
      "\n",
      "Topic  10\n",
      "user, chatbot, custom, product, bot, convers, design, experi, app, interact, recommend, servic, person, help, content\n"
     ]
    }
   ],
   "source": [
    "display_topics(nmf, vectorizer.get_feature_names(), 15, 10)"
   ]
  },
  {
   "cell_type": "code",
   "execution_count": 76,
   "metadata": {},
   "outputs": [],
   "source": [
    "# Not as sure how to interpret NMF results. Discuss with Jonathan or Kelly.\n",
    "# Are there equivalents to explained variance, singular value, scree plots."
   ]
  },
  {
   "cell_type": "code",
   "execution_count": 77,
   "metadata": {},
   "outputs": [
    {
     "data": {
      "text/html": [
       "<div>\n",
       "<style scoped>\n",
       "    .dataframe tbody tr th:only-of-type {\n",
       "        vertical-align: middle;\n",
       "    }\n",
       "\n",
       "    .dataframe tbody tr th {\n",
       "        vertical-align: top;\n",
       "    }\n",
       "\n",
       "    .dataframe thead th {\n",
       "        text-align: right;\n",
       "    }\n",
       "</style>\n",
       "<table border=\"1\" class=\"dataframe\">\n",
       "  <thead>\n",
       "    <tr style=\"text-align: right;\">\n",
       "      <th></th>\n",
       "      <th>title</th>\n",
       "      <th>topic1</th>\n",
       "      <th>topic2</th>\n",
       "      <th>topic3</th>\n",
       "      <th>topic4</th>\n",
       "      <th>topic5</th>\n",
       "      <th>topic6</th>\n",
       "      <th>topic7</th>\n",
       "      <th>topic8</th>\n",
       "      <th>topic9</th>\n",
       "      <th>topic10</th>\n",
       "    </tr>\n",
       "  </thead>\n",
       "  <tbody>\n",
       "    <tr>\n",
       "      <th>0</th>\n",
       "      <td>Private Business, Government and Blockchain</td>\n",
       "      <td>0.015594</td>\n",
       "      <td>0.002227</td>\n",
       "      <td>0.000000</td>\n",
       "      <td>0.000000</td>\n",
       "      <td>0.001319</td>\n",
       "      <td>0.004864</td>\n",
       "      <td>0.083326</td>\n",
       "      <td>0.000000</td>\n",
       "      <td>0.000000</td>\n",
       "      <td>0.000000</td>\n",
       "    </tr>\n",
       "    <tr>\n",
       "      <th>1</th>\n",
       "      <td>Can a robot love us better than another human ...</td>\n",
       "      <td>0.095583</td>\n",
       "      <td>0.000000</td>\n",
       "      <td>0.000000</td>\n",
       "      <td>0.000000</td>\n",
       "      <td>0.000000</td>\n",
       "      <td>0.000000</td>\n",
       "      <td>0.000000</td>\n",
       "      <td>0.000000</td>\n",
       "      <td>0.000000</td>\n",
       "      <td>0.000000</td>\n",
       "    </tr>\n",
       "    <tr>\n",
       "      <th>2</th>\n",
       "      <td>2017 Big Data, AI and IOT Use Cases</td>\n",
       "      <td>0.145723</td>\n",
       "      <td>0.121449</td>\n",
       "      <td>0.028608</td>\n",
       "      <td>0.112197</td>\n",
       "      <td>0.004935</td>\n",
       "      <td>0.017837</td>\n",
       "      <td>0.358794</td>\n",
       "      <td>0.107948</td>\n",
       "      <td>0.035020</td>\n",
       "      <td>0.000000</td>\n",
       "    </tr>\n",
       "    <tr>\n",
       "      <th>3</th>\n",
       "      <td>The Meta Model and Meta Meta-Model of Deep Lea...</td>\n",
       "      <td>0.139977</td>\n",
       "      <td>0.000000</td>\n",
       "      <td>0.042185</td>\n",
       "      <td>0.000000</td>\n",
       "      <td>0.038871</td>\n",
       "      <td>0.000150</td>\n",
       "      <td>0.000000</td>\n",
       "      <td>0.554729</td>\n",
       "      <td>0.159663</td>\n",
       "      <td>0.000000</td>\n",
       "    </tr>\n",
       "    <tr>\n",
       "      <th>4</th>\n",
       "      <td>Don’t trust “Do you trust this computer”</td>\n",
       "      <td>0.093893</td>\n",
       "      <td>0.030600</td>\n",
       "      <td>0.011863</td>\n",
       "      <td>0.000000</td>\n",
       "      <td>0.015931</td>\n",
       "      <td>0.000000</td>\n",
       "      <td>0.029034</td>\n",
       "      <td>0.000000</td>\n",
       "      <td>0.041544</td>\n",
       "      <td>0.022494</td>\n",
       "    </tr>\n",
       "    <tr>\n",
       "      <th>5</th>\n",
       "      <td>AI based UI Development (AI-UI)</td>\n",
       "      <td>0.097077</td>\n",
       "      <td>0.000000</td>\n",
       "      <td>0.400526</td>\n",
       "      <td>0.027704</td>\n",
       "      <td>0.270826</td>\n",
       "      <td>0.003467</td>\n",
       "      <td>0.132260</td>\n",
       "      <td>0.143099</td>\n",
       "      <td>0.228447</td>\n",
       "      <td>0.119822</td>\n",
       "    </tr>\n",
       "    <tr>\n",
       "      <th>6</th>\n",
       "      <td>Can Technology Replace Record Companies?</td>\n",
       "      <td>0.092996</td>\n",
       "      <td>0.025965</td>\n",
       "      <td>0.000000</td>\n",
       "      <td>0.064833</td>\n",
       "      <td>0.000000</td>\n",
       "      <td>0.000000</td>\n",
       "      <td>0.224304</td>\n",
       "      <td>0.001412</td>\n",
       "      <td>0.000000</td>\n",
       "      <td>0.019968</td>\n",
       "    </tr>\n",
       "    <tr>\n",
       "      <th>7</th>\n",
       "      <td>Five tech trends that shaped 2017</td>\n",
       "      <td>0.057214</td>\n",
       "      <td>0.074104</td>\n",
       "      <td>0.000473</td>\n",
       "      <td>0.054316</td>\n",
       "      <td>0.003136</td>\n",
       "      <td>0.000000</td>\n",
       "      <td>0.196487</td>\n",
       "      <td>0.000000</td>\n",
       "      <td>0.000000</td>\n",
       "      <td>0.000000</td>\n",
       "    </tr>\n",
       "    <tr>\n",
       "      <th>8</th>\n",
       "      <td>Vectorized implementation of back-propagation</td>\n",
       "      <td>0.000000</td>\n",
       "      <td>0.258305</td>\n",
       "      <td>0.000000</td>\n",
       "      <td>0.036397</td>\n",
       "      <td>0.124820</td>\n",
       "      <td>0.000000</td>\n",
       "      <td>0.000000</td>\n",
       "      <td>0.212011</td>\n",
       "      <td>0.136786</td>\n",
       "      <td>0.000000</td>\n",
       "    </tr>\n",
       "    <tr>\n",
       "      <th>9</th>\n",
       "      <td>Building Smarter Businesses With Cognitive Ser...</td>\n",
       "      <td>0.195597</td>\n",
       "      <td>0.000000</td>\n",
       "      <td>0.035413</td>\n",
       "      <td>0.000000</td>\n",
       "      <td>0.050369</td>\n",
       "      <td>0.000000</td>\n",
       "      <td>0.322357</td>\n",
       "      <td>0.081957</td>\n",
       "      <td>0.112031</td>\n",
       "      <td>0.373466</td>\n",
       "    </tr>\n",
       "  </tbody>\n",
       "</table>\n",
       "</div>"
      ],
      "text/plain": [
       "                                               title    topic1    topic2  \\\n",
       "0        Private Business, Government and Blockchain  0.015594  0.002227   \n",
       "1  Can a robot love us better than another human ...  0.095583  0.000000   \n",
       "2                2017 Big Data, AI and IOT Use Cases  0.145723  0.121449   \n",
       "3  The Meta Model and Meta Meta-Model of Deep Lea...  0.139977  0.000000   \n",
       "4           Don’t trust “Do you trust this computer”  0.093893  0.030600   \n",
       "5                    AI based UI Development (AI-UI)  0.097077  0.000000   \n",
       "6           Can Technology Replace Record Companies?  0.092996  0.025965   \n",
       "7                  Five tech trends that shaped 2017  0.057214  0.074104   \n",
       "8      Vectorized implementation of back-propagation  0.000000  0.258305   \n",
       "9  Building Smarter Businesses With Cognitive Ser...  0.195597  0.000000   \n",
       "\n",
       "     topic3    topic4    topic5    topic6    topic7    topic8    topic9  \\\n",
       "0  0.000000  0.000000  0.001319  0.004864  0.083326  0.000000  0.000000   \n",
       "1  0.000000  0.000000  0.000000  0.000000  0.000000  0.000000  0.000000   \n",
       "2  0.028608  0.112197  0.004935  0.017837  0.358794  0.107948  0.035020   \n",
       "3  0.042185  0.000000  0.038871  0.000150  0.000000  0.554729  0.159663   \n",
       "4  0.011863  0.000000  0.015931  0.000000  0.029034  0.000000  0.041544   \n",
       "5  0.400526  0.027704  0.270826  0.003467  0.132260  0.143099  0.228447   \n",
       "6  0.000000  0.064833  0.000000  0.000000  0.224304  0.001412  0.000000   \n",
       "7  0.000473  0.054316  0.003136  0.000000  0.196487  0.000000  0.000000   \n",
       "8  0.000000  0.036397  0.124820  0.000000  0.000000  0.212011  0.136786   \n",
       "9  0.035413  0.000000  0.050369  0.000000  0.322357  0.081957  0.112031   \n",
       "\n",
       "    topic10  \n",
       "0  0.000000  \n",
       "1  0.000000  \n",
       "2  0.000000  \n",
       "3  0.000000  \n",
       "4  0.022494  \n",
       "5  0.119822  \n",
       "6  0.019968  \n",
       "7  0.000000  \n",
       "8  0.000000  \n",
       "9  0.373466  "
      ]
     },
     "execution_count": 77,
     "metadata": {},
     "output_type": "execute_result"
    }
   ],
   "source": [
    "column_names = ['title', 'topic1', 'topic2', 'topic3', 'topic4', 'topic5', 'topic6', 'topic7', 'topic8', 'topic9', 'topic10']\n",
    "doc_topic_df = pd.DataFrame(data = doc_topic)\n",
    "doc_topic_df = pd.concat([medium['title'], doc_topic_df], axis = 1)\n",
    "doc_topic_df.columns = column_names\n",
    "doc_topic_df.to_csv('doc_topics/cv_nmf.csv')\n",
    "doc_topic_df.head(10)"
   ]
  },
  {
   "cell_type": "code",
   "execution_count": 78,
   "metadata": {},
   "outputs": [
    {
     "data": {
      "text/plain": [
       "array([2510.0265675 , 2563.63383   , 1500.19086337,  812.7778212 ,\n",
       "       1248.27895796,  421.76359578, 2582.46726127, 1802.70446535,\n",
       "       3088.41534925, 2007.59542634])"
      ]
     },
     "execution_count": 78,
     "metadata": {},
     "output_type": "execute_result"
    }
   ],
   "source": [
    "np.sum(doc_topic, axis = 0)"
   ]
  },
  {
   "cell_type": "markdown",
   "metadata": {},
   "source": [
    "### NMF with TF-IDF"
   ]
  },
  {
   "cell_type": "code",
   "execution_count": 79,
   "metadata": {},
   "outputs": [
    {
     "name": "stderr",
     "output_type": "stream",
     "text": [
      "/Users/alex/anaconda3/lib/python3.7/site-packages/sklearn/feature_extraction/text.py:286: UserWarning: Your stop_words may be inconsistent with your preprocessing. Tokenizing the stop words generated tokens ['let'] not in stop_words.\n",
      "  sorted(inconsistent))\n"
     ]
    },
    {
     "data": {
      "text/plain": [
       "(24331, 122181)"
      ]
     },
     "execution_count": 79,
     "metadata": {},
     "output_type": "execute_result"
    }
   ],
   "source": [
    "vectorizer = TfidfVectorizer(stop_words = stop_list, ngram_range = (1,1))\n",
    "doc_word = vectorizer.fit_transform(medium['processedText'])\n",
    "doc_word.shape"
   ]
  },
  {
   "cell_type": "code",
   "execution_count": 80,
   "metadata": {},
   "outputs": [],
   "source": [
    "nmf = NMF(10)\n",
    "doc_topic = nmf.fit_transform(doc_word)"
   ]
  },
  {
   "cell_type": "code",
   "execution_count": 81,
   "metadata": {},
   "outputs": [
    {
     "name": "stdout",
     "output_type": "stream",
     "text": [
      "\n",
      "Topic  1\n",
      "human, robot, technolog, peopl, machin, world, futur, job, think, car, brain, autom, year, live, work\n",
      "\n",
      "Topic  2\n",
      "valu, predict, variabl, featur, regress, function, linear, algorithm, test, set, dataset, paramet, tree, gradient, error\n",
      "\n",
      "Topic  3\n",
      "chatbot, bot, convers, user, custom, messag, messeng, chat, interact, answer, question, intent, assist, servic, app\n",
      "\n",
      "Topic  4\n",
      "imag, network, layer, neural, convolut, deep, neuron, cnn, weight, function, architectur, loss, gener, gan, pixel\n",
      "\n",
      "Topic  5\n",
      "file, tensorflow, python, code, instal, imag, run, notebook, api, librari, creat, googl, dataset, gpu, app\n",
      "\n",
      "Topic  6\n",
      "blockchain, token, technolog, decentr, platform, contract, crypto, cryptocurr, secur, develop, transact, trade, market, bitcoin, network\n",
      "\n",
      "Topic  7\n",
      "scienc, scientist, cours, work, skill, team, project, job, peopl, engin, program, deep, start, statist, student\n",
      "\n",
      "Topic  8\n",
      "word, vector, text, sentenc, embed, languag, document, nlp, sentiment, corpu, sequenc, context, token, topic, matrix\n",
      "\n",
      "Topic  9\n",
      "agent, game, reward, action, reinforc, polici, state, environ, deep, algorithm, play, network, player, optim, valu\n",
      "\n",
      "Topic  10\n",
      "custom, product, user, busi, market, compani, servic, voic, technolog, app, consum, experi, amazon, brand, googl\n"
     ]
    }
   ],
   "source": [
    "display_topics(nmf, vectorizer.get_feature_names(), 15, 10)"
   ]
  },
  {
   "cell_type": "code",
   "execution_count": 82,
   "metadata": {},
   "outputs": [
    {
     "data": {
      "text/html": [
       "<div>\n",
       "<style scoped>\n",
       "    .dataframe tbody tr th:only-of-type {\n",
       "        vertical-align: middle;\n",
       "    }\n",
       "\n",
       "    .dataframe tbody tr th {\n",
       "        vertical-align: top;\n",
       "    }\n",
       "\n",
       "    .dataframe thead th {\n",
       "        text-align: right;\n",
       "    }\n",
       "</style>\n",
       "<table border=\"1\" class=\"dataframe\">\n",
       "  <thead>\n",
       "    <tr style=\"text-align: right;\">\n",
       "      <th></th>\n",
       "      <th>title</th>\n",
       "      <th>topic1</th>\n",
       "      <th>topic2</th>\n",
       "      <th>topic3</th>\n",
       "      <th>topic4</th>\n",
       "      <th>topic5</th>\n",
       "      <th>topic6</th>\n",
       "      <th>topic7</th>\n",
       "      <th>topic8</th>\n",
       "      <th>topic9</th>\n",
       "      <th>topic10</th>\n",
       "    </tr>\n",
       "  </thead>\n",
       "  <tbody>\n",
       "    <tr>\n",
       "      <th>0</th>\n",
       "      <td>Private Business, Government and Blockchain</td>\n",
       "      <td>0.004515</td>\n",
       "      <td>0.000000</td>\n",
       "      <td>0.000000</td>\n",
       "      <td>0.000000</td>\n",
       "      <td>0.000000</td>\n",
       "      <td>0.104021</td>\n",
       "      <td>0.000000</td>\n",
       "      <td>0.000000</td>\n",
       "      <td>0.008685</td>\n",
       "      <td>0.004595</td>\n",
       "    </tr>\n",
       "    <tr>\n",
       "      <th>1</th>\n",
       "      <td>Can a robot love us better than another human ...</td>\n",
       "      <td>0.050545</td>\n",
       "      <td>0.000000</td>\n",
       "      <td>0.000000</td>\n",
       "      <td>0.000000</td>\n",
       "      <td>0.000000</td>\n",
       "      <td>0.000000</td>\n",
       "      <td>0.000000</td>\n",
       "      <td>0.000000</td>\n",
       "      <td>0.000000</td>\n",
       "      <td>0.000000</td>\n",
       "    </tr>\n",
       "    <tr>\n",
       "      <th>2</th>\n",
       "      <td>2017 Big Data, AI and IOT Use Cases</td>\n",
       "      <td>0.021488</td>\n",
       "      <td>0.016219</td>\n",
       "      <td>0.000000</td>\n",
       "      <td>0.011420</td>\n",
       "      <td>0.002707</td>\n",
       "      <td>0.017267</td>\n",
       "      <td>0.016503</td>\n",
       "      <td>0.000000</td>\n",
       "      <td>0.002314</td>\n",
       "      <td>0.037421</td>\n",
       "    </tr>\n",
       "    <tr>\n",
       "      <th>3</th>\n",
       "      <td>The Meta Model and Meta Meta-Model of Deep Lea...</td>\n",
       "      <td>0.005351</td>\n",
       "      <td>0.000000</td>\n",
       "      <td>0.000000</td>\n",
       "      <td>0.041374</td>\n",
       "      <td>0.002414</td>\n",
       "      <td>0.000000</td>\n",
       "      <td>0.009610</td>\n",
       "      <td>0.006702</td>\n",
       "      <td>0.017805</td>\n",
       "      <td>0.000000</td>\n",
       "    </tr>\n",
       "    <tr>\n",
       "      <th>4</th>\n",
       "      <td>Don’t trust “Do you trust this computer”</td>\n",
       "      <td>0.025134</td>\n",
       "      <td>0.005807</td>\n",
       "      <td>0.003594</td>\n",
       "      <td>0.000000</td>\n",
       "      <td>0.000982</td>\n",
       "      <td>0.004583</td>\n",
       "      <td>0.017190</td>\n",
       "      <td>0.004253</td>\n",
       "      <td>0.002540</td>\n",
       "      <td>0.003623</td>\n",
       "    </tr>\n",
       "    <tr>\n",
       "      <th>5</th>\n",
       "      <td>AI based UI Development (AI-UI)</td>\n",
       "      <td>0.020127</td>\n",
       "      <td>0.000000</td>\n",
       "      <td>0.001837</td>\n",
       "      <td>0.053501</td>\n",
       "      <td>0.026424</td>\n",
       "      <td>0.000000</td>\n",
       "      <td>0.006968</td>\n",
       "      <td>0.058460</td>\n",
       "      <td>0.001900</td>\n",
       "      <td>0.018799</td>\n",
       "    </tr>\n",
       "    <tr>\n",
       "      <th>6</th>\n",
       "      <td>Can Technology Replace Record Companies?</td>\n",
       "      <td>0.009662</td>\n",
       "      <td>0.005330</td>\n",
       "      <td>0.000000</td>\n",
       "      <td>0.001099</td>\n",
       "      <td>0.000000</td>\n",
       "      <td>0.012183</td>\n",
       "      <td>0.026517</td>\n",
       "      <td>0.000000</td>\n",
       "      <td>0.001647</td>\n",
       "      <td>0.055374</td>\n",
       "    </tr>\n",
       "    <tr>\n",
       "      <th>7</th>\n",
       "      <td>Five tech trends that shaped 2017</td>\n",
       "      <td>0.023274</td>\n",
       "      <td>0.012993</td>\n",
       "      <td>0.002757</td>\n",
       "      <td>0.000073</td>\n",
       "      <td>0.000000</td>\n",
       "      <td>0.044093</td>\n",
       "      <td>0.001413</td>\n",
       "      <td>0.000000</td>\n",
       "      <td>0.000000</td>\n",
       "      <td>0.045074</td>\n",
       "    </tr>\n",
       "    <tr>\n",
       "      <th>8</th>\n",
       "      <td>Vectorized implementation of back-propagation</td>\n",
       "      <td>0.000000</td>\n",
       "      <td>0.047475</td>\n",
       "      <td>0.000000</td>\n",
       "      <td>0.023341</td>\n",
       "      <td>0.003549</td>\n",
       "      <td>0.007092</td>\n",
       "      <td>0.000000</td>\n",
       "      <td>0.034209</td>\n",
       "      <td>0.000000</td>\n",
       "      <td>0.000000</td>\n",
       "    </tr>\n",
       "    <tr>\n",
       "      <th>9</th>\n",
       "      <td>Building Smarter Businesses With Cognitive Ser...</td>\n",
       "      <td>0.019891</td>\n",
       "      <td>0.000000</td>\n",
       "      <td>0.012462</td>\n",
       "      <td>0.007718</td>\n",
       "      <td>0.008117</td>\n",
       "      <td>0.000000</td>\n",
       "      <td>0.000000</td>\n",
       "      <td>0.008527</td>\n",
       "      <td>0.008771</td>\n",
       "      <td>0.071517</td>\n",
       "    </tr>\n",
       "  </tbody>\n",
       "</table>\n",
       "</div>"
      ],
      "text/plain": [
       "                                               title    topic1    topic2  \\\n",
       "0        Private Business, Government and Blockchain  0.004515  0.000000   \n",
       "1  Can a robot love us better than another human ...  0.050545  0.000000   \n",
       "2                2017 Big Data, AI and IOT Use Cases  0.021488  0.016219   \n",
       "3  The Meta Model and Meta Meta-Model of Deep Lea...  0.005351  0.000000   \n",
       "4           Don’t trust “Do you trust this computer”  0.025134  0.005807   \n",
       "5                    AI based UI Development (AI-UI)  0.020127  0.000000   \n",
       "6           Can Technology Replace Record Companies?  0.009662  0.005330   \n",
       "7                  Five tech trends that shaped 2017  0.023274  0.012993   \n",
       "8      Vectorized implementation of back-propagation  0.000000  0.047475   \n",
       "9  Building Smarter Businesses With Cognitive Ser...  0.019891  0.000000   \n",
       "\n",
       "     topic3    topic4    topic5    topic6    topic7    topic8    topic9  \\\n",
       "0  0.000000  0.000000  0.000000  0.104021  0.000000  0.000000  0.008685   \n",
       "1  0.000000  0.000000  0.000000  0.000000  0.000000  0.000000  0.000000   \n",
       "2  0.000000  0.011420  0.002707  0.017267  0.016503  0.000000  0.002314   \n",
       "3  0.000000  0.041374  0.002414  0.000000  0.009610  0.006702  0.017805   \n",
       "4  0.003594  0.000000  0.000982  0.004583  0.017190  0.004253  0.002540   \n",
       "5  0.001837  0.053501  0.026424  0.000000  0.006968  0.058460  0.001900   \n",
       "6  0.000000  0.001099  0.000000  0.012183  0.026517  0.000000  0.001647   \n",
       "7  0.002757  0.000073  0.000000  0.044093  0.001413  0.000000  0.000000   \n",
       "8  0.000000  0.023341  0.003549  0.007092  0.000000  0.034209  0.000000   \n",
       "9  0.012462  0.007718  0.008117  0.000000  0.000000  0.008527  0.008771   \n",
       "\n",
       "    topic10  \n",
       "0  0.004595  \n",
       "1  0.000000  \n",
       "2  0.037421  \n",
       "3  0.000000  \n",
       "4  0.003623  \n",
       "5  0.018799  \n",
       "6  0.055374  \n",
       "7  0.045074  \n",
       "8  0.000000  \n",
       "9  0.071517  "
      ]
     },
     "execution_count": 82,
     "metadata": {},
     "output_type": "execute_result"
    }
   ],
   "source": [
    "column_names = ['title', 'topic1', 'topic2', 'topic3', 'topic4', 'topic5', 'topic6', 'topic7', 'topic8', 'topic9', 'topic10']\n",
    "doc_topic_df = pd.DataFrame(data = doc_topic)\n",
    "doc_topic_df = pd.concat([medium['title'], doc_topic_df], axis = 1)\n",
    "doc_topic_df.columns = column_names\n",
    "doc_topic_df.to_csv('doc_topics/tfidf_nmf.csv')\n",
    "doc_topic_df.head(10)"
   ]
  },
  {
   "cell_type": "code",
   "execution_count": 83,
   "metadata": {},
   "outputs": [
    {
     "data": {
      "text/plain": [
       "array([276.76295807, 282.79221864, 146.2343023 , 224.22812591,\n",
       "       273.38309709, 232.00681056, 315.46330193, 188.17044652,\n",
       "       165.2776098 , 374.29759922])"
      ]
     },
     "execution_count": 83,
     "metadata": {},
     "output_type": "execute_result"
    }
   ],
   "source": [
    "np.sum(doc_topic, axis = 0)"
   ]
  },
  {
   "cell_type": "markdown",
   "metadata": {},
   "source": [
    "### Use Coherence to Determine Optimal Number of Topics"
   ]
  },
  {
   "cell_type": "code",
   "execution_count": 84,
   "metadata": {},
   "outputs": [],
   "source": [
    "tokenized_docs = medium['processedText'].apply(simple_preprocess)\n",
    "\n",
    "# There are still some useless words that tend to get through the pre-processing steps.\n",
    "# Mostly they are longer forms of useless words that become reduced by stemming or they are partial contractions.\n",
    "# Clean this up.\n",
    "\n",
    "def clean_tokens(tokenized_docs):\n",
    "    '''\n",
    "    Removes useless word tokens\n",
    "    '''\n",
    "    clean_tokenized_docs = []\n",
    "    \n",
    "    # Iterate through the documents\n",
    "    for doc in tokenized_docs:\n",
    "        clean_doc = []\n",
    "        # Iterate through words of document\n",
    "        for word in doc:\n",
    "            # Remove words in stop_list\n",
    "            if word not in stop_list:\n",
    "                clean_doc.append(word)\n",
    "      \n",
    "        clean_tokenized_docs.append(clean_doc)\n",
    "        \n",
    "    return clean_tokenized_docs\n",
    "\n",
    "tokenized_docs = clean_tokens(tokenized_docs)"
   ]
  },
  {
   "cell_type": "code",
   "execution_count": 87,
   "metadata": {},
   "outputs": [],
   "source": [
    "dictionary = gensim.corpora.Dictionary(tokenized_docs)\n",
    "dictionary.filter_extremes(no_below=15, no_above=0.5, keep_n=100000)\n",
    "corpus = [dictionary.doc2bow(doc) for doc in tokenized_docs]"
   ]
  },
  {
   "cell_type": "code",
   "execution_count": 88,
   "metadata": {},
   "outputs": [],
   "source": [
    "def compute_coherence_values(dictionary, corpus, texts, limit = 21, start=4, step=4):\n",
    "    \"\"\"\n",
    "    Compute c_v coherence for various number of topics\n",
    "\n",
    "    Parameters:\n",
    "    ----------\n",
    "    dictionary : Gensim dictionary\n",
    "    corpus : Gensim corpus\n",
    "    texts : List of input texts\n",
    "    limit : Max num of topics\n",
    "\n",
    "    Returns:\n",
    "    -------\n",
    "    model_list : List of LDA topic models\n",
    "    coherence_values : Coherence values corresponding to the LDA model with respective number of topics\n",
    "    \"\"\"\n",
    "    coherence_values = []\n",
    "    num_topics_list = []\n",
    "    for num_topics in range(start, limit, step):\n",
    "        print(num_topics)\n",
    "        model = gensim.models.LdaMulticore(corpus = corpus, num_topics=num_topics, id2word=dictionary, passes=3, workers=3)\n",
    "        num_topics_list.append(num_topics)\n",
    "        coherencemodel = CoherenceModel(model=model, texts=texts, dictionary=dictionary, coherence='c_v')\n",
    "        coherence_values.append(coherencemodel.get_coherence())\n",
    "\n",
    "    return num_topics_list, coherence_values"
   ]
  },
  {
   "cell_type": "code",
   "execution_count": 89,
   "metadata": {},
   "outputs": [
    {
     "name": "stdout",
     "output_type": "stream",
     "text": [
      "4\n",
      "8\n",
      "12\n",
      "16\n",
      "20\n"
     ]
    }
   ],
   "source": [
    "num_topics, coherence_values = compute_coherence_values(dictionary, corpus, tokenized_docs)"
   ]
  },
  {
   "cell_type": "code",
   "execution_count": 90,
   "metadata": {},
   "outputs": [
    {
     "data": {
      "text/plain": [
       "<matplotlib.axes._subplots.AxesSubplot at 0x1a747fe240>"
      ]
     },
     "execution_count": 90,
     "metadata": {},
     "output_type": "execute_result"
    },
    {
     "data": {
      "image/png": "[encoded data removed]",
      "text/plain": [
       "<Figure size 432x288 with 1 Axes>"
      ]
     },
     "metadata": {
      "needs_background": "light"
     },
     "output_type": "display_data"
    }
   ],
   "source": [
    "sns.scatterplot(num_topics, coherence_values)"
   ]
  },
  {
   "cell_type": "code",
   "execution_count": 127,
   "metadata": {},
   "outputs": [],
   "source": [
    "# It seems that coherence is increasing linearly with number of topics\n",
    "# Lets model up to 32 topics and see if this levels off"
   ]
  },
  {
   "cell_type": "code",
   "execution_count": 91,
   "metadata": {},
   "outputs": [
    {
     "name": "stdout",
     "output_type": "stream",
     "text": [
      "24\n",
      "28\n",
      "32\n"
     ]
    }
   ],
   "source": [
    "num_topics2, coherence_values2 = compute_coherence_values(dictionary, corpus, tokenized_docs, start = 24, limit = 33)"
   ]
  },
  {
   "cell_type": "code",
   "execution_count": 93,
   "metadata": {},
   "outputs": [
    {
     "data": {
      "text/plain": [
       "<matplotlib.axes._subplots.AxesSubplot at 0x1a746e52b0>"
      ]
     },
     "execution_count": 93,
     "metadata": {},
     "output_type": "execute_result"
    },
    {
     "data": {
      "image/png": "[encoded data removed]",
      "text/plain": [
       "<Figure size 432x288 with 1 Axes>"
      ]
     },
     "metadata": {
      "needs_background": "light"
     },
     "output_type": "display_data"
    }
   ],
   "source": [
    "# There is very little difference in coherence across number of topics\n",
    "# Just stick with 10\n",
    "sns.scatterplot(num_topics + num_topics2, coherence_values + coherence_values2)"
   ]
  },
  {
   "cell_type": "markdown",
   "metadata": {},
   "source": [
    "### LDA with Bag of Words\n",
    "(BOW is the same as Count-Vectorizer)"
   ]
  },
  {
   "cell_type": "code",
   "execution_count": 94,
   "metadata": {},
   "outputs": [],
   "source": [
    "# Use 10 passes to allow algorithm more time to converge\n",
    "lda = models.LdaMulticore(corpus=corpus, num_topics=10, id2word=dictionary, passes=10, workers = 3)"
   ]
  },
  {
   "cell_type": "code",
   "execution_count": 95,
   "metadata": {},
   "outputs": [
    {
     "data": {
      "text/plain": [
       "[(0,\n",
       "  '0.017*\"human\" + 0.009*\"technolog\" + 0.007*\"robot\" + 0.007*\"peopl\" + 0.006*\"world\" + 0.005*\"futur\" + 0.004*\"job\" + 0.004*\"autom\" + 0.004*\"algorithm\" + 0.004*\"car\"'),\n",
       " (1,\n",
       "  '0.027*\"word\" + 0.013*\"text\" + 0.010*\"vector\" + 0.008*\"languag\" + 0.007*\"column\" + 0.007*\"dataset\" + 0.007*\"number\" + 0.006*\"document\" + 0.006*\"sentenc\" + 0.006*\"embed\"'),\n",
       " (2,\n",
       "  '0.046*\"imag\" + 0.018*\"network\" + 0.012*\"layer\" + 0.011*\"deep\" + 0.010*\"detect\" + 0.010*\"tensorflow\" + 0.009*\"neural\" + 0.009*\"dataset\" + 0.008*\"object\" + 0.008*\"convolut\"'),\n",
       " (3,\n",
       "  '0.025*\"user\" + 0.015*\"price\" + 0.010*\"recommend\" + 0.009*\"predict\" + 0.009*\"market\" + 0.008*\"bot\" + 0.008*\"product\" + 0.007*\"custom\" + 0.007*\"item\" + 0.007*\"trade\"'),\n",
       " (4,\n",
       "  '0.013*\"code\" + 0.011*\"python\" + 0.009*\"run\" + 0.008*\"file\" + 0.008*\"project\" + 0.007*\"tool\" + 0.007*\"build\" + 0.007*\"scienc\" + 0.006*\"instal\" + 0.005*\"api\"'),\n",
       " (5,\n",
       "  '0.017*\"valu\" + 0.013*\"function\" + 0.012*\"predict\" + 0.012*\"featur\" + 0.008*\"variabl\" + 0.008*\"number\" + 0.008*\"algorithm\" + 0.007*\"test\" + 0.007*\"mean\" + 0.007*\"point\"'),\n",
       " (6,\n",
       "  '0.015*\"user\" + 0.015*\"custom\" + 0.012*\"chatbot\" + 0.011*\"product\" + 0.008*\"app\" + 0.008*\"design\" + 0.007*\"experi\" + 0.007*\"busi\" + 0.007*\"servic\" + 0.007*\"convers\"'),\n",
       " (7,\n",
       "  '0.009*\"peopl\" + 0.008*\"scienc\" + 0.008*\"think\" + 0.006*\"cours\" + 0.005*\"year\" + 0.005*\"day\" + 0.005*\"world\" + 0.005*\"good\" + 0.004*\"read\" + 0.004*\"question\"'),\n",
       " (8,\n",
       "  '0.012*\"compani\" + 0.010*\"technolog\" + 0.009*\"blockchain\" + 0.009*\"busi\" + 0.008*\"team\" + 0.007*\"market\" + 0.006*\"industri\" + 0.006*\"platform\" + 0.005*\"project\" + 0.005*\"token\"'),\n",
       " (9,\n",
       "  '0.019*\"network\" + 0.013*\"neural\" + 0.012*\"deep\" + 0.009*\"game\" + 0.009*\"state\" + 0.009*\"algorithm\" + 0.008*\"problem\" + 0.007*\"agent\" + 0.007*\"comput\" + 0.007*\"human\"')]"
      ]
     },
     "execution_count": 95,
     "metadata": {},
     "output_type": "execute_result"
    }
   ],
   "source": [
    "lda.print_topics()"
   ]
  },
  {
   "cell_type": "code",
   "execution_count": 96,
   "metadata": {},
   "outputs": [
    {
     "name": "stdout",
     "output_type": "stream",
     "text": [
      "0\n",
      "10000\n",
      "20000\n"
     ]
    },
    {
     "data": {
      "text/html": [
       "<div>\n",
       "<style scoped>\n",
       "    .dataframe tbody tr th:only-of-type {\n",
       "        vertical-align: middle;\n",
       "    }\n",
       "\n",
       "    .dataframe tbody tr th {\n",
       "        vertical-align: top;\n",
       "    }\n",
       "\n",
       "    .dataframe thead th {\n",
       "        text-align: right;\n",
       "    }\n",
       "</style>\n",
       "<table border=\"1\" class=\"dataframe\">\n",
       "  <thead>\n",
       "    <tr style=\"text-align: right;\">\n",
       "      <th></th>\n",
       "      <th>title</th>\n",
       "      <th>topic1</th>\n",
       "      <th>topic2</th>\n",
       "      <th>topic3</th>\n",
       "      <th>topic4</th>\n",
       "      <th>topic5</th>\n",
       "      <th>topic6</th>\n",
       "      <th>topic7</th>\n",
       "      <th>topic8</th>\n",
       "      <th>topic9</th>\n",
       "      <th>topic10</th>\n",
       "    </tr>\n",
       "  </thead>\n",
       "  <tbody>\n",
       "    <tr>\n",
       "      <th>0</th>\n",
       "      <td>Private Business, Government and Blockchain</td>\n",
       "      <td>0.088077</td>\n",
       "      <td>0.137885</td>\n",
       "      <td>0.764824</td>\n",
       "      <td>0.000000</td>\n",
       "      <td>0.000000</td>\n",
       "      <td>0.000000</td>\n",
       "      <td>0.000000</td>\n",
       "      <td>0.000000</td>\n",
       "      <td>0.000000</td>\n",
       "      <td>0.000000</td>\n",
       "    </tr>\n",
       "    <tr>\n",
       "      <th>1</th>\n",
       "      <td>Can a robot love us better than another human ...</td>\n",
       "      <td>0.483625</td>\n",
       "      <td>0.049657</td>\n",
       "      <td>0.000000</td>\n",
       "      <td>0.000000</td>\n",
       "      <td>0.000000</td>\n",
       "      <td>0.000000</td>\n",
       "      <td>0.000000</td>\n",
       "      <td>0.000000</td>\n",
       "      <td>0.456994</td>\n",
       "      <td>0.000000</td>\n",
       "    </tr>\n",
       "    <tr>\n",
       "      <th>2</th>\n",
       "      <td>2017 Big Data, AI and IOT Use Cases</td>\n",
       "      <td>0.357986</td>\n",
       "      <td>0.110071</td>\n",
       "      <td>0.242251</td>\n",
       "      <td>0.000000</td>\n",
       "      <td>0.020325</td>\n",
       "      <td>0.028912</td>\n",
       "      <td>0.020739</td>\n",
       "      <td>0.044757</td>\n",
       "      <td>0.090898</td>\n",
       "      <td>0.083925</td>\n",
       "    </tr>\n",
       "    <tr>\n",
       "      <th>3</th>\n",
       "      <td>The Meta Model and Meta Meta-Model of Deep Lea...</td>\n",
       "      <td>0.000000</td>\n",
       "      <td>0.000000</td>\n",
       "      <td>0.000000</td>\n",
       "      <td>0.000000</td>\n",
       "      <td>0.142398</td>\n",
       "      <td>0.000000</td>\n",
       "      <td>0.000000</td>\n",
       "      <td>0.000000</td>\n",
       "      <td>0.000000</td>\n",
       "      <td>0.855796</td>\n",
       "    </tr>\n",
       "    <tr>\n",
       "      <th>4</th>\n",
       "      <td>Don’t trust “Do you trust this computer”</td>\n",
       "      <td>0.587490</td>\n",
       "      <td>0.000000</td>\n",
       "      <td>0.000000</td>\n",
       "      <td>0.016114</td>\n",
       "      <td>0.000000</td>\n",
       "      <td>0.067756</td>\n",
       "      <td>0.000000</td>\n",
       "      <td>0.000000</td>\n",
       "      <td>0.326296</td>\n",
       "      <td>0.000000</td>\n",
       "    </tr>\n",
       "    <tr>\n",
       "      <th>5</th>\n",
       "      <td>AI based UI Development (AI-UI)</td>\n",
       "      <td>0.021211</td>\n",
       "      <td>0.219609</td>\n",
       "      <td>0.000000</td>\n",
       "      <td>0.183950</td>\n",
       "      <td>0.292929</td>\n",
       "      <td>0.000000</td>\n",
       "      <td>0.000000</td>\n",
       "      <td>0.000000</td>\n",
       "      <td>0.056728</td>\n",
       "      <td>0.224719</td>\n",
       "    </tr>\n",
       "    <tr>\n",
       "      <th>6</th>\n",
       "      <td>Can Technology Replace Record Companies?</td>\n",
       "      <td>0.000000</td>\n",
       "      <td>0.105002</td>\n",
       "      <td>0.525038</td>\n",
       "      <td>0.000000</td>\n",
       "      <td>0.000000</td>\n",
       "      <td>0.000000</td>\n",
       "      <td>0.000000</td>\n",
       "      <td>0.053610</td>\n",
       "      <td>0.314649</td>\n",
       "      <td>0.000000</td>\n",
       "    </tr>\n",
       "    <tr>\n",
       "      <th>7</th>\n",
       "      <td>Five tech trends that shaped 2017</td>\n",
       "      <td>0.189707</td>\n",
       "      <td>0.088393</td>\n",
       "      <td>0.506725</td>\n",
       "      <td>0.000000</td>\n",
       "      <td>0.000000</td>\n",
       "      <td>0.047726</td>\n",
       "      <td>0.000000</td>\n",
       "      <td>0.032976</td>\n",
       "      <td>0.107698</td>\n",
       "      <td>0.025999</td>\n",
       "    </tr>\n",
       "    <tr>\n",
       "      <th>8</th>\n",
       "      <td>Vectorized implementation of back-propagation</td>\n",
       "      <td>0.000000</td>\n",
       "      <td>0.000000</td>\n",
       "      <td>0.040748</td>\n",
       "      <td>0.041655</td>\n",
       "      <td>0.048829</td>\n",
       "      <td>0.017402</td>\n",
       "      <td>0.000000</td>\n",
       "      <td>0.850056</td>\n",
       "      <td>0.000000</td>\n",
       "      <td>0.000000</td>\n",
       "    </tr>\n",
       "    <tr>\n",
       "      <th>9</th>\n",
       "      <td>Building Smarter Businesses With Cognitive Ser...</td>\n",
       "      <td>0.000000</td>\n",
       "      <td>0.649258</td>\n",
       "      <td>0.022504</td>\n",
       "      <td>0.000000</td>\n",
       "      <td>0.000000</td>\n",
       "      <td>0.000000</td>\n",
       "      <td>0.096855</td>\n",
       "      <td>0.000000</td>\n",
       "      <td>0.000000</td>\n",
       "      <td>0.230485</td>\n",
       "    </tr>\n",
       "  </tbody>\n",
       "</table>\n",
       "</div>"
      ],
      "text/plain": [
       "                                               title    topic1    topic2  \\\n",
       "0        Private Business, Government and Blockchain  0.088077  0.137885   \n",
       "1  Can a robot love us better than another human ...  0.483625  0.049657   \n",
       "2                2017 Big Data, AI and IOT Use Cases  0.357986  0.110071   \n",
       "3  The Meta Model and Meta Meta-Model of Deep Lea...  0.000000  0.000000   \n",
       "4           Don’t trust “Do you trust this computer”  0.587490  0.000000   \n",
       "5                    AI based UI Development (AI-UI)  0.021211  0.219609   \n",
       "6           Can Technology Replace Record Companies?  0.000000  0.105002   \n",
       "7                  Five tech trends that shaped 2017  0.189707  0.088393   \n",
       "8      Vectorized implementation of back-propagation  0.000000  0.000000   \n",
       "9  Building Smarter Businesses With Cognitive Ser...  0.000000  0.649258   \n",
       "\n",
       "     topic3    topic4    topic5    topic6    topic7    topic8    topic9  \\\n",
       "0  0.764824  0.000000  0.000000  0.000000  0.000000  0.000000  0.000000   \n",
       "1  0.000000  0.000000  0.000000  0.000000  0.000000  0.000000  0.456994   \n",
       "2  0.242251  0.000000  0.020325  0.028912  0.020739  0.044757  0.090898   \n",
       "3  0.000000  0.000000  0.142398  0.000000  0.000000  0.000000  0.000000   \n",
       "4  0.000000  0.016114  0.000000  0.067756  0.000000  0.000000  0.326296   \n",
       "5  0.000000  0.183950  0.292929  0.000000  0.000000  0.000000  0.056728   \n",
       "6  0.525038  0.000000  0.000000  0.000000  0.000000  0.053610  0.314649   \n",
       "7  0.506725  0.000000  0.000000  0.047726  0.000000  0.032976  0.107698   \n",
       "8  0.040748  0.041655  0.048829  0.017402  0.000000  0.850056  0.000000   \n",
       "9  0.022504  0.000000  0.000000  0.000000  0.096855  0.000000  0.000000   \n",
       "\n",
       "    topic10  \n",
       "0  0.000000  \n",
       "1  0.000000  \n",
       "2  0.083925  \n",
       "3  0.855796  \n",
       "4  0.000000  \n",
       "5  0.224719  \n",
       "6  0.000000  \n",
       "7  0.025999  \n",
       "8  0.000000  \n",
       "9  0.230485  "
      ]
     },
     "execution_count": 96,
     "metadata": {},
     "output_type": "execute_result"
    }
   ],
   "source": [
    "from collections import defaultdict\n",
    "# Initialize a dictionary to store results\n",
    "doc_topic_df = defaultdict(list)\n",
    "\n",
    "# List of column names to use later\n",
    "column_names = ['title', 'topic1', 'topic2', 'topic3', 'topic4', 'topic5', 'topic6', 'topic7', 'topic8', 'topic9', 'topic10']\n",
    "\n",
    "# Set of all topics\n",
    "topics = set([0,1,2,3,4,5,6,7,8,9])\n",
    "\n",
    "# Iterate through topic breakdown of document\n",
    "for i, row in enumerate(lda[corpus]):\n",
    "    \n",
    "    # Initialize a set of topics included in document breakdown\n",
    "    row_topics = []\n",
    "    \n",
    "    # Iterate through topics of document\n",
    "    for topic in row:\n",
    "        # Add topic to row_topics\n",
    "        row_topics.append(topic[0])\n",
    "        # Add topic strength to dictionary\n",
    "        doc_topic_df[topic[0]].append(topic[1])\n",
    "    \n",
    "    # Make row topics a set then determine remaining topics\n",
    "    # Set strength of remaining topics to 0\n",
    "    row_topics = set(row_topics)\n",
    "    remaining_topics = topics - row_topics\n",
    "    \n",
    "    for topic in remaining_topics:\n",
    "        doc_topic_df[topic].append(0)\n",
    "        \n",
    "    if i % 10000 == 0:\n",
    "        print(i)\n",
    "\n",
    "doc_topic_df = pd.DataFrame(doc_topic_df)\n",
    "doc_topic_df = pd.concat([medium['title'], doc_topic_df], axis = 1)\n",
    "doc_topic_df.columns = column_names\n",
    "doc_topic_df.head(10)\n",
    "        "
   ]
  },
  {
   "cell_type": "code",
   "execution_count": 97,
   "metadata": {},
   "outputs": [],
   "source": [
    "doc_topic_df.to_csv('doc_topics/cv_lda.csv')"
   ]
  },
  {
   "cell_type": "code",
   "execution_count": 98,
   "metadata": {},
   "outputs": [
    {
     "data": {
      "text/plain": [
       "array([3216.45191959, 2751.00371735, 3737.21949294, 1468.16746883,\n",
       "       1858.12808506, 1096.8228712 , 2135.48176143, 2535.11751966,\n",
       "       3644.33077487, 1804.44366737])"
      ]
     },
     "execution_count": 98,
     "metadata": {},
     "output_type": "execute_result"
    }
   ],
   "source": [
    "np.sum(np.array(doc_topic_df.iloc[:,1:]), axis = 0)"
   ]
  },
  {
   "cell_type": "code",
   "execution_count": 99,
   "metadata": {},
   "outputs": [],
   "source": [
    "import pickle\n",
    "with open('models/cv_lsa_10tp_10pa.pkl', 'wb') as file:\n",
    "    pickle.dump(lsa, file)"
   ]
  },
  {
   "cell_type": "markdown",
   "metadata": {},
   "source": [
    "### Visualize LDA results with pyLDAvis"
   ]
  },
  {
   "cell_type": "code",
   "execution_count": 135,
   "metadata": {},
   "outputs": [],
   "source": [
    "import pyLDAvis\n",
    "import pyLDAvis.gensim\n",
    "pyLDAvis.enable_notebook()"
   ]
  },
  {
   "cell_type": "code",
   "execution_count": 136,
   "metadata": {},
   "outputs": [
    {
     "data": {
      "text/html": [
       "\n",
       "<link rel=\"stylesheet\" type=\"text/css\" href=\"https://cdn.rawgit.com/bmabey/pyLDAvis/files/ldavis.v1.0.0.css\">\n",
       "\n",
       "\n",
       "<div id=\"ldavis_el154671126478094484949187802\"></div>\n",
       "<script type=\"text/javascript\">\n",
       "\n",
       "var ldavis_el154671126478094484949187802_data = {\"mdsDat\": {\"x\": [-0.1289946448583614, -0.0843542953353528, -0.1639808197095654, 0.17058472308089306, -0.1232602447383551, 0.04432748402717772, 0.014622495642705928, 0.13525197804017017, 0.14961903890127098, -0.013815715050582938], \"y\": [-0.09872928139787071, -0.060934069076171875, 0.015851685635958, -0.05566986497593385, 0.05854348374204032, -0.1247838191838707, 0.11653397779817076, -0.00885391133794969, 0.05289322148101976, 0.10514857731460815], \"topics\": [1, 2, 3, 4, 5, 6, 7, 8, 9, 10], \"cluster\": [1, 1, 1, 1, 1, 1, 1, 1, 1, 1], \"Freq\": [14.37033748626709, 14.033061027526855, 12.57418441772461, 12.170562744140625, 10.562901496887207, 8.735771179199219, 8.364696502685547, 7.9771928787231445, 6.563868522644043, 4.647433280944824]}, \"tinfo\": {\"Category\": [\"Default\", \"Default\", \"Default\", \"Default\", \"Default\", \"Default\", \"Default\", \"Default\", \"Default\", \"Default\", \"Default\", \"Default\", \"Default\", \"Default\", \"Default\", \"Default\", \"Default\", \"Default\", \"Default\", \"Default\", \"Default\", \"Default\", \"Default\", \"Default\", \"Default\", \"Default\", \"Default\", \"Default\", \"Default\", \"Default\", \"Topic1\", \"Topic1\", \"Topic1\", \"Topic1\", \"Topic1\", \"Topic1\", \"Topic1\", \"Topic1\", \"Topic1\", \"Topic1\", \"Topic1\", \"Topic1\", \"Topic1\", \"Topic1\", \"Topic1\", \"Topic1\", \"Topic1\", \"Topic1\", \"Topic1\", \"Topic1\", \"Topic1\", \"Topic1\", \"Topic1\", \"Topic1\", \"Topic1\", \"Topic1\", \"Topic1\", \"Topic1\", \"Topic1\", \"Topic1\", \"Topic1\", \"Topic1\", \"Topic1\", \"Topic1\", \"Topic1\", \"Topic1\", \"Topic1\", \"Topic1\", \"Topic1\", \"Topic1\", \"Topic1\", \"Topic1\", \"Topic1\", \"Topic1\", \"Topic1\", \"Topic1\", \"Topic1\", \"Topic1\", \"Topic1\", \"Topic1\", \"Topic1\", \"Topic1\", \"Topic1\", \"Topic1\", \"Topic1\", \"Topic1\", \"Topic1\", \"Topic1\", \"Topic1\", \"Topic1\", \"Topic1\", \"Topic1\", \"Topic1\", \"Topic1\", \"Topic1\", \"Topic1\", \"Topic1\", \"Topic1\", \"Topic1\", \"Topic1\", \"Topic1\", \"Topic1\", \"Topic1\", \"Topic1\", \"Topic1\", \"Topic1\", \"Topic1\", \"Topic1\", \"Topic1\", \"Topic1\", \"Topic1\", \"Topic1\", \"Topic1\", \"Topic1\", \"Topic1\", \"Topic1\", \"Topic1\", \"Topic1\", \"Topic1\", \"Topic1\", \"Topic1\", \"Topic1\", \"Topic1\", \"Topic1\", \"Topic1\", \"Topic1\", \"Topic1\", \"Topic1\", \"Topic1\", \"Topic2\", \"Topic2\", \"Topic2\", \"Topic2\", \"Topic2\", \"Topic2\", \"Topic2\", \"Topic2\", \"Topic2\", \"Topic2\", \"Topic2\", \"Topic2\", \"Topic2\", \"Topic2\", \"Topic2\", \"Topic2\", \"Topic2\", \"Topic2\", \"Topic2\", \"Topic2\", \"Topic2\", \"Topic2\", \"Topic2\", \"Topic2\", \"Topic2\", \"Topic2\", \"Topic2\", \"Topic2\", \"Topic2\", \"Topic2\", \"Topic2\", \"Topic2\", \"Topic2\", \"Topic2\", \"Topic2\", \"Topic2\", \"Topic2\", \"Topic2\", \"Topic2\", \"Topic2\", \"Topic2\", \"Topic2\", \"Topic2\", \"Topic2\", \"Topic2\", \"Topic2\", \"Topic2\", \"Topic2\", \"Topic2\", \"Topic2\", \"Topic2\", \"Topic2\", \"Topic2\", \"Topic2\", \"Topic2\", \"Topic2\", \"Topic2\", \"Topic2\", \"Topic2\", \"Topic2\", \"Topic2\", \"Topic2\", \"Topic2\", \"Topic2\", \"Topic2\", \"Topic2\", \"Topic2\", \"Topic2\", \"Topic2\", \"Topic2\", \"Topic2\", \"Topic2\", \"Topic2\", \"Topic2\", \"Topic2\", \"Topic2\", \"Topic2\", \"Topic2\", \"Topic2\", \"Topic2\", \"Topic2\", \"Topic2\", \"Topic2\", \"Topic2\", \"Topic2\", \"Topic2\", \"Topic2\", \"Topic2\", \"Topic2\", \"Topic2\", \"Topic2\", \"Topic2\", \"Topic2\", \"Topic2\", \"Topic2\", \"Topic2\", \"Topic2\", \"Topic2\", \"Topic2\", \"Topic2\", \"Topic2\", \"Topic2\", \"Topic2\", \"Topic3\", \"Topic3\", \"Topic3\", \"Topic3\", \"Topic3\", \"Topic3\", \"Topic3\", \"Topic3\", \"Topic3\", \"Topic3\", \"Topic3\", \"Topic3\", \"Topic3\", \"Topic3\", \"Topic3\", \"Topic3\", \"Topic3\", \"Topic3\", \"Topic3\", \"Topic3\", \"Topic3\", \"Topic3\", \"Topic3\", \"Topic3\", \"Topic3\", \"Topic3\", \"Topic3\", \"Topic3\", \"Topic3\", \"Topic3\", \"Topic3\", \"Topic3\", \"Topic3\", \"Topic3\", \"Topic3\", \"Topic3\", \"Topic3\", \"Topic3\", \"Topic3\", \"Topic3\", \"Topic3\", \"Topic3\", \"Topic3\", \"Topic3\", \"Topic3\", \"Topic3\", \"Topic3\", \"Topic3\", \"Topic3\", \"Topic3\", \"Topic3\", \"Topic3\", \"Topic3\", \"Topic3\", \"Topic3\", \"Topic3\", \"Topic3\", \"Topic3\", \"Topic3\", \"Topic3\", \"Topic3\", \"Topic3\", \"Topic3\", \"Topic3\", \"Topic3\", \"Topic3\", \"Topic3\", \"Topic3\", \"Topic3\", \"Topic3\", \"Topic3\", \"Topic3\", \"Topic3\", \"Topic3\", \"Topic3\", \"Topic3\", \"Topic3\", \"Topic3\", \"Topic3\", \"Topic3\", \"Topic3\", \"Topic3\", \"Topic3\", \"Topic3\", \"Topic3\", \"Topic3\", \"Topic3\", \"Topic3\", \"Topic3\", \"Topic3\", \"Topic3\", \"Topic3\", \"Topic3\", \"Topic3\", \"Topic3\", \"Topic4\", \"Topic4\", \"Topic4\", \"Topic4\", \"Topic4\", \"Topic4\", \"Topic4\", \"Topic4\", \"Topic4\", \"Topic4\", \"Topic4\", \"Topic4\", \"Topic4\", \"Topic4\", \"Topic4\", \"Topic4\", \"Topic4\", \"Topic4\", \"Topic4\", \"Topic4\", \"Topic4\", \"Topic4\", \"Topic4\", \"Topic4\", \"Topic4\", \"Topic4\", \"Topic4\", \"Topic4\", \"Topic4\", \"Topic4\", \"Topic4\", \"Topic4\", \"Topic4\", \"Topic4\", \"Topic4\", \"Topic4\", \"Topic4\", \"Topic4\", \"Topic4\", \"Topic4\", \"Topic4\", \"Topic4\", \"Topic4\", \"Topic4\", \"Topic4\", \"Topic4\", \"Topic4\", \"Topic4\", \"Topic4\", \"Topic4\", \"Topic4\", \"Topic4\", \"Topic4\", \"Topic4\", \"Topic4\", \"Topic4\", \"Topic4\", \"Topic4\", \"Topic4\", \"Topic4\", \"Topic4\", \"Topic4\", \"Topic4\", \"Topic4\", \"Topic4\", \"Topic4\", \"Topic4\", \"Topic4\", \"Topic4\", \"Topic4\", \"Topic4\", \"Topic4\", \"Topic4\", \"Topic4\", \"Topic4\", \"Topic4\", \"Topic4\", \"Topic4\", \"Topic4\", \"Topic4\", \"Topic4\", \"Topic4\", \"Topic4\", \"Topic4\", \"Topic4\", \"Topic4\", \"Topic4\", \"Topic4\", \"Topic4\", \"Topic4\", \"Topic5\", \"Topic5\", \"Topic5\", \"Topic5\", \"Topic5\", \"Topic5\", \"Topic5\", \"Topic5\", \"Topic5\", \"Topic5\", \"Topic5\", \"Topic5\", \"Topic5\", \"Topic5\", \"Topic5\", \"Topic5\", \"Topic5\", \"Topic5\", \"Topic5\", \"Topic5\", \"Topic5\", \"Topic5\", \"Topic5\", \"Topic5\", \"Topic5\", \"Topic5\", \"Topic5\", \"Topic5\", \"Topic5\", \"Topic5\", \"Topic5\", \"Topic5\", \"Topic5\", \"Topic5\", \"Topic5\", \"Topic5\", \"Topic5\", \"Topic5\", \"Topic5\", \"Topic5\", \"Topic5\", \"Topic5\", \"Topic5\", \"Topic5\", \"Topic5\", \"Topic5\", \"Topic5\", \"Topic5\", \"Topic5\", \"Topic5\", \"Topic5\", \"Topic5\", \"Topic5\", \"Topic5\", \"Topic5\", \"Topic5\", \"Topic5\", \"Topic5\", \"Topic5\", \"Topic5\", \"Topic5\", \"Topic5\", \"Topic5\", \"Topic5\", \"Topic5\", \"Topic5\", \"Topic5\", \"Topic5\", \"Topic5\", \"Topic5\", \"Topic5\", \"Topic5\", \"Topic5\", \"Topic5\", \"Topic5\", \"Topic5\", \"Topic5\", \"Topic5\", \"Topic5\", \"Topic5\", \"Topic5\", \"Topic5\", \"Topic5\", \"Topic6\", \"Topic6\", \"Topic6\", \"Topic6\", \"Topic6\", \"Topic6\", \"Topic6\", \"Topic6\", \"Topic6\", \"Topic6\", \"Topic6\", \"Topic6\", \"Topic6\", \"Topic6\", \"Topic6\", \"Topic6\", \"Topic6\", \"Topic6\", \"Topic6\", \"Topic6\", \"Topic6\", \"Topic6\", \"Topic6\", \"Topic6\", \"Topic6\", \"Topic6\", \"Topic6\", \"Topic6\", \"Topic6\", \"Topic6\", \"Topic6\", \"Topic6\", \"Topic6\", \"Topic6\", \"Topic6\", \"Topic6\", \"Topic6\", \"Topic6\", \"Topic6\", \"Topic6\", \"Topic6\", \"Topic6\", \"Topic6\", \"Topic6\", \"Topic6\", \"Topic6\", \"Topic6\", \"Topic6\", \"Topic6\", \"Topic6\", \"Topic6\", \"Topic6\", \"Topic6\", \"Topic6\", \"Topic6\", \"Topic6\", \"Topic6\", \"Topic6\", \"Topic6\", \"Topic6\", \"Topic6\", \"Topic6\", \"Topic6\", \"Topic6\", \"Topic6\", \"Topic6\", \"Topic6\", \"Topic6\", \"Topic6\", \"Topic6\", \"Topic6\", \"Topic6\", \"Topic6\", \"Topic6\", \"Topic6\", \"Topic6\", \"Topic6\", \"Topic6\", \"Topic6\", \"Topic6\", \"Topic6\", \"Topic6\", \"Topic7\", \"Topic7\", \"Topic7\", \"Topic7\", \"Topic7\", \"Topic7\", \"Topic7\", \"Topic7\", \"Topic7\", \"Topic7\", \"Topic7\", \"Topic7\", \"Topic7\", \"Topic7\", \"Topic7\", \"Topic7\", \"Topic7\", \"Topic7\", \"Topic7\", \"Topic7\", \"Topic7\", \"Topic7\", \"Topic7\", \"Topic7\", \"Topic7\", \"Topic7\", \"Topic7\", \"Topic7\", \"Topic7\", \"Topic7\", \"Topic7\", \"Topic7\", \"Topic7\", \"Topic7\", \"Topic7\", \"Topic7\", \"Topic7\", \"Topic7\", \"Topic7\", \"Topic7\", \"Topic7\", \"Topic7\", \"Topic7\", \"Topic7\", \"Topic7\", \"Topic7\", \"Topic7\", \"Topic7\", \"Topic7\", \"Topic7\", \"Topic7\", \"Topic7\", \"Topic7\", \"Topic7\", \"Topic7\", \"Topic7\", \"Topic7\", \"Topic7\", \"Topic7\", \"Topic7\", \"Topic7\", \"Topic7\", \"Topic7\", \"Topic7\", \"Topic7\", \"Topic7\", \"Topic7\", \"Topic7\", \"Topic7\", \"Topic7\", \"Topic7\", \"Topic7\", \"Topic7\", \"Topic7\", \"Topic7\", \"Topic7\", \"Topic7\", \"Topic7\", \"Topic7\", \"Topic7\", \"Topic7\", \"Topic7\", \"Topic7\", \"Topic7\", \"Topic7\", \"Topic7\", \"Topic7\", \"Topic7\", \"Topic7\", \"Topic7\", \"Topic7\", \"Topic7\", \"Topic7\", \"Topic7\", \"Topic8\", \"Topic8\", \"Topic8\", \"Topic8\", \"Topic8\", \"Topic8\", \"Topic8\", \"Topic8\", \"Topic8\", \"Topic8\", \"Topic8\", \"Topic8\", \"Topic8\", \"Topic8\", \"Topic8\", \"Topic8\", \"Topic8\", \"Topic8\", \"Topic8\", \"Topic8\", \"Topic8\", \"Topic8\", \"Topic8\", \"Topic8\", \"Topic8\", \"Topic8\", \"Topic8\", \"Topic8\", \"Topic8\", \"Topic8\", \"Topic8\", \"Topic8\", \"Topic8\", \"Topic8\", \"Topic8\", \"Topic8\", \"Topic8\", \"Topic8\", \"Topic8\", \"Topic8\", \"Topic8\", \"Topic8\", \"Topic8\", \"Topic8\", \"Topic8\", \"Topic8\", \"Topic8\", \"Topic8\", \"Topic8\", \"Topic8\", \"Topic8\", \"Topic8\", \"Topic8\", \"Topic8\", \"Topic8\", \"Topic8\", \"Topic8\", \"Topic8\", \"Topic8\", \"Topic8\", \"Topic8\", \"Topic8\", \"Topic8\", \"Topic8\", \"Topic8\", \"Topic8\", \"Topic8\", \"Topic8\", \"Topic8\", \"Topic8\", \"Topic8\", \"Topic8\", \"Topic8\", \"Topic8\", \"Topic8\", \"Topic8\", \"Topic8\", \"Topic8\", \"Topic8\", \"Topic8\", \"Topic8\", \"Topic8\", \"Topic8\", \"Topic8\", \"Topic8\", \"Topic8\", \"Topic8\", \"Topic9\", \"Topic9\", \"Topic9\", \"Topic9\", \"Topic9\", \"Topic9\", \"Topic9\", \"Topic9\", \"Topic9\", \"Topic9\", \"Topic9\", \"Topic9\", \"Topic9\", \"Topic9\", \"Topic9\", \"Topic9\", \"Topic9\", \"Topic9\", \"Topic9\", \"Topic9\", \"Topic9\", \"Topic9\", \"Topic9\", \"Topic9\", \"Topic9\", \"Topic9\", \"Topic9\", \"Topic9\", \"Topic9\", \"Topic9\", \"Topic9\", \"Topic9\", \"Topic9\", \"Topic9\", \"Topic9\", \"Topic9\", \"Topic9\", \"Topic9\", \"Topic9\", \"Topic9\", \"Topic9\", \"Topic9\", \"Topic9\", \"Topic9\", \"Topic9\", \"Topic9\", \"Topic9\", \"Topic9\", \"Topic9\", \"Topic9\", \"Topic9\", \"Topic9\", \"Topic9\", \"Topic9\", \"Topic9\", \"Topic9\", \"Topic9\", \"Topic9\", \"Topic9\", \"Topic9\", \"Topic9\", \"Topic9\", \"Topic9\", \"Topic9\", \"Topic9\", \"Topic9\", \"Topic9\", \"Topic9\", \"Topic9\", \"Topic9\", \"Topic9\", \"Topic9\", \"Topic9\", \"Topic9\", \"Topic9\", \"Topic9\", \"Topic9\", \"Topic9\", \"Topic9\", \"Topic9\", \"Topic9\", \"Topic9\", \"Topic9\", \"Topic9\", \"Topic9\", \"Topic9\", \"Topic9\", \"Topic9\", \"Topic9\", \"Topic9\", \"Topic10\", \"Topic10\", \"Topic10\", \"Topic10\", \"Topic10\", \"Topic10\", \"Topic10\", \"Topic10\", \"Topic10\", \"Topic10\", \"Topic10\", \"Topic10\", \"Topic10\", \"Topic10\", \"Topic10\", \"Topic10\", \"Topic10\", \"Topic10\", \"Topic10\", \"Topic10\", \"Topic10\", \"Topic10\", \"Topic10\", \"Topic10\", \"Topic10\", \"Topic10\", \"Topic10\", \"Topic10\", \"Topic10\", \"Topic10\", \"Topic10\", \"Topic10\", \"Topic10\", \"Topic10\", \"Topic10\", \"Topic10\", \"Topic10\", \"Topic10\", \"Topic10\", \"Topic10\", \"Topic10\", \"Topic10\", \"Topic10\", \"Topic10\", \"Topic10\", \"Topic10\", \"Topic10\", \"Topic10\", \"Topic10\", \"Topic10\", \"Topic10\", \"Topic10\", \"Topic10\", \"Topic10\", \"Topic10\", \"Topic10\", \"Topic10\", \"Topic10\", \"Topic10\", \"Topic10\", \"Topic10\", \"Topic10\", \"Topic10\", \"Topic10\", \"Topic10\", \"Topic10\", \"Topic10\", \"Topic10\", \"Topic10\", \"Topic10\", \"Topic10\", \"Topic10\", \"Topic10\", \"Topic10\", \"Topic10\", \"Topic10\", \"Topic10\", \"Topic10\", \"Topic10\", \"Topic10\", \"Topic10\", \"Topic10\"], \"Freq\": [48230.0, 40230.0, 26121.0, 50048.0, 45235.0, 25812.0, 26815.0, 30117.0, 15347.0, 39649.0, 21893.0, 21321.0, 13407.0, 41313.0, 10473.0, 31481.0, 13337.0, 29843.0, 23125.0, 36586.0, 14054.0, 33056.0, 16078.0, 34947.0, 12150.0, 33315.0, 27046.0, 9879.0, 14257.0, 12984.0, 221.435302734375, 177.57557678222656, 167.4515838623047, 78.94497680664062, 84.75580596923828, 623.79150390625, 70.91537475585938, 148.1348114013672, 217.73159790039062, 58.90949249267578, 60.33057403564453, 122.15206146240234, 63.648799896240234, 56.78312683105469, 46.84836959838867, 384.85150146484375, 148.43115234375, 1594.2127685546875, 108.74286651611328, 156.9768829345703, 75.8039321899414, 44.357818603515625, 39.90069580078125, 37.843379974365234, 42.22495651245117, 35.42530059814453, 141.73712158203125, 34.032527923583984, 34.11505126953125, 98.21308135986328, 263.04925537109375, 204.28878784179688, 201.2715606689453, 118.423095703125, 171.1502685546875, 119.67781066894531, 3718.281494140625, 1764.6607666015625, 616.5144653320312, 714.6243896484375, 4534.20947265625, 2170.56591796875, 637.0797729492188, 398.2388610839844, 420.5791931152344, 1021.9144897460938, 1632.7152099609375, 2493.218505859375, 1157.2086181640625, 4014.3212890625, 1956.6534423828125, 1285.20263671875, 11317.4794921875, 3594.21923828125, 4475.984375, 975.00439453125, 592.220458984375, 731.098388671875, 3019.281005859375, 3874.530029296875, 28206.076171875, 3869.576171875, 856.5670776367188, 2815.723388671875, 1612.5811767578125, 1516.3348388671875, 2227.10693359375, 6490.09375, 1631.046875, 5872.8916015625, 1383.0428466796875, 3378.17431640625, 15610.171875, 6880.73583984375, 3843.7607421875, 7119.0830078125, 8343.2099609375, 5055.25732421875, 4563.61376953125, 5156.791015625, 10852.0703125, 9157.3427734375, 5100.83056640625, 5666.0888671875, 3499.892578125, 6356.9248046875, 6212.18701171875, 6421.56640625, 6716.76123046875, 5509.234375, 4897.556640625, 3923.193603515625, 4484.3974609375, 4588.84521484375, 4268.6875, 4141.7392578125, 4147.48779296875, 4145.8369140625, 4142.29931640625, 66.05040740966797, 174.78575134277344, 274.5541076660156, 59.69443893432617, 54.87112045288086, 84.94219207763672, 53.6364631652832, 164.79454040527344, 42.590782165527344, 89.41301727294922, 40.141441345214844, 35.675106048583984, 190.9603271484375, 37.59362030029297, 37.86276626586914, 30.655561447143555, 67.09149169921875, 37.919708251953125, 140.30113220214844, 27.773319244384766, 34.529380798339844, 28.19171905517578, 70.16472625732422, 125.3729476928711, 24.6243839263916, 89.38797760009766, 66.68692779541016, 35.6835823059082, 26.42802619934082, 86.4277114868164, 156.0364227294922, 297.80169677734375, 220.7400360107422, 80.18315887451172, 65.54094696044922, 206.35946655273438, 347.9861755371094, 157.89926147460938, 375.82586669921875, 171.39305114746094, 370.9572448730469, 622.9555053710938, 5437.05224609375, 446.0384521484375, 413.2415771484375, 245.3245086669922, 543.68896484375, 10077.5859375, 1230.58935546875, 2245.775634765625, 179.02305603027344, 219.38406372070312, 2979.604248046875, 864.8143310546875, 1197.669189453125, 1199.7650146484375, 787.028076171875, 2694.373779296875, 1698.3671875, 888.7540893554688, 5299.2041015625, 3799.4248046875, 4438.45654296875, 1069.401123046875, 13105.2978515625, 1878.6915283203125, 1115.1314697265625, 1446.6524658203125, 1061.060791015625, 12400.7744140625, 4596.59130859375, 2638.953857421875, 1604.1488037109375, 2788.533203125, 14942.4560546875, 4710.1806640625, 6103.77978515625, 4457.56396484375, 4996.45166015625, 4880.9560546875, 5913.8671875, 7831.46484375, 2949.326416015625, 4590.6806640625, 5206.279296875, 4429.52587890625, 7064.5849609375, 8429.21875, 5117.58544921875, 5689.73388671875, 6788.24609375, 7328.5908203125, 4255.81689453125, 7595.6396484375, 6117.1689453125, 6143.67041015625, 5089.16162109375, 6384.32470703125, 5555.56591796875, 5790.87939453125, 5217.5107421875, 5074.103515625, 4906.19140625, 364.007568359375, 337.6018981933594, 220.4484405517578, 228.2986297607422, 209.29087829589844, 196.30587768554688, 183.5649871826172, 170.61996459960938, 167.62924194335938, 335.4701843261719, 156.48158264160156, 13326.8681640625, 219.36129760742188, 264.62921142578125, 129.40614318847656, 246.6624298095703, 124.97862243652344, 1907.84521484375, 229.24562072753906, 101.76119232177734, 333.3539733886719, 100.4173812866211, 113.09014129638672, 115.10464477539062, 92.75865173339844, 978.083740234375, 80.37399291992188, 110.5, 89.88738250732422, 77.10585021972656, 3446.242431640625, 791.0241088867188, 398.8976135253906, 362.61968994140625, 705.512939453125, 360.4093933105469, 520.3187255859375, 345.88214111328125, 195.0737762451172, 162.93923950195312, 494.41912841796875, 229.36476135253906, 1827.3201904296875, 3028.52783203125, 3256.888671875, 1982.2275390625, 1183.64453125, 1131.882568359375, 3882.572265625, 5923.88037109375, 7044.267578125, 1317.64013671875, 1059.3935546875, 3044.980224609375, 1717.3145751953125, 2379.407958984375, 2791.138427734375, 6429.6708984375, 2055.923095703125, 3096.927001953125, 3993.726318359375, 17863.833984375, 2559.323974609375, 2805.147705078125, 2093.787109375, 5088.369140625, 8983.150390625, 5038.08447265625, 12547.966796875, 11007.5576171875, 8930.11328125, 3141.904541015625, 2619.051513671875, 4536.87548828125, 9618.5029296875, 14498.509765625, 3155.69873046875, 6424.53369140625, 6829.5244140625, 7434.97265625, 4185.625, 3057.14794921875, 4271.72314453125, 6174.6484375, 6986.52294921875, 6872.87744140625, 5455.7548828125, 6804.6728515625, 6804.87255859375, 5013.126953125, 5511.3857421875, 5127.41015625, 5898.10009765625, 4504.189453125, 4352.9765625, 662.6795043945312, 224.79571533203125, 217.1876983642578, 299.44708251953125, 176.31414794921875, 129.8199005126953, 127.20603942871094, 126.19633483886719, 125.79230499267578, 121.54141998291016, 148.8015899658203, 132.2949676513672, 130.08035278320312, 105.49519348144531, 369.9473876953125, 107.75724792480469, 90.36457824707031, 89.34139251708984, 107.26856994628906, 237.38092041015625, 367.5645446777344, 77.6837387084961, 594.67724609375, 70.1112289428711, 139.86512756347656, 480.66546630859375, 515.1131591796875, 207.3273162841797, 350.3127136230469, 59.52755355834961, 3086.447265625, 690.2695922851562, 688.7732543945312, 554.5225830078125, 1289.8314208984375, 1647.837158203125, 8099.85888671875, 2988.23193359375, 1323.5440673828125, 445.942626953125, 285.5472106933594, 7861.3134765625, 8074.8662109375, 577.0035400390625, 1031.3397216796875, 645.4879760742188, 1995.941650390625, 2468.2919921875, 11296.333984375, 3638.238037109375, 1192.183349609375, 1571.5885009765625, 1653.921142578125, 7283.33984375, 8648.685546875, 5319.09619140625, 2045.5841064453125, 8352.41796875, 6180.48681640625, 1275.4970703125, 23851.5625, 8159.96826171875, 7417.12744140625, 9599.4599609375, 2978.343505859375, 6115.048828125, 6250.78662109375, 17699.29296875, 16119.470703125, 16706.67578125, 4605.2275390625, 8164.6513671875, 4332.70068359375, 4661.818359375, 10296.74609375, 11061.4853515625, 9751.197265625, 10253.43359375, 6701.89453125, 7305.75927734375, 10530.2890625, 6067.30078125, 8625.06640625, 5945.1279296875, 7871.48486328125, 7141.8759765625, 6722.36181640625, 7510.1796875, 6754.15283203125, 6489.998046875, 102.25135803222656, 155.2884063720703, 53.916900634765625, 55.202999114990234, 125.43737030029297, 186.63095092773438, 39.176353454589844, 68.7972183227539, 80.24121856689453, 85.95360565185547, 43.320526123046875, 50.88127136230469, 57.449668884277344, 25.191356658935547, 28.900001525878906, 445.6524658203125, 33.36122131347656, 42.82292175292969, 19.11992073059082, 33.37995147705078, 2925.566650390625, 17.859893798828125, 55.3873176574707, 17.270103454589844, 37.07656478881836, 15.711434364318848, 1739.12548828125, 465.6890563964844, 35.84587097167969, 116.99918365478516, 13938.40234375, 8230.6640625, 80.13607788085938, 76.74348449707031, 116.61433410644531, 4504.19580078125, 1102.9366455078125, 523.42138671875, 391.26007080078125, 1393.8336181640625, 537.3064575195312, 6946.30126953125, 401.4367980957031, 333.06689453125, 364.3467102050781, 17586.064453125, 8540.796875, 9725.724609375, 3250.39501953125, 2572.694580078125, 5129.04052734375, 8346.3232421875, 886.74560546875, 1822.54248046875, 2181.790771484375, 462.44244384765625, 5210.7353515625, 18719.90625, 5475.92333984375, 6248.99462890625, 3214.3583984375, 1353.6124267578125, 3389.533447265625, 3729.03076171875, 6403.587890625, 12978.5556640625, 4431.046875, 8193.6357421875, 8695.9951171875, 9209.9248046875, 8373.4345703125, 9043.18359375, 8948.115234375, 3485.96533203125, 6334.69384765625, 4794.5673828125, 5215.07958984375, 7182.51806640625, 6347.8916015625, 6223.02685546875, 5406.439453125, 5819.66455078125, 5189.9208984375, 364.0224914550781, 356.7422180175781, 273.8227844238281, 241.8463134765625, 245.50506591796875, 206.80409240722656, 149.6198272705078, 141.71754455566406, 152.53952026367188, 120.17507934570312, 111.35972595214844, 180.5022430419922, 113.72809600830078, 87.96393585205078, 80.6820297241211, 285.3890380859375, 108.00271606445312, 302.62384033203125, 70.5172119140625, 67.83011627197266, 62.82906723022461, 55.31270980834961, 121.26133728027344, 47.93532943725586, 51.45908737182617, 167.54161071777344, 38.12919998168945, 40.51594543457031, 278.9267578125, 94.53722381591797, 302.6950988769531, 204.44354248046875, 144.6863250732422, 97.25843048095703, 4493.16162109375, 970.6526489257812, 1143.8726806640625, 1772.9888916015625, 252.31207275390625, 139.18283081054688, 1384.0692138671875, 7142.912109375, 4480.185546875, 4537.8779296875, 9405.1044921875, 1210.3974609375, 5862.1826171875, 1297.9522705078125, 3244.94873046875, 1506.0784912109375, 3629.70068359375, 6873.796875, 805.528564453125, 12626.1875, 2865.89013671875, 8869.0390625, 1969.404052734375, 18897.701171875, 815.2133178710938, 11938.662109375, 1807.8748779296875, 2469.3583984375, 2976.06640625, 4891.72119140625, 4221.71435546875, 7141.24462890625, 4172.5234375, 2428.59228515625, 8610.94921875, 5568.20263671875, 7813.4970703125, 3990.8740234375, 5610.81298828125, 6972.4873046875, 4246.8671875, 3435.978759765625, 4021.34765625, 3661.307373046875, 4225.68798828125, 4138.95263671875, 4179.8046875, 3246.74560546875, 231.69223022460938, 222.53077697753906, 497.83306884765625, 317.99273681640625, 139.91835021972656, 160.84390258789062, 469.78692626953125, 97.07290649414062, 101.12981414794922, 605.4122314453125, 94.78443145751953, 531.0835571289062, 175.98736572265625, 124.24584197998047, 66.96073150634766, 56.813114166259766, 70.4311294555664, 85.36504364013672, 49.56232452392578, 64.89224243164062, 47.97053146362305, 502.2276611328125, 74.24535369873047, 92.0443115234375, 41.19645309448242, 73.80522918701172, 604.88623046875, 37.05622100830078, 40.076438903808594, 90.4138412475586, 1065.710205078125, 460.8871154785156, 1923.181884765625, 150.50616455078125, 652.0726318359375, 402.1474609375, 738.5753173828125, 281.124267578125, 266.54052734375, 277.7316589355469, 1131.285400390625, 365.1790466308594, 2663.14306640625, 1543.498046875, 1703.1370849609375, 310.9983825683594, 2782.52294921875, 709.1871337890625, 3081.182861328125, 4390.48486328125, 2105.804443359375, 5284.77490234375, 598.4470825195312, 10243.044921875, 7695.02197265625, 3747.434814453125, 1488.7535400390625, 717.2822875976562, 3023.573486328125, 12720.74609375, 3212.46630859375, 4950.65087890625, 4671.1787109375, 2363.13916015625, 3466.776611328125, 8515.34375, 6989.4482421875, 3553.142333984375, 1554.761474609375, 3931.635498046875, 1276.8095703125, 1769.455810546875, 7241.33740234375, 2587.222900390625, 3183.618408203125, 6309.68017578125, 4948.1376953125, 4492.57421875, 4151.20849609375, 6585.431640625, 3551.789306640625, 4321.57373046875, 4179.42724609375, 4478.53173828125, 3807.48193359375, 4389.52880859375, 4409.0302734375, 3932.005126953125, 3964.23779296875, 3625.476318359375, 3530.544921875, 3632.25732421875, 3666.58203125, 3564.3125, 803.0198364257812, 410.3979187011719, 825.6212768554688, 412.0480041503906, 340.0162658691406, 578.6234130859375, 284.9446716308594, 357.62457275390625, 321.1089782714844, 248.76881408691406, 330.5689697265625, 232.5341339111328, 170.81365966796875, 162.4440155029297, 150.14389038085938, 152.0265655517578, 154.12364196777344, 144.46116638183594, 117.55753326416016, 117.20547485351562, 190.8526611328125, 110.41089630126953, 117.51741790771484, 162.0949249267578, 97.2968978881836, 97.02530670166016, 94.31309509277344, 150.1261444091797, 102.76606750488281, 93.12055969238281, 765.2335205078125, 848.8275756835938, 547.41748046875, 1126.9530029296875, 1286.84912109375, 154.66928100585938, 4771.75830078125, 671.8991088867188, 376.43890380859375, 262.3902282714844, 41768.234375, 8838.044921875, 7587.0107421875, 1083.20556640625, 4675.7236328125, 364.9489440917969, 240.27066040039062, 3504.33642578125, 516.26318359375, 421.7087707519531, 3487.377685546875, 712.5523681640625, 1750.5584716796875, 1322.6015625, 9301.224609375, 1509.9820556640625, 1261.522705078125, 1050.316650390625, 1770.955322265625, 10991.7568359375, 1789.0382080078125, 2273.63525390625, 7705.69677734375, 3906.649658203125, 15997.8388671875, 10295.6650390625, 4995.001953125, 5024.51416015625, 8183.64990234375, 4076.029541015625, 8274.1640625, 2677.87255859375, 2273.065185546875, 3595.9541015625, 4080.38720703125, 3397.32177734375, 3745.49169921875, 3713.165283203125, 3763.422607421875, 3653.65380859375, 3941.73828125, 5496.09228515625, 5077.74853515625, 3325.56787109375, 4133.20458984375, 4513.431640625, 4051.757568359375, 950.5580444335938, 481.9049072265625, 323.6015930175781, 233.93568420410156, 219.414794921875, 211.50173950195312, 178.46229553222656, 149.04000854492188, 152.79574584960938, 139.9383544921875, 134.71548461914062, 170.36740112304688, 112.66515350341797, 102.9828109741211, 104.02265930175781, 100.4656753540039, 98.66702270507812, 89.81396484375, 86.56480407714844, 83.92183685302734, 82.71187591552734, 77.36192321777344, 74.91891479492188, 60.61492156982422, 56.118839263916016, 56.00819778442383, 287.5092468261719, 52.32689666748047, 1756.970458984375, 44.49855041503906, 314.658935546875, 481.5169677734375, 207.15158081054688, 4827.46435546875, 446.1084289550781, 2339.31298828125, 430.95880126953125, 366.1197204589844, 20316.95703125, 961.6404418945312, 974.9378051757812, 4346.8642578125, 146.0484619140625, 9727.28515625, 5536.72216796875, 299.31329345703125, 1214.2403564453125, 2372.124267578125, 2700.497802734375, 7234.22998046875, 1600.529541015625, 2476.301025390625, 533.588623046875, 4832.4091796875, 2747.771484375, 1986.96875, 2754.76416015625, 2257.54638671875, 2580.093994140625, 1022.7954711914062, 1408.2911376953125, 1622.428466796875, 2098.64501953125, 5937.41455078125, 1510.221435546875, 3389.79345703125, 4342.79931640625, 2230.250244140625, 2689.650146484375, 4286.72607421875, 2952.32666015625, 2312.10107421875, 5075.05419921875, 2845.205322265625, 3759.383544921875, 4907.7529296875, 3714.65673828125, 4270.6591796875, 4093.1884765625, 3727.817138671875, 3335.174072265625, 3660.810546875, 3512.970947265625, 3177.14501953125, 3320.463623046875, 2908.989501953125, 2990.8154296875, 2937.044189453125, 2884.17138671875, 2830.581787109375, 1085.6953125, 272.9513854980469, 183.107666015625, 279.2507019042969, 71.42857360839844, 62.65120315551758, 49.25240707397461, 51.60590362548828, 73.4043197631836, 307.7381591796875, 160.5828399658203, 43.17994689941406, 27.10979652404785, 468.0983581542969, 65.51656341552734, 96.10551452636719, 42.239540100097656, 17.094511032104492, 148.91043090820312, 16.221336364746094, 42.031158447265625, 502.8279113769531, 26.474119186401367, 26.132299423217773, 44.28279113769531, 110.04264831542969, 36.50985336303711, 44.371395111083984, 158.2075958251953, 82.76605224609375, 260.9670104980469, 2613.322509765625, 214.77272033691406, 8110.67138671875, 658.7191162109375, 115.194091796875, 2255.665771484375, 666.1305541992188, 857.57666015625, 323.6285095214844, 3811.330810546875, 2216.675537109375, 524.9000854492188, 3077.942626953125, 3624.258056640625, 1816.2618408203125, 292.8565979003906, 502.94915771484375, 440.603271484375, 570.2932739257812, 5249.27978515625, 13497.2841796875, 1547.878662109375, 1022.9957885742188, 4494.267578125, 1968.6190185546875, 1550.586669921875, 758.0387573242188, 1429.8846435546875, 2101.843505859375, 4538.55419921875, 1358.7862548828125, 2081.821533203125, 4990.31884765625, 1506.3843994140625, 3847.414306640625, 4193.93310546875, 2705.85595703125, 2606.843505859375, 2728.448486328125, 1708.8333740234375, 1823.603759765625, 1767.0123291015625, 2289.885498046875, 2240.445556640625, 2096.546142578125, 2086.72314453125, 1914.3553466796875, 1960.307861328125, 1878.701416015625, 1874.8189697265625, 1833.171142578125], \"Term\": [\"imag\", \"user\", \"word\", \"network\", \"human\", \"neural\", \"custom\", \"deep\", \"chatbot\", \"technolog\", \"market\", \"layer\", \"blockchain\", \"valu\", \"price\", \"compani\", \"bot\", \"code\", \"dataset\", \"predict\", \"text\", \"product\", \"python\", \"function\", \"vector\", \"featur\", \"busi\", \"tensorflow\", \"game\", \"file\", \"clinician\", \"sukant\", \"khurana\", \"xai\", \"weld\", \"physician\", \"recidiv\", \"authoritarian\", \"aero\", \"transhumanist\", \"transhuman\", \"patients\", \"berkman\", \"buolamwini\", \"hippocrat\", \"ubi\", \"therapeut\", \"clinic\", \"compa\", \"disinform\", \"autism\", \"asthma\", \"deepaero\", \"extermin\", \"omic\", \"nhtsa\", \"propublica\", \"aclu\", \"psychiatr\", \"compassion\", \"opioid\", \"asi\", \"nh\", \"ehr\", \"warfar\", \"crispr\", \"ethic\", \"drug\", \"democraci\", \"crimin\", \"patient\", \"diseas\", \"unemploy\", \"therapi\", \"superintellig\", \"weapon\", \"medicin\", \"doctor\", \"moral\", \"societi\", \"drone\", \"musk\", \"robot\", \"medic\", \"health\", \"harm\", \"radiologist\", \"militari\", \"healthcar\", \"vehicl\", \"human\", \"autonom\", \"polic\", \"law\", \"safeti\", \"danger\", \"polit\", \"car\", \"treatment\", \"machin\", \"hospit\", \"emot\", \"technolog\", \"autom\", \"govern\", \"job\", \"futur\", \"drive\", \"self\", \"social\", \"peopl\", \"world\", \"live\", \"decis\", \"risk\", \"chang\", \"research\", \"year\", \"algorithm\", \"think\", \"power\", \"life\", \"better\", \"inform\", \"come\", \"person\", \"right\", \"mean\", \"understand\", \"sculptur\", \"puerto\", \"corsair\", \"coursework\", \"mente\", \"dsa\", \"morti\", \"edx\", \"freshman\", \"sterl\", \"peterson\", \"sophomor\", \"fuck\", \"roast\", \"gasp\", \"funer\", \"procrastin\", \"hitchhiker\", \"alec\", \"asshol\", \"linda\", \"badass\", \"archer\", \"universidad\", \"chant\", \"graffiti\", \"gospel\", \"amunategui\", \"staircas\", \"kiss\", \"semest\", \"comic\", \"shit\", \"poetic\", \"satir\", \"poetri\", \"instructor\", \"rico\", \"classroom\", \"rick\", \"laugh\", \"girl\", \"student\", \"internship\", \"mooc\", \"undergradu\", \"storytel\", \"cours\", \"felt\", \"career\", \"scream\", \"scholarship\", \"school\", \"coursera\", \"knew\", \"colleg\", \"podcast\", \"interview\", \"artist\", \"udac\", \"stori\", \"love\", \"got\", \"film\", \"scienc\", \"stuff\", \"kid\", \"wasn\", \"teacher\", \"think\", \"book\", \"mayb\", \"lesson\", \"friend\", \"peopl\", \"week\", \"talk\", \"thought\", \"feel\", \"univers\", \"scientist\", \"day\", \"art\", \"thing\", \"ask\", \"skill\", \"read\", \"year\", \"great\", \"idea\", \"question\", \"good\", \"life\", \"world\", \"tri\", \"come\", \"program\", \"understand\", \"experi\", \"problem\", \"right\", \"project\", \"ll\", \"botto\", \"iagon\", \"ekkbaz\", \"peculium\", \"dbrain\", \"bitcointalk\", \"neurochain\", \"ubex\", \"botchain\", \"dapp\", \"wework\", \"blockchain\", \"graphgrail\", \"kyc\", \"obizcoin\", \"lender\", \"presal\", \"ico\", \"airdrop\", \"huobi\", \"dao\", \"hashgraph\", \"mainnet\", \"bigchaindb\", \"bto\", \"deepbrain\", \"sensetim\", \"tsinghua\", \"pcl\", \"efx\", \"decentr\", \"fintech\", \"osa\", \"bounti\", \"ledger\", \"dbc\", \"alphacat\", \"\\u00f5pet\", \"tge\", \"crowdsal\", \"whitepap\", \"expo\", \"partnership\", \"investor\", \"contract\", \"ventur\", \"singularitynet\", \"wallet\", \"fund\", \"startup\", \"token\", \"ethereum\", \"advisor\", \"china\", \"marketplac\", \"talent\", \"ecosystem\", \"invest\", \"protocol\", \"partner\", \"financi\", \"compani\", \"ceo\", \"founder\", \"crypto\", \"secur\", \"industri\", \"innov\", \"busi\", \"team\", \"platform\", \"chain\", \"capit\", \"global\", \"market\", \"technolog\", \"transact\", \"manag\", \"commun\", \"project\", \"smart\", \"particip\", \"tech\", \"servic\", \"provid\", \"year\", \"solut\", \"world\", \"product\", \"applic\", \"build\", \"research\", \"network\", \"power\", \"share\", \"covari\", \"gbm\", \"hyperplan\", \"quantil\", \"eigenvalu\", \"autocorrel\", \"collinear\", \"hessian\", \"kurtosi\", \"multicollinear\", \"adaboost\", \"smote\", \"iqr\", \"fpr\", \"lasso\", \"tpr\", \"uncorrel\", \"differenc\", \"shap\", \"gini\", \"kalman\", \"selu\", \"mse\", \"oob\", \"bernoulli\", \"polynomi\", \"rmse\", \"binomi\", \"mae\", \"acf\", \"varianc\", \"auc\", \"roc\", \"minima\", \"gaussian\", \"coeffici\", \"regress\", \"descent\", \"sigmoid\", \"theta\", \"underfit\", \"gradient\", \"linear\", \"posterior\", \"pca\", \"slope\", \"overfit\", \"forest\", \"variabl\", \"squar\", \"predictor\", \"deviat\", \"outlier\", \"random\", \"weight\", \"tree\", \"hyperparamet\", \"paramet\", \"matrix\", \"entropi\", \"valu\", \"sampl\", \"error\", \"distribut\", \"equat\", \"calcul\", \"loss\", \"function\", \"featur\", \"predict\", \"estim\", \"probabl\", \"normal\", \"plot\", \"test\", \"number\", \"point\", \"mean\", \"rate\", \"method\", \"algorithm\", \"optim\", \"result\", \"class\", \"let\", \"dataset\", \"layer\", \"problem\", \"perform\", \"network\", \"olai\", \"eno\", \"growthbot\", \"bixbi\", \"homepod\", \"vui\", \"comscor\", \"neurobot\", \"omnichannel\", \"olport\", \"sono\", \"touchscreen\", \"intercom\", \"shoppabl\", \"grubhub\", \"cortana\", \"marriott\", \"viber\", \"professors\", \"animoji\", \"alexa\", \"publishers\", \"dribbbl\", \"voicemail\", \"unsubscrib\", \"sassi\", \"messeng\", \"whatsapp\", \"airpod\", \"kik\", \"chatbot\", \"voic\", \"jatana\", \"slackbot\", \"concierg\", \"brand\", \"hotel\", \"duplex\", \"snip\", \"siri\", \"ecommerc\", \"assist\", \"crm\", \"seo\", \"pinterest\", \"custom\", \"convers\", \"app\", \"phone\", \"chat\", \"amazon\", \"bot\", \"echo\", \"shop\", \"advertis\", \"personalis\", \"devic\", \"user\", \"facebook\", \"content\", \"engag\", \"smartphon\", \"interfac\", \"mobil\", \"interact\", \"product\", \"consum\", \"googl\", \"servic\", \"design\", \"person\", \"experi\", \"busi\", \"messag\", \"market\", \"search\", \"platform\", \"technolog\", \"compani\", \"peopl\", \"inform\", \"human\", \"provid\", \"dqn\", \"alphazero\", \"mdp\", \"mct\", \"starcraft\", \"bellman\", \"hippocampu\", \"dendrit\", \"ppo\", \"htm\", \"cartpol\", \"neocortex\", \"tac\", \"numenta\", \"neuroevolut\", \"dota\", \"trpo\", \"atari\", \"ddpg\", \"stockfish\", \"sarsa\", \"prefront\", \"synapt\", \"barto\", \"tenenbaum\", \"minimax\", \"shogi\", \"sensorimotor\", \"qubit\", \"abbeel\", \"spectrogram\", \"eeg\", \"waveform\", \"axon\", \"reinforc\", \"openai\", \"alphago\", \"quantum\", \"wavenet\", \"sudoku\", \"chess\", \"agent\", \"neuron\", \"reward\", \"game\", \"deepmind\", \"brain\", \"gate\", \"player\", \"recurr\", \"polici\", \"action\", \"capsul\", \"neural\", \"simul\", \"state\", \"rnn\", \"network\", \"markov\", \"deep\", \"lstm\", \"signal\", \"memori\", \"paper\", \"environ\", \"comput\", \"play\", \"sequenc\", \"algorithm\", \"task\", \"problem\", \"complex\", \"research\", \"human\", \"approach\", \"solv\", \"perform\", \"possibl\", \"inform\", \"understand\", \"function\", \"optim\", \"redshift\", \"jupyterlab\", \"etl\", \"airflow\", \"hdf\", \"postgresql\", \"kafka\", \"kinesi\", \"dn\", \"hadoop\", \"parquet\", \"scala\", \"dsx\", \"mapreduc\", \"vpc\", \"jupyterhub\", \"dynamodb\", \"postgr\", \"hbase\", \"jvm\", \"avro\", \"kubernet\", \"pmml\", \"meso\", \"rabbitmq\", \"faviovaz\", \"bigqueri\", \"webpack\", \"mongo\", \"databrick\", \"apach\", \"serverless\", \"sql\", \"nosql\", \"anaconda\", \"conda\", \"git\", \"microservic\", \"mongodb\", \"pyspark\", \"java\", \"ide\", \"spark\", \"javascript\", \"docker\", \"markdown\", \"jupyt\", \"tableau\", \"server\", \"notebook\", \"aw\", \"instal\", \"http\", \"python\", \"file\", \"packag\", \"dashboard\", \"endpoint\", \"command\", \"code\", \"databas\", \"api\", \"librari\", \"pipelin\", \"deploy\", \"run\", \"tool\", \"web\", \"workflow\", \"cloud\", \"browser\", \"configur\", \"project\", \"queri\", \"version\", \"scienc\", \"sourc\", \"open\", \"scientist\", \"build\", \"environ\", \"engin\", \"applic\", \"test\", \"program\", \"provid\", \"function\", \"step\", \"follow\", \"visual\", \"softwar\", \"team\", \"user\", \"requir\", \"opencv\", \"mobilenet\", \"yolo\", \"coreml\", \"rcnn\", \"ssd\", \"xcode\", \"coco\", \"fcn\", \"onnx\", \"tfrecord\", \"gtx\", \"aiy\", \"facebox\", \"movidiu\", \"depthwis\", \"keypoint\", \"haar\", \"dlib\", \"tagbox\", \"voc\", \"mlkit\", \"geforc\", \"lenet\", \"unet\", \"tensorrt\", \"inpaint\", \"gluon\", \"vggnet\", \"retinanet\", \"mxnet\", \"colab\", \"vgg\", \"resnet\", \"imagenet\", \"googlenet\", \"cnn\", \"tensorboard\", \"caff\", \"hog\", \"imag\", \"tensorflow\", \"convolut\", \"detector\", \"gpu\", \"alexnet\", \"iou\", \"kera\", \"rgb\", \"resiz\", \"pixel\", \"cuda\", \"pytorch\", \"mask\", \"detect\", \"nvidia\", \"mnist\", \"incept\", \"tensor\", \"layer\", \"annot\", \"gan\", \"object\", \"box\", \"network\", \"deep\", \"face\", \"label\", \"dataset\", \"architectur\", \"neural\", \"segment\", \"camera\", \"recognit\", \"classifi\", \"vision\", \"classif\", \"accuraci\", \"video\", \"size\", \"class\", \"featur\", \"result\", \"map\", \"run\", \"code\", \"perform\", \"idf\", \"nltk\", \"fasttext\", \"bigram\", \"gensim\", \"lemmat\", \"cbow\", \"stopword\", \"beautifulsoup\", \"unigram\", \"trigram\", \"tfidf\", \"wordcloud\", \"mikolov\", \"iloc\", \"countvector\", \"textblob\", \"vader\", \"nmt\", \"nmf\", \"geocod\", \"vocab\", \"tibbl\", \"danceabl\", \"stemmer\", \"adverb\", \"ner\", \"treebank\", \"corpu\", \"lsa\", \"spaci\", \"lda\", \"corpora\", \"sentenc\", \"glove\", \"datafram\", \"noun\", \"verb\", \"word\", \"gram\", \"vocabulari\", \"embed\", \"tagger\", \"text\", \"column\", \"punctuat\", \"dictionari\", \"panda\", \"sentiment\", \"vector\", \"song\", \"tag\", \"grammar\", \"document\", \"charact\", \"tweet\", \"row\", \"index\", \"nlp\", \"hash\", \"string\", \"frequenc\", \"array\", \"languag\", \"length\", \"topic\", \"list\", \"chart\", \"extract\", \"similar\", \"plot\", \"sequenc\", \"dataset\", \"cluster\", \"visual\", \"number\", \"analysi\", \"let\", \"featur\", \"code\", \"articl\", \"valu\", \"function\", \"post\", \"result\", \"type\", \"inform\", \"follow\", \"mean\", \"step\", \"dialogflow\", \"webhook\", \"jani\", \"backtest\", \"macd\", \"bolling\", \"aiml\", \"rsi\", \"sma\", \"gestat\", \"ltv\", \"candlestick\", \"drawdown\", \"rasa\", \"qna\", \"parri\", \"usdt\", \"nevolin\", \"textio\", \"uptrend\", \"hft\", \"btc\", \"bearish\", \"poloniex\", \"ltc\", \"ticker\", \"aapl\", \"cryptoasset\", \"nlg\", \"recenc\", \"chatfuel\", \"watson\", \"lex\", \"price\", \"nlu\", \"hodl\", \"stock\", \"trader\", \"churn\", \"lui\", \"item\", \"forecast\", \"volatil\", \"intent\", \"trade\", \"coin\", \"basket\", \"cohort\", \"utter\", \"dialog\", \"recommend\", \"user\", \"bitcoin\", \"portfolio\", \"bot\", \"buy\", \"purchas\", \"anomali\", \"period\", \"sale\", \"market\", \"sell\", \"return\", \"predict\", \"movi\", \"custom\", \"product\", \"rate\", \"analysi\", \"day\", \"strategi\", \"averag\", \"month\", \"question\", \"let\", \"follow\", \"result\", \"test\", \"valu\", \"inform\", \"number\", \"understand\"], \"Total\": [48230.0, 40230.0, 26121.0, 50048.0, 45235.0, 25812.0, 26815.0, 30117.0, 15347.0, 39649.0, 21893.0, 21321.0, 13407.0, 41313.0, 10473.0, 31481.0, 13337.0, 29843.0, 23125.0, 36586.0, 14054.0, 33056.0, 16078.0, 34947.0, 12150.0, 33315.0, 27046.0, 9879.0, 14257.0, 12984.0, 222.55801391601562, 178.8662872314453, 168.76217651367188, 79.8788070678711, 85.80574798583984, 631.5930786132812, 71.8048095703125, 150.1721954345703, 220.85922241210938, 59.792747497558594, 61.24348068237305, 124.118896484375, 64.7103500366211, 57.8239860534668, 47.74754333496094, 392.26324462890625, 151.322509765625, 1625.8638916015625, 111.00032043457031, 160.2834930419922, 77.40522766113281, 45.298675537109375, 40.78370666503906, 38.77558898925781, 43.2657585144043, 36.3037223815918, 145.4306640625, 34.921348571777344, 35.00830078125, 100.83592224121094, 270.0984802246094, 210.14051818847656, 207.18438720703125, 121.78921508789062, 176.68080139160156, 123.15830993652344, 4011.040283203125, 1905.4100341796875, 655.5371704101562, 762.3458251953125, 5107.83935546875, 2407.669189453125, 683.3512573242188, 421.2726135253906, 446.96514892578125, 1122.49365234375, 1828.712646484375, 2852.923095703125, 1285.791015625, 4729.2998046875, 2269.717529296875, 1466.215576171875, 14667.1748046875, 4376.955078125, 5556.09033203125, 1106.74755859375, 655.365234375, 823.9395141601562, 3788.31005859375, 5028.59716796875, 45235.734375, 5278.794921875, 993.7944946289062, 3742.620361328125, 2034.33203125, 1912.32373046875, 3018.60302734375, 10474.7529296875, 2122.912353515625, 10069.68359375, 1761.9278564453125, 5447.04833984375, 39649.2109375, 14159.083984375, 6993.23095703125, 16638.013671875, 20804.884765625, 10963.513671875, 9650.5458984375, 11955.091796875, 37497.59375, 31123.017578125, 12528.6455078125, 16479.154296875, 6925.36962890625, 25734.34375, 24666.701171875, 28447.19140625, 37063.234375, 26294.5546875, 19663.958984375, 10504.052734375, 24785.466796875, 29788.189453125, 23279.537109375, 20612.447265625, 21811.8671875, 28825.923828125, 29648.8671875, 66.97389221191406, 177.2471923828125, 278.6811218261719, 60.60468673706055, 55.775760650634766, 86.36104583740234, 54.53404998779297, 167.7683563232422, 43.505149841308594, 91.37899017333984, 41.09814453125, 36.563899993896484, 195.9313201904297, 38.64516830444336, 38.92369842529297, 31.539302825927734, 69.02899169921875, 39.0235595703125, 144.7675323486328, 28.666156768798828, 35.67109298706055, 29.151304244995117, 72.59728240966797, 129.9042205810547, 25.525470733642578, 92.69859313964844, 69.19178009033203, 37.032588958740234, 27.532194137573242, 90.16941833496094, 164.31802368164062, 318.8162536621094, 235.85951232910156, 84.23761749267578, 68.77754211425781, 221.71006774902344, 380.2891540527344, 169.60733032226562, 415.97613525390625, 184.88833618164062, 414.60260009765625, 711.7898559570312, 6874.42529296875, 505.0896911621094, 468.0711669921875, 271.8096923828125, 633.8553466796875, 14580.810546875, 1542.2462158203125, 2965.016357421875, 196.63137817382812, 245.04624938964844, 4117.69775390625, 1077.6546630859375, 1536.6383056640625, 1554.4927978515625, 991.4649047851562, 3887.7509765625, 2345.0966796875, 1146.6429443359375, 8532.4716796875, 5904.3095703125, 7090.90234375, 1427.3240966796875, 24970.26171875, 2745.169677734375, 1515.351318359375, 2078.5087890625, 1453.431884765625, 26294.5546875, 8205.4873046875, 4415.296875, 2409.917236328125, 4737.71435546875, 37497.59375, 9192.23828125, 13036.6162109375, 8926.234375, 10505.5693359375, 10278.462890625, 13361.7001953125, 19543.84765625, 5484.00048828125, 9899.890625, 12355.8125, 9895.8310546875, 19547.33984375, 28447.19140625, 13818.51171875, 16411.802734375, 21911.3828125, 24938.1953125, 10504.052734375, 31123.017578125, 21285.96875, 23279.537109375, 16544.443359375, 29648.8671875, 26540.53125, 35125.703125, 21811.8671875, 26341.095703125, 19299.55078125, 364.9552001953125, 338.50347900390625, 221.32896423339844, 229.24716186523438, 210.232666015625, 197.23207092285156, 184.4512481689453, 171.5484161376953, 168.5860137939453, 337.3873291015625, 157.38714599609375, 13407.326171875, 220.8048095703125, 266.3954772949219, 130.28465270996094, 248.5091552734375, 125.95037841796875, 1923.613037109375, 231.30990600585938, 102.71819305419922, 336.50341796875, 101.39567565917969, 114.23130798339844, 116.26942443847656, 93.72952270507812, 988.5867309570312, 81.26155853271484, 111.74845123291016, 90.90754699707031, 77.9835433959961, 3495.510986328125, 801.0142822265625, 404.66619873046875, 368.3820495605469, 721.662353515625, 366.3576354980469, 530.9445190429688, 351.9759826660156, 197.54034423828125, 164.89573669433594, 513.8824462890625, 234.34866333007812, 1999.3538818359375, 3424.11474609375, 3702.456298828125, 2237.576904296875, 1311.8797607421875, 1254.8515625, 4677.07421875, 7566.255859375, 9181.79296875, 1514.5849609375, 1200.760498046875, 3803.33447265625, 2050.10009765625, 2943.495361328125, 3539.665283203125, 9102.1162109375, 2580.33349609375, 4107.447265625, 5565.14453125, 31481.7578125, 3404.731201171875, 3858.73876953125, 2780.657958984375, 8083.166015625, 16131.021484375, 8399.7548828125, 27046.908203125, 23158.412109375, 17859.0078125, 4762.146484375, 3740.99658203125, 7827.81640625, 21893.90625, 39649.2109375, 4901.3095703125, 15562.2646484375, 17684.326171875, 26341.095703125, 8956.9853515625, 4870.734375, 9653.6474609375, 21196.701171875, 27832.61328125, 28447.19140625, 17021.42578125, 31123.017578125, 33056.6171875, 19527.318359375, 32461.474609375, 24666.701171875, 50048.1953125, 19663.958984375, 15184.77734375, 663.7997436523438, 225.7023468017578, 218.3761749267578, 301.2601013183594, 177.5334014892578, 130.7217254638672, 128.10226440429688, 127.09149932861328, 126.69306182861328, 122.43437194824219, 149.95626831054688, 133.3251495361328, 131.09352111816406, 106.38561248779297, 373.2170715332031, 108.77731323242188, 91.26506042480469, 90.2397689819336, 108.3807373046875, 239.99696350097656, 371.6971130371094, 78.57389068603516, 601.936767578125, 71.00111389160156, 141.69775390625, 486.99627685546875, 522.0901489257812, 210.29090881347656, 355.4773254394531, 60.4162483215332, 3139.57275390625, 701.9443359375, 701.782470703125, 563.9769897460938, 1324.0032958984375, 1700.7379150390625, 8496.9794921875, 3162.995849609375, 1381.072265625, 457.70233154296875, 291.4188232421875, 8768.654296875, 9115.9296875, 600.8518676757812, 1100.27392578125, 680.8626098632812, 2199.27490234375, 2750.755126953125, 13962.70703125, 4275.79052734375, 1312.2542724609375, 1765.078369140625, 1871.8194580078125, 9500.4453125, 11628.6669921875, 6856.07275390625, 2464.51416015625, 12053.041015625, 8748.60546875, 1475.1619873046875, 41313.52734375, 12207.9345703125, 11225.673828125, 15315.2919921875, 3948.2939453125, 9359.3349609375, 9741.595703125, 34947.4453125, 33315.09375, 36586.23046875, 7488.2685546875, 16880.892578125, 7225.9326171875, 8088.76513671875, 26670.736328125, 29875.908203125, 25390.10546875, 28825.923828125, 15100.013671875, 18147.9296875, 37063.234375, 14184.6533203125, 31683.640625, 14150.3955078125, 29591.65625, 23125.630859375, 21321.595703125, 35125.703125, 24807.767578125, 50048.1953125, 103.34481811523438, 157.5858612060547, 54.803123474121094, 56.12464141845703, 127.61432647705078, 190.097900390625, 40.06254959106445, 70.6838150024414, 82.74209594726562, 88.7688217163086, 44.73973846435547, 52.63675308227539, 59.43556594848633, 26.072696685791016, 29.922405242919922, 461.8857421875, 34.629302978515625, 44.502296447753906, 20.00271987915039, 35.00513458251953, 3074.2646484375, 18.769262313842773, 58.25419616699219, 18.174484252929688, 39.14530944824219, 16.593666076660156, 1838.3763427734375, 493.0375671386719, 38.09769058227539, 124.63316345214844, 15347.552734375, 9114.2509765625, 85.62006378173828, 82.36530303955078, 126.46228790283203, 5329.0, 1263.1348876953125, 587.039794921875, 438.5159912109375, 1638.2674560546875, 613.5900268554688, 8947.0673828125, 461.6711120605469, 380.69952392578125, 423.154296875, 26815.48046875, 12548.5185546875, 14842.7783203125, 4584.02392578125, 3586.69873046875, 7751.37451171875, 13337.400390625, 1154.923828125, 2559.350830078125, 3162.891357421875, 565.8133544921875, 8909.7978515625, 40230.859375, 10081.5537109375, 12087.4814453125, 5512.84521484375, 2003.9810791015625, 6023.1943359375, 6803.27392578125, 13539.73828125, 33056.6171875, 8875.982421875, 19559.6640625, 21196.701171875, 23169.90234375, 20612.447265625, 26540.53125, 27046.908203125, 6689.837890625, 21893.90625, 13347.193359375, 17859.0078125, 39649.2109375, 31481.7578125, 37497.59375, 29788.189453125, 45235.734375, 27832.61328125, 364.9194030761719, 357.7702941894531, 274.731689453125, 242.73497009277344, 246.48263549804688, 207.69439697265625, 150.51785278320312, 142.60415649414062, 153.49737548828125, 121.06245422363281, 112.24281311035156, 182.00608825683594, 114.6921615600586, 88.87207794189453, 81.58880615234375, 288.648193359375, 109.24552154541016, 306.29144287109375, 71.40296936035156, 68.7135238647461, 63.7109260559082, 56.1927375793457, 123.43053436279297, 48.816314697265625, 52.45836639404297, 171.12359619140625, 39.01211166381836, 41.48528289794922, 285.8065490722656, 96.91471099853516, 312.6235046386719, 210.6452178955078, 148.6708221435547, 99.91767120361328, 5009.3603515625, 1050.9306640625, 1256.4149169921875, 2033.61474609375, 267.7001647949219, 144.4805145263672, 1602.9862060546875, 9743.0791015625, 5936.9296875, 6285.35205078125, 14257.173828125, 1535.4927978515625, 9043.998046875, 1725.177978515625, 4934.86572265625, 2102.053466796875, 5997.50732421875, 12608.1201171875, 1051.4881591796875, 25812.5859375, 4652.779296875, 18066.6953125, 3062.40576171875, 50048.1953125, 1075.1741943359375, 30117.0546875, 3023.031005859375, 4573.13134765625, 5882.39501953125, 11415.0478515625, 10681.5927734375, 22853.771484375, 11479.4892578125, 5290.4912109375, 37063.234375, 19622.18359375, 35125.703125, 12576.3603515625, 24666.701171875, 45235.734375, 17344.876953125, 12542.685546875, 24807.767578125, 18957.705078125, 29788.189453125, 29648.8671875, 34947.4453125, 14184.6533203125, 232.59938049316406, 223.4197540283203, 500.4598388671875, 320.052978515625, 140.9269256591797, 162.0916748046875, 473.9839172363281, 98.08780670166016, 102.24536895751953, 612.36181640625, 95.88645935058594, 537.3703002929688, 178.27926635742188, 125.87398529052734, 67.8844223022461, 57.703582763671875, 71.55574798583984, 86.83299255371094, 50.471614837646484, 66.0944595336914, 48.876216888427734, 512.3419799804688, 75.7913818359375, 93.99028778076172, 42.14471435546875, 75.52084350585938, 619.5205688476562, 37.958984375, 41.09653854370117, 93.0164566040039, 1114.18603515625, 478.5528564453125, 2034.9246826171875, 155.4123077392578, 690.0921630859375, 421.55224609375, 786.546142578125, 294.3201599121094, 279.4347839355469, 292.2696838378906, 1244.4605712890625, 388.3713073730469, 3046.81689453125, 1728.0404052734375, 1935.999267578125, 331.8263244628906, 3369.761474609375, 800.1298828125, 3933.470947265625, 5894.07568359375, 2672.844482421875, 7443.67919921875, 684.5137939453125, 16078.4150390625, 12984.125, 5681.84130859375, 2030.72705078125, 887.4314575195312, 4921.345703125, 29843.28125, 5637.5166015625, 9821.5595703125, 9274.509765625, 3905.5751953125, 6544.02099609375, 21354.78515625, 19281.369140625, 7667.6728515625, 2413.808349609375, 9671.896484375, 1853.56005859375, 3055.943359375, 26341.095703125, 5603.69287109375, 7892.228515625, 24970.26171875, 17506.255859375, 15302.8330078125, 13361.7001953125, 32461.474609375, 10681.5927734375, 17048.94140625, 19527.318359375, 26670.736328125, 16544.443359375, 27832.61328125, 34947.4453125, 23346.208984375, 26003.93359375, 14887.2978515625, 13153.6591796875, 23158.412109375, 40230.859375, 18224.61328125, 804.44287109375, 411.330322265625, 827.6282348632812, 413.2030334472656, 340.98553466796875, 580.4158325195312, 285.8518981933594, 358.77484130859375, 322.2535400390625, 249.73239135742188, 332.1228332519531, 233.76034545898438, 171.73912048339844, 163.32998657226562, 151.03538513183594, 152.9298858642578, 155.04183959960938, 145.3479461669922, 118.44384002685547, 118.0904769897461, 192.3551788330078, 111.34016418457031, 118.51988983154297, 163.5513458251953, 98.19254302978516, 97.93760681152344, 95.20394897460938, 151.5653076171875, 103.7529067993164, 94.02259063720703, 774.1471557617188, 864.1729125976562, 555.8438720703125, 1154.5457763671875, 1321.983154296875, 156.48318481445312, 5120.75927734375, 692.7720336914062, 386.4111633300781, 267.8211364746094, 48230.98828125, 9879.9072265625, 8457.92578125, 1143.308837890625, 5191.8388671875, 376.1575927734375, 245.3037872314453, 4023.36181640625, 545.14208984375, 441.69464111328125, 4097.4677734375, 776.2769775390625, 2088.495361328125, 1541.9339599609375, 13653.40234375, 1833.634521484375, 1501.9620361328125, 1272.6148681640625, 2397.013671875, 21321.595703125, 2492.944091796875, 3386.029541015625, 17078.15234375, 7201.69970703125, 50048.1953125, 30117.0546875, 11240.98828125, 11427.77734375, 23125.630859375, 8941.5634765625, 25812.5859375, 4858.3935546875, 3853.80810546875, 8576.9775390625, 10609.0302734375, 8036.671875, 9890.7138671875, 10652.703125, 11650.1025390625, 11046.779296875, 14150.3955078125, 33315.09375, 31683.640625, 10403.1669921875, 21354.78515625, 29843.28125, 24807.767578125, 951.4749755859375, 482.86279296875, 324.4964294433594, 234.82582092285156, 220.30433654785156, 212.39443969726562, 179.350830078125, 149.92930603027344, 153.76412963867188, 140.8270721435547, 135.6071319580078, 171.67613220214844, 113.56546020507812, 103.87129974365234, 104.93981170654297, 101.35344696044922, 99.60424041748047, 90.71382141113281, 87.47673797607422, 84.8095932006836, 83.66780853271484, 78.25796508789062, 75.8124771118164, 61.50345230102539, 57.006099700927734, 56.89643478393555, 292.27227783203125, 53.29412841796875, 1790.50927734375, 45.38572692871094, 327.06964111328125, 502.7263488769531, 215.40480041503906, 5401.2333984375, 473.6422424316406, 2643.3427734375, 461.2805480957031, 392.5118103027344, 26121.8515625, 1080.1964111328125, 1130.6605224609375, 5663.732421875, 151.494140625, 14054.0341796875, 7857.3173828125, 330.0805969238281, 1526.066162109375, 3248.597900390625, 3822.79345703125, 12150.3515625, 2210.274658203125, 3771.81298828125, 647.194091796875, 8407.9765625, 4366.130859375, 3108.9814453125, 4651.7421875, 3663.14892578125, 4334.37890625, 1421.4207763671875, 2160.7958984375, 2791.005859375, 4028.19140625, 16978.12890625, 2730.31396484375, 8912.0712890625, 13121.20703125, 4878.67431640625, 6557.56689453125, 14436.0966796875, 8088.76513671875, 5290.4912109375, 23125.630859375, 8194.462890625, 14887.2978515625, 29875.908203125, 16173.201171875, 29591.65625, 33315.09375, 29843.28125, 20108.296875, 41313.52734375, 34947.4453125, 20341.7421875, 31683.640625, 17385.15625, 29788.189453125, 26003.93359375, 28825.923828125, 23346.208984375, 1089.541259765625, 273.98406982421875, 184.39297485351562, 281.3915100097656, 72.33950805664062, 63.54763412475586, 50.13764953613281, 52.538002014160156, 74.92630767822266, 314.341064453125, 165.1198272705078, 44.5113525390625, 28.017683029174805, 483.9299621582031, 67.94940185546875, 99.82341766357422, 44.06816864013672, 17.98039436340332, 157.6085205078125, 17.176969528198242, 44.547367095947266, 539.5394897460938, 28.45073890686035, 28.126413345336914, 47.7979850769043, 120.68719482421875, 40.11702346801758, 49.035865783691406, 175.96002197265625, 93.39921569824219, 299.08599853515625, 3147.76318359375, 245.24635314941406, 10473.66015625, 801.1242065429688, 130.6548309326172, 2942.57861328125, 820.9927978515625, 1100.2449951171875, 393.1103515625, 5680.6728515625, 3210.0615234375, 677.1692504882812, 4908.228515625, 6063.06005859375, 2805.834228515625, 367.19866943359375, 701.1041259765625, 610.8467407226562, 847.7408447265625, 12001.6015625, 40230.859375, 3082.25390625, 1885.21923828125, 13337.400390625, 4670.25244140625, 3553.2958984375, 1425.9805908203125, 3638.0986328125, 6526.9501953125, 21893.90625, 3566.10546875, 7520.736328125, 36586.23046875, 4783.10302734375, 26815.48046875, 33056.6171875, 15100.013671875, 16173.201171875, 19543.84765625, 7731.49072265625, 9086.6474609375, 8429.3271484375, 21911.3828125, 29591.65625, 26003.93359375, 31683.640625, 26670.736328125, 41313.52734375, 29788.189453125, 29875.908203125, 29648.8671875], \"loglift\": [30.0, 29.0, 28.0, 27.0, 26.0, 25.0, 24.0, 23.0, 22.0, 21.0, 20.0, 19.0, 18.0, 17.0, 16.0, 15.0, 14.0, 13.0, 12.0, 11.0, 10.0, 9.0, 8.0, 7.0, 6.0, 5.0, 4.0, 3.0, 2.0, 1.0, 1.9349000453948975, 1.932800054550171, 1.9321999549865723, 1.9282000064849854, 1.9277000427246094, 1.9276000261306763, 1.9275000095367432, 1.926300048828125, 1.9256999492645264, 1.9250999689102173, 1.9249999523162842, 1.9240000247955322, 1.9234999418258667, 1.9218000173568726, 1.9210000038146973, 1.9208999872207642, 1.920699954032898, 1.920300006866455, 1.9194999933242798, 1.9191999435424805, 1.919100046157837, 1.9190000295639038, 1.9180999994277954, 1.9156999588012695, 1.9156999588012695, 1.9155000448226929, 1.9142999649047852, 1.914199948310852, 1.914199948310852, 1.913599967956543, 1.913599967956543, 1.9118000268936157, 1.9110000133514404, 1.9119999408721924, 1.9082000255584717, 1.9112999439239502, 1.8641999959945679, 1.8632999658584595, 1.878600001335144, 1.8753999471664429, 1.8208999633789062, 1.836300015449524, 1.8698999881744385, 1.8838000297546387, 1.8791999816894531, 1.8460999727249146, 1.8265999555587769, 1.8051999807357788, 1.8345999717712402, 1.7761000394821167, 1.791599988937378, 1.8082000017166138, 1.6806999444961548, 1.7430000305175781, 1.7237999439239502, 1.8133000135421753, 1.8387000560760498, 1.8205000162124634, 1.7130999565124512, 1.6792999505996704, 1.4677000045776367, 1.6295000314712524, 1.7913999557495117, 1.655400037765503, 1.7077000141143799, 1.7079999446868896, 1.6359000205993652, 1.461300015449524, 1.6763999462127686, 1.4007999897003174, 1.6979000568389893, 1.4622999429702759, 1.0078999996185303, 1.218400001525879, 1.3415000438690186, 1.0910999774932861, 1.0262999534606934, 1.1658999919891357, 1.191100001335144, 1.0992000102996826, 0.7001000046730042, 0.7166000008583069, 1.0413999557495117, 0.8723999857902527, 1.2575000524520874, 0.541700005531311, 0.5611000061035156, 0.45159998536109924, 0.23199999332427979, 0.37709999084472656, 0.550000011920929, 0.9550999999046326, 0.2303999960422516, 0.06949999928474426, 0.24369999766349792, 0.3352000117301941, 0.2800999879837036, 0.0007999999797903001, -0.028200000524520874, 1.9499000310897827, 1.9498000144958496, 1.948799967765808, 1.9486000537872314, 1.9473999738693237, 1.9471999406814575, 1.9471999406814575, 1.9458999633789062, 1.9424999952316284, 1.9420000314712524, 1.9401999711990356, 1.9391000270843506, 1.938099980354309, 1.9362000226974487, 1.9361000061035156, 1.9352999925613403, 1.9352999925613403, 1.9350999593734741, 1.9323999881744385, 1.9321000576019287, 1.9312000274658203, 1.930299997329712, 1.9297000169754028, 1.9282000064849854, 1.9278000593185425, 1.92739999294281, 1.926900029182434, 1.9265999794006348, 1.9227999448776245, 1.9213999509811401, 1.9119999408721924, 1.8955999612808228, 1.8975000381469727, 1.9143999814987183, 1.9155999422073364, 1.8919999599456787, 1.875, 1.892199993133545, 1.8623000383377075, 1.8880000114440918, 1.8524999618530273, 1.830399990081787, 1.729200005531311, 1.839400053024292, 1.8392000198364258, 1.861199975013733, 1.8102999925613403, 1.5944000482559204, 1.7380000352859497, 1.6858999729156494, 1.8698999881744385, 1.8530999422073364, 1.6403000354766846, 1.7437000274658203, 1.7144999504089355, 1.704699993133545, 1.732800006866455, 1.597100019454956, 1.6411000490188599, 1.7089999914169312, 1.4874000549316406, 1.5228999853134155, 1.4952000379562378, 1.6750999689102173, 1.319100022315979, 1.5844999551773071, 1.657099962234497, 1.6014000177383423, 1.6490999460220337, 1.2122000455856323, 1.3842999935150146, 1.4491000175476074, 1.5568000078201294, 1.4336999654769897, 1.0436999797821045, 1.2950999736785889, 1.2049000263214111, 1.2694000005722046, 1.2206000089645386, 1.218999981880188, 1.1486999988555908, 1.0492000579833984, 1.343500018119812, 1.1952999830245972, 1.0994999408721924, 1.1598999500274658, 0.9459999799728394, 0.7473999857902527, 0.9703999757766724, 0.9043999910354614, 0.7918999791145325, 0.7390999794006348, 1.0602999925613403, 0.5533999800682068, 0.7167999744415283, 0.631600022315979, 0.7847999930381775, 0.42820000648498535, 0.39989998936653137, 0.16110000014305115, 0.53329998254776, 0.31679999828338623, 0.5942000150680542, 2.0708999633789062, 2.0708999633789062, 2.069499969482422, 2.0694000720977783, 2.069000005722046, 2.0687999725341797, 2.068700075149536, 2.0680999755859375, 2.0678000450134277, 2.0678000450134277, 2.0678000450134277, 2.067500114440918, 2.066999912261963, 2.0669000148773193, 2.066800117492676, 2.0660998821258545, 2.0657999515533447, 2.0652999877929688, 2.0645999908447266, 2.064199924468994, 2.0641000270843506, 2.063800096511841, 2.063499927520752, 2.063499927520752, 2.0631000995635986, 2.0627999305725098, 2.0625, 2.062299966812134, 2.0622000694274902, 2.0622000694274902, 2.059299945831299, 2.061000108718872, 2.0592000484466553, 2.057800054550171, 2.0508999824523926, 2.0571999549865723, 2.053299903869629, 2.0560998916625977, 2.061000108718872, 2.0615999698638916, 2.034899950027466, 2.052000045776367, 1.9836000204086304, 1.9507999420166016, 1.9452999830245972, 1.9523999691009521, 1.9707000255584717, 1.9703999757766724, 1.8873000144958496, 1.8287999629974365, 1.808500051498413, 1.9342000484466553, 1.9483000040054321, 1.851099967956543, 1.896399974822998, 1.86080002784729, 1.8358999490737915, 1.7259000539779663, 1.8463000059127808, 1.791100025177002, 1.7417000532150269, 1.5068999528884888, 1.788100004196167, 1.7546000480651855, 1.7898000478744507, 1.610700011253357, 1.4881000518798828, 1.5622999668121338, 1.3055000305175781, 1.329699993133545, 1.3803999423980713, 1.6576999425888062, 1.7170000076293945, 1.5281000137329102, 1.2510000467300415, 1.0674999952316284, 1.6332000494003296, 1.1887999773025513, 1.1220999956130981, 0.8086000084877014, 1.3127000331878662, 1.607800006866455, 1.2582000494003296, 0.8400999903678894, 0.6912999749183655, 0.6531000137329102, 0.935699999332428, 0.5532000064849854, 0.492900013923645, 0.7138000130653381, 0.3003000020980835, 0.5026999711990356, -0.06480000168085098, 0.5996999740600586, 0.8241000175476074, 2.1045000553131104, 2.102099895477295, 2.1006999015808105, 2.100100040435791, 2.099299907684326, 2.0992000102996826, 2.099100112915039, 2.099100112915039, 2.0989999771118164, 2.09879994392395, 2.098400115966797, 2.098400115966797, 2.098400115966797, 2.0977001190185547, 2.097399950027466, 2.0966999530792236, 2.0961999893188477, 2.096100091934204, 2.0957999229431152, 2.0952000617980957, 2.0950000286102295, 2.0947999954223633, 2.0940001010894775, 2.0934998989105225, 2.093100070953369, 2.093100070953369, 2.0927000045776367, 2.0920000076293945, 2.0915000438690186, 2.0913000106811523, 2.089099884033203, 2.089400053024292, 2.087399959564209, 2.089200019836426, 2.0799999237060547, 2.0745999813079834, 2.058300018310547, 2.049299955368042, 2.0636000633239746, 2.0801000595092773, 2.0857999324798584, 1.996899962425232, 1.9848999977111816, 2.0655999183654785, 2.0413999557495117, 2.052799940109253, 2.0090999603271484, 1.9977999925613403, 1.8941999673843384, 1.944700002670288, 2.010200023651123, 1.9900000095367432, 1.9823999404907227, 1.840399980545044, 1.8100999593734741, 1.8523000478744507, 1.919800043106079, 1.739400029182434, 1.7587000131607056, 1.9607000350952148, 1.5568000078201294, 1.7032999992370605, 1.6916999816894531, 1.6390000581741333, 1.8242000341415405, 1.6805000305175781, 1.662500023841858, 1.4257999658584595, 1.3802000284194946, 1.3222999572753906, 1.6200000047683716, 1.3797999620437622, 1.5946999788284302, 1.5550999641418457, 1.1543999910354614, 1.1125999689102173, 1.1491999626159668, 1.0724999904632568, 1.2937999963760376, 1.1963000297546387, 0.8478000164031982, 1.2568999528884888, 0.8050000071525574, 1.2389999628067017, 0.7818999886512756, 0.9312000274658203, 0.9519000053405762, 0.5634999871253967, 0.8051999807357788, 0.06340000033378601, 2.2372000217437744, 2.233099937438965, 2.2314999103546143, 2.231300115585327, 2.230600118637085, 2.2293999195098877, 2.2255001068115234, 2.2207999229431152, 2.217099905014038, 2.21560001373291, 2.21560001373291, 2.213900089263916, 2.2137999534606934, 2.213399887084961, 2.213099956512451, 2.2119998931884766, 2.2105000019073486, 2.209399938583374, 2.202699899673462, 2.2002999782562256, 2.198199987411499, 2.198199987411499, 2.1974000930786133, 2.1967999935150146, 2.19350004196167, 2.19320011138916, 2.1923000812530518, 2.1907999515533447, 2.1868999004364014, 2.1846001148223877, 2.1514999866485596, 2.1458001136779785, 2.1816000938415527, 2.1770999431610107, 2.166800022125244, 2.079699993133545, 2.1122000217437744, 2.1331000328063965, 2.1338000297546387, 2.086199998855591, 2.1150999069213867, 1.9946999549865723, 2.1080000400543213, 2.1142001152038574, 2.0982000827789307, 1.8258999586105347, 1.8631000518798828, 1.8250999450683594, 1.9040000438690186, 1.9155000448226929, 1.8349000215530396, 1.779099941253662, 1.9836000204086304, 1.9083000421524048, 1.8765000104904175, 2.046099901199341, 1.711400032043457, 1.482800006866455, 1.6375000476837158, 1.5880999565124512, 1.708400011062622, 1.8554999828338623, 1.6728999614715576, 1.6466000080108643, 1.4990999698638916, 1.3128999471664429, 1.5530999898910522, 1.3776999711990356, 1.3567999601364136, 1.3251999616622925, 1.347000002861023, 1.1712000370025635, 1.141700029373169, 1.5959999561309814, 1.007699966430664, 1.2239999771118164, 1.0168999433517456, 0.5393999814987183, 0.6464999914169312, 0.45179998874664307, 0.5412999987602234, 0.1972000002861023, 0.5683000087738037, 2.43530011177063, 2.4349000453948975, 2.4344000816345215, 2.4340999126434326, 2.433799982070923, 2.4333999156951904, 2.43179988861084, 2.43149995803833, 2.43149995803833, 2.4303998947143555, 2.429800033569336, 2.4293999671936035, 2.42930006980896, 2.427500009536743, 2.4265999794006348, 2.4263999462127686, 2.426300048828125, 2.4256999492645264, 2.425299882888794, 2.424799919128418, 2.423799991607666, 2.421999931335449, 2.4200000762939453, 2.4195001125335693, 2.4184999465942383, 2.416599988937378, 2.414900064468384, 2.414099931716919, 2.4133999347686768, 2.412899971008301, 2.4054999351501465, 2.407900094985962, 2.410599946975708, 2.410799980163574, 2.3289999961853027, 2.358299970626831, 2.343899965286255, 2.300600051879883, 2.378499984741211, 2.400399923324585, 2.2908999919891357, 2.1273000240325928, 2.1561999320983887, 2.111999988555908, 2.021699905395508, 2.1998000144958496, 2.004199981689453, 2.1531999111175537, 2.0185000896453857, 2.104300022125244, 1.9356000423431396, 1.8310999870300293, 2.171299934387207, 1.7226999998092651, 1.9531999826431274, 1.726199984550476, 1.9962999820709229, 1.4637999534606934, 2.1610000133514404, 1.5124000310897827, 1.9235999584197998, 1.8214999437332153, 1.7563999891281128, 1.590399980545044, 1.5095000267028809, 1.2745000123977661, 1.4256999492645264, 1.65910005569458, 0.9782000184059143, 1.1782000064849854, 0.9347000122070312, 1.2898999452590942, 0.9570000171661377, 0.567799985408783, 1.0305999517440796, 1.142899990081787, 0.6182000041007996, 0.79339998960495, 0.4848000109195709, 0.46880000829696655, 0.3142000138759613, 0.9631999731063843, 2.4772000312805176, 2.4772000312805176, 2.4758999347686768, 2.4746999740600586, 2.4739999771118164, 2.473400115966797, 2.4723000526428223, 2.4707000255584717, 2.4702000617980957, 2.4697000980377197, 2.469599962234497, 2.469399929046631, 2.4681999683380127, 2.468100070953369, 2.4674999713897705, 2.46560001373291, 2.4653000831604004, 2.464099884033203, 2.4630000591278076, 2.4628000259399414, 2.462399959564209, 2.461199998855591, 2.4605000019073486, 2.460200071334839, 2.458400011062622, 2.458199977874756, 2.457200050354004, 2.4570999145507812, 2.4560000896453857, 2.4528000354766846, 2.4367001056671143, 2.44350004196167, 2.4247000217437744, 2.4491000175476074, 2.424499988555908, 2.434000015258789, 2.4182000160217285, 2.43530011177063, 2.4339001178741455, 2.4300999641418457, 2.3857998847961426, 2.419600009918213, 2.34660005569458, 2.3682000637054443, 2.3529999256134033, 2.416300058364868, 2.2897000312805176, 2.3605000972747803, 2.2369000911712646, 2.1865999698638916, 2.2427000999450684, 2.1386001110076904, 2.3468000888824463, 2.0302999019622803, 1.9579999446868896, 2.0648999214172363, 2.1707000732421875, 2.2683000564575195, 1.99399995803833, 1.6283999681472778, 1.9186999797821045, 1.7961000204086304, 1.795300006866455, 1.978700041770935, 1.8458000421524048, 1.5616999864578247, 1.4664000272750854, 1.7120000123977661, 2.041300058364868, 1.5809999704360962, 2.1084001064300537, 1.9347000122070312, 1.1898000240325928, 1.708299994468689, 1.5733000040054321, 1.1054999828338623, 1.2175999879837036, 1.2554999589920044, 1.3121999502182007, 0.8859999775886536, 1.3801000118255615, 1.1087000370025635, 0.9394999742507935, 0.6969000101089478, 1.0120999813079834, 0.6341999769210815, 0.41100001335144043, 0.6998999714851379, 0.6001999974250793, 1.068600058555603, 1.1658999919891357, 0.628600001335144, 0.08579999953508377, 0.8493000268936157, 2.5267999172210693, 2.5262999534606934, 2.52620005607605, 2.5257999897003174, 2.525700092315674, 2.5255000591278076, 2.525399923324585, 2.525399923324585, 2.5250000953674316, 2.5246999263763428, 2.523900032043457, 2.5232999324798584, 2.523200035095215, 2.523099899291992, 2.522700071334839, 2.522700071334839, 2.522599935531616, 2.5225000381469727, 2.5211000442504883, 2.5211000442504883, 2.520699977874756, 2.52020001411438, 2.5201001167297363, 2.5195999145507812, 2.519399881362915, 2.519200086593628, 2.519200086593628, 2.5190000534057617, 2.5190000534057617, 2.518899917602539, 2.5169999599456787, 2.510699987411499, 2.5132999420166016, 2.5044000148773193, 2.5016000270843506, 2.516900062561035, 2.4579999446868896, 2.497999906539917, 2.5023999214172363, 2.5081000328063965, 2.384700059890747, 2.417099952697754, 2.4198999404907227, 2.474600076675415, 2.4238998889923096, 2.498300075531006, 2.5078999996185303, 2.390500068664551, 2.4742000102996826, 2.482300043106079, 2.3673999309539795, 2.4428999423980713, 2.352099895477295, 2.3750998973846436, 2.144700050354004, 2.334399938583374, 2.354099988937378, 2.3366000652313232, 2.2258999347686768, 1.8660000562667847, 2.1967999935150146, 2.1303000450134277, 1.732699990272522, 1.9169000387191772, 1.388100028038025, 1.455199956893921, 1.7174999713897705, 1.7069000005722046, 1.489799976348877, 1.7430000305175781, 1.3909000158309937, 1.9328999519348145, 2.000699996948242, 1.6592999696731567, 1.573099970817566, 1.6676000356674194, 1.5575000047683716, 1.4746999740600586, 1.3985999822616577, 1.4221999645233154, 1.250499963760376, 0.7265999913215637, 0.697700023651123, 1.388100028038025, 0.8863999843597412, 0.6396999955177307, 0.7166000008583069, 2.722599983215332, 2.72160005569458, 2.7207999229431152, 2.7197999954223633, 2.7195000648498535, 2.719399929046631, 2.718600034713745, 2.717600107192993, 2.7172999382019043, 2.7172999382019043, 2.7170000076293945, 2.71589994430542, 2.71560001373291, 2.7149999141693115, 2.7147998809814453, 2.7147998809814453, 2.714099884033203, 2.713599920272827, 2.713099956512451, 2.713099956512451, 2.712100028991699, 2.712100028991699, 2.711699962615967, 2.7090001106262207, 2.707900047302246, 2.707900047302246, 2.707200050354004, 2.7053000926971436, 2.704699993133545, 2.7037999629974365, 2.6849000453948975, 2.680500030517578, 2.684499979019165, 2.611299991607666, 2.6637001037597656, 2.6013998985290527, 2.655600070953369, 2.6540000438690186, 2.4723000526428223, 2.607300043106079, 2.5754001140594482, 2.4590001106262207, 2.687000036239624, 2.355600118637085, 2.373500108718872, 2.625699996948242, 2.494999885559082, 2.4091999530792236, 2.375999927520752, 2.2051000595092773, 2.4007999897003174, 2.302799940109253, 2.530600070953369, 2.169800043106079, 2.260499954223633, 2.275899887084961, 2.199700117111206, 2.239500045776367, 2.2047998905181885, 2.3945000171661377, 2.2955000400543213, 2.1810998916625977, 2.0715999603271484, 1.6728999614715576, 2.1314001083374023, 1.7569999694824219, 1.617900013923645, 1.9407999515533447, 1.8323999643325806, 1.5094000101089478, 1.7157000303268433, 1.895799994468689, 1.2070000171661377, 1.6657999753952026, 1.3473000526428223, 0.9174000024795532, 1.252500057220459, 0.7878999710083008, 0.6269000172615051, 0.6434999704360962, 0.9269999861717224, 0.3000999987125397, 0.4262000024318695, 0.8669000267982483, 0.46790000796318054, 0.9358000159263611, 0.42500001192092896, 0.5426999926567078, 0.42160001397132874, 0.6136000156402588, 3.0652999877929688, 3.0650999546051025, 3.0618999004364014, 3.061199903488159, 3.0562000274658203, 3.0546000003814697, 3.0510001182556152, 3.0510001182556152, 3.04830002784729, 3.047600030899048, 3.0409998893737793, 3.0385000705718994, 3.035900115966797, 3.035599946975708, 3.032399892807007, 3.030900001525879, 3.0264999866485596, 3.0183000564575195, 3.0120999813079834, 3.0116000175476074, 3.010699987411499, 2.9983999729156494, 2.996799945831299, 2.995300054550171, 2.992500066757202, 2.9765000343322754, 2.974600076675415, 2.968899965286255, 2.9625000953674316, 2.947999954223633, 2.932499885559082, 2.8828001022338867, 2.936199903488159, 2.813199996948242, 2.8731000423431396, 2.9428999423980713, 2.802999973297119, 2.859800100326538, 2.819700002670288, 2.8743999004364014, 2.669800043106079, 2.6986000537872314, 2.8141000270843506, 2.6022000312805176, 2.55430006980896, 2.6338999271392822, 2.842600107192993, 2.7367000579833984, 2.7421998977661133, 2.6723999977111816, 2.2418999671936035, 1.976699948310852, 2.3801000118255615, 2.4574999809265137, 1.9810999631881714, 2.2049999237060547, 2.2395999431610107, 2.437000036239624, 2.134999990463257, 1.9357000589370728, 1.495300054550171, 2.1040000915527344, 1.7843999862670898, 1.07669997215271, 1.9134999513626099, 1.1273000240325928, 1.0042999982833862, 1.3495999574661255, 1.2436000108718872, 1.0999000072479248, 1.559399962425232, 1.4629000425338745, 1.5063999891281128, 0.8104000091552734, 0.4880000054836273, 0.5508999824523926, 0.34860000014305115, 0.43470001220703125, 0.020800000056624413, 0.3052999973297119, 0.3003000020980835, 0.2854999899864197], \"logprob\": [30.0, 29.0, 28.0, 27.0, 26.0, 25.0, 24.0, 23.0, 22.0, 21.0, 20.0, 19.0, 18.0, 17.0, 16.0, 15.0, 14.0, 13.0, 12.0, 11.0, 10.0, 9.0, 8.0, 7.0, 6.0, 5.0, 4.0, 3.0, 2.0, 1.0, -8.913100242614746, -9.133899688720703, -9.19260025024414, -9.944499969482422, -9.873499870300293, -7.877500057220459, -10.051799774169922, -9.315199851989746, -8.930000305175781, -10.237299919128418, -10.213399887084961, -9.508000373840332, -10.159899711608887, -10.27400016784668, -10.466400146484375, -8.360400199890137, -9.313199996948242, -6.9390997886657715, -9.624300003051758, -9.257200241088867, -9.985099792480469, -10.520999908447266, -10.626899719238281, -10.679800033569336, -10.570300102233887, -10.745800018310547, -9.359299659729004, -10.78600025177002, -10.783499717712402, -9.726099967956543, -8.740900039672852, -8.99370002746582, -9.008600234985352, -9.538999557495117, -9.170700073242188, -9.528499603271484, -6.092299938201904, -6.837600231170654, -7.889200210571289, -7.741499900817871, -5.893899917602539, -6.630499839782715, -7.856400012969971, -8.326199531555176, -8.271599769592285, -7.383800029754639, -6.915299892425537, -6.4918999671936035, -7.259500026702881, -6.015600204467773, -6.734300136566162, -7.154600143432617, -4.9791998863220215, -6.126200199127197, -5.906799793243408, -7.430799961090088, -7.9293999671936035, -7.718699932098389, -6.30049991607666, -6.05109977722168, -4.065999984741211, -6.0524001121521, -7.560299873352051, -6.370299816131592, -6.927700042724609, -6.989200115203857, -6.604800224304199, -5.535200119018555, -6.916299819946289, -5.635200023651123, -7.081200122833252, -6.188199996948242, -4.657599925994873, -5.476799964904785, -6.059100151062012, -5.442699909210205, -5.28410005569458, -5.785099983215332, -5.887400150299072, -5.765200138092041, -5.021200180053711, -5.190999984741211, -5.776100158691406, -5.671000003814697, -6.1528000831604, -5.556000232696533, -5.578999996185303, -5.545899868011475, -5.500899791717529, -5.699100017547607, -5.816800117492676, -6.038599967956543, -5.904900074005127, -5.881899833679199, -5.95419979095459, -5.984399795532227, -5.982999801635742, -5.983399868011475, -5.984300136566162, -10.099100112915039, -9.12600040435791, -8.674400329589844, -10.200300216674805, -10.284500122070312, -9.847599983215332, -10.307299613952637, -9.184800148010254, -10.5378999710083, -9.796299934387207, -10.597100257873535, -10.715100288391113, -9.037500381469727, -10.662699699401855, -10.655599594116211, -10.866700172424316, -10.083499908447266, -10.65410041809082, -9.34570026397705, -10.965399742126465, -10.747699737548828, -10.950499534606934, -10.038700103759766, -9.458200454711914, -11.085800170898438, -9.796500205993652, -10.089500427246094, -10.714799880981445, -11.01509952545166, -9.8302001953125, -9.239399909973145, -8.593099594116211, -8.892499923706055, -9.905200004577637, -10.106800079345703, -8.95989990234375, -8.437399864196777, -9.22760009765625, -8.360400199890137, -9.145600318908691, -8.37339973449707, -7.855000019073486, -5.688499927520752, -8.18910026550293, -8.26550006866455, -8.78689956665039, -7.991099834442139, -5.071499824523926, -7.174300193786621, -6.572700023651123, -9.10200023651123, -8.898699760437012, -6.289999961853027, -7.5269999504089355, -7.201399803161621, -7.1996002197265625, -7.621300220489502, -6.390600204467773, -6.852099895477295, -7.49970006942749, -5.714200019836426, -6.046899795532227, -5.891499996185303, -7.314700126647949, -4.808800220489502, -6.751200199127197, -7.272799968719482, -7.012499809265137, -7.322500228881836, -4.863999843597412, -5.856500148773193, -6.411399841308594, -6.909200191497803, -6.356299877166748, -4.677599906921387, -5.831999778747559, -5.57289981842041, -5.887199878692627, -5.7729997634887695, -5.79640007019043, -5.604499816894531, -5.323599815368652, -6.30019998550415, -5.857699871063232, -5.731900215148926, -5.893499851226807, -5.426700115203857, -5.250100135803223, -5.749100208282471, -5.643099784851074, -5.466599941253662, -5.389999866485596, -5.933499813079834, -5.3541998863220215, -5.570700168609619, -5.566299915313721, -5.754700183868408, -5.527900218963623, -5.666999816894531, -5.625500202178955, -5.729700088500977, -5.757599830627441, -5.791299819946289, -8.282600402832031, -8.35789966583252, -8.784099578857422, -8.749099731445312, -8.836000442504883, -8.900099754333496, -8.96720027923584, -9.040300369262695, -9.057999610900879, -8.3641996383667, -9.126799583435059, -4.682199954986572, -8.788999557495117, -8.601400375366211, -9.316800117492676, -8.671699523925781, -9.35159969329834, -6.625999927520752, -8.744999885559082, -9.557100296020508, -8.370499610900879, -9.57040023803711, -9.451600074768066, -9.433899879455566, -9.649800300598145, -7.2941999435424805, -9.793100357055664, -9.474699974060059, -9.68120002746582, -9.834600448608398, -6.0346999168396, -7.506400108337402, -8.190999984741211, -8.286399841308594, -7.620800018310547, -8.292499542236328, -7.925300121307373, -8.333700180053711, -8.906399726867676, -9.086400032043457, -7.976399898529053, -8.744400024414062, -6.669099807739258, -6.163899898529053, -6.09119987487793, -6.587800025939941, -7.103400230407715, -7.148099899291992, -5.915500164031982, -5.493000030517578, -5.319799900054932, -6.996200084686279, -7.214300155639648, -6.1585001945495605, -6.731200218200684, -6.405099868774414, -6.245500087738037, -5.411099910736084, -6.551300048828125, -6.141600131988525, -5.88730001449585, -4.389200210571289, -6.332300186157227, -6.240499973297119, -6.5329999923706055, -5.644999980926514, -5.076600074768066, -5.65500020980835, -4.742400169372559, -4.8734002113342285, -5.082600116729736, -6.127200126647949, -6.309199810028076, -5.759799957275391, -5.008299827575684, -4.5980000495910645, -6.122799873352051, -5.411900043487549, -5.3506999015808105, -5.2657999992370605, -5.8403000831604, -6.1545000076293945, -5.820000171661377, -5.451499938964844, -5.328000068664551, -5.344399929046631, -5.575300216674805, -5.354400157928467, -5.354400157928467, -5.659900188446045, -5.565199851989746, -5.637400150299072, -5.497399806976318, -5.767000198364258, -5.80109977722168, -7.6508002281188965, -8.731900215148926, -8.766400337219238, -8.445199966430664, -8.974900245666504, -9.281000137329102, -9.301300048828125, -9.309300422668457, -9.3125, -9.34689998626709, -9.144499778747559, -9.262100219726562, -9.279000282287598, -9.488499641418457, -8.233799934387207, -9.46720027923584, -9.64330005645752, -9.65470027923584, -9.471799850463867, -8.677499771118164, -8.24020004272461, -9.794500350952148, -7.759099960327148, -9.897000312805176, -9.206399917602539, -7.9720001220703125, -7.902699947357178, -8.812800407409668, -8.288299560546875, -10.060700416564941, -6.112400054931641, -7.610000133514404, -7.612199783325195, -7.828999996185303, -6.984899997711182, -6.7399001121521, -5.147500038146973, -6.144700050354004, -6.959099769592285, -8.046899795532227, -8.49269962310791, -5.1774001121521, -5.150599956512451, -7.789299964904785, -7.208499908447266, -7.67710018157959, -6.548299789428711, -6.3358001708984375, -4.814899921417236, -5.94789981842041, -7.063600063323975, -6.787300109863281, -6.736199855804443, -5.253799915313721, -5.081999778747559, -5.5680999755859375, -6.52370023727417, -5.116799831390381, -5.418000221252441, -6.995999813079834, -4.067500114440918, -5.140100002288818, -5.235599994659424, -4.977700233459473, -6.1479997634887695, -5.428599834442139, -5.406700134277344, -4.365799903869629, -4.4593000411987305, -4.423600196838379, -5.712200164794922, -5.139599800109863, -5.773200035095215, -5.699999809265137, -4.90749979019165, -4.835899829864502, -4.961999893188477, -4.911799907684326, -5.336999893188477, -5.250699996948242, -4.8850998878479, -5.436500072479248, -5.084700107574463, -5.4567999839782715, -5.17609977722168, -5.273399829864502, -5.333899974822998, -5.223100185394287, -5.32919979095459, -5.369100093841553, -9.378000259399414, -8.960200309753418, -10.017999649047852, -9.994400024414062, -9.173600196838379, -8.776300430297852, -10.337400436401367, -9.774299621582031, -9.620400428771973, -9.551600456237793, -10.236800193786621, -10.076000213623047, -9.954500198364258, -10.779000282287598, -10.641599655151367, -7.905900001525879, -10.498100280761719, -10.24839973449707, -11.054699897766113, -10.4975004196167, -6.024199962615967, -11.122900009155273, -9.991100311279297, -11.156499862670898, -10.392499923706055, -11.251099586486816, -6.544300079345703, -7.8618998527526855, -10.426199913024902, -9.243300437927246, -4.463099956512451, -4.989799976348877, -9.621700286865234, -9.664999961853027, -9.246600151062012, -5.592700004577637, -6.99970006942749, -7.745100021362305, -8.036100387573242, -6.765600204467773, -7.718900203704834, -5.1595001220703125, -8.01039981842041, -8.197099685668945, -8.1072998046875, -4.230599880218506, -4.9527997970581055, -4.82289981842041, -5.918900012969971, -6.152699947357178, -5.462800025939941, -4.975900173187256, -7.217899799346924, -6.497499942779541, -6.317599773406982, -7.868899822235107, -5.447000026702881, -4.168099880218506, -5.397299766540527, -5.2652997970581055, -5.930099964141846, -6.794899940490723, -5.876999855041504, -5.781599998474121, -5.240799903869629, -4.53439998626709, -5.609099864959717, -4.99429988861084, -4.934800148010254, -4.877399921417236, -4.972599983215332, -4.895699977874756, -4.906300067901611, -5.848999977111816, -5.251699924468994, -5.530200004577637, -5.446100234985352, -5.125999927520752, -5.249599933624268, -5.269400119781494, -5.410099983215332, -5.33650016784668, -5.451000213623047, -7.918300151824951, -7.938499927520752, -8.203100204467773, -8.327199935913086, -8.312199592590332, -8.483799934387207, -8.80739974975586, -8.861700057983398, -8.788100242614746, -9.026599884033203, -9.102800369262695, -8.619799613952637, -9.081700325012207, -9.338600158691406, -9.425000190734863, -8.161700248718262, -9.133399963378906, -8.102999687194824, -9.559700012207031, -9.59850025177002, -9.675100326538086, -9.802499771118164, -9.017600059509277, -9.945699691772461, -9.874699592590332, -8.694299697875977, -10.174599647521973, -10.113800048828125, -8.184599876403809, -9.266500473022461, -8.102800369262695, -8.495200157165527, -8.840999603271484, -9.238200187683105, -5.405200004577637, -6.937600135803223, -6.773399829864502, -6.335100173950195, -8.284899711608887, -8.87969970703125, -6.582699775695801, -4.941699981689453, -5.408100128173828, -5.395299911499023, -4.666500091552734, -6.716800212860107, -5.1392998695373535, -6.646999835968018, -5.7307000160217285, -6.498300075531006, -5.618599891662598, -4.980100154876709, -7.124000072479248, -4.372000217437744, -5.854899883270264, -4.725200176239014, -6.230000019073486, -3.9686999320983887, -7.112100124359131, -4.427999973297119, -6.3155999183654785, -6.003799915313721, -5.817200183868408, -5.320199966430664, -5.46750020980835, -4.94189977645874, -5.479300022125244, -6.020500183105469, -4.754700183868408, -5.190700054168701, -4.851900100708008, -5.523799896240234, -5.18310022354126, -4.965799808502197, -5.461599826812744, -5.673500061035156, -5.516200065612793, -5.610000133514404, -5.466599941253662, -5.487299919128418, -5.477499961853027, -5.730100154876709, -8.326700210571289, -8.36709976196289, -7.5619001388549805, -8.010100364685059, -8.831100463867188, -8.691699981689453, -7.619800090789795, -9.196700096130371, -9.155699729919434, -7.366199970245361, -9.220499992370605, -7.497200012207031, -8.601699829101562, -8.949899673461914, -9.567999839782715, -9.732399940490723, -9.517499923706055, -9.325200080871582, -9.868900299072266, -9.59939956665039, -9.90149974822998, -7.553100109100342, -9.464799880981445, -9.249899864196777, -10.053799629211426, -9.47070026397705, -7.367099761962891, -10.159700393676758, -10.081299781799316, -9.2677001953125, -6.8007001876831055, -7.638999938964844, -6.210400104522705, -8.758099555969238, -7.291999816894531, -7.775300025939941, -7.167399883270264, -8.133299827575684, -8.186599731445312, -8.145500183105469, -6.741000175476074, -7.871699810028076, -5.884900093078613, -6.430300235748291, -6.331900119781494, -8.032299995422363, -5.841000080108643, -7.208000183105469, -5.739099979400635, -5.384900093078613, -6.119699954986572, -5.19950008392334, -7.377799987792969, -4.537799835205078, -4.823800086975098, -5.543300151824951, -6.466400146484375, -7.196700096130371, -5.757900238037109, -4.321100234985352, -5.697299957275391, -5.264900207519531, -5.322999954223633, -6.00439977645874, -5.621099948883057, -4.722499847412109, -4.920000076293945, -5.596499919891357, -6.422999858856201, -5.495299816131592, -6.619999885559082, -6.293700218200684, -4.8846001625061035, -5.91379976272583, -5.706399917602539, -5.022299766540527, -5.265399932861328, -5.3618998527526855, -5.440999984741211, -4.979499816894531, -5.59689998626709, -5.4008002281188965, -5.434199810028076, -5.365099906921387, -5.527400016784668, -5.3850998878479, -5.38070011138916, -5.495200157165527, -5.487100124359131, -5.576399803161621, -5.60290002822876, -5.57450008392334, -5.565100193023682, -5.593400001525879, -7.036300182342529, -7.707600116729736, -7.008600234985352, -7.70359992980957, -7.895699977874756, -7.363999843597412, -8.072400093078613, -7.845200061798096, -7.952899932861328, -8.208200454711914, -7.923900127410889, -8.275699615478516, -8.584099769592285, -8.634400367736816, -8.71310043334961, -8.700599670410156, -8.68690013885498, -8.751700401306152, -8.957799911499023, -8.960800170898438, -8.473199844360352, -9.020500183105469, -8.958100318908691, -8.636500358581543, -9.146900177001953, -9.149700164794922, -9.178099632263184, -8.713199615478516, -9.09220027923584, -9.190799713134766, -7.084499835968018, -6.980800151824951, -7.41949987411499, -6.697400093078613, -6.564700126647949, -8.68340015411377, -5.254199981689453, -7.214600086212158, -7.793900012969971, -8.154899597167969, -3.0848000049591064, -4.637899875640869, -4.790500164031982, -6.736999988555908, -5.274600028991699, -7.824900150299072, -8.242899894714355, -5.562900066375732, -7.478099822998047, -7.6803998947143555, -5.567800045013428, -7.155799865722656, -6.256999969482422, -6.537300109863281, -4.5868000984191895, -6.404799938201904, -6.58459997177124, -6.7677998542785645, -6.2453999519348145, -4.4197998046875, -6.235300064086914, -5.99560022354126, -4.775000095367432, -5.4542999267578125, -4.04449987411499, -4.485199928283691, -5.208499908447266, -5.202600002288818, -4.714799880981445, -5.411799907684326, -4.703800201416016, -5.831900119781494, -5.995800018310547, -5.537099838256836, -5.410699844360352, -5.593999862670898, -5.496399879455566, -5.505099773406982, -5.491600036621094, -5.521200180053711, -5.445300102233887, -5.1128997802734375, -5.1921000480651855, -5.615300178527832, -5.397900104522705, -5.309899806976318, -5.417799949645996, -6.672599792480469, -7.351900100708008, -7.750199794769287, -8.074600219726562, -8.138699531555176, -8.17549991607666, -8.34529972076416, -8.525500297546387, -8.50059986114502, -8.588500022888184, -8.626500129699707, -8.39169979095459, -8.805299758911133, -8.895099639892578, -8.885100364685059, -8.919899940490723, -8.937899589538574, -9.031900405883789, -9.06879997253418, -9.099800109863281, -9.114299774169922, -9.18120002746582, -9.213299751281738, -9.425100326538086, -9.50220012664795, -9.504199981689453, -7.8684000968933105, -9.572199821472168, -6.058300018310547, -9.734199523925781, -7.778200149536133, -7.352700233459473, -8.196200370788574, -5.047599792480469, -7.429100036621094, -5.77209997177124, -7.463699817657471, -7.626699924468994, -3.6105000972747803, -6.660999774932861, -6.647299766540527, -5.152500152587891, -8.545700073242188, -4.3470001220703125, -4.9105000495910645, -7.828199863433838, -6.427800178527832, -5.7581000328063965, -5.628499984741211, -4.643099784851074, -6.151599884033203, -5.715199947357178, -7.250100135803223, -5.046599864959717, -5.611100196838379, -5.935299873352051, -5.60860013961792, -5.807700157165527, -5.674099922180176, -6.599400043487549, -6.279600143432617, -6.138000011444092, -5.8805999755859375, -4.840700149536133, -6.209700107574463, -5.401199817657471, -5.15339994430542, -5.819799900054932, -5.632500171661377, -5.166399955749512, -5.539299964904785, -5.78380012512207, -4.997600078582764, -5.576300144195557, -5.297699928283691, -5.031099796295166, -5.309599876403809, -5.170199871063232, -5.212600231170654, -5.306099891662598, -5.417399883270264, -5.32420015335083, -5.365499973297119, -5.46589994430542, -5.421800136566162, -5.554100036621094, -5.526400089263916, -5.54449987411499, -5.562699794769287, -5.581399917602539, -6.194399833679199, -7.575099945068359, -7.974299907684326, -7.552299976348877, -8.91569995880127, -9.046799659729004, -9.287500381469727, -9.240799903869629, -8.888400077819824, -7.4552001953125, -8.105600357055664, -9.418999671936035, -9.884499549865723, -7.035699844360352, -9.002099990844727, -8.619000434875488, -9.441100120544434, -10.34570026397705, -8.181099891662598, -10.398099899291992, -9.446000099182129, -6.964200019836426, -9.908300399780273, -9.921199798583984, -9.393799781799316, -8.483599662780762, -9.586799621582031, -9.391799926757812, -8.120499610900879, -8.768400192260742, -7.619999885559082, -5.315999984741211, -7.814799785614014, -4.183499813079834, -6.6940999031066895, -8.437800407409668, -5.463200092315674, -6.6828999519348145, -6.430300235748291, -7.404799938201904, -4.938700199127197, -5.4807000160217285, -6.921199798583984, -5.152400016784668, -4.988999843597412, -5.679900169372559, -7.504700183868408, -6.963900089263916, -7.09630012512207, -6.8383002281188965, -4.618599891662598, -3.6742000579833984, -5.839799880981445, -6.253900051116943, -4.773900032043457, -5.599299907684326, -5.8379998207092285, -6.553699970245361, -5.919099807739258, -5.533899784088135, -4.764100074768066, -5.970099925994873, -5.543399810791016, -4.6691999435424805, -5.867000102996826, -4.929299831390381, -4.8429999351501465, -5.281199932098389, -5.31850004196167, -5.272900104522705, -5.740900039672852, -5.675899982452393, -5.707399845123291, -5.448200225830078, -5.46999979019165, -5.536399841308594, -5.541100025177002, -5.627299785614014, -5.603600025177002, -5.646100044250488, -5.648200035095215, -5.670599937438965]}, \"token.table\": {\"Topic\": [3, 10, 2, 3, 6, 1, 2, 3, 4, 5, 6, 7, 8, 9, 10, 4, 1, 1, 2, 3, 4, 5, 6, 7, 8, 9, 10, 4, 9, 1, 2, 3, 4, 5, 6, 7, 8, 9, 10, 1, 2, 3, 5, 6, 10, 1, 3, 8, 1, 2, 3, 4, 5, 6, 7, 8, 9, 10, 10, 3, 7, 7, 8, 3, 5, 8, 2, 4, 8, 1, 2, 3, 5, 6, 9, 10, 4, 6, 8, 1, 2, 3, 4, 5, 6, 7, 8, 9, 10, 3, 10, 1, 2, 3, 6, 6, 1, 2, 3, 4, 5, 6, 7, 8, 9, 10, 2, 4, 7, 8, 9, 1, 2, 3, 4, 5, 6, 7, 8, 9, 10, 5, 8, 1, 2, 3, 4, 5, 6, 7, 8, 9, 10, 1, 2, 3, 4, 5, 6, 7, 8, 10, 2, 3, 4, 6, 7, 8, 9, 10, 1, 2, 3, 4, 5, 6, 7, 8, 9, 10, 1, 2, 3, 4, 5, 6, 7, 8, 9, 10, 1, 2, 3, 4, 5, 6, 7, 8, 9, 10, 1, 2, 3, 4, 5, 6, 7, 8, 9, 10, 1, 2, 1, 2, 3, 4, 5, 6, 7, 8, 9, 10, 1, 2, 3, 4, 5, 6, 7, 8, 9, 10, 1, 2, 3, 4, 5, 6, 7, 8, 9, 10, 1, 2, 3, 4, 5, 6, 7, 8, 9, 10, 1, 2, 3, 5, 6, 7, 8, 9, 10, 1, 2, 9, 1, 2, 3, 4, 5, 6, 7, 8, 9, 10, 2, 1, 2, 3, 4, 5, 6, 7, 8, 9, 10, 1, 2, 6, 4, 8, 9, 1, 7, 1, 6, 4, 1, 2, 3, 4, 5, 6, 7, 8, 9, 10, 1, 2, 3, 4, 5, 6, 7, 8, 1, 2, 3, 4, 5, 6, 7, 8, 9, 10, 7, 1, 2, 3, 4, 5, 6, 7, 8, 9, 10, 1, 6, 4, 10, 2, 6, 1, 2, 3, 4, 5, 6, 7, 8, 9, 10, 3, 10, 9, 6, 1, 3, 4, 1, 2, 3, 4, 5, 6, 7, 8, 9, 10, 3, 7, 9, 10, 9, 2, 4, 1, 2, 3, 4, 6, 7, 10, 3, 5, 1, 2, 3, 5, 6, 7, 10, 10, 1, 2, 3, 4, 5, 6, 7, 8, 9, 10, 1, 2, 3, 5, 6, 7, 8, 9, 10, 3, 3, 1, 2, 3, 7, 1, 2, 3, 4, 5, 6, 7, 8, 9, 10, 1, 2, 3, 4, 5, 6, 7, 8, 9, 10, 1, 2, 3, 4, 5, 6, 7, 8, 9, 10, 1, 2, 3, 4, 5, 6, 7, 8, 9, 10, 3, 7, 10, 3, 1, 2, 3, 4, 5, 6, 7, 8, 9, 10, 1, 1, 2, 3, 4, 5, 6, 7, 8, 9, 10, 1, 2, 3, 4, 5, 6, 7, 8, 9, 10, 2, 3, 6, 7, 8, 1, 2, 3, 4, 5, 6, 7, 8, 9, 10, 1, 2, 3, 5, 6, 8, 10, 1, 2, 3, 4, 5, 6, 7, 8, 9, 10, 2, 4, 6, 8, 1, 2, 3, 4, 5, 6, 7, 8, 9, 10, 1, 2, 3, 4, 5, 6, 7, 8, 9, 10, 6, 9, 1, 2, 3, 4, 5, 6, 7, 8, 10, 1, 2, 3, 4, 5, 6, 7, 8, 9, 10, 1, 2, 3, 4, 5, 6, 7, 8, 9, 10, 2, 1, 2, 3, 4, 5, 6, 7, 8, 9, 10, 1, 2, 3, 4, 5, 6, 7, 8, 9, 10, 1, 2, 3, 5, 6, 7, 8, 9, 10, 1, 2, 3, 5, 6, 8, 9, 10, 5, 10, 1, 2, 5, 6, 1, 2, 3, 5, 6, 9, 10, 1, 2, 3, 4, 5, 7, 9, 10, 1, 2, 3, 4, 5, 6, 7, 8, 9, 10, 1, 2, 3, 4, 5, 6, 7, 8, 9, 10, 1, 2, 3, 4, 5, 6, 7, 8, 9, 10, 1, 2, 3, 4, 5, 6, 7, 8, 9, 1, 2, 3, 5, 6, 7, 8, 9, 1, 1, 2, 3, 4, 5, 6, 7, 8, 9, 10, 1, 2, 3, 4, 5, 6, 7, 8, 9, 10, 1, 2, 4, 5, 6, 8, 9, 8, 1, 2, 3, 4, 5, 6, 7, 8, 9, 10, 4, 6, 8, 9, 10, 1, 2, 3, 4, 5, 7, 8, 9, 10, 1, 2, 3, 4, 5, 6, 7, 9, 10, 4, 8, 9, 1, 2, 3, 4, 5, 6, 7, 8, 9, 10, 4, 1, 2, 3, 4, 5, 6, 7, 8, 9, 10, 1, 2, 3, 4, 5, 6, 7, 8, 9, 10, 1, 2, 4, 5, 6, 8, 9, 10, 1, 2, 3, 4, 5, 6, 7, 8, 9, 10, 1, 2, 3, 4, 5, 6, 7, 8, 9, 10, 1, 9, 1, 2, 3, 4, 5, 6, 7, 8, 9, 10, 1, 2, 1, 2, 3, 4, 5, 6, 7, 8, 9, 10, 1, 2, 3, 4, 5, 6, 7, 8, 9, 10, 5, 1, 3, 5, 7, 8, 9, 1, 2, 3, 4, 5, 6, 7, 8, 9, 10, 1, 2, 3, 4, 5, 6, 7, 8, 9, 10, 1, 2, 3, 4, 5, 6, 7, 8, 9, 10, 1, 2, 3, 4, 5, 6, 7, 8, 9, 10, 1, 2, 3, 4, 5, 6, 7, 8, 9, 10, 1, 2, 4, 6, 8, 9, 8, 1, 6, 9, 1, 2, 6, 8, 9, 10, 2, 3, 7, 8, 1, 2, 3, 5, 6, 10, 9, 1, 2, 3, 4, 5, 6, 7, 8, 9, 10, 2, 3, 4, 6, 7, 8, 9, 2, 4, 1, 2, 3, 6, 7, 8, 1, 2, 3, 3, 5, 7, 10, 3, 7, 1, 2, 3, 7, 10, 3, 10, 7, 8, 1, 2, 3, 4, 5, 6, 7, 8, 9, 10, 9, 1, 2, 3, 4, 5, 6, 7, 8, 9, 10, 1, 3, 3, 7, 1, 2, 3, 5, 7, 8, 9, 10, 1, 2, 3, 4, 5, 6, 7, 8, 9, 10, 3, 7, 4, 7, 9, 10, 1, 2, 3, 4, 5, 6, 7, 8, 9, 10, 1, 2, 3, 4, 5, 6, 7, 8, 9, 10, 3, 7, 3, 6, 1, 3, 5, 6, 7, 1, 2, 3, 4, 5, 6, 7, 8, 9, 10, 1, 2, 3, 4, 5, 6, 7, 8, 9, 10, 1, 3, 7, 1, 2, 3, 5, 6, 8, 1, 2, 3, 7, 9, 6, 1, 2, 3, 4, 5, 6, 7, 8, 9, 10, 8, 1, 2, 4, 6, 8, 9, 1, 2, 3, 4, 5, 6, 7, 8, 9, 10, 1, 2, 3, 4, 5, 6, 7, 8, 9, 10, 1, 2, 4, 5, 6, 8, 1, 2, 4, 5, 6, 7, 8, 9, 10, 1, 2, 3, 4, 5, 6, 7, 8, 9, 10, 1, 2, 3, 5, 6, 7, 8, 9, 10, 5, 10, 1, 2, 4, 5, 6, 7, 8, 9, 10, 4, 1, 2, 3, 4, 5, 6, 7, 8, 9, 1, 2, 3, 5, 1, 2, 3, 4, 5, 6, 7, 8, 9, 10, 8, 7, 7, 8, 1, 2, 3, 4, 5, 6, 7, 8, 9, 1, 2, 3, 4, 5, 6, 7, 8, 9, 10, 2, 6, 6, 10, 2, 5, 1, 2, 3, 4, 5, 6, 7, 8, 9, 10, 1, 2, 3, 5, 6, 8, 9, 1, 2, 3, 4, 5, 6, 7, 9, 2, 3, 3, 7, 1, 2, 5, 6, 7, 1, 2, 3, 5, 6, 7, 8, 9, 10, 3, 5, 7, 10, 1, 2, 3, 4, 5, 6, 7, 8, 9, 10, 2, 4, 1, 6, 3, 1, 5, 4, 3, 1, 2, 3, 4, 5, 6, 7, 8, 9, 10, 1, 2, 3, 5, 6, 8, 9, 10, 1, 3, 4, 7, 8, 9, 10, 1, 2, 3, 4, 5, 6, 7, 8, 9, 10, 1, 2, 3, 4, 5, 6, 7, 8, 9, 10, 3, 5, 1, 2, 3, 4, 5, 6, 8, 9, 1, 2, 3, 4, 5, 6, 7, 8, 9, 10, 1, 2, 3, 4, 5, 6, 7, 8, 9, 10, 1, 2, 3, 4, 5, 6, 7, 8, 9, 10, 1, 2, 3, 4, 5, 6, 7, 8, 9, 10, 3, 7, 9, 10, 1, 2, 3, 5, 7, 3, 7, 8, 1, 2, 3, 4, 5, 6, 7, 8, 9, 10, 1, 3, 5, 1, 1, 2, 3, 4, 5, 6, 7, 8, 9, 10, 1, 2, 3, 4, 5, 6, 7, 8, 9, 10, 1, 2, 3, 4, 5, 6, 7, 8, 9, 10, 8, 9, 7, 8, 8, 1, 2, 3, 4, 5, 6, 7, 8, 9, 10, 1, 2, 3, 4, 5, 6, 7, 8, 9, 10, 1, 2, 3, 4, 5, 6, 7, 8, 9, 10, 1, 2, 3, 4, 5, 6, 7, 8, 9, 10, 1, 2, 3, 4, 5, 6, 8, 9, 10, 1, 2, 3, 4, 5, 6, 7, 8, 9, 10, 1, 3, 5, 1, 2, 3, 4, 5, 6, 7, 8, 9, 10, 1, 2, 3, 4, 5, 6, 7, 8, 9, 10, 1, 2, 3, 4, 5, 6, 7, 8, 9, 10, 1, 2, 3, 5, 6, 7, 8, 9, 10, 4, 1, 2, 3, 4, 5, 6, 7, 8, 9, 10, 2, 1, 2, 3, 4, 5, 6, 7, 8, 9, 10, 1, 2, 7, 9, 1, 2, 3, 4, 5, 6, 7, 8, 9, 10, 1, 2, 3, 4, 5, 6, 7, 9, 10, 2, 1, 2, 3, 4, 5, 6, 7, 8, 9, 10, 1, 2, 3, 4, 5, 6, 7, 8, 9, 10, 1, 2, 3, 4, 6, 7, 8, 2, 1, 2, 3, 4, 5, 6, 7, 8, 9, 10, 4, 6, 8, 9, 4, 8, 9, 9, 3, 4, 10, 3, 4, 1, 2, 3, 5, 8, 9, 10, 2, 4, 7, 8, 9, 1, 2, 3, 4, 5, 6, 7, 8, 9, 10, 1, 2, 5, 6, 8, 9, 8, 9, 1, 2, 3, 4, 5, 6, 7, 8, 9, 10, 1, 2, 3, 4, 5, 6, 7, 8, 9, 10, 4, 8, 2, 9, 1, 2, 3, 4, 5, 6, 7, 8, 9, 10, 1, 2, 3, 4, 5, 6, 7, 8, 9, 10, 2, 3, 4, 6, 7, 8, 9, 10, 2, 4, 6, 7, 8, 9, 2, 5, 9, 2, 4, 8, 9, 1, 2, 5, 6, 7, 9, 10, 3, 7, 1, 2, 3, 4, 5, 6, 7, 8, 9, 10, 5, 5, 8, 8, 2, 3, 4, 7, 9, 1, 2, 3, 4, 5, 6, 7, 8, 10, 1, 3, 4, 6, 7, 8, 9, 10, 3, 7, 7, 1, 2, 3, 4, 5, 6, 7, 8, 9, 10, 1, 2, 3, 4, 5, 6, 7, 8, 4, 1, 3, 10, 6, 1, 2, 3, 10, 2, 4, 8, 3, 5, 1, 2, 3, 4, 5, 7, 8, 9, 1, 2, 3, 4, 5, 6, 8, 9, 10, 6, 5, 7, 8, 9, 10, 1, 2, 3, 4, 5, 6, 7, 8, 9, 10, 3, 2, 4, 6, 7, 8, 9, 4, 3, 3, 10, 1, 2, 4, 7, 8, 9, 1, 2, 3, 4, 5, 6, 7, 8, 9, 10, 9, 9, 1, 2, 3, 4, 5, 6, 7, 8, 9, 10, 4, 6, 8, 1, 2, 3, 4, 5, 6, 7, 8, 9, 10, 1, 2, 3, 4, 5, 6, 7, 8, 9, 10, 1, 2, 3, 4, 5, 6, 7, 8, 9, 10, 1, 2, 3, 4, 5, 6, 7, 8, 9, 10, 1, 2, 3, 4, 5, 6, 7, 8, 9, 10, 8, 1, 2, 3, 4, 5, 6, 7, 8, 9, 10, 1, 2, 3, 4, 5, 6, 7, 10, 1, 2, 3, 4, 5, 6, 7, 8, 9, 10, 1, 2, 3, 4, 5, 6, 7, 8, 9, 10, 5, 8, 1, 2, 3, 4, 5, 6, 7, 8, 9, 10, 2, 3, 4, 7, 8, 10, 1, 2, 3, 4, 5, 6, 7, 9, 10, 1, 2, 3, 4, 5, 6, 7, 8, 9, 10, 1, 2, 3, 5, 6, 10, 4, 8, 4, 1, 2, 3, 4, 5, 6, 7, 8, 9, 10, 10, 5, 7, 9, 2, 3, 6, 7, 8, 9, 10, 2, 3, 4, 5, 6, 7, 8, 9, 10, 1, 2, 3, 4, 5, 6, 7, 8, 9, 10, 2, 4, 6, 7, 8, 9, 10, 7, 7, 7, 2, 7, 9, 2, 4, 6, 8, 2, 4, 6, 7, 8, 9, 8, 1, 1, 2, 3, 4, 5, 6, 7, 8, 9, 10, 3, 5, 10, 7, 1, 2, 6, 9, 1, 2, 3, 4, 5, 6, 7, 8, 9, 10, 3, 7, 8, 4, 3, 7, 1, 2, 3, 4, 5, 6, 7, 8, 9, 10, 1, 2, 3, 4, 5, 6, 7, 8, 9, 10, 2, 4, 1, 2, 3, 5, 10, 1, 2, 3, 4, 5, 6, 7, 8, 9, 10, 1, 2, 3, 4, 5, 6, 7, 8, 9, 10, 4, 9, 1, 3, 5, 9, 3, 4, 4, 8, 1, 2, 3, 4, 5, 6, 7, 8, 9, 10, 1, 2, 3, 4, 5, 6, 7, 8, 9, 10, 1, 2, 3, 4, 5, 6, 7, 8, 9, 10, 1, 2, 3, 4, 5, 8, 9, 10, 1, 2, 3, 4, 5, 6, 7, 8, 9, 10, 1, 2, 3, 4, 5, 6, 7, 8, 9, 10, 2, 1, 2, 3, 4, 5, 6, 7, 8, 9, 10, 1, 2, 3, 4, 5, 6, 7, 8, 9, 10, 1, 2, 3, 4, 5, 6, 7, 8, 9, 10, 1, 2, 3, 4, 5, 6, 7, 8, 9, 10, 1, 2, 3, 4, 5, 6, 7, 8, 9, 10, 1, 2, 3, 4, 5, 6, 7, 8, 9, 10, 9, 2, 4, 6, 8, 9, 10, 3, 8, 10, 5, 10, 2, 5, 6, 8, 9, 10, 10, 1, 2, 3, 4, 5, 6, 7, 8, 9, 10, 1, 4, 3, 1, 2, 3, 4, 5, 6, 7, 8, 9, 10, 1, 2, 3, 4, 5, 6, 7, 8, 9, 10, 7, 9, 4, 5, 7, 9, 1, 2, 3, 4, 5, 6, 7, 8, 9, 10, 1, 3, 5, 7, 8, 10, 2, 4, 6, 9, 5, 1, 2, 3, 4, 5, 6, 7, 8, 9, 10, 1, 2, 3, 4, 5, 6, 7, 8, 9, 10, 1, 2, 3, 4, 5, 6, 7, 8, 9, 10, 6, 6, 1, 2, 3, 4, 5, 6, 7, 8, 9, 10, 1, 2, 3, 4, 5, 6, 7, 8, 9, 1, 2, 3, 4, 5, 6, 7, 8, 9, 1, 2, 3, 4, 5, 6, 7, 8, 9, 10, 2, 7, 8, 1, 2, 3, 4, 5, 6, 7, 8, 9, 10, 1, 2, 3, 5, 7, 9, 10, 1, 2, 3, 4, 5, 6, 7, 8, 9, 10, 3, 5, 7, 9, 1, 2, 3, 4, 6, 4, 6, 8, 4, 6, 8, 1, 2, 3, 4, 5, 6, 7, 8, 9, 10, 8, 7, 3, 7, 9, 1, 2, 3, 4, 5, 6, 7, 8, 9, 10, 1, 2, 3, 4, 7, 8, 9, 1, 2, 3, 5, 6, 2, 1, 2, 3, 4, 5, 6, 8, 9, 10, 8, 4, 8, 4, 1, 2, 3, 4, 5, 6, 9, 10, 6, 7, 8, 1, 6, 8, 9, 10, 1, 2, 3, 4, 5, 6, 7, 8, 9, 10, 1, 2, 3, 4, 5, 6, 7, 8, 9, 10, 1, 5, 3, 6, 1, 2, 4, 6, 8, 10, 1, 3, 5, 1, 5, 9, 10, 1, 2, 3, 4, 5, 6, 7, 8, 9, 10, 9, 5, 9, 10, 9, 9, 1, 2, 3, 4, 5, 6, 7, 8, 9, 10, 3, 7, 9, 10, 2, 4, 6, 7, 8, 9, 10, 1, 2, 6, 9, 10, 1, 2, 3, 4, 5, 6, 7, 8, 9, 10, 6, 1, 2, 3, 6, 7, 8, 3, 1, 2, 3, 4, 5, 6, 7, 8, 9, 10, 5, 3, 5, 1, 3, 5, 8, 4, 1, 2, 3, 4, 5, 6, 7, 8, 9, 10, 1, 2, 3, 6, 8, 7, 8, 1, 2, 1, 2, 3, 4, 5, 6, 7, 8, 9, 10, 3, 5, 1, 2, 3, 4, 5, 6, 7, 8, 9, 10, 2, 4, 6, 8, 9, 1, 2, 3, 4, 5, 6, 7, 8, 9, 10, 2, 4, 7, 8, 9, 10, 1, 2, 3, 4, 5, 6, 7, 8, 9, 10, 1, 2, 3, 4, 5, 6, 7, 8, 9, 10, 7, 6, 10, 1, 2, 3, 4, 5, 6, 7, 8, 9, 10, 1, 2, 3, 4, 5, 6, 7, 8, 9, 10, 1, 2, 3, 5, 7, 8, 10, 1, 2, 3, 4, 5, 6, 7, 8, 9, 10, 1, 5, 4, 6, 7, 8, 9, 3, 3, 1, 2, 3, 4, 5, 6, 7, 8, 9, 10, 1, 2, 3, 4, 5, 6, 7, 8, 9, 10, 1, 2, 3, 4, 5, 6, 7, 8, 9, 10, 1, 2, 3, 4, 5, 6, 7, 8, 9, 10, 1, 2, 3, 5, 8, 10, 2, 1, 2, 3, 4, 5, 6, 7, 8, 9, 10, 1, 5, 2, 3, 4, 5, 6, 7, 8, 9, 1, 2, 3, 4, 5, 6, 7, 8, 9, 10, 1, 2, 3, 4, 5, 6, 8, 9, 1, 2, 3, 4, 5, 6, 7, 8, 9, 10, 1, 2, 3, 4, 5, 6, 7, 8, 9, 10, 1, 2, 3, 4, 5, 6, 7, 8, 9, 10, 1, 2, 3, 4, 5, 6, 7, 8, 9, 10, 7, 8, 1, 2, 3, 5, 6, 7, 1, 2, 9, 1, 2, 5, 6, 9, 1, 2, 3, 4, 5, 6, 7, 8, 9, 10, 1, 2, 3, 4, 5, 6, 7, 8, 9, 1, 2, 3, 4, 5, 6, 7, 8, 10, 1, 2, 3, 4, 5, 7, 9, 10, 3, 10, 4, 6, 1, 2, 3, 4, 5, 6, 7, 8, 10, 1, 2, 3, 4, 5, 6, 7, 8, 9, 10, 1, 2, 3, 4, 5, 6, 7, 8, 9, 10, 4, 6, 7, 10, 7, 1, 2, 3, 4, 5, 6, 7, 8, 9, 10, 6, 1, 2, 3, 4, 5, 6, 7, 8, 9, 10, 1, 2, 3, 4, 5, 6, 7, 8, 9, 10, 6, 3, 1, 2, 3, 4, 5, 6, 7, 8, 9, 10, 1, 2, 3, 4, 5, 6, 7, 8, 9, 10, 1, 2, 3, 4, 5, 6, 7, 8, 9, 10, 1, 2, 1, 2, 3, 4, 5, 6, 7, 8, 9, 10, 5, 1, 2, 3, 4, 5, 6, 7, 8, 9, 10, 1, 2, 3, 4, 5, 6, 7, 8, 9, 10, 1, 7, 1, 2, 3, 4, 5, 6, 7, 8, 9, 10, 1, 2, 3, 4, 5, 6, 7, 8, 9, 10, 1, 5, 2, 7, 9, 1, 2, 5, 6, 9, 10, 1, 2, 3, 4, 5, 6, 7, 8, 9, 10, 7, 9, 2, 3, 4, 6, 7, 8, 9, 10, 2, 4, 6, 7, 8, 9, 5, 10, 4, 6, 9, 1, 2, 3, 4, 6, 3, 6, 1, 2, 3, 4, 5, 6, 7, 8, 9, 10, 1, 2, 3, 4, 5, 6, 7, 8, 9, 10, 7, 1, 5, 8, 1, 2, 3, 4, 5, 6, 7, 8, 9, 10, 6, 10, 1, 2, 3, 4, 5, 6, 7, 8, 9, 10, 8, 1, 2, 3, 4, 5, 6, 7, 8, 9, 10, 5, 9, 10, 1, 1, 2, 3, 4, 5, 6, 7, 8, 9, 10, 1, 2, 3, 4, 5, 6, 7, 8, 9, 10, 1, 2, 4, 5, 6, 7, 8, 9, 10, 7, 1, 2, 3, 4, 6, 7, 8, 9, 10, 1, 2, 3, 4, 5, 6, 7, 8, 9, 10, 1, 2, 3, 4, 5, 6, 7, 8, 9, 10, 1, 2, 3, 4, 5, 6, 7, 8, 9, 10, 4, 6, 7, 8, 9, 4, 6, 8, 1, 2, 3, 4, 5, 6, 7, 8, 9, 10, 8, 1, 2, 3, 4, 5, 6, 7, 8, 9, 10, 1, 2, 3, 4, 5, 6, 7, 8, 9, 10, 4, 6, 7, 8, 9, 2, 3, 7, 2, 9, 1, 2, 3, 4, 5, 6, 7, 8, 9, 10, 1, 2, 3, 4, 5, 6, 7, 8, 9, 10, 4, 10, 2, 4, 6, 8, 9, 10, 2, 1, 2, 3, 5, 6, 7, 8, 10, 4, 5, 8, 9, 1, 2, 3, 4, 5, 6, 7, 8, 9, 10, 10, 1, 2, 3, 4, 5, 6, 7, 8, 9, 10, 1, 2, 3, 4, 5, 6, 7, 8, 9, 10, 1, 2, 3, 4, 5, 6, 7, 8, 9, 10, 1, 2, 3, 4, 5, 6, 7, 8, 9, 10, 6, 5, 1, 2, 3, 2, 7, 8, 9, 1, 2, 3, 7, 1, 2, 3, 4, 5, 6, 7, 8, 9, 10, 1, 2, 3, 4, 5, 6, 7, 8, 9, 10, 1, 2, 3, 4, 5, 6, 7, 8, 9, 10, 1, 2, 5, 8, 2, 1, 2, 3, 4, 5, 6, 7, 8, 9, 10, 1, 2, 3, 4, 5, 6, 7, 8, 9, 10, 1, 2, 3, 4, 5, 6, 7, 8, 9, 10, 1, 2, 3, 4, 5, 6, 7, 8, 9, 10, 1, 2, 3, 4, 5, 6, 7, 8, 9, 10, 4, 2, 3, 4, 7, 10, 3, 6, 1, 2, 4, 5, 6, 7, 8, 9, 10, 1, 2, 3, 5, 6, 7, 8, 9, 10, 3, 4, 5, 6, 7, 8, 9, 1, 2, 3, 4, 5, 6, 7, 8, 9, 10, 1, 2, 3, 4, 5, 6, 7, 8, 9, 10, 3, 7, 8, 10, 1, 2, 3, 4, 5, 6, 7, 8, 9, 10, 4, 1, 2, 3, 4, 5, 6, 7, 8, 9, 10, 1, 2, 4, 5, 7, 9, 6, 1, 2, 3, 4, 5, 6, 7, 8, 9, 10, 5, 4, 6, 8, 9, 1, 2, 3, 4, 5, 6, 7, 8, 9, 10, 1, 2, 3, 4, 5, 6, 7, 8, 9, 10, 1, 2, 3, 4, 5, 6, 7, 8, 9, 10, 1, 3, 6, 9, 1, 2, 3, 5, 6, 8, 9, 10, 1, 2, 3, 4, 5, 6, 7, 8, 9, 10, 1, 2, 3, 4, 5, 6, 7, 8, 9, 10, 5, 10, 1, 2, 4, 5, 4, 10, 1, 2, 3, 4, 5, 6, 7, 8, 9, 10, 1, 2, 3, 5, 6, 8, 9, 10, 4, 2, 3, 5, 8, 9, 10, 1, 2, 3, 4, 5, 6, 7, 8, 9, 10, 1, 2, 3, 4, 5, 6, 7, 8, 1, 2, 3, 4, 5, 6, 7, 8, 9, 10, 1, 2, 3, 4, 5, 6, 7, 8, 9, 10, 1, 2, 3, 4, 5, 6, 7, 8, 9, 10, 1, 2, 3, 5, 6, 8, 9, 10, 5, 2, 1, 2, 3, 4, 5, 6, 7, 8, 9, 10, 2, 7, 8, 9, 10, 1, 2, 3, 4, 5, 6, 7, 8, 9, 6, 8, 9, 2, 4, 7, 9, 10, 1, 2, 3, 4, 5, 6, 7, 8, 9, 10, 4, 8, 2, 6, 1, 2, 3, 4, 5, 6, 7, 8, 9, 10, 1, 2, 3, 4, 5, 6, 7, 8, 9, 10, 9, 1, 2, 3, 4, 5, 6, 7, 8, 9, 10, 1, 2, 3, 1, 2, 3, 4, 5, 6, 7, 8, 9, 10, 6, 9, 1, 2, 3, 4, 5, 6, 7, 8, 9, 10, 1, 2, 3, 5, 7, 9, 1, 2, 3, 4, 5, 6, 7, 8, 9, 10, 1, 2, 3, 4, 5, 6, 7, 8, 9, 10, 1, 2, 3, 4, 5, 6, 7, 8, 9, 10, 1, 2, 3, 4, 5, 6, 7, 8, 9, 10, 2, 6, 1, 1, 2, 6, 2, 6, 2, 3, 7, 9, 6, 1, 2, 3, 4, 5, 6, 7, 8, 9, 10, 8, 6, 7, 8, 9, 1, 2, 3, 5, 6, 7, 8, 9, 10, 1, 2, 3, 4, 5, 6, 7, 8, 9, 10, 1, 2, 3, 4, 5, 6, 7, 8, 9, 10, 1, 2, 3, 4, 5, 6, 7, 8, 9, 10, 1, 2, 3, 4, 5, 6, 7, 8, 9, 10, 1, 2, 3, 4, 5, 6, 7, 8, 9, 10, 1, 2, 3, 4, 5, 6, 7, 8, 9, 10, 6, 2, 4, 6, 7, 8, 9, 4, 7, 8, 9, 2, 3, 4, 5, 6, 7, 8, 9, 10, 8, 1, 2, 3, 4, 5, 6, 7, 8, 9, 10, 1, 2, 3, 4, 5, 6, 7, 8, 9, 10, 9, 3, 5, 10, 4, 9, 8, 9, 3, 7, 1, 2, 3, 1, 2, 5, 4, 6, 1, 2, 3, 4, 5, 6, 7, 8, 9, 10, 1, 2, 3, 4, 5, 6, 7, 8, 9, 10, 1, 2, 3, 4, 5, 6, 7, 8, 9, 10, 9, 3, 9, 10, 1, 3, 5, 6, 7, 8, 9, 10, 1, 2, 3, 4, 5, 6, 7, 8, 9, 10, 1, 2, 3, 4, 5, 6, 7, 8, 9, 10, 5, 9, 4, 1, 2, 3, 4, 5, 6, 7, 8, 9, 10, 1, 3, 10, 1, 2, 3, 4, 5, 6, 7, 8, 9, 10, 1, 1, 1, 2, 3, 4, 5, 6, 7, 8, 9, 10, 1, 2, 3, 4, 5, 6, 7, 8, 9, 10, 9, 1, 2, 3, 4, 5, 6, 7, 8, 9, 10, 9, 6, 3, 1, 2, 3, 4, 5, 6, 7, 8, 9, 10, 1, 2, 3, 4, 5, 6, 7, 8, 9, 10, 3, 1, 2, 3, 2, 3, 4, 6, 7, 8, 9, 4, 2, 4, 9, 1, 2, 3, 4, 7, 8, 1, 2, 3, 4, 5, 6, 7, 8, 9, 10, 1, 2, 3, 10, 8, 9, 1, 2, 3, 4, 5, 6, 7, 8, 9, 10, 2, 3, 8, 5, 10, 10, 3, 10, 1, 2, 3, 4, 5, 6, 7, 8, 9, 10, 1, 2, 5, 6, 8, 9, 10, 9, 1, 2, 3, 4, 5, 6, 7, 8, 9, 10, 1, 2, 3, 4, 5, 6, 7, 8, 9, 10, 1, 2, 4, 6, 7, 8, 9, 10, 1, 2, 3, 4, 6, 7, 8, 9, 10, 1, 2, 3, 4, 5, 6, 7, 8, 9, 10, 1, 2, 3, 4, 5, 6, 7, 8, 9, 10, 1, 2, 5, 6, 9, 10, 1, 2, 3, 4, 5, 6, 7, 8, 9, 10, 4, 8, 8, 5, 10, 1, 2, 3, 4, 5, 6, 7, 8, 9, 10, 1, 2, 3, 4, 5, 6, 7, 8, 9, 10, 1, 2, 3, 4, 5, 6, 7, 8, 9, 10, 3, 8, 9, 1, 2, 4, 5, 6, 7, 8, 9, 10, 1, 2, 3, 4, 5, 6, 8, 9, 10, 5, 1, 3, 4, 7, 10, 7, 5, 10, 1, 2, 3, 5, 7, 10, 1, 2, 3, 5, 1, 2, 3, 4, 5, 6, 7, 8, 9, 10, 1, 2, 3, 5, 6, 7, 8, 9, 10, 6, 8, 9, 5, 6, 8, 1, 2, 3, 5, 6, 7, 8, 1, 2, 3, 4, 5, 6, 7, 8, 9, 10, 10, 7, 1, 2, 3, 4, 5, 6, 7, 8, 9, 10, 1, 2, 3, 4, 5, 6, 7, 8, 9, 10, 1, 3, 1, 2, 3, 5, 9, 10, 3, 5, 6, 7, 10, 1, 2, 3, 4, 5, 6, 7, 8, 9, 10, 9, 1, 2, 3, 4, 5, 6, 7, 8, 9, 10, 1, 2, 3, 4, 5, 6, 7, 8, 9, 10, 1, 8, 1, 2, 3, 4, 5, 6, 7, 8, 9, 10, 4, 8, 3, 5], \"Freq\": [0.07478122413158417, 0.922301709651947, 0.010318350978195667, 0.010318350978195667, 0.9802433252334595, 0.03998985141515732, 0.0029100594110786915, 0.018305212259292603, 0.453969269990921, 0.03097805194556713, 0.02553342469036579, 0.001971330726519227, 0.348550021648407, 0.05679309740662575, 0.020839780569076538, 0.9931102991104126, 0.9736164808273315, 0.0943836197257042, 0.032835982739925385, 0.028156457468867302, 0.005393349565565586, 0.11833643913269043, 0.545204222202301, 0.03648442402482033, 0.009517676196992397, 0.00626580324023962, 0.12349184602499008, 0.9936230182647705, 0.9842444658279419, 0.06418178230524063, 0.03888846933841705, 0.1615610271692276, 0.009801158681511879, 0.6898751258850098, 0.0031616641208529472, 0.005690995138138533, 0.0015808320604264736, 0.002213164931163192, 0.023396315053105354, 0.04413869231939316, 0.03830905631184578, 0.8819410800933838, 0.017488917335867882, 0.003331222105771303, 0.013324888423085213, 0.9870541095733643, 0.009055541828274727, 0.0045277709141373634, 0.014574447646737099, 0.0014369174605235457, 0.01744828373193741, 0.00010263695730827749, 0.15631608664989471, 0.7331358194351196, 0.0016421913169324398, 0.00020527391461655498, 0.00020527391461655498, 0.07513025403022766, 0.9773094654083252, 0.9900137782096863, 0.004323204513639212, 0.9935855269432068, 0.00312448269687593, 0.026248309761285782, 0.9449391961097717, 0.9956962466239929, 0.9670676589012146, 0.013815252110362053, 0.013815252110362053, 0.025371920317411423, 0.008457306772470474, 0.003903372446075082, 0.9517723321914673, 0.001951686223037541, 0.0006505620549432933, 0.008132025599479675, 0.005316920578479767, 0.02392614260315895, 0.970337986946106, 0.1812308132648468, 0.051668453961610794, 0.057199541479349136, 0.28410905599594116, 0.02873467467725277, 0.23233266174793243, 0.02385113015770912, 0.047756221145391464, 0.046596042811870575, 0.046515099704265594, 0.9793866872787476, 0.01883435994386673, 0.063673235476017, 0.0119387311860919, 0.012734646908938885, 0.910527229309082, 0.9978469610214233, 0.04476625472307205, 0.017932303249835968, 0.11546339094638824, 0.0003870281216222793, 0.6616891026496887, 0.001032075029797852, 0.08721034228801727, 0.023995744064450264, 0.007353534456342459, 0.04012191668152809, 0.9721167683601379, 0.004347245208919048, 0.9448013305664062, 0.027532555162906647, 0.021736226975917816, 0.07438230514526367, 0.06226349249482155, 0.10109315812587738, 0.1282368302345276, 0.03246110677719116, 0.011438675224781036, 0.18011276423931122, 0.019105680286884308, 0.229700967669487, 0.16119258105754852, 0.9427188634872437, 0.0285672377794981, 0.0044124536216259, 0.0028079249896109104, 0.003209057031199336, 0.000401132128899917, 0.001604528515599668, 0.014440757222473621, 0.029683778062462807, 0.7176253795623779, 0.21260003745555878, 0.012836228124797344, 0.028752144426107407, 0.00631144642829895, 0.03225850313901901, 0.21879680454730988, 0.002805087249726057, 0.06942591071128845, 0.07012718170881271, 0.039271220564842224, 0.5315640568733215, 0.0017950324108824134, 0.0008975162054412067, 0.0017950324108824134, 0.0008975162054412067, 0.9567522406578064, 0.03231058269739151, 0.006282613147050142, 0.0008975162054412067, 0.0008145346073433757, 0.0006109009264037013, 0.012828920036554337, 0.0011199850123375654, 0.04581756889820099, 0.001832702779211104, 0.5040950775146484, 0.23570594191551208, 0.07361356168985367, 0.1236056238412857, 0.007276265881955624, 0.011183889582753181, 0.041703782975673676, 0.00013474565639626235, 0.655268132686615, 0.0002694913127925247, 0.13622786104679108, 0.09027959406375885, 0.005052962340414524, 0.05255080759525299, 0.07742998749017715, 0.02540031261742115, 0.2567172646522522, 0.04086582735180855, 0.12884514033794403, 0.10523718595504761, 0.2140078842639923, 0.10016736388206482, 0.025451524183154106, 0.025912417098879814, 0.09587845206260681, 0.07045307755470276, 0.07396996766328812, 0.15059201419353485, 0.0697612315416336, 0.24485616385936737, 0.05661614239215851, 0.09155441075563431, 0.0873456746339798, 0.05892229825258255, 0.027549240738153458, 0.9642234444618225, 0.004697164986282587, 0.007269422058016062, 0.04730716347694397, 0.037353646010160446, 0.006039212457835674, 0.3181770145893097, 0.09729842096567154, 0.45584869384765625, 0.023933174088597298, 0.0020130707416683435, 0.01638452522456646, 0.010426515713334084, 0.014150271192193031, 0.1484537273645401, 0.014150271192193031, 0.03847880661487579, 0.029045293107628822, 0.20555131137371063, 0.5210775136947632, 0.001986003015190363, 0.04868708550930023, 0.5377461314201355, 0.03574033081531525, 0.011487963609397411, 0.01622902788221836, 0.12016774713993073, 0.009299780242145061, 0.18289567530155182, 0.03136396408081055, 0.006382202263921499, 0.07474526762962341, 0.22458390891551971, 0.04053053259849548, 0.11423145234584808, 0.07375065237283707, 0.07454634457826614, 0.07618745416402817, 0.08066321909427643, 0.16585193574428558, 0.07489445805549622, 0.03539299592375755, 0.7240639925003052, 0.012366227805614471, 0.028570251539349556, 0.009381276555359364, 0.00042642164044082165, 0.08699001371860504, 0.10148835182189941, 0.0008528432808816433, 0.9707790017127991, 0.01903488300740719, 0.004758720751851797, 0.09307360649108887, 0.4213401675224304, 0.025736873969435692, 0.03844344615936279, 0.22977040708065033, 0.021447395905852318, 0.04427066072821617, 0.017157915979623795, 0.015458311885595322, 0.09331640601158142, 0.9767615795135498, 0.11188023537397385, 0.01743588037788868, 0.05174880102276802, 0.00044707386405207217, 0.7763437628746033, 0.008829709142446518, 0.003911896143108606, 0.004582507070153952, 0.0008941477281041443, 0.02403021976351738, 0.9713308215141296, 0.00979459285736084, 0.9892538785934448, 0.9829839468002319, 0.0014246143400669098, 0.012821529060602188, 0.9855353236198425, 0.006659022532403469, 0.9818458557128906, 0.012919023633003235, 0.9944789409637451, 0.48597776889801025, 0.006144465412944555, 0.11978176236152649, 0.0036019280087202787, 0.25919756293296814, 0.010876409709453583, 0.0846099928021431, 0.009252010844647884, 0.004661318380385637, 0.015961484983563423, 0.7331218719482422, 0.0039781806990504265, 0.170682892203331, 0.00018943718168884516, 0.003599306335672736, 0.0640297681093216, 0.0005683115450665355, 0.02386908419430256, 0.051614195108413696, 0.074614979326725, 0.03807784989476204, 0.456494003534317, 0.03609692305326462, 0.018708771094679832, 0.00649304362013936, 0.02256057597696781, 0.09453431516885757, 0.20073409378528595, 0.9820727109909058, 0.006360265426337719, 0.03591679409146309, 0.037413325160741806, 0.000374133262084797, 0.010849864222109318, 0.000748266524169594, 0.7879246473312378, 0.10251250863075256, 0.005986132193356752, 0.012346397154033184, 0.02001648023724556, 0.9707992672920227, 0.003553767455741763, 0.9915011525154114, 0.9605059027671814, 0.9832778573036194, 0.008169963955879211, 0.03812649846076965, 0.05991307273507118, 0.002723321318626404, 0.008169963955879211, 0.05991307273507118, 0.002723321318626404, 0.002723321318626404, 0.02178657054901123, 0.7979331612586975, 0.03514847159385681, 0.9138602614402771, 0.9950305223464966, 0.9966566562652588, 0.9890226125717163, 0.00705727469176054, 0.9880185127258301, 0.18091246485710144, 0.1703014075756073, 0.07439843565225601, 0.16437052190303802, 0.13939620554447174, 0.08089417964220047, 0.034939829260110855, 0.06899204105138779, 0.04220215231180191, 0.04357392340898514, 0.9890820384025574, 0.9765616059303284, 0.017755664885044098, 0.003228302812203765, 0.9964832663536072, 0.00951063446700573, 0.9843506813049316, 0.005191006697714329, 0.0025955033488571644, 0.4853591024875641, 0.00032443791860714555, 0.00032443791860714555, 0.003893254790455103, 0.5022298693656921, 0.99375319480896, 0.9799616932868958, 0.004027648828923702, 0.00014917217777110636, 0.9940087795257568, 0.0004475165333133191, 0.00022375826665665954, 0.001044205273501575, 7.458608888555318e-05, 0.9913823008537292, 0.058984916657209396, 0.5602348446846008, 0.018524188548326492, 0.03387976810336113, 0.13040053844451904, 0.028883110731840134, 0.011090139858424664, 0.0026811326388269663, 0.11443561315536499, 0.040948208421468735, 0.012371226213872433, 0.00262419949285686, 0.007872598245739937, 0.6257591247558594, 0.013495882973074913, 0.0001499542559031397, 0.0002999085118062794, 0.0002999085118062794, 0.3369472324848175, 0.9965239763259888, 0.9973827004432678, 0.002714573172852397, 0.005429146345704794, 0.9853900074958801, 0.005429146345704794, 0.05609786882996559, 0.08442451059818268, 0.006803949363529682, 0.12163794785737991, 0.048877350986003876, 0.03277004137635231, 0.04804421216249466, 0.5425108075141907, 0.030687199905514717, 0.028326645493507385, 0.21561260521411896, 0.1094648614525795, 0.004975675605237484, 0.0013268467737361789, 0.009619639255106449, 0.648164689540863, 0.0005528528126887977, 0.009730209596455097, 0.00022114113380666822, 0.0003317116934340447, 0.007693751249462366, 0.024957777932286263, 0.08069056272506714, 0.001125914859585464, 0.845186710357666, 0.0024394821375608444, 0.0015012196963652968, 0.005254269111901522, 0.004878964275121689, 0.02627134509384632, 0.0005395023617893457, 0.012408553622663021, 0.0016185070853680372, 0.0010790047235786915, 0.11491400003433228, 0.009711042046546936, 0.6889445185661316, 0.14458662271499634, 0.01888258196413517, 0.008092534728348255, 0.06487013399600983, 0.0018534325063228607, 0.9322765469551086, 0.9922167062759399, 0.0641067624092102, 0.11391965299844742, 0.1697704792022705, 0.055665984749794006, 0.13727040588855743, 0.05517309531569481, 0.20285585522651672, 0.1029219999909401, 0.04260434955358505, 0.05572759732604027, 0.9857500791549683, 0.059748049825429916, 0.0482495091855526, 0.4639347195625305, 0.004473709035664797, 0.3308326303958893, 0.0009612928843125701, 0.04991328343749046, 0.000813401653431356, 0.0022183682303875685, 0.038821443915367126, 0.05802684277296066, 0.08050956577062607, 0.16401682794094086, 0.005353029817342758, 0.2533053755760193, 0.003854181384667754, 0.006637756712734699, 0.00492478720843792, 0.0021412118803709745, 0.42160463333129883, 0.0025879170279949903, 0.007763750851154327, 0.0025879170279949903, 0.010351668111979961, 0.9730567932128906, 0.02596338279545307, 0.014744637534022331, 0.018270529806613922, 0.6533583998680115, 0.005021724384278059, 0.0745779499411583, 0.01506517268717289, 0.026177072897553444, 0.09316901117563248, 0.0737231895327568, 0.14141856133937836, 0.030878547579050064, 0.011676762253046036, 0.20732739567756653, 0.018942302092909813, 0.5898061990737915, 0.9660456776618958, 0.20449095964431763, 0.011226954869925976, 0.7000808119773865, 0.005346169229596853, 0.02539430372416973, 0.0010692337527871132, 0.0010692337527871132, 0.0005346168763935566, 0.02646353654563427, 0.02405776083469391, 0.009510330855846405, 0.1645287126302719, 0.7665326595306396, 0.05896405130624771, 0.6195850372314453, 0.06740015745162964, 0.030454179272055626, 0.01393827609717846, 0.045156195759773254, 0.08114749938249588, 0.0007637411472387612, 0.13737794756889343, 0.0016229499597102404, 0.0024821588303893805, 0.07183771580457687, 0.7575000524520874, 0.12512578070163727, 0.0006745325517840683, 0.006408059038221836, 0.0003372662758920342, 0.032377563416957855, 0.0006745325517840683, 0.004721727687865496, 0.0003372662758920342, 0.9889274835586548, 0.9924682378768921, 0.10015475004911423, 0.04934310168027878, 0.7516011595726013, 0.00029370893025770783, 0.09545540809631348, 0.0008811268489807844, 0.0005874178605154157, 0.0011748357210308313, 0.0005874178605154157, 0.01637916825711727, 0.01154941413551569, 0.6597865223884583, 0.09470519423484802, 0.01490924321115017, 0.09113537520170212, 0.021208923310041428, 0.002099893521517515, 0.08567564934492111, 0.002729861531406641, 0.24702398478984833, 0.11719746887683868, 0.09427090734243393, 0.13437296450138092, 0.1125733032822609, 0.0545574426651001, 0.11851866543292999, 0.046630293130874634, 0.02727872133255005, 0.04756290093064308, 0.9794138669967651, 0.029545610770583153, 0.17956401407718658, 0.0009161429479718208, 0.0016032501589506865, 0.04763943329453468, 0.06642036139965057, 0.0009161429479718208, 0.039852216839790344, 0.6293901801109314, 0.0038936075288802385, 0.017012817785143852, 0.0815795361995697, 0.013118317350745201, 0.039559926837682724, 0.0026646582409739494, 0.0028696320950984955, 0.1971847116947174, 0.0010248685721307993, 0.45709139108657837, 0.18775592744350433, 0.0027880792040377855, 0.049070194363594055, 0.05938608571887016, 0.7173727750778198, 0.0025092712603509426, 0.013940395787358284, 0.0052973502315580845, 0.005576158408075571, 0.14414368569850922, 0.0009121975745074451, 6.515696441056207e-05, 0.0005212557152844965, 0.9081578254699707, 0.0003257848438806832, 0.00013031392882112414, 0.00039094180101528764, 0.08946051448583603, 0.12371023744344711, 0.8726587295532227, 0.11104275286197662, 0.023705756291747093, 0.0012476713163778186, 0.8633885979652405, 0.17458364367485046, 0.01130586862564087, 0.800613284111023, 0.006310252472758293, 0.0010517087066546082, 0.004995616152882576, 0.0010517087066546082, 0.01908665895462036, 0.04453553631901741, 0.010906661860644817, 0.028175542131066322, 0.09179773926734924, 0.021813323721289635, 0.001817776937969029, 0.7798263430595398, 0.035405371338129044, 0.10367201268672943, 0.02021144889295101, 0.42012959718704224, 0.002968115033581853, 0.01498191338032484, 0.02332090213894844, 0.2785787880420685, 0.0968877524137497, 0.003886817255988717, 0.003437567735090852, 0.0026287282817065716, 0.0018198888283222914, 0.41594570875167847, 0.0013143641408532858, 0.031645845621824265, 0.001718783867545426, 0.37863799929618835, 0.1550949662923813, 0.007785080000758171, 0.012065193615853786, 0.004807225428521633, 0.0020737051963806152, 0.3579026460647583, 0.0030162984039634466, 0.024130387231707573, 0.0016024084761738777, 0.38457801938056946, 0.19813309609889984, 0.011688156053423882, 0.03846374526619911, 0.9038980007171631, 0.019231872633099556, 0.0024039840791374445, 0.016827888786792755, 0.00721195200458169, 0.00721195200458169, 0.0024039840791374445, 0.0024039840791374445, 0.980401873588562, 0.003690345911309123, 0.006150576286017895, 0.004920461215078831, 0.0006150576518848538, 0.0006150576518848538, 0.0030752881430089474, 0.0006150576518848538, 0.9929994940757751, 0.01933436654508114, 0.008167995139956474, 0.2891883850097656, 0.0006203540251590312, 0.07299499213695526, 0.005996755789965391, 0.4065386652946472, 0.16594471037387848, 0.02067846804857254, 0.010649411007761955, 0.001586437108926475, 0.0012203361839056015, 0.009274555370211601, 0.44688713550567627, 0.0014644034672528505, 0.019525378942489624, 0.1538843959569931, 0.007199983578175306, 0.3471856713294983, 0.011715227738022804, 0.0011717012384906411, 0.003710387274622917, 0.01698966883122921, 0.00273396959528327, 0.039251990616321564, 0.9318930506706238, 0.004100954160094261, 0.9978402853012085, 0.01491122879087925, 0.08393849432468414, 0.009449362754821777, 0.1237129345536232, 0.006701676174998283, 0.047179799526929855, 0.4262600839138031, 0.1512233167886734, 0.12491924315690994, 0.011727932840585709, 0.9689911603927612, 0.0023519203532487154, 0.0011759601766243577, 0.01058364100754261, 0.016463441774249077, 0.012836894951760769, 0.12979526817798615, 0.0855792984366417, 0.0028526433743536472, 0.03565804287791252, 0.007131608203053474, 0.0057052867487072945, 0.0028526433743536472, 0.7174397706985474, 0.03564002364873886, 0.021740414202213287, 0.2006533294916153, 0.07128004729747772, 0.001425600959919393, 0.021384013816714287, 0.00035640023997984827, 0.00035640023997984827, 0.6472228169441223, 0.015043285675346851, 0.9824422597885132, 0.0011571758659556508, 0.10807383805513382, 0.7719559669494629, 0.09006153047084808, 0.0064329663291573524, 0.005146373063325882, 0.005789669696241617, 0.007719559594988823, 0.0006432966329157352, 0.0032164831645786762, 0.0012865932658314705, 0.9913954138755798, 0.0002545398019719869, 0.0024181280750781298, 0.00012726990098599344, 0.2578488290309906, 0.0002545398019719869, 0.002672667847946286, 0.024817630648612976, 0.002036318415775895, 0.7046934366226196, 0.005090795923024416, 0.18337993323802948, 0.263922780752182, 0.10219275206327438, 0.07087770104408264, 0.13380850851535797, 0.0616421177983284, 0.06855806708335876, 0.043299831449985504, 0.03337695077061653, 0.0389612540602684, 0.028229426592588425, 0.9347077012062073, 0.006273205857723951, 0.009409808553755283, 0.0031366029288619757, 0.006273205857723951, 0.009409808553755283, 0.0031366029288619757, 0.03982650488615036, 0.01910046674311161, 0.0018287680577486753, 0.005079911556094885, 0.13593842089176178, 0.008534250780940056, 0.6144660711288452, 0.11114846169948578, 0.038404129445552826, 0.025602754205465317, 0.1331687718629837, 0.14611808955669403, 0.38621771335601807, 0.0026577208191156387, 0.1634780913591385, 0.034776557236909866, 0.10760941356420517, 0.008877918124198914, 0.010461241006851196, 0.0066160280257463455, 0.9819791316986084, 0.00900898315012455, 0.13004356622695923, 0.05298306420445442, 0.5674397349357605, 0.0010164616396650672, 0.20164057612419128, 0.001302341464906931, 0.03008091263473034, 0.0018741012318059802, 0.003017620649188757, 0.010609318502247334, 0.9718758463859558, 0.019834201782941818, 0.16642335057258606, 0.0580454096198082, 0.05645512416958809, 0.13183464109897614, 0.08293337374925613, 0.3173414170742035, 0.09319071471691132, 0.036019958555698395, 0.031010562554001808, 0.026796305552124977, 0.12098659574985504, 0.028135400265455246, 0.12965036928653717, 0.1367826759815216, 0.02397853694856167, 0.3124648332595825, 0.0906633734703064, 0.11678597331047058, 0.03745552524924278, 0.0031067081727087498, 0.9734777212142944, 0.007907495833933353, 0.06325996667146683, 0.9251769781112671, 0.9536184668540955, 0.037954963743686676, 0.007116555701941252, 0.003926774486899376, 0.000654462375678122, 0.002290618373081088, 0.06053777039051056, 0.015052635222673416, 0.08311672508716583, 0.5788719654083252, 0.18423116207122803, 0.01112586073577404, 0.05988330766558647, 0.10331250727176666, 0.009914395399391651, 0.25856292247772217, 0.007435796782374382, 0.4992123544216156, 0.009238413535058498, 0.05835973843932152, 0.01656154729425907, 0.013857620768249035, 0.023434026166796684, 0.016297852620482445, 0.13030008971691132, 0.03714586794376373, 0.013733216561377048, 0.5169811248779297, 0.007611180189996958, 0.048976290971040726, 0.09092051535844803, 0.10093086957931519, 0.03698040917515755, 0.06725265085697174, 0.003241091500967741, 0.8796862959861755, 0.0013504548696801066, 0.002160727744922042, 0.005131728481501341, 0.024038096889853477, 0.001080363872461021, 0.013504547998309135, 0.0027009097393602133, 0.04972698539495468, 0.07650305330753326, 0.01968359760940075, 0.002470411127433181, 0.6806381344795227, 0.009005047380924225, 0.0038251527585089207, 0.009483191184699535, 0.010997314006090164, 0.1378648728132248, 0.00011823229579022154, 0.0005911614862270653, 0.04823877662420273, 0.05320453271269798, 0.8970284461975098, 0.0008276260923594236, 0.9970884919166565, 0.018569687381386757, 0.013927266001701355, 0.9609813690185547, 0.0005585002945736051, 0.0005585002945736051, 0.010053006000816822, 0.005026503000408411, 0.981285035610199, 0.0022340011782944202, 0.9867908954620361, 0.0035883306991308928, 0.0035883306991308928, 0.0035883306991308928, 0.01732030138373375, 0.004330075345933437, 0.006495113018900156, 0.9656067490577698, 0.0021650376729667187, 0.004330075345933437, 0.986646294593811, 0.0320969820022583, 0.6911824345588684, 0.024278486147522926, 0.06439971178770065, 0.01851748861372471, 0.02935364842414856, 0.07386420667171478, 0.034085895866155624, 0.015705574303865433, 0.016528572887182236, 0.8026689887046814, 0.006495587527751923, 0.11877645552158356, 0.003711764235049486, 0.03526176139712334, 0.026910290122032166, 0.005567646119743586, 0.9900224208831787, 0.998795211315155, 0.9378945827484131, 0.03410525619983673, 0.013117406517267227, 0.001311740605160594, 0.002623481210321188, 0.010493924841284752, 0.9743556976318359, 0.016239261254668236, 0.008119630627334118, 0.09963802993297577, 0.8685836791992188, 0.006498132366687059, 0.021660441532731056, 0.9885033965110779, 0.006064438261091709, 0.0035962711554020643, 0.0003596271271817386, 0.7530592083930969, 0.0003596271271817386, 0.24202904105186462, 0.08157294243574142, 0.8973023891448975, 0.08115659654140472, 0.9184865951538086, 0.007532962132245302, 0.0013798000290989876, 0.09177534282207489, 0.009584016166627407, 0.6558151841163635, 0.0007831297116354108, 0.053961366415023804, 0.025321194902062416, 0.010404437780380249, 0.1434619128704071, 0.9918142557144165, 0.7927528023719788, 0.12393298745155334, 0.017256492748856544, 0.021962808445096016, 0.010981404222548008, 0.01934818923473358, 0.0020916960202157497, 0.0020916960202157497, 0.0067980121821165085, 0.0031375440303236246, 0.0059434762224555016, 0.989588737487793, 0.9929240942001343, 0.002963952487334609, 0.0014773034490644932, 0.009848689660429955, 0.030530937016010284, 0.08863820135593414, 0.7332349419593811, 0.0064016482792794704, 0.00935625471174717, 0.12064644694328308, 0.042039789259433746, 0.023769332095980644, 0.10820367187261581, 0.005321491975337267, 0.037250444293022156, 0.010997749865055084, 0.569754421710968, 0.060665011405944824, 0.10110834985971451, 0.04079810529947281, 0.0215015709400177, 0.9675707221031189, 0.04804522544145584, 0.06544743478298187, 0.8848644495010376, 0.001134926569648087, 0.004670142661780119, 0.00622685719281435, 0.01530769094824791, 0.30883482098579407, 0.0005189047660678625, 0.01132942084223032, 0.07619251310825348, 0.3538930416107178, 0.21945346891880035, 0.0035458491183817387, 0.094300776720047, 0.4006887674331665, 0.09138425439596176, 0.030290862545371056, 0.13323886692523956, 0.023229816928505898, 0.0556185245513916, 0.010898570530116558, 0.02067146636545658, 0.13958357274532318, 0.9826463460922241, 0.013647866435348988, 0.9941366314888, 0.9943563938140869, 0.010012841783463955, 0.9858358502388, 0.0005721623892895877, 0.0017164872260764241, 0.0014304060023277998, 0.34382832050323486, 0.0649305135011673, 0.11547922343015671, 0.23368917405605316, 0.06808602064847946, 0.09593939036130905, 0.024030359461903572, 0.0012136545265093446, 0.001820481731556356, 0.05097348988056183, 0.02573292888700962, 0.10372859984636307, 0.05146585777401924, 0.04293248429894447, 0.009330261498689651, 0.3964199125766754, 0.01338112261146307, 0.3418661057949066, 0.011388896033167839, 0.003752026939764619, 0.9807838201522827, 0.9892910718917847, 0.010115450248122215, 0.12243626266717911, 0.022793985903263092, 0.06317190080881119, 0.0026050268206745386, 0.7880206108093262, 0.0006512567051686347, 0.9412128329277039, 0.027458397671580315, 0.030509330332279205, 0.001525466563180089, 0.001525466563180089, 0.9957634210586548, 0.09902168810367584, 0.0019865462090820074, 0.16060462594032288, 0.0048899599350988865, 0.08175401389598846, 0.007487751077860594, 0.5297966003417969, 0.08511586487293243, 0.004431526176631451, 0.025061044842004776, 0.9939195513725281, 0.00031615595798939466, 0.006006963085383177, 0.944674015045166, 0.045210301876068115, 0.003477715654298663, 0.00031615595798939466, 0.15144647657871246, 0.1391891986131668, 0.09594343602657318, 0.010315106250345707, 0.3974984288215637, 0.08782946318387985, 0.07030672580003738, 0.031851667910814285, 0.006776032038033009, 0.008847685530781746, 0.08737748861312866, 0.007250939961522818, 0.031274255365133286, 0.05251438170671463, 0.026660021394491196, 0.02907700091600418, 0.012084899470210075, 0.681222140789032, 0.017871003597974777, 0.054784879088401794, 0.0008746543317101896, 0.00874654296785593, 0.01486912276595831, 0.0017493086634203792, 0.02536497451364994, 0.9472506046295166, 0.03285973146557808, 0.015863317996263504, 0.890612006187439, 0.002266188384965062, 0.007365112192928791, 0.003965829499065876, 0.001133094192482531, 0.018696052953600883, 0.027760807424783707, 0.1254798322916031, 0.008080990985035896, 0.10752207785844803, 0.0008978879195638001, 0.5848617553710938, 0.029742537066340446, 0.00942782312631607, 0.13187728822231293, 0.00011223598994547501, 0.002132483758032322, 0.009436845779418945, 0.010616452433168888, 0.0011796057224273682, 0.13211584091186523, 0.014155269600450993, 0.09200925379991531, 0.003538817400112748, 0.06251910328865051, 0.6723753213882446, 0.0027534523978829384, 0.996749758720398, 0.0019658387172967196, 0.011795032769441605, 0.07339131087064743, 0.0013105592224746943, 0.007863354869186878, 0.03472981974482536, 0.06945963948965073, 0.795509397983551, 0.003276397939771414, 0.9862613677978516, 0.9017019271850586, 0.009552807547152042, 0.0016613578191027045, 0.035719193518161774, 0.0029073762707412243, 0.00539941294118762, 0.012875523418188095, 0.02907376177608967, 0.001246018335223198, 0.979514479637146, 0.006238945759832859, 0.006238945759832859, 0.006238945759832859, 0.015866495668888092, 0.006202950607985258, 0.16232141852378845, 0.6267591714859009, 0.006790598388761282, 0.052170079201459885, 0.062486566603183746, 0.008357659913599491, 0.05380243435502052, 0.00522353732958436, 0.996252715587616, 0.9878197908401489, 0.8796491026878357, 0.11983475834131241, 0.8738405704498291, 0.06239214912056923, 0.009113459847867489, 0.0003505176864564419, 0.04136108607053757, 0.003505176864564419, 0.0007010353729128838, 0.008061906322836876, 0.0003505176864564419, 0.031993430107831955, 0.01819700561463833, 0.04091352969408035, 0.011536664329469204, 0.023311197757720947, 0.0015461508883163333, 0.24916815757751465, 0.036869749426841736, 0.5746923685073853, 0.011536664329469204, 0.006928849965333939, 0.9873611330986023, 0.9974805116653442, 0.9636771082878113, 0.034332290291786194, 0.9441379904747009, 0.4610747992992401, 0.06585480272769928, 0.15095525979995728, 0.004925428424030542, 0.10042400658130646, 0.06704054772853851, 0.021525945514440536, 0.11976087838411331, 0.00045605815830640495, 0.007935412228107452, 0.8622218370437622, 0.00793050229549408, 0.08767610788345337, 0.013658086769282818, 0.00396525114774704, 0.02379150688648224, 0.00044058344792574644, 0.9263098239898682, 0.02309214323759079, 0.025191428139805794, 0.0062978570349514484, 0.0005248214001767337, 0.016269464045763016, 0.0005248214001767337, 0.0015744642587378621, 0.9842400550842285, 0.011579294688999653, 0.005609177052974701, 0.9872151613235474, 0.0681384801864624, 0.03747616335749626, 0.8909106254577637, 0.0017034619813784957, 0.9782582521438599, 0.09611023217439651, 0.09091508388519287, 0.010390295647084713, 0.7680160403251648, 0.009524437598884106, 0.0051951478235423565, 0.010390295647084713, 0.006926863919943571, 0.0025975739117711782, 0.06193060427904129, 0.8751772046089172, 0.006519010756164789, 0.052152086049318314, 0.033901508897542953, 0.0031076385639607906, 0.7884926199913025, 0.000282512599369511, 0.0836237296462059, 0.005085226614028215, 0.08249367773532867, 0.0014125629095360637, 0.001130050397478044, 0.000565025198739022, 0.9834989309310913, 0.011921199038624763, 0.02373659424483776, 0.968453049659729, 0.9873878359794617, 0.9688870906829834, 0.02463272213935852, 0.9913627505302429, 0.9939955472946167, 0.028426483273506165, 0.004237488377839327, 0.034782715141773224, 0.015537457540631294, 0.02913273312151432, 0.04219832271337509, 0.00918122474104166, 0.06815293431282043, 0.7675150632858276, 0.0005296860472299159, 0.6201523542404175, 0.10886629670858383, 0.0009179283515550196, 0.1811990588903427, 0.00954645499587059, 0.00844494067132473, 0.032127492129802704, 0.038552988320589066, 0.003380542853847146, 0.009014780633151531, 0.002253695158287883, 0.8079497218132019, 0.06197661906480789, 0.038312818855047226, 0.0754987895488739, 0.1271575689315796, 0.09867862612009048, 0.13405056297779083, 0.0005441835965029895, 0.5830020308494568, 0.003627890720963478, 0.005260441452264786, 0.00036278908373788, 0.0016325508477166295, 0.04553002864122391, 0.09314361214637756, 0.1993672102689743, 0.177137091755867, 0.036600511521101, 0.08059151470661163, 0.07466739416122437, 0.2535054683685303, 0.026101326569914818, 0.03026580810546875, 0.028564823791384697, 0.006345747038722038, 0.9835907816886902, 0.0006778916576877236, 0.009490483440458775, 0.0033894581720232964, 0.8643118739128113, 0.0006778916576877236, 0.07321229577064514, 0.03863982483744621, 0.008812591433525085, 0.09895528107881546, 0.020689798519015312, 0.07779738306999207, 0.0017787609249353409, 0.038383789360523224, 0.39525941014289856, 0.33253467082977295, 0.029677221551537514, 0.0020596180111169815, 0.002995807910338044, 0.024820847436785698, 0.036977995187044144, 0.012157149612903595, 0.7542498111724854, 0.008864588104188442, 0.1489250808954239, 0.0060785748064517975, 0.0002532739599701017, 0.0027860135305672884, 0.004812205210328102, 0.052825335413217545, 0.011936922557651997, 0.005523053929209709, 0.6607175469398499, 0.029307818040251732, 0.0675237849354744, 0.06850368529558182, 0.06378236413002014, 0.02342843823134899, 0.016480078920722008, 0.06957549601793289, 0.011618172749876976, 0.061295878142118454, 0.6149619221687317, 0.027242612093687057, 0.0973522812128067, 0.011885257437825203, 0.06837361305952072, 0.011351088993251324, 0.026307817548513412, 0.8702054023742676, 0.025089381262660027, 0.0006602468783967197, 0.1036587581038475, 0.9269415736198425, 0.04711994528770447, 0.019197015091776848, 0.005983485374599695, 0.0002493118809070438, 0.0019981623627245426, 0.995084822177887, 0.0019981623627245426, 0.057911425828933716, 0.2093401998281479, 0.09167110919952393, 0.05874034762382507, 0.3407241404056549, 0.09747355431318283, 0.07121183723211288, 0.04121997207403183, 0.005425663664937019, 0.02629939839243889, 0.008534292690455914, 0.9771764874458313, 0.012801438570022583, 0.979997992515564, 0.01768948696553707, 0.009302230551838875, 0.02577175386250019, 0.03568396717309952, 0.025619259104132652, 0.0500185526907444, 0.10262952744960785, 0.2717471420764923, 0.4102131128311157, 0.05139101296663284, 0.18441438674926758, 0.14358168840408325, 0.06992267817258835, 0.011120018549263477, 0.10016912966966629, 0.022951718419790268, 0.015479066409170628, 0.44435593485832214, 0.0016902427887544036, 0.006405130960047245, 0.10256355255842209, 0.11089560389518738, 0.16783127188682556, 0.002182203345000744, 0.5431702733039856, 0.01021667942404747, 0.018945492804050446, 0.013688365928828716, 0.00862962193787098, 0.021722842007875443, 0.9918570518493652, 0.99847012758255, 0.9798619151115417, 0.013241377659142017, 0.9961100816726685, 0.007263974752277136, 0.010385682806372643, 0.02257235161960125, 0.48383474349975586, 0.06822733581066132, 0.02743501216173172, 0.0672968253493309, 0.164970263838768, 0.1228572279214859, 0.025123747065663338, 0.13497602939605713, 0.47555726766586304, 0.022083524614572525, 0.033315662294626236, 0.15924885869026184, 0.026176592335104942, 0.054732874035835266, 0.03245897218585014, 0.03521941602230072, 0.026176592335104942, 0.04733355715870857, 0.7981864213943481, 0.025936195626854897, 0.007780858781188726, 0.060301654040813446, 0.003890429390594363, 0.03306864947080612, 0.012968097813427448, 0.009077668190002441, 0.002593619516119361, 0.0027726164553314447, 0.003003668040037155, 0.0054682157933712006, 0.0067775072529911995, 0.004235941916704178, 0.0012322739930823445, 0.5926467776298523, 0.23020419478416443, 0.14856603741645813, 0.005237164441496134, 0.13872112333774567, 0.7489539384841919, 0.014012234285473824, 0.0007006117375567555, 0.02872508019208908, 0.002802446950227022, 0.001401223475113511, 0.05955199524760246, 0.005604893900454044, 0.11122801899909973, 0.015273637138307095, 0.7176812887191772, 0.004492246080189943, 0.021383091807365417, 0.0034141072537750006, 0.005750075448304415, 0.00017968985775951296, 0.001257829018868506, 0.1194937527179718, 0.0012484171893447638, 0.9874979853630066, 0.00998733751475811, 0.04656987637281418, 0.10856049507856369, 0.08187223225831985, 0.17520426213741302, 0.05022317171096802, 0.06848964095115662, 0.1524384766817093, 0.123096764087677, 0.11294445395469666, 0.08064164221286774, 0.04703959822654724, 0.004049766808748245, 0.12834644317626953, 0.09407919645309448, 0.013395382091403008, 0.0037382461596280336, 0.017445148900151253, 0.0006230410072021186, 0.0003115205036010593, 0.6906409859657288, 0.02326633781194687, 0.04253377392888069, 0.0036353652831166983, 0.8972081542015076, 0.0003635365283116698, 0.005816584452986717, 0.005816584452986717, 0.010542559437453747, 0.00945194996893406, 0.0014541461132466793, 0.08085543662309647, 0.11687757074832916, 0.7269214391708374, 0.06556546688079834, 0.004664736799895763, 0.0036281284410506487, 0.0007774560945108533, 0.00025915203150361776, 0.00025915203150361776, 0.9869755506515503, 0.03081326372921467, 0.0068075815215706825, 0.015406631864607334, 0.11214594542980194, 0.02113933302462101, 0.13041892647743225, 0.005374406464397907, 0.020422745496034622, 0.5811524987220764, 0.07631657272577286, 0.98838871717453, 0.046224821358919144, 0.5886805057525635, 0.040948014706373215, 0.02321794629096985, 0.2123386710882187, 0.01393076777458191, 0.019207574427127838, 0.01203111745417118, 0.02005186304450035, 0.023006875067949295, 0.005103829316794872, 0.9748314023017883, 0.005103829316794872, 0.010207658633589745, 0.01965808868408203, 0.004749989602714777, 0.018112912774086, 0.5064461827278137, 0.025609882548451424, 0.11960817128419876, 0.1261608600616455, 0.06635677814483643, 0.10052236914634705, 0.012790634296834469, 0.11075299978256226, 0.03207133337855339, 0.8302198648452759, 0.0006414266536012292, 0.0029933243058621883, 0.0010690443450585008, 0.0036347508430480957, 0.0004276177496649325, 0.01817375421524048, 0.9829006195068359, 0.40101158618927, 0.09560254961252213, 0.19702103734016418, 0.024321211501955986, 0.12227897346019745, 0.0743575394153595, 0.020908551290631294, 0.013458377681672573, 0.007546304725110531, 0.0434032678604126, 0.02188372053205967, 0.2055807113647461, 0.03899791091680527, 0.002034063683822751, 0.056953784078359604, 0.6596679091453552, 0.007224433124065399, 0.0027354650665074587, 0.0012625223025679588, 0.003717426909133792, 0.0002953311486635357, 0.0029533114284276962, 0.0017719869501888752, 0.14175894856452942, 0.18133333325386047, 0.0002953311486635357, 0.6715830564498901, 0.976269006729126, 0.0741952434182167, 0.053327832370996475, 0.021447062492370605, 0.04984992742538452, 0.009274405427277088, 0.7523861527442932, 0.001159300678409636, 0.03188076987862587, 0.004057552199810743, 0.002318601356819272, 0.9743177890777588, 0.012084562331438065, 0.012084562331438065, 0.001510570291429758, 0.9968881607055664, 0.9956134557723999, 0.9940794110298157, 0.9920183420181274, 0.012725031934678555, 0.006362515967339277, 0.9798274636268616, 0.008333439007401466, 0.987512469291687, 0.08148472756147385, 0.8752583265304565, 0.015453998930752277, 0.01123927254229784, 0.00561963627114892, 0.008429454639554024, 0.00140490906778723, 0.008899668231606483, 0.012713812291622162, 0.9395506978034973, 0.03687005490064621, 0.00254276255145669, 0.21960146725177765, 0.013030453585088253, 0.5795996785163879, 0.06949575245380402, 0.027977149933576584, 0.023633666336536407, 0.015202196314930916, 0.023505916818976402, 0.024527912959456444, 0.0031937386374920607, 0.0021112982649356127, 0.006333894561976194, 0.03800336644053459, 0.004222596529871225, 0.006333894561976194, 0.9416390061378479, 0.9896723628044128, 0.00659781601279974, 0.11708946526050568, 0.29388654232025146, 0.053813036531209946, 0.1409885436296463, 0.07402300089597702, 0.07630865275859833, 0.06235415115952492, 0.06311603635549545, 0.051206592470407486, 0.06720614433288574, 0.05869221314787865, 0.10368276387453079, 0.07362089306116104, 0.0024540298618376255, 0.41892334818840027, 0.02454029954969883, 0.10296700149774551, 0.1685611754655838, 0.024693675339221954, 0.021830640733242035, 0.0063904630951583385, 0.9905217885971069, 0.9683231115341187, 0.028905168175697327, 0.011282062157988548, 0.6258723735809326, 0.03441029042005539, 0.07657699286937714, 0.03934619203209877, 0.01226924266666174, 0.0413205511868, 0.07826930284500122, 0.044846195727586746, 0.03567952290177345, 0.549674391746521, 0.015729496255517006, 0.4109688401222229, 0.003717880928888917, 0.002859908388927579, 0.004003871697932482, 0.009151706472039223, 0.0002859908272512257, 0.002859908388927579, 0.000857972539961338, 0.0007704399176873267, 0.03274369612336159, 0.003274369752034545, 0.026387568563222885, 0.034669797867536545, 0.9006443023681641, 0.001348269870504737, 0.00019260997942183167, 0.0002280851622344926, 0.8964887857437134, 0.07469788938760757, 0.0001140425811172463, 0.028054475784301758, 0.0003421277506276965, 0.9601008892059326, 0.010787650011479855, 0.010787650011479855, 0.012960606254637241, 0.013886363245546818, 0.0814666673541069, 0.8905788064002991, 0.0015451315557584167, 0.08961763232946396, 0.026267236098647118, 0.04171855002641678, 0.004635394550859928, 0.8251002430915833, 0.010815920308232307, 0.9918262362480164, 0.004528886638581753, 0.07461006194353104, 0.3703727424144745, 0.0947280004620552, 0.049426451325416565, 0.12548384070396423, 0.037703048437833786, 0.1240365132689476, 0.05065668374300003, 0.041031915694475174, 0.03205844387412071, 0.9853453040122986, 0.9691734313964844, 0.9967473149299622, 0.9907260537147522, 0.0032660430297255516, 0.0032660430297255516, 0.0016330215148627758, 0.9879779815673828, 0.0032660430297255516, 0.880959689617157, 0.055116452276706696, 0.010842581279575825, 0.012649677693843842, 0.0072283875197172165, 0.011746129021048546, 0.006324838846921921, 0.010842581279575825, 0.004517741966992617, 0.000703521422110498, 0.1589958518743515, 0.008442257530987263, 0.009849300608038902, 0.08723665773868561, 0.013366907835006714, 0.719702422618866, 0.001407042844220996, 0.9862353801727295, 0.9906558394432068, 0.9934226274490356, 0.8056024312973022, 0.02987712435424328, 0.07649263739585876, 0.0007199306855909526, 0.06497374922037125, 0.0028797227423638105, 0.014398613944649696, 0.0019798094872385263, 0.001799826743081212, 0.0012598787434399128, 0.7969252467155457, 0.002903669374063611, 0.15151874721050262, 0.0002639699378050864, 0.040915340185165405, 0.0026396994944661856, 0.002111759502440691, 0.002903669374063611, 0.9914116859436035, 0.022448016330599785, 0.022448016330599785, 0.9428166747093201, 0.9965595006942749, 0.9843438267707825, 0.9737707376480103, 0.11480631679296494, 0.8801817893981934, 0.014935340732336044, 0.003733835183084011, 0.9782648086547852, 0.007836110889911652, 0.9795138239860535, 0.7849356532096863, 0.01191876269876957, 0.05505333095788956, 0.010783642530441284, 0.12316054850816727, 0.001135120284743607, 0.0005675601423718035, 0.01191876269876957, 0.009500172920525074, 0.022958751767873764, 0.054625995457172394, 0.0007916810573078692, 0.8732242584228516, 0.0007916810573078692, 0.0007916810573078692, 0.01979202777147293, 0.01741698384284973, 0.991223931312561, 0.0029217819683253765, 0.8736127614974976, 0.054052963852882385, 0.0365222729742527, 0.030678709968924522, 0.6235336065292358, 0.05789670720696449, 0.01036790944635868, 0.0015474491519853473, 0.12865935266017914, 0.15412594377994537, 0.0006852989317849278, 0.012689082883298397, 0.004929731134325266, 0.005548710469156504, 0.9930081367492676, 0.0008115189848467708, 0.8301839232444763, 0.03611259534955025, 0.00608639232814312, 0.12335088104009628, 0.0036518354900181293, 0.9936981201171875, 0.9985126256942749, 0.9918834567070007, 0.0077978260815143585, 0.015449132770299911, 0.007724566385149956, 0.005149710923433304, 0.939822256565094, 0.023173699155449867, 0.007724566385149956, 0.11266282200813293, 0.3467017114162445, 0.0866449624300003, 0.10065926611423492, 0.0629425048828125, 0.13063769042491913, 0.035401351749897, 0.05508230999112129, 0.04161639139056206, 0.02766301855444908, 0.9995008111000061, 0.991044282913208, 0.02307645045220852, 0.016172176226973534, 0.004105244297534227, 0.030416129156947136, 0.01455495785921812, 0.030934467911720276, 0.006987208966165781, 0.8659992814064026, 0.00640666950494051, 0.0013269477058202028, 0.009833711199462414, 0.01588522456586361, 0.9735373854637146, 0.028288213536143303, 0.02200194261968136, 0.06522004306316376, 0.006286269519478083, 0.011786755174398422, 0.0259308610111475, 0.009429404512047768, 0.8250728845596313, 0.0015715673798695207, 0.0031431347597390413, 0.016652340069413185, 0.005186794325709343, 0.04477022588253021, 0.12721295654773712, 0.005459783598780632, 0.0019109242130070925, 0.050230007618665695, 0.0450432151556015, 0.6164095401763916, 0.08735653758049011, 0.24381592869758606, 0.048168059438467026, 0.5568773150444031, 0.0017977782990783453, 0.11865336447954178, 0.005951265804469585, 0.0151881268247962, 0.003967510536313057, 0.0019837552681565285, 0.0036575489211827517, 0.15405434370040894, 0.05112764611840248, 0.12424387037754059, 0.09433268755674362, 0.18148131668567657, 0.14186830818653107, 0.05901667848229408, 0.03041473962366581, 0.10040891915559769, 0.06307869404554367, 0.24607861042022705, 0.02357211709022522, 0.5997794270515442, 0.00023810219136066735, 0.10143153369426727, 0.019167225807905197, 0.0046429927460849285, 0.004523941315710545, 0.00023810219136066735, 0.0003571532724890858, 0.9873539805412292, 0.009672636166214943, 0.00994132086634636, 0.009135267697274685, 0.005239344667643309, 0.034257251769304276, 0.0006717108190059662, 0.709998369216919, 0.18203364312648773, 0.028346197679638863, 0.010747373104095459, 0.007888734340667725, 0.9150931239128113, 0.01577746868133545, 0.023666203022003174, 0.002629578113555908, 0.002629578113555908, 0.026295779272913933, 0.007888734340667725, 0.1338568478822708, 0.05541714280843735, 0.015280461870133877, 0.0024448740296065807, 0.10777819156646729, 0.025874916464090347, 0.005704706069082022, 0.0032598318066447973, 0.02343004196882248, 0.6271101832389832, 0.10428562015295029, 0.04660356044769287, 0.0340479239821434, 0.02016287110745907, 0.4729781150817871, 0.10509804636240005, 0.12991388142108917, 0.01713474839925766, 0.028213247656822205, 0.04158130660653114, 0.9590217471122742, 0.016824942082166672, 0.053626030683517456, 0.007969193160533905, 0.03287292271852493, 0.00016602486721239984, 0.5628242492675781, 0.04831323400139809, 0.21732653677463531, 0.03469919413328171, 0.011787764728069305, 0.0303825493901968, 0.8830114603042603, 0.02177830971777439, 0.02177830971777439, 0.03959692642092705, 0.007919385097920895, 0.02177830971777439, 0.028036775067448616, 0.6929455995559692, 0.16179019212722778, 0.004115489777177572, 0.035753317177295685, 0.0005144362221471965, 0.07587934285402298, 0.0005144362221471965, 0.00025721811107359827, 0.08217868953943253, 0.021753182634711266, 0.706429123878479, 0.0014282392803579569, 0.05460268631577492, 0.0012085101334378123, 0.005163634195923805, 0.0008789164712652564, 0.0002197291178163141, 0.12601464986801147, 0.021611426025629044, 0.004964787047356367, 0.8846082091331482, 0.0017522777197882533, 0.0008761388598941267, 0.08615365624427795, 0.016306310892105103, 0.9783787131309509, 0.9916584491729736, 0.010034022852778435, 0.005105028860270977, 0.006865384057164192, 0.01672337017953396, 0.09013016521930695, 0.011090235784649849, 0.010034022852778435, 0.013378696516156197, 0.1656493842601776, 0.6708712577819824, 0.9924456477165222, 0.9343604445457458, 0.03503851592540741, 0.023359009996056557, 0.03294600173830986, 0.0016071220161393285, 0.006428488064557314, 0.9088274836540222, 0.016071220859885216, 0.031338877975940704, 0.0016071220161393285, 0.01793939620256424, 0.0005786901456303895, 0.0005786901456303895, 0.001157380291260779, 0.00578690180554986, 0.8929189443588257, 0.031827960163354874, 0.04687390476465225, 0.002314760582521558, 0.4278756082057953, 0.2625313401222229, 0.05595619976520538, 0.01971389167010784, 0.038826748728752136, 0.0029450631700456142, 0.1605960875749588, 0.015927381813526154, 0.0069118826650083065, 0.008714982308447361, 0.0008902707486413419, 0.05668057128787041, 0.00029675691621378064, 0.8258745074272156, 0.04777786135673523, 0.06855084747076035, 0.00029675691621378064, 0.9878069758415222, 0.9981212019920349, 0.9834409952163696, 0.004219552502036095, 0.9915948510169983, 0.0021097762510180473, 0.005380725022405386, 0.9900534152984619, 0.002690362511202693, 0.002690362511202693, 0.0024854836519807577, 0.06710805743932724, 0.00919628981500864, 0.014167256653308868, 0.8709134459495544, 0.03603951260447502, 0.993280291557312, 0.989558219909668, 0.13000285625457764, 0.735802948474884, 0.008578868582844734, 0.011878433637320995, 0.08050937950611115, 0.009898694232106209, 0.00527930399402976, 0.006599129643291235, 0.009898694232106209, 0.0019797389395534992, 0.04011773318052292, 0.9387549757957458, 0.016047094017267227, 0.9889098405838013, 0.011090234853327274, 0.9537601470947266, 0.011090234853327274, 0.011090234853327274, 0.04230013117194176, 0.7796239256858826, 0.03188779205083847, 0.022776992991566658, 0.05401401221752167, 0.010412340052425861, 0.024729305878281593, 0.013666195794939995, 0.0058569409884512424, 0.015618509612977505, 0.009759106673300266, 0.9798142910003662, 0.007807285059243441, 0.9945296049118042, 0.9947616457939148, 0.003753817407414317, 0.014175985008478165, 0.008750608190894127, 0.006475450005382299, 0.22655324637889862, 0.012863393872976303, 0.06869227439165115, 0.005425376817584038, 0.4397180378437042, 0.2128147929906845, 0.004637822043150663, 0.037224359810352325, 0.11243877559900284, 0.022440634667873383, 0.0007067916449159384, 0.14259521663188934, 0.10472296178340912, 0.16809861361980438, 0.009188291616737843, 0.3496851623058319, 0.05283267796039581, 0.005358811467885971, 0.9913801550865173, 0.04100311920046806, 0.8948327898979187, 0.007235844619572163, 0.04582701623439789, 0.007235844619572163, 0.7524139881134033, 0.08149370551109314, 0.08389844000339508, 0.013092431239783764, 0.010954891331493855, 0.03660536929965019, 0.0029391171410679817, 0.00026719248853623867, 0.017367510125041008, 0.0013359623262658715, 0.001078718458302319, 0.0016415282152593136, 0.01444544829428196, 0.3152672052383423, 0.004971485119313002, 0.12194209545850754, 0.006097104866057634, 0.5155336260795593, 0.01861961930990219, 0.0003283056430518627, 0.03978307545185089, 0.9587721228599548, 0.015242584981024265, 0.9782968163490295, 0.005542758386582136, 0.9981428980827332, 0.9939271807670593, 0.004023996647447348, 0.00611428776755929, 0.9905146360397339, 0.008790197782218456, 0.042485956102609634, 0.0018312912434339523, 0.24832308292388916, 0.013185297138988972, 0.059700094163417816, 0.0014650329248979688, 0.030033176764845848, 0.5530499219894409, 0.04065466672182083, 0.033196162432432175, 0.6655830144882202, 0.02780178375542164, 0.08672496676445007, 0.026971880346536636, 0.009958848357200623, 0.048549383878707886, 0.08091564476490021, 0.010373800061643124, 0.0107887526974082, 0.050892725586891174, 0.14074914157390594, 0.0150380227714777, 0.2659871280193329, 0.06461280584335327, 0.0594424307346344, 0.09168124943971634, 0.0915122851729393, 0.14433123171329498, 0.07569701224565506, 0.004077532794326544, 0.044852860271930695, 0.024465195834636688, 0.008155065588653088, 0.008155065588653088, 0.016310131177306175, 0.016310131177306175, 0.8766695261001587, 0.0031268498860299587, 0.02091754786670208, 0.0045285411179065704, 0.08464059233665466, 0.002803382696583867, 0.0062536997720599174, 0.503638505935669, 0.17801479995250702, 0.18836575746536255, 0.007871036417782307, 0.3734748959541321, 0.40517693758010864, 0.04607745260000229, 0.021705908700823784, 0.08834685385227203, 0.02532355859875679, 0.018849866464734077, 0.007520906627178192, 0.006949698552489281, 0.006664094515144825, 0.9811866283416748, 0.001535773160867393, 0.04574409872293472, 0.00021939616999588907, 0.885811984539032, 0.001096980762667954, 0.032031841576099396, 0.008117658086121082, 0.010531015694141388, 0.010640714317560196, 0.0042782253585755825, 0.022330263629555702, 0.11325177550315857, 0.08871135115623474, 0.047175537794828415, 0.06569517403841019, 0.016690537333488464, 0.13878296315670013, 0.05449193716049194, 0.33099088072776794, 0.12186378985643387, 0.40714696049690247, 0.23873290419578552, 0.09530160576105118, 0.0031128665432333946, 0.168174609541893, 0.015963418409228325, 0.03958927467465401, 0.013329453766345978, 0.0034321348648518324, 0.015245064161717892, 0.031555138528347015, 0.25420281291007996, 0.023834751918911934, 0.13642804324626923, 0.06632278859615326, 0.04093359410762787, 0.18233585357666016, 0.1010386198759079, 0.08803313970565796, 0.07523491233587265, 0.053789954632520676, 0.004414061084389687, 0.017245635390281677, 0.6416813135147095, 0.0025663147680461407, 0.023404790088534355, 0.0005132629303261638, 0.2396937906742096, 0.00564589211717248, 0.010983826592564583, 0.0652066096663475, 0.6434283256530762, 0.034889768809080124, 0.009484597481787205, 0.11771062761545181, 0.009315229952335358, 0.03963206708431244, 0.02320338971912861, 0.04183385148644447, 0.015243102796375751, 0.9694677591323853, 0.00033079381682910025, 0.057558126747608185, 0.598075270652771, 0.041680023074150085, 0.28977540135383606, 0.01257016509771347, 0.020921384915709496, 0.04184276983141899, 0.9205408692359924, 0.018168624490499496, 0.9750494956970215, 0.16534797847270966, 0.0025438149459660053, 0.0025438149459660053, 0.0025438149459660053, 0.0025438149459660053, 0.8241960406303406, 0.9814830422401428, 0.5832358002662659, 0.07636784017086029, 0.024529073387384415, 0.023933224380016327, 0.046873368322849274, 0.18064123392105103, 0.03793565183877945, 0.016485124826431274, 0.003873011562973261, 0.006057787220925093, 0.011252475902438164, 0.9845916032791138, 0.989220917224884, 0.10724660009145737, 0.05449078232049942, 0.41285765171051025, 0.004690833855420351, 0.1546047478914261, 0.010345538146793842, 0.1973363161087036, 0.008867603726685047, 0.0029558679088950157, 0.04671556502580643, 0.04373668134212494, 0.04594754800200462, 0.028645122423768044, 0.11977121978998184, 0.057194121181964874, 0.11544561386108398, 0.08430124819278717, 0.3197103440761566, 0.1776382178068161, 0.007497716695070267, 0.985112190246582, 0.00794445350766182, 0.009040874429047108, 0.0030136245768517256, 0.9372372627258301, 0.045204371213912964, 0.04846097156405449, 0.008267140947282314, 0.43934598565101624, 0.001872667227871716, 0.28934991359710693, 0.0008678213926032186, 0.0029688626527786255, 0.0007307969499379396, 0.0008221465977840126, 0.20731796324253082, 0.017560118809342384, 0.8375200629234314, 0.05170479416847229, 0.014145650900900364, 0.0009755621431395411, 0.07755719125270844, 0.000930081820115447, 0.10509924590587616, 0.7580167055130005, 0.13486187160015106, 0.9529501795768738, 0.021401694044470787, 0.034372419118881226, 0.000648536195512861, 0.0376151017844677, 0.018159013241529465, 0.008430970832705498, 0.002594144782051444, 0.858013391494751, 0.018159013241529465, 0.000648536195512861, 0.009601530618965626, 0.004343549255281687, 0.030061934143304825, 0.7063983082771301, 0.00022860786702949554, 0.022860785946249962, 0.0059438045136630535, 0.018174324184656143, 0.19980327785015106, 0.0025146864354610443, 0.1073540523648262, 0.5976948142051697, 0.004756192211061716, 0.05345053970813751, 0.07043693959712982, 0.04982677474617958, 0.03351983055472374, 0.031254976987838745, 0.0246869008988142, 0.027404725551605225, 0.9969721436500549, 0.9973366856575012, 0.1438288688659668, 0.12207761406898499, 0.03940897062420845, 0.3556867837905884, 0.07996274530887604, 0.05883592739701271, 0.034760378301143646, 0.02275729365646839, 0.10004883259534836, 0.0426352322101593, 0.8211187720298767, 0.013251220807433128, 0.03518427535891533, 0.009595711715519428, 0.025131626054644585, 0.007082549389451742, 0.0009138773311860859, 0.08567599952220917, 0.002056224038824439, 0.8929778933525085, 0.030622635036706924, 0.037731461226940155, 0.006015160586684942, 0.007108826190233231, 0.01695181615650654, 0.0005468327435664833, 0.006015160586684942, 0.0010936654871329665, 0.02464982308447361, 0.06612952798604965, 0.0008499938994646072, 0.033489760011434555, 0.007139949128031731, 0.5059163570404053, 0.10386925935745239, 0.1560588777065277, 0.09587931632995605, 0.005949957296252251, 0.9860914349555969, 0.9788245558738708, 0.01063939742743969, 0.022721029818058014, 0.06472503393888474, 0.012705838307738304, 0.0068761007860302925, 0.5210888385772705, 0.004185452591627836, 0.15067629516124725, 0.008370905183255672, 0.03901439905166626, 0.1696603149175644, 0.0005439582746475935, 0.0005439582746475935, 0.002175833098590374, 0.9459434151649475, 0.0027197913732379675, 0.0005439582746475935, 0.046780411154031754, 0.03251059725880623, 0.02446560002863407, 0.02099413052201271, 0.4025803506374359, 0.021324746310710907, 0.16624486446380615, 0.050363872200250626, 0.10210531204938889, 0.15186305344104767, 0.027606455609202385, 0.03737426549196243, 0.0033976605627685785, 0.9547426104545593, 0.9916117191314697, 0.8872010707855225, 0.048547253012657166, 0.06311143189668655, 0.9840826988220215, 0.01595809869468212, 0.01753118820488453, 0.9817465543746948, 0.9879633188247681, 0.15646201372146606, 0.003328979015350342, 0.8402342796325684, 0.041450630873441696, 0.014257841743528843, 0.22621461749076843, 0.0005879522068426013, 0.5481184720993042, 0.002498796908184886, 0.02454700507223606, 0.13625793159008026, 0.000881928310263902, 0.005144582130014896, 0.9967657923698425, 0.9733179807662964, 0.021471915766596794, 0.9555002450942993, 0.021471915766596794, 0.02870929054915905, 0.3437996804714203, 0.18483088910579681, 0.01684594713151455, 0.07580675929784775, 0.009372040629386902, 0.09063594043254852, 0.013524211011826992, 0.026811154559254646, 0.2096252739429474, 0.004272854421287775, 0.8823444843292236, 0.010682136751711369, 0.03631926327943802, 0.04700139909982681, 0.00854570884257555, 0.00854570884257555, 0.8998351693153381, 0.09410549700260162, 0.0023331940174102783, 0.0023331940174102783, 0.0007777313585393131, 0.9902070164680481, 0.10641627013683319, 0.22286787629127502, 0.0016725544119253755, 0.018607167527079582, 0.04892221465706825, 0.011498811654746532, 0.003345108823850751, 0.271790087223053, 0.3148583769798279, 0.9931447505950928, 0.9884759187698364, 0.009967824444174767, 0.9964522123336792, 0.8764058947563171, 0.10162216424942017, 0.010230419225990772, 0.0006820279522798955, 0.001364055904559791, 0.00886636320501566, 0.0006820279522798955, 0.0006820279522798955, 0.0012917440617457032, 0.009042208082973957, 0.9881842136383057, 0.005494321696460247, 0.9944722056388855, 0.003421467263251543, 0.9853825569152832, 0.010264401324093342, 0.007233027834445238, 0.022338468581438065, 0.11784640699625015, 0.1296750009059906, 0.009790563024580479, 0.37759602069854736, 0.00599422212690115, 0.31965187191963196, 0.008831487037241459, 0.0010589791927486658, 0.0031380041036754847, 0.014876463450491428, 0.004610154312103987, 0.15232878923416138, 0.0008522974094375968, 0.48914122581481934, 0.0003874078975059092, 0.32054129242897034, 0.013481794856488705, 0.0006198526825755835, 0.014147510752081871, 0.9761782288551331, 0.9975535869598389, 0.99278324842453, 0.00033687445102259517, 0.0006737489020451903, 0.23379087448120117, 0.7545987963676453, 0.010443108156323433, 0.9454742670059204, 0.970150351524353, 0.019306473433971405, 0.004826618358492851, 0.9640884399414062, 0.017049327492713928, 0.07956352829933167, 0.8979312181472778, 0.0041528441943228245, 0.03091561794281006, 0.030684903264045715, 0.00046142711653374135, 0.18064871430397034, 0.03783702477812767, 0.002999276388436556, 0.015919236466288567, 0.5952410101890564, 0.1012832522392273, 0.9982131719589233, 0.10984563827514648, 0.06740527600049973, 0.8225940465927124, 0.9904540181159973, 0.9945501089096069, 0.044146548956632614, 0.06462833285331726, 0.010517673566937447, 0.5996457934379578, 0.024218326434493065, 0.02532545104622841, 0.022142469882965088, 0.12095324695110321, 0.04788309335708618, 0.04068678990006447, 0.019303491339087486, 0.9716089963912964, 0.006434496957808733, 0.006434496957808733, 0.0020359426271170378, 0.08907248824834824, 0.0006786475423723459, 0.7448157072067261, 0.07974108308553696, 0.08245567977428436, 0.0010179713135585189, 0.002167878206819296, 0.04335756227374077, 0.017343025654554367, 0.9343554377555847, 0.002167878206819296, 0.06259223818778992, 0.05325360968708992, 0.05459248274564743, 0.37023141980171204, 0.04562204331159592, 0.06627413630485535, 0.04013267159461975, 0.0802653431892395, 0.1642795205116272, 0.06275960057973862, 0.9901872873306274, 0.0032721897587180138, 0.004362919833511114, 0.13906806707382202, 0.024541422724723816, 0.004908284638077021, 0.8235010504722595, 0.9901396632194519, 0.05949121341109276, 0.02482704259455204, 0.014638585969805717, 0.10129901766777039, 0.025119813159108162, 0.1481424868106842, 0.07366136461496353, 0.451219767332077, 0.09040790796279907, 0.01118387933820486, 0.9869870543479919, 0.022530432790517807, 0.968808650970459, 0.9707445502281189, 0.02417149394750595, 0.9668596982955933, 0.9970672726631165, 0.9859000444412231, 0.08220700174570084, 0.13853643834590912, 0.22701679170131683, 0.0062080007046461105, 0.093446746468544, 0.033849939703941345, 0.293605774641037, 0.07194746285676956, 0.02365574985742569, 0.029471667483448982, 0.048528414219617844, 0.008563837967813015, 0.01522460114210844, 0.9239429831504822, 0.0028546126559376717, 0.0012430963106453419, 0.998206377029419, 0.9737189412117004, 0.022214120253920555, 0.034967370331287384, 0.008177852258086205, 0.08163752406835556, 0.4277157783508301, 0.06908874958753586, 0.22890937328338623, 0.05047708749771118, 0.06633929908275604, 0.004511918406933546, 0.028269989416003227, 0.9859978556632996, 0.012355863116681576, 0.005876635201275349, 0.02404078096151352, 0.028848936781287193, 0.883632242679596, 0.001068479148671031, 0.0016027187230065465, 0.008013593032956123, 0.0005342395743355155, 0.030985893681645393, 0.016027186065912247, 0.0013640859397128224, 0.9075718522071838, 0.016823727637529373, 0.07047777622938156, 0.00363756250590086, 0.014431941322982311, 0.006335974205285311, 0.022703908383846283, 0.06916771829128265, 0.019359922036528587, 0.00035199857666157186, 0.6594693064689636, 0.042239829897880554, 0.1511833816766739, 0.014783940277993679, 0.004001726396381855, 0.06218067184090614, 0.20224109292030334, 0.0012313004117459059, 0.7301611304283142, 0.00030782510293647647, 0.028558794409036636, 0.10197066515684128, 0.06727961450815201, 0.10486158728599548, 0.0024529024958610535, 0.4285571277141571, 0.008585158735513687, 0.20884713530540466, 0.04388943314552307, 0.00508101237937808, 0.001410432392731309, 0.0010785659542307258, 0.0008296661544591188, 0.6929371356964111, 0.001410432392731309, 0.06761778891086578, 0.03542674332857132, 0.11972082406282425, 0.04637833684682846, 0.033186644315719604, 0.9907551407814026, 0.030053067952394485, 0.9616981744766235, 0.10511761903762817, 0.16198788583278656, 0.6276261210441589, 0.016835244372487068, 0.020325476303696632, 0.014782165177166462, 0.022994479164481163, 0.0036955412942916155, 0.0024636941961944103, 0.02402101829648018, 0.06597771495580673, 0.04747474193572998, 0.7539963126182556, 0.00024346022109966725, 0.12026934325695038, 0.0021911419462412596, 0.004138823598623276, 0.0034084429498761892, 0.00024346022109966725, 0.002434602240100503, 0.04501454159617424, 0.0045014540664851665, 0.9137952327728271, 0.03401098772883415, 0.0005001616082154214, 0.0010003232164308429, 0.0005001616082154214, 0.8876551389694214, 0.011159317567944527, 0.007831099443137646, 0.04228793829679489, 0.0342610627412796, 0.0023493298795074224, 0.002545107388868928, 0.009005764499306679, 0.0017619974678382277, 0.0013704424491152167, 0.9829285144805908, 0.008056790567934513, 0.9370393753051758, 0.00363545841537416, 0.00090886460384354, 0.005453187506645918, 0.05271414667367935, 0.9900168180465698, 0.9945597648620605, 0.2894052267074585, 0.3984788954257965, 0.07496481388807297, 0.010800693184137344, 0.16595731675624847, 0.006293737329542637, 0.01770780235528946, 0.010373999364674091, 0.010133983567357063, 0.0158676840364933, 0.06421376019716263, 0.01177050732076168, 0.06300445646047592, 0.2722534239292145, 0.05494247004389763, 0.16208632290363312, 0.0895284116268158, 0.16333593428134918, 0.06191609054803848, 0.05691765621304512, 0.12561506032943726, 0.1011517345905304, 0.10912293195724487, 0.10445016622543335, 0.02363872155547142, 0.05992140993475914, 0.05387429520487785, 0.00632198341190815, 0.022539246827363968, 0.3930624723434448, 0.20094653964042664, 0.2065742164850235, 0.055548958480358124, 0.019502779468894005, 0.40621086955070496, 0.01208007987588644, 0.022462155669927597, 0.03342640399932861, 0.02008495107293129, 0.02314135618507862, 0.09720519930124283, 0.026510508731007576, 0.030045242980122566, 0.8165236711502075, 0.001767367240972817, 0.026510508731007576, 0.9732799530029297, 0.08180585503578186, 0.11147411167621613, 0.020506002008914948, 0.001527042593806982, 0.7089840769767761, 0.005453723948448896, 0.009162255562841892, 0.04690202325582504, 0.005453723948448896, 0.008507808670401573, 0.987977921962738, 0.011083085089921951, 0.04253767430782318, 0.011816021054983139, 0.011816021054983139, 0.8602063059806824, 0.004726408515125513, 0.011816021054983139, 0.03544806316494942, 0.018905634060502052, 0.0051208846271038055, 0.002048353897407651, 0.02816486544907093, 0.06119457259774208, 0.004096707794815302, 0.00460879597812891, 0.6050325036048889, 0.1912650465965271, 0.08577481657266617, 0.012546167708933353, 0.00024405316798947752, 0.005613222718238831, 0.00024405316798947752, 0.06125734746456146, 0.01683966815471649, 0.0641859844326973, 0.8510134220123291, 0.00048810633597895503, 0.017806140705943108, 0.007167251314967871, 0.5000277757644653, 0.00011198830179637298, 0.29200950264930725, 0.0025757309049367905, 0.11848362535238266, 0.019094005227088928, 0.0025197367649525404, 0.04020380228757858, 0.09312260895967484, 0.25558629631996155, 0.0449497364461422, 0.03240562230348587, 0.09930755198001862, 0.3635179102420807, 0.029095370322465897, 0.03841634467244148, 0.023694433271884918, 0.02003573440015316, 0.02087189443409443, 0.09078261256217957, 0.14833229780197144, 0.004863354377448559, 0.06606055796146393, 0.6575660109519958, 0.005268633831292391, 0.0006079192971810699, 0.0026343169156461954, 0.0026343169156461954, 0.005934156943112612, 0.019656894728541374, 0.0007417696178890765, 0.57635498046875, 0.0001236282696481794, 0.0011126543395221233, 0.024972910061478615, 0.001483539235778153, 0.36495062708854675, 0.004697874188423157, 0.9763643145561218, 0.013194112107157707, 0.015129128471016884, 0.7937749624252319, 0.06656816601753235, 0.1200244203209877, 0.0030258256010711193, 0.0010086086113005877, 0.02374236099421978, 0.9496944546699524, 0.01187118049710989, 0.01804158091545105, 0.9291414022445679, 0.0045103952288627625, 0.0045103952288627625, 0.045103952288627625, 0.10929454118013382, 0.16411904990673065, 0.04194547235965729, 0.3840472400188446, 0.08010994642972946, 0.06943649798631668, 0.04808960109949112, 0.03588011860847473, 0.044938765466213226, 0.022134607657790184, 0.8623512983322144, 0.09961818158626556, 0.013081175275146961, 0.0010062442161142826, 0.0010062442161142826, 0.002012488432228565, 0.003018732648342848, 0.00804995372891426, 0.010062442161142826, 0.2387658655643463, 0.005502285901457071, 0.10454343259334564, 0.0025010390672832727, 0.018174216151237488, 0.6052514314651489, 0.02267608791589737, 0.000666943727992475, 0.0018340953392907977, 0.737758457660675, 0.17524662613868713, 0.03412174433469772, 0.0013251162599772215, 0.0168952327221632, 0.0029815116431564093, 0.02716488391160965, 0.003975349012762308, 0.035553768277168274, 0.9243980050086975, 0.9876872301101685, 0.010267019271850586, 0.0015913269016891718, 0.08805342018604279, 0.2912128269672394, 0.00689574982970953, 0.0031826538033783436, 0.0005304422811605036, 0.062061745673418045, 0.0037130960263311863, 0.5426424741744995, 0.1904238909482956, 0.1002231016755104, 0.06625274568796158, 0.13651441037654877, 0.11683903634548187, 0.19311408698558807, 0.061927326023578644, 0.04763234779238701, 0.041618961840867996, 0.04546963796019554, 0.03554267808794975, 0.20745518803596497, 0.04060615971684456, 0.16566918790340424, 0.051421359181404114, 0.04355575889348984, 0.11493607610464096, 0.100827157497406, 0.15618130564689636, 0.08376863598823547, 0.9603032469749451, 0.038278985768556595, 0.978890597820282, 0.011516359634697437, 0.9932650923728943, 0.24908514320850372, 0.07455264031887054, 0.229048490524292, 0.04810831695795059, 0.1629376858472824, 0.07251846045255661, 0.07200991362333298, 0.05639759451150894, 0.01718880794942379, 0.018104188144207, 0.9967597126960754, 0.10812810808420181, 0.014240330085158348, 0.047476876527071, 0.45664721727371216, 0.03184258192777634, 0.06250985711812973, 0.021374162286520004, 0.08708193898200989, 0.03427518904209137, 0.1363901048898697, 0.014478901401162148, 0.0007620474207215011, 0.004572284407913685, 0.9083605408668518, 0.006096379365772009, 0.0007620474207215011, 0.0022861422039568424, 0.007620474323630333, 0.019051186740398407, 0.03581622987985611, 0.9787741899490356, 0.9924543499946594, 0.02558799833059311, 0.006587954703718424, 0.1020655632019043, 0.059291593730449677, 0.014321641065180302, 0.0008592984522692859, 0.010502536781132221, 0.003723626723513007, 0.00267337285913527, 0.7744188904762268, 0.043718066066503525, 0.1802629828453064, 0.009359695017337799, 0.4836829602718353, 0.02416933886706829, 0.09863222390413284, 0.015342790633440018, 0.036017052829265594, 0.07475908100605011, 0.034002941101789474, 0.11715067923069, 0.16486503183841705, 0.061920467764139175, 0.21380354464054108, 0.06035466492176056, 0.22242970764636993, 0.05033351108431816, 0.04953637346625328, 0.03370751067996025, 0.025878485292196274, 0.014486666768789291, 0.9706066846847534, 0.07248170673847198, 0.02767978236079216, 0.20585893094539642, 0.03028137981891632, 0.3926294147968292, 0.005445203278213739, 0.10672598332166672, 0.01530707161873579, 0.016759125515818596, 0.12687323987483978, 0.9498708248138428, 0.10438550263643265, 0.30759572982788086, 0.10087978839874268, 0.012995299883186817, 0.03541974723339081, 0.1534654200077057, 0.23010747134685516, 0.0215177983045578, 0.02538616769015789, 0.008220282383263111, 0.02433459833264351, 0.19262675940990448, 0.2822585701942444, 0.02520775981247425, 0.020538249984383583, 0.017918769270181656, 0.2748936414718628, 0.1040579304099083, 0.04232929274439812, 0.01583077572286129, 0.9764103293418884, 0.020628387108445168, 0.026353182271122932, 0.0023252808023244143, 0.7967962026596069, 0.0003875468100886792, 0.009688669815659523, 0.020152434706687927, 0.1317659169435501, 0.007750935852527618, 0.003487921319901943, 0.0007750936201773584, 0.09876902401447296, 0.022204168140888214, 0.2510364353656769, 0.057773951441049576, 0.18647189438343048, 0.05260016396641731, 0.1577286273241043, 0.0709599182009697, 0.05055220425128937, 0.05195343866944313, 0.9711982607841492, 0.9590147733688354, 0.987321674823761, 0.005641838535666466, 0.005641838535666466, 0.0030295629985630512, 0.04847300797700882, 0.015147815458476543, 0.0030295629985630512, 0.9058393836021423, 0.021206941455602646, 0.028142886236310005, 0.012382869608700275, 0.1854616105556488, 0.005628576967865229, 0.31914031505584717, 0.0008442865801043808, 0.008442865684628487, 0.0005628577200695872, 0.0025328597985208035, 0.43649616837501526, 0.9511762857437134, 0.0479009635746479, 0.03986711427569389, 6.21951840003021e-05, 0.08869033306837082, 0.0025500026531517506, 0.6370652914047241, 0.0614488422870636, 0.1674916297197342, 0.002860978478565812, 0.00239406805485487, 0.10294492542743683, 0.017237290740013123, 0.016758475452661514, 0.8384026288986206, 0.022025426849722862, 0.029433665797114372, 0.9713109731674194, 0.9924978613853455, 0.003319390816614032, 0.003319390816614032, 0.05163219943642616, 0.015243791975080967, 0.05949996039271355, 0.0009834704687818885, 0.8718465566635132, 0.020993221551179886, 0.9761847853660583, 0.002141444943845272, 0.00267680617980659, 0.003212167415767908, 0.005888973828405142, 0.17738302052021027, 0.008744233287870884, 0.46165984869003296, 0.009636502712965012, 0.2496567964553833, 0.07905501127243042, 0.15663091838359833, 0.3097933232784271, 0.029938776046037674, 0.06060776859521866, 0.16283774375915527, 0.05622648447751999, 0.04321954399347305, 0.010268635116517544, 0.06594745814800262, 0.10451188683509827, 0.9728384613990784, 0.9033131003379822, 0.0015258666826412082, 0.09460373967885971, 0.00399981252849102, 0.04041915759444237, 0.001263098674826324, 0.7665956616401672, 0.003052488435059786, 0.09873221069574356, 0.00778910843655467, 0.026735588908195496, 0.03441943973302841, 0.01684131659567356, 0.03099622018635273, 0.9670820832252502, 0.08688733726739883, 0.04403969645500183, 0.05655623972415924, 0.4438406527042389, 0.06847675889730453, 0.014900648966431618, 0.004569532349705696, 0.038278110325336456, 0.06317874789237976, 0.17920513451099396, 0.9971097707748413, 0.05847343057394028, 0.36143025755882263, 0.046604808419942856, 0.06768184155225754, 0.053408801555633545, 0.05335764214396477, 0.10901739448308945, 0.0864567756652832, 0.13510790467262268, 0.028546083718538284, 0.02141345664858818, 0.07494709640741348, 0.8886584043502808, 0.9887917041778564, 0.1193893775343895, 0.018421407788991928, 0.06808925420045853, 0.004080691374838352, 0.1825817972421646, 0.14970308542251587, 0.00023318237799685448, 0.4192619025707245, 0.030780073255300522, 0.0074618360958993435, 0.03641180694103241, 0.10906877368688583, 0.026496464386582375, 0.0461605042219162, 0.13006597757339478, 0.014248098246753216, 0.07907278090715408, 0.035661906003952026, 0.08548858761787415, 0.4373582899570465, 0.0004757253045681864, 0.0023786264937371016, 0.06612581759691238, 0.0004757253045681864, 0.7164422869682312, 0.0004757253045681864, 0.1103682667016983, 0.10275666415691376, 0.0004757253045681864, 0.9974231123924255, 0.0007061332580633461, 0.01000355463474989, 0.00011768888361984864, 0.9532799124717712, 0.0028245330322533846, 0.010709688067436218, 0.010827376507222652, 0.008591288700699806, 0.0030599108431488276, 0.03433572128415108, 0.03593273088335991, 0.012576456181704998, 0.007785425055772066, 0.005789162125438452, 0.896920919418335, 0.0011977576650679111, 0.0017966366140171885, 0.0007985051488503814, 0.0031940205954015255, 0.15303479135036469, 0.047408413141965866, 0.12280096113681793, 0.07934324443340302, 0.10381564497947693, 0.13169004023075104, 0.19555971026420593, 0.08872616291046143, 0.035117343068122864, 0.04241516441106796, 0.25183749198913574, 0.14756736159324646, 0.20785106718540192, 0.011513497680425644, 0.04609452933073044, 0.22747264802455902, 0.027770230546593666, 0.057891812175512314, 0.012770252302289009, 0.009202689863741398, 0.004528014920651913, 0.0022640074603259563, 0.02490408346056938, 0.9554111957550049, 0.011320037767291069, 0.019055113196372986, 0.004330707248300314, 0.9761414527893066, 0.08057785779237747, 0.044060591608285904, 0.04260874167084694, 0.27222251892089844, 0.06167220696806908, 0.0899517834186554, 0.078021340072155, 0.16027198731899261, 0.10478594154119492, 0.06586995720863342, 0.9891240000724792, 0.037496328353881836, 0.041618265211582184, 0.06103125959634781, 0.1632818877696991, 0.028188729658722878, 0.053718145936727524, 0.08509805053472519, 0.08709253370761871, 0.16580823063850403, 0.2768346071243286, 0.012887106277048588, 0.014796307310461998, 0.2103303074836731, 0.0020683009643107653, 0.027206113561987877, 0.7219961285591125, 0.002545601222664118, 0.0003182001528330147, 0.0003182001528330147, 0.007477703504264355, 0.03301891312003136, 0.014675073325634003, 0.0018343841657042503, 0.9465422034263611, 0.0036687683314085007, 0.9248825907707214, 0.043269358575344086, 0.021634679287672043, 0.9315634965896606, 0.06485568732023239, 0.19012585282325745, 0.23922757804393768, 0.06794466823339462, 0.10214623063802719, 0.13588933646678925, 0.059738121926784515, 0.05441991612315178, 0.07945216447114944, 0.03200092911720276, 0.039061304181814194, 0.5053882002830505, 0.01588362827897072, 0.23016822338104248, 0.051405198872089386, 0.020215528085827827, 0.009674574248492718, 0.010974143631756306, 0.0008663797634653747, 0.0005775864701718092, 0.15479318797588348, 0.986419677734375, 0.011492268182337284, 0.0006530813407152891, 0.06302234530448914, 0.6429585814476013, 0.06269580870866776, 0.23021116852760315, 0.00032654067035764456, 0.9833053350448608, 0.7715868949890137, 0.05447538569569588, 0.054134488105773926, 0.03777141869068146, 0.07908816635608673, 0.00034089726977981627, 0.0020453836768865585, 0.0004090767470188439, 0.9817857146263123, 0.0028498859610408545, 0.009974600747227669, 0.00427482882514596, 0.0015048125060275197, 0.022357214242219925, 0.002364705316722393, 0.29730796813964844, 0.001289839274249971, 0.011178607121109962, 0.05159357190132141, 0.013113366439938545, 0.5922512412071228, 0.0073090894147753716, 0.9897597432136536, 0.04486113786697388, 0.07244277745485306, 0.052775055170059204, 0.07927965372800827, 0.038679856806993484, 0.05132339149713516, 0.39873966574668884, 0.19353975355625153, 0.03254539892077446, 0.0357765257358551, 0.7928892374038696, 0.014255293644964695, 0.11355078220367432, 0.002457809168845415, 0.017204664647579193, 0.03195152059197426, 0.01966247335076332, 0.001966247335076332, 0.000983123667538166, 0.00491561833769083, 0.004749538376927376, 0.005209171213209629, 0.3755199611186981, 0.015627512708306313, 0.267659455537796, 0.0001532109163235873, 0.0042899055406451225, 0.0001532109163235873, 0.004596327431499958, 0.3220493495464325, 0.0050786640495061874, 0.007781824097037315, 0.0013106230180710554, 0.668417751789093, 0.0037680412642657757, 0.05643870308995247, 0.03407619893550873, 0.12196985632181168, 0.07650762051343918, 0.02449226751923561, 0.9888413548469543, 0.964223325252533, 0.014539630152285099, 0.9596155881881714, 0.014539630152285099, 0.0018609141698107123, 0.9881454110145569, 0.0037218283396214247, 0.005582742393016815, 0.016323449090123177, 0.8937088251113892, 0.08161724358797073, 0.004080862272530794, 0.13526976108551025, 0.7237053513526917, 0.08257041126489639, 0.024528268724679947, 0.008499895222485065, 0.011171290650963783, 0.00825704075396061, 0.0012142707128077745, 0.004371374845504761, 0.000485708296764642, 0.07288669794797897, 0.524824321269989, 0.0654778853058815, 0.031237157061696053, 0.0024429059121757746, 0.01673991233110428, 0.2527005970478058, 0.0017620960716158152, 0.019222866743803024, 0.012695101089775562, 0.08741402626037598, 0.4426083564758301, 0.09549682587385178, 0.028364654630422592, 0.0032181532587856054, 0.018859874457120895, 0.3106640577316284, 0.0028439494781196117, 0.0054633766412734985, 0.005014332011342049, 0.061027899384498596, 0.9103328585624695, 0.0101713165640831, 0.015256974846124649, 0.9854586124420166, 0.021952180191874504, 0.06181074678897858, 0.019704516977071762, 0.10781292617321014, 0.35925155878067017, 0.1375570148229599, 0.04869937524199486, 0.04787523299455643, 0.16310545802116394, 0.03221651166677475, 0.16441577672958374, 0.0074228341691195965, 0.6294563412666321, 0.0011134251253679395, 0.06680550426244736, 0.0023505641147494316, 0.11072394251823425, 0.008907401002943516, 0.0002474278153385967, 0.008536258712410927, 0.011320614255964756, 0.010291467420756817, 0.03931340575218201, 0.03787260130047798, 0.09241738170385361, 0.022641228511929512, 0.012143931351602077, 0.5512109994888306, 0.044047482311725616, 0.1788657009601593, 0.47292661666870117, 0.15387730300426483, 0.06341610103845596, 0.013988845981657505, 0.058027803897857666, 0.15885111689567566, 0.024350954219698906, 0.04870190843939781, 0.00383398006670177, 0.0020724216010421515, 0.06421571224927902, 0.07599326223134995, 0.2865871489048004, 0.0014020897215232253, 0.18647794425487518, 0.0005608359351754189, 0.001962925773113966, 0.0016825076891109347, 0.0002804179675877094, 0.381087988615036, 0.9926961660385132, 0.949378490447998, 0.012171518988907337, 0.012171518988907337, 0.018257278949022293, 0.006085759494453669, 0.984475314617157, 0.9883022904396057, 0.030178291723132133, 0.023328004404902458, 0.00037028579390607774, 0.017403433099389076, 0.015922289341688156, 0.00018514289695303887, 0.0016662860289216042, 0.8936847448348999, 0.017218289896845818, 0.04106944426894188, 0.015695327892899513, 0.016218505799770355, 0.05414888262748718, 0.00444700988009572, 0.0023542994167655706, 0.0007847664528526366, 0.7062897682189941, 0.1585228145122528, 0.013133717700839043, 0.005253486800938845, 0.8747056126594543, 0.0026267434004694223, 0.0026267434004694223, 0.07092207670211792, 0.03152092173695564, 0.010396010242402554, 0.006048587616533041, 0.0007560734520666301, 0.044230297207832336, 0.003213312244042754, 0.4591256082057953, 0.007182697765529156, 0.026840608566999435, 0.4370104670524597, 0.005292514339089394, 0.00838953722268343, 0.004830339457839727, 0.04906608164310455, 0.00025422839098609984, 0.029744721949100494, 0.007118395064026117, 0.783277690410614, 0.09584410488605499, 0.0020338271278887987, 0.019575586542487144, 0.010448167100548744, 0.9633209705352783, 0.01880669966340065, 0.00417926674708724, 0.07001089304685593, 0.0012266059638932347, 0.2913189232349396, 0.0001415314618498087, 0.41025251150131226, 0.00037741722189821303, 0.15313704311847687, 0.015002334490418434, 0.0024532119277864695, 0.05609363317489624, 0.9872602820396423, 0.09496352821588516, 0.20020049810409546, 0.28666868805885315, 0.027988556772470474, 0.1273643970489502, 0.027264146134257317, 0.12960347533226013, 0.038459569215774536, 0.03727417066693306, 0.030293496325612068, 0.02967868372797966, 0.9369984865188599, 0.012719436548650265, 0.0042398120276629925, 0.012719436548650265, 0.0042398120276629925, 0.9740564823150635, 0.049231234937906265, 0.04844978451728821, 0.07228395342826843, 0.003516516648232937, 0.7122899889945984, 0.0015628963010385633, 0.005860861390829086, 0.003907240927219391, 0.003516516648232937, 0.09885319322347641, 0.9588574767112732, 0.9586753845214844, 0.029687078669667244, 0.00941297598183155, 0.0021722251549363136, 0.0715046152472496, 0.03105093352496624, 0.0467950701713562, 0.06428855657577515, 0.029520254582166672, 0.5398926734924316, 0.006778724957257509, 0.02820824272930622, 0.008090736344456673, 0.17384149134159088, 0.07218017429113388, 0.05250726640224457, 0.02957863174378872, 0.15059472620487213, 0.055555183440446854, 0.10058120638132095, 0.02923227846622467, 0.11616713553667068, 0.2969639301300049, 0.09656349569559097, 0.10187458992004395, 0.0593193843960762, 0.008811937645077705, 0.088979072868824, 0.013325368985533714, 0.6159759163856506, 0.014185070060193539, 0.020847754552960396, 0.00021492529776878655, 0.07651340961456299, 0.0015245300019159913, 0.9025217294692993, 0.09452085942029953, 0.0007622650009579957, 0.09827455133199692, 0.018922429531812668, 0.0036624057684093714, 0.8508989214897156, 0.024416036903858185, 0.0006104009225964546, 0.0012208018451929092, 0.0018312028842046857, 0.01457438338547945, 0.021363692358136177, 0.05404290184378624, 0.35367774963378906, 0.029872959479689598, 0.03168344125151634, 0.025980422273278236, 0.3307751417160034, 0.11568982899188995, 0.022449981421232224, 0.16653478145599365, 0.44766324758529663, 0.13086318969726562, 0.002930527087301016, 0.08346949517726898, 0.022635795176029205, 0.11944423615932465, 0.0011115792440250516, 0.007376843597739935, 0.017886320129036903, 0.9348596930503845, 0.06070517376065254, 0.022030876949429512, 0.024968326091766357, 0.9473276734352112, 0.00146872503682971, 0.013346446678042412, 0.9742906093597412, 0.11008168011903763, 0.03874071314930916, 0.467344731092453, 0.001116447034291923, 0.3335943818092346, 0.022217296063899994, 0.011611049063503742, 0.005135656334459782, 0.0007815129356458783, 0.009378155693411827, 0.16616922616958618, 0.011976161040365696, 0.07784504443407059, 0.6756550669670105, 0.007485100533813238, 0.05888279154896736, 0.0004990067100152373, 0.0019960268400609493, 0.9900607466697693, 0.01140209287405014, 0.0022804185282438993, 0.8916436433792114, 0.006841255817562342, 0.0022804185282438993, 0.08437548577785492, 0.4313643276691437, 0.10740193724632263, 0.13876932859420776, 0.000669170927722007, 0.25821632146835327, 0.0025930374395102262, 0.005604306701570749, 0.0005855245981365442, 0.01045579556375742, 0.04433257505297661, 0.848751425743103, 0.058782484382390976, 0.08563635498285294, 0.0006343433633446693, 0.0025373734533786774, 0.002748821396380663, 0.00021144779748283327, 0.00021144779748283327, 0.19469867646694183, 0.0843871608376503, 0.23658816516399384, 0.0016725383466109633, 0.13539958000183105, 0.04941590875387192, 0.26844242215156555, 0.023111440241336823, 0.0029649543575942516, 0.0033450766932219267, 0.0891229659318924, 0.029550990089774132, 0.32053717970848083, 0.07702057808637619, 0.1618548333644867, 0.13130509853363037, 0.11820396035909653, 0.04282837361097336, 0.015803610906004906, 0.01380612887442112, 0.0880991518497467, 0.1631229668855667, 0.12644819915294647, 0.10723381489515305, 0.10587844252586365, 0.27394452691078186, 0.06131063401699066, 0.040661148726940155, 0.021207580342888832, 0.012118617072701454, 0.0031670271418988705, 0.14206379652023315, 0.014930271543562412, 0.06922216713428497, 0.0389091931283474, 0.0022621622774749994, 0.7243443727493286, 0.0049767568707466125, 0.961114227771759, 0.9845776557922363, 0.07368794083595276, 0.053923580795526505, 0.1506318598985672, 0.06974649429321289, 0.07220275700092316, 0.06786145269870758, 0.28264182806015015, 0.1273259073495865, 0.07625845074653625, 0.025762218981981277, 0.012229811400175095, 0.006114905700087547, 0.0030574528500437737, 0.9630976319313049, 0.012229811400175095, 0.028226180002093315, 0.04562138393521309, 0.021661952137947083, 0.002625691005960107, 0.010502764023840427, 0.004266748204827309, 0.8740269541740417, 0.004266748204827309, 0.008861707523465157, 0.9692169427871704, 0.009596207179129124, 0.019192414358258247, 0.017691072076559067, 0.0009828374022617936, 0.9449981451034546, 0.034399308264255524, 0.0019656748045235872, 0.006782371550798416, 0.023621363565325737, 0.020814863964915276, 0.8508368134498596, 0.005612997338175774, 0.030637608841061592, 0.002806498669087887, 0.032976359128952026, 0.02479073777794838, 0.000935499498154968, 0.0017229026416316628, 0.9975606799125671, 0.9443489909172058, 0.9980419278144836, 0.03621342033147812, 0.06951919198036194, 0.7829499840736389, 0.00039649728569202125, 0.06965135782957077, 0.005022299010306597, 0.025507992133498192, 0.005683127790689468, 0.0006608288385905325, 0.004361470229923725, 0.1904609501361847, 0.06138366833329201, 0.06586705148220062, 0.061605069786310196, 0.0156088313087821, 0.4909032881259918, 0.0340958870947361, 0.023911401629447937, 0.04140214994549751, 0.01466787327080965, 0.9823510050773621, 0.03272479772567749, 0.055555056780576706, 0.0316111296415329, 0.21335369348526, 0.05829640105366707, 0.11055327951908112, 0.16842134296894073, 0.14627642929553986, 0.12126165628433228, 0.061937250196933746, 0.010943434201180935, 0.9739657044410706, 0.010943434201180935, 0.05573343113064766, 0.021409792825579643, 0.1090879961848259, 0.013933357782661915, 0.011894329451024532, 0.010874815285205841, 0.0023788658436387777, 0.003398380009457469, 0.004417893942445517, 0.7666745185852051, 0.9896159768104553, 0.9938017129898071, 0.11133936792612076, 0.6210392713546753, 0.04207456111907959, 0.017228301614522934, 0.09399386495351791, 0.022736670449376106, 0.029182633385062218, 0.015353112481534481, 0.0200410857796669, 0.027073046192526817, 0.009465882554650307, 0.858240008354187, 0.01577647030353546, 0.09308117628097534, 0.018931765109300613, 0.003155294107273221, 0.052383169531822205, 0.03802630305290222, 0.3021409511566162, 0.049020301550626755, 0.13257469236850739, 0.16982494294643402, 0.012028727680444717, 0.006208376027643681, 0.016814351081848145, 0.22104404866695404, 0.008793056011199951, 0.028230339288711548, 0.0018511697417125106, 0.03100709244608879, 0.004627924412488937, 0.030544301494956017, 0.20224028825759888, 0.029155923053622246, 0.6516117453575134, 0.01110701821744442, 0.045967478305101395, 0.7909024953842163, 0.05760481581091881, 0.05571374669671059, 0.010910002514719963, 0.009309869259595871, 0.019783472642302513, 0.004364001099020243, 0.005091334693133831, 0.00014546670718118548, 0.022220848128199577, 0.6844750046730042, 0.00619269534945488, 0.0313277542591095, 0.056462813168764114, 0.023677952587604523, 0.053548604249954224, 0.056827086955308914, 0.047720182687044144, 0.017485257238149643, 0.027685394510626793, 0.9620674252510071, 0.9951567649841309, 0.9419078826904297, 0.03579697385430336, 0.022373108193278313, 0.008101723156869411, 0.980308473110199, 0.018746957182884216, 0.006248985417187214, 0.8861061334609985, 0.08748579770326614, 0.9939650297164917, 0.011400353163480759, 0.03234518691897392, 0.013521349057555199, 0.00265124486759305, 0.08669570833444595, 0.00689323665574193, 0.04427579045295715, 0.11320815980434418, 0.656448245048523, 0.03234518691897392, 0.9907657504081726, 0.00660091545432806, 0.00660091545432806, 0.019802745431661606, 0.9637336134910583, 0.05367767810821533, 0.12230357527732849, 0.808222770690918, 0.008153571747243404, 0.0016986607806757092, 0.004756249953061342, 0.00033973215613514185, 0.00033973215613514185, 0.00033973215613514185, 0.08130944520235062, 0.46821966767311096, 0.06013830378651619, 0.032984018325805664, 0.18540087342262268, 0.056456368416547775, 0.027691233903169632, 0.0194068755954504, 0.039887651801109314, 0.028458304703235626, 0.14126868546009064, 0.010651210322976112, 0.05381663888692856, 0.050453100353479385, 0.12027204036712646, 0.2837604582309723, 0.11461517214775085, 0.13301271200180054, 0.07955281436443329, 0.012536831200122833, 0.08669137209653854, 0.729996383190155, 0.005504213739186525, 0.020640801638364792, 0.019264748319983482, 0.1135244145989418, 0.006880267523229122, 0.0013760534347966313, 0.015136588364839554, 0.0006880267173983157, 0.016106458380818367, 0.13701285421848297, 0.4753348231315613, 0.004577170591801405, 0.14072640240192413, 0.042317237704992294, 0.15683285892009735, 0.01671099103987217, 0.003281744895502925, 0.007124840747565031, 0.20033878087997437, 0.1633579432964325, 0.44252702593803406, 0.0005179389263503253, 0.16988398134708405, 0.005282977130264044, 0.011809008195996284, 0.003418397158384323, 0.0017609924543648958, 0.0012430534698069096, 0.3937026560306549, 0.03414948284626007, 0.365681916475296, 0.00015132709813769907, 0.1811637580394745, 0.008852635510265827, 0.009432722814381123, 0.004968572873622179, 0.0005548660410568118, 0.0013871650444343686, 0.972199559211731, 0.00041718577267602086, 0.23737870156764984, 0.012098387815058231, 0.0012515572598204017, 0.7388359904289246, 0.010012458078563213, 0.008660857565701008, 0.011547810398042202, 0.9700160622596741, 0.010104333981871605, 0.004655914381146431, 0.0005060776020400226, 0.030061010271310806, 0.00020243105245754123, 0.01113370805978775, 0.051721133291721344, 0.8945428133010864, 0.006983871106058359, 0.00020243105245754123, 0.9904264807701111, 0.0740886926651001, 0.04353085532784462, 0.031532686203718185, 0.3860785663127899, 0.05267946049571037, 0.02752080000936985, 0.16793687641620636, 0.11345768719911575, 0.031457699835300446, 0.07176404446363449, 0.007257702760398388, 0.023551955819129944, 0.0020634643733501434, 0.001636540750041604, 0.13590404391288757, 0.02212887816131115, 0.03486543521285057, 0.04945199191570282, 0.6921144127845764, 0.031023120507597923, 0.9939335584640503, 0.044413842260837555, 0.006344834808260202, 0.9453803896903992, 0.005824921652674675, 0.9902366399765015, 0.9966192245483398, 0.003010934218764305, 0.9871401190757751, 0.010124513879418373, 0.9780434966087341, 0.006608402356505394, 0.006608402356505394, 0.9447563886642456, 0.023737598210573196, 0.028485117480158806, 0.9744324684143066, 0.024033086374402046, 0.10484964400529861, 0.4637424945831299, 0.020303254947066307, 0.08787976205348969, 0.09444548934698105, 0.04202066734433174, 0.0486874058842659, 0.0486874058842659, 0.04979852959513664, 0.03949538618326187, 0.20951105654239655, 0.47161856293678284, 0.0363193079829216, 0.044267721474170685, 0.09462035447359085, 0.06974828243255615, 0.02677360363304615, 0.013614986091852188, 0.01776033081114292, 0.015782736241817474, 0.1679319590330124, 0.4994267225265503, 0.0429072305560112, 0.034168943762779236, 0.06430482864379883, 0.09533695131540298, 0.023190069943666458, 0.018596867099404335, 0.0416749082505703, 0.012435254640877247, 0.9892830848693848, 0.033143531531095505, 0.049715299159288406, 0.9114471673965454, 0.0004356447607278824, 0.7671704292297363, 0.0004356447607278824, 0.0007623783312737942, 0.022980261594057083, 0.0002178223803639412, 0.1859114021062851, 0.022000059485435486, 0.13474147021770477, 0.0927838683128357, 0.08235929906368256, 0.01379570085555315, 0.17239439487457275, 0.01867087371647358, 0.362474262714386, 0.04335791617631912, 0.03334825485944748, 0.04605482146143913, 0.052625253796577454, 0.28298696875572205, 0.04982006922364235, 0.03859933093190193, 0.051615387201309204, 0.053074080497026443, 0.06070418283343315, 0.012567223981022835, 0.3803829550743103, 0.017392141744494438, 0.9689047336578369, 0.01899813301861286, 0.9928540587425232, 0.05294356122612953, 0.005607729312032461, 0.2662022113800049, 0.03546064347028732, 0.0006597328465431929, 0.025729581713676453, 0.0037934640422463417, 0.010555725544691086, 0.0011545325396582484, 0.5977180004119873, 0.009744299575686455, 0.1778334677219391, 0.811212956905365, 0.008569138124585152, 0.0002040271065197885, 0.6439095139503479, 0.01897452026605606, 0.05161885917186737, 0.003264433704316616, 0.03488863632082939, 0.0018362439004704356, 0.000408054213039577, 0.23626339435577393, 0.9796960949897766, 0.9867417216300964, 0.7682842016220093, 0.004710509907454252, 0.004710509907454252, 0.16722311079502106, 0.03438672423362732, 0.004710509907454252, 0.011305224150419235, 0.0009421019931323826, 0.0009421019931323826, 0.002355254953727126, 0.003354690270498395, 0.045069534331560135, 0.0013127048732712865, 0.775808572769165, 0.005980100017040968, 0.09116005897521973, 0.011668487451970577, 0.0035005463287234306, 0.04594466835260391, 0.016190025955438614, 0.9757172465324402, 0.049657125025987625, 0.2873724102973938, 0.01564410887658596, 0.19397754967212677, 0.06600592285394669, 0.09884445369243622, 0.06722738593816757, 0.08911973983049393, 0.07869033515453339, 0.053462449461221695, 0.9955228567123413, 0.9885988831520081, 0.9843536615371704, 0.05854007229208946, 0.15149655938148499, 0.01962057314813137, 0.001286595012061298, 0.01769068092107773, 0.008684515953063965, 0.018655627965927124, 0.0016082437941804528, 0.6391160488128662, 0.08298537880182266, 0.0700022503733635, 0.038883745670318604, 0.027667280286550522, 0.1529465615749359, 0.09283781796693802, 0.09766952693462372, 0.18026873469352722, 0.07736484706401825, 0.1673266589641571, 0.09502359479665756, 0.9968031644821167, 0.9814837574958801, 0.012746541760861874, 0.0050986167043447495, 0.775306761264801, 0.0008721110643818974, 0.04011710733175278, 0.06279199570417404, 0.00697688851505518, 0.11163021624088287, 0.001744222128763795, 0.9861385822296143, 0.013725949451327324, 0.9814053773880005, 0.003431487362831831, 0.0036790447775274515, 0.9013659358024597, 0.040469489991664886, 0.03679044544696808, 0.007358089555054903, 0.007358089555054903, 0.13970179855823517, 0.21532019972801208, 0.03902341425418854, 0.12384958565235138, 0.15177646279335022, 0.13960060477256775, 0.04077727347612381, 0.024014407768845558, 0.06408338993787766, 0.061823610216379166, 0.9321706891059875, 0.04682803899049759, 0.004390128888189793, 0.016097139567136765, 0.987855076789856, 0.9941270351409912, 0.1959436982870102, 0.4748764634132385, 0.1969166100025177, 0.01109115220606327, 0.006421193480491638, 0.07588683068752289, 0.010896570980548859, 0.013231550343334675, 0.013815294951200485, 0.0009729081066325307, 0.9622474312782288, 0.01539595890790224, 0.00769797945395112, 0.945196270942688, 0.025545844808220863, 0.931479811668396, 0.022692115977406502, 0.9530688524246216, 0.010464604012668133, 0.0015411055646836758, 0.05331727862358093, 0.0036290548741817474, 0.46531444787979126, 0.001391966245137155, 0.09114893525838852, 0.011434008367359638, 0.026273364201188087, 0.3354887366294861, 0.040926795452833176, 0.06057165935635567, 0.08840187638998032, 0.0016370718367397785, 0.0016370718367397785, 0.08512773364782333, 0.7219486832618713, 0.9921310544013977, 0.05032249912619591, 0.013482267037034035, 0.09926530718803406, 0.5773411393165588, 0.03398402780294418, 0.059375226497650146, 0.01842011697590351, 0.01176370121538639, 0.0886150449514389, 0.04744208976626396, 0.008379464037716389, 0.00522821256890893, 0.0012175289448350668, 0.8090121746063232, 0.0024350578896701336, 0.008737560361623764, 0.054000988602638245, 0.012175289914011955, 0.07477059960365295, 0.02406410127878189, 0.0009555440046824515, 0.001911088009364903, 0.9829362630844116, 0.00477772019803524, 0.0012740587117150426, 0.0009555440046824515, 0.003822176018729806, 0.0031851467210799456, 0.0002469064493197948, 0.0003292085893917829, 0.000823021458927542, 0.33702728152275085, 0.031357116997241974, 0.00016460429469589144, 0.03448459878563881, 0.5953736901283264, 8.230214734794572e-05, 0.7705926299095154, 0.0023863513488322496, 0.07795414328575134, 0.008352230302989483, 0.004772702697664499, 0.030227117240428925, 0.0005965878372080624, 0.10480059683322906, 0.00019886261725332588, 0.00019886261725332588, 0.041115906089544296, 0.04290355369448662, 0.885779619216919, 0.0008938240353018045, 0.020111041143536568, 0.001787648070603609, 0.003128384007140994, 0.0013407360529527068, 0.00044691201765090227, 0.0022345599718391895, 0.022929245606064796, 0.0025476941373199224, 0.02038155309855938, 0.015286164358258247, 0.9324560165405273, 0.005095388274639845, 0.03763195499777794, 0.07298319041728973, 0.04206669703125954, 0.05511751025915146, 0.05220325291156769, 0.07817817479372025, 0.4034348428249359, 0.16737984120845795, 0.05004923418164253, 0.04105304181575775, 0.014392530545592308, 0.9840893149375916, 0.9927432537078857, 0.966242253780365, 0.02247074991464615, 0.02540750242769718, 0.25115659832954407, 0.06463462114334106, 0.009184468537569046, 0.18643613159656525, 0.10540679842233658, 0.012875422835350037, 0.3230014443397522, 0.01424880139529705, 0.007553581614047289, 0.11783484369516373, 0.07963495701551437, 0.24226446449756622, 0.001244296203367412, 0.05400245264172554, 0.07814180105924606, 0.003484029322862625, 0.4226874113082886, 0.00037328884354792535, 0.00024885922903195024, 0.005642394069582224, 0.08154603093862534, 0.004433309659361839, 0.11063122749328613, 0.08396419882774353, 0.07449303567409515, 0.24349616467952728, 0.12849880754947662, 0.252497136592865, 0.014710526913404465, 0.005198716185986996, 0.9929547905921936, 0.9839254021644592, 0.02299540862441063, 0.02918647974729538, 0.004422193858772516, 0.0309553574770689, 0.042453061789274216, 0.0008844387484714389, 0.0008844387484714389, 0.8623278141021729, 0.006191071588546038, 0.030501684173941612, 0.04103463888168335, 0.010971828363835812, 0.00010971828305628151, 0.9030911922454834, 0.008887181058526039, 0.0018652108265087008, 0.0010971828596666455, 0.0025235204957425594, 0.935377299785614, 0.025104505941271782, 0.12995274364948273, 0.06645310670137405, 0.0029534713830798864, 0.7752862572669983, 0.9869716167449951, 0.9837036728858948, 0.01578134298324585, 0.0007969069993123412, 0.0007969069993123412, 0.9020987153053284, 0.011156697757542133, 0.049408234655857086, 0.035063907504081726, 0.9678471088409424, 0.016979774460196495, 0.005659924354404211, 0.005659924354404211, 0.04811141639947891, 0.6961721777915955, 0.024536821991205215, 0.029347963631153107, 0.06254483759403229, 0.019244566559791565, 0.035602446645498276, 0.04763030260801315, 0.018763452768325806, 0.018282337114214897, 0.08545751124620438, 0.008895205333828926, 0.043522968888282776, 0.014613552019000053, 0.0019061154453083873, 0.008259833790361881, 0.006353718228638172, 0.0009530577226541936, 0.8301132917404175, 0.9753090739250183, 0.006726269610226154, 0.013452539220452309, 0.04856179282069206, 0.9413516521453857, 0.0037355225067585707, 0.9104728698730469, 0.07037901878356934, 0.0035634946543723345, 0.0035634946543723345, 0.0035634946543723345, 0.0008908736635930836, 0.008017863146960735, 0.023866433650255203, 0.06507841497659683, 0.08972735702991486, 0.0029996063094586134, 0.2247096449136734, 0.004303783178329468, 0.46337395906448364, 0.034951936453580856, 0.06807801872491837, 0.022823091596364975, 0.9964082837104797, 0.9747362732887268, 0.02284536138176918, 0.5123888254165649, 0.17014354467391968, 0.031221993267536163, 0.04873676970601082, 0.006636033300310373, 0.06179125979542732, 0.016535690054297447, 0.011857829988002777, 0.11792557686567307, 0.005417645908892155, 0.008427449502050877, 0.0009459381690248847, 0.7437654137611389, 0.0019778707064688206, 0.08272659033536911, 0.0008599438006058335, 0.08745628595352173, 0.06406581401824951, 0.004471707623451948, 0.9906096458435059, 0.9911863803863525, 0.004056485835462809, 0.016225943341851234, 0.01825418695807457, 0.9451612234115601, 0.004056485835462809, 0.010141215287148952, 0.9613093733787537, 0.011675821617245674, 0.0019459703471511602, 0.015567762777209282, 0.005837910808622837, 0.02779282256960869, 0.0771767646074295, 0.006278268527239561, 0.02407945692539215, 0.035142991691827774, 0.032692935317754745, 0.001952388440258801, 0.006852500606328249, 0.7777779698371887, 0.010221327655017376, 0.995020866394043, 0.02319985255599022, 0.001657132408581674, 0.09569939225912094, 0.022371286526322365, 0.12262779474258423, 0.003314264817163348, 0.6442102193832397, 0.04432829096913338, 0.03355693072080612, 0.00869994517415762, 0.2942195534706116, 0.24406373500823975, 0.21864846348762512, 0.014940710738301277, 0.07521764189004898, 0.09899425506591797, 0.02705393172800541, 0.014137446880340576, 0.009510645642876625, 0.003213056130334735, 0.9889982342720032, 0.9970197677612305, 0.22575163841247559, 0.2963034212589264, 0.24160557985305786, 0.01711944118142128, 0.09747886657714844, 0.03191879391670227, 0.026329489424824715, 0.011776206083595753, 0.014412670396268368, 0.037332333624362946, 0.0012082719476893544, 0.9980326294898987, 0.98302161693573, 0.014205514453351498], \"Term\": [\"aapl\", \"aapl\", \"abbeel\", \"abbeel\", \"abbeel\", \"accuraci\", \"accuraci\", \"accuraci\", \"accuraci\", \"accuraci\", \"accuraci\", \"accuraci\", \"accuraci\", \"accuraci\", \"accuraci\", \"acf\", \"aclu\", \"action\", \"action\", \"action\", \"action\", \"action\", \"action\", \"action\", \"action\", \"action\", \"action\", \"adaboost\", \"adverb\", \"advertis\", \"advertis\", \"advertis\", \"advertis\", \"advertis\", \"advertis\", \"advertis\", \"advertis\", \"advertis\", \"advertis\", \"advisor\", \"advisor\", \"advisor\", \"advisor\", \"advisor\", \"advisor\", \"aero\", \"aero\", \"aero\", \"agent\", \"agent\", \"agent\", \"agent\", \"agent\", \"agent\", \"agent\", \"agent\", \"agent\", \"agent\", \"aiml\", \"airdrop\", \"airdrop\", \"airflow\", \"airflow\", \"airpod\", \"airpod\", \"aiy\", \"alec\", \"alec\", \"alec\", \"alexa\", \"alexa\", \"alexa\", \"alexa\", \"alexa\", \"alexa\", \"alexa\", \"alexnet\", \"alexnet\", \"alexnet\", \"algorithm\", \"algorithm\", \"algorithm\", \"algorithm\", \"algorithm\", \"algorithm\", \"algorithm\", \"algorithm\", \"algorithm\", \"algorithm\", \"alphacat\", \"alphacat\", \"alphago\", \"alphago\", \"alphago\", \"alphago\", \"alphazero\", \"amazon\", \"amazon\", \"amazon\", \"amazon\", \"amazon\", \"amazon\", \"amazon\", \"amazon\", \"amazon\", \"amazon\", \"amunategui\", \"anaconda\", \"anaconda\", \"anaconda\", \"anaconda\", \"analysi\", \"analysi\", \"analysi\", \"analysi\", \"analysi\", \"analysi\", \"analysi\", \"analysi\", \"analysi\", \"analysi\", \"animoji\", \"animoji\", \"annot\", \"annot\", \"annot\", \"annot\", \"annot\", \"annot\", \"annot\", \"annot\", \"annot\", \"annot\", \"anomali\", \"anomali\", \"anomali\", \"anomali\", \"anomali\", \"anomali\", \"anomali\", \"anomali\", \"anomali\", \"apach\", \"apach\", \"apach\", \"apach\", \"apach\", \"apach\", \"apach\", \"apach\", \"api\", \"api\", \"api\", \"api\", \"api\", \"api\", \"api\", \"api\", \"api\", \"api\", \"app\", \"app\", \"app\", \"app\", \"app\", \"app\", \"app\", \"app\", \"app\", \"app\", \"applic\", \"applic\", \"applic\", \"applic\", \"applic\", \"applic\", \"applic\", \"applic\", \"applic\", \"applic\", \"approach\", \"approach\", \"approach\", \"approach\", \"approach\", \"approach\", \"approach\", \"approach\", \"approach\", \"approach\", \"archer\", \"archer\", \"architectur\", \"architectur\", \"architectur\", \"architectur\", \"architectur\", \"architectur\", \"architectur\", \"architectur\", \"architectur\", \"architectur\", \"array\", \"array\", \"array\", \"array\", \"array\", \"array\", \"array\", \"array\", \"array\", \"array\", \"art\", \"art\", \"art\", \"art\", \"art\", \"art\", \"art\", \"art\", \"art\", \"art\", \"articl\", \"articl\", \"articl\", \"articl\", \"articl\", \"articl\", \"articl\", \"articl\", \"articl\", \"articl\", \"artist\", \"artist\", \"artist\", \"artist\", \"artist\", \"artist\", \"artist\", \"artist\", \"artist\", \"asi\", \"asi\", \"asi\", \"ask\", \"ask\", \"ask\", \"ask\", \"ask\", \"ask\", \"ask\", \"ask\", \"ask\", \"ask\", \"asshol\", \"assist\", \"assist\", \"assist\", \"assist\", \"assist\", \"assist\", \"assist\", \"assist\", \"assist\", \"assist\", \"asthma\", \"atari\", \"atari\", \"auc\", \"auc\", \"auc\", \"authoritarian\", \"authoritarian\", \"autism\", \"autism\", \"autocorrel\", \"autom\", \"autom\", \"autom\", \"autom\", \"autom\", \"autom\", \"autom\", \"autom\", \"autom\", \"autom\", \"autonom\", \"autonom\", \"autonom\", \"autonom\", \"autonom\", \"autonom\", \"autonom\", \"autonom\", \"averag\", \"averag\", \"averag\", \"averag\", \"averag\", \"averag\", \"averag\", \"averag\", \"averag\", \"averag\", \"avro\", \"aw\", \"aw\", \"aw\", \"aw\", \"aw\", \"aw\", \"aw\", \"aw\", \"aw\", \"aw\", \"axon\", \"axon\", \"backtest\", \"backtest\", \"badass\", \"barto\", \"basket\", \"basket\", \"basket\", \"basket\", \"basket\", \"basket\", \"basket\", \"basket\", \"basket\", \"basket\", \"bearish\", \"bearish\", \"beautifulsoup\", \"bellman\", \"berkman\", \"bernoulli\", \"bernoulli\", \"better\", \"better\", \"better\", \"better\", \"better\", \"better\", \"better\", \"better\", \"better\", \"better\", \"bigchaindb\", \"bigqueri\", \"bigqueri\", \"bigqueri\", \"bigram\", \"binomi\", \"binomi\", \"bitcoin\", \"bitcoin\", \"bitcoin\", \"bitcoin\", \"bitcoin\", \"bitcoin\", \"bitcoin\", \"bitcointalk\", \"bixbi\", \"blockchain\", \"blockchain\", \"blockchain\", \"blockchain\", \"blockchain\", \"blockchain\", \"blockchain\", \"bolling\", \"book\", \"book\", \"book\", \"book\", \"book\", \"book\", \"book\", \"book\", \"book\", \"book\", \"bot\", \"bot\", \"bot\", \"bot\", \"bot\", \"bot\", \"bot\", \"bot\", \"bot\", \"botchain\", \"botto\", \"bounti\", \"bounti\", \"bounti\", \"bounti\", \"box\", \"box\", \"box\", \"box\", \"box\", \"box\", \"box\", \"box\", \"box\", \"box\", \"brain\", \"brain\", \"brain\", \"brain\", \"brain\", \"brain\", \"brain\", \"brain\", \"brain\", \"brain\", \"brand\", \"brand\", \"brand\", \"brand\", \"brand\", \"brand\", \"brand\", \"brand\", \"brand\", \"brand\", \"browser\", \"browser\", \"browser\", \"browser\", \"browser\", \"browser\", \"browser\", \"browser\", \"browser\", \"browser\", \"btc\", \"btc\", \"btc\", \"bto\", \"build\", \"build\", \"build\", \"build\", \"build\", \"build\", \"build\", \"build\", \"build\", \"build\", \"buolamwini\", \"busi\", \"busi\", \"busi\", \"busi\", \"busi\", \"busi\", \"busi\", \"busi\", \"busi\", \"busi\", \"buy\", \"buy\", \"buy\", \"buy\", \"buy\", \"buy\", \"buy\", \"buy\", \"buy\", \"buy\", \"caff\", \"caff\", \"caff\", \"caff\", \"caff\", \"calcul\", \"calcul\", \"calcul\", \"calcul\", \"calcul\", \"calcul\", \"calcul\", \"calcul\", \"calcul\", \"calcul\", \"camera\", \"camera\", \"camera\", \"camera\", \"camera\", \"camera\", \"candlestick\", \"capit\", \"capit\", \"capit\", \"capit\", \"capit\", \"capit\", \"capit\", \"capit\", \"capit\", \"capit\", \"capsul\", \"capsul\", \"capsul\", \"capsul\", \"car\", \"car\", \"car\", \"car\", \"car\", \"car\", \"car\", \"car\", \"car\", \"car\", \"career\", \"career\", \"career\", \"career\", \"career\", \"career\", \"career\", \"career\", \"career\", \"career\", \"cartpol\", \"cbow\", \"ceo\", \"ceo\", \"ceo\", \"ceo\", \"ceo\", \"ceo\", \"ceo\", \"ceo\", \"ceo\", \"chain\", \"chain\", \"chain\", \"chain\", \"chain\", \"chain\", \"chain\", \"chain\", \"chain\", \"chain\", \"chang\", \"chang\", \"chang\", \"chang\", \"chang\", \"chang\", \"chang\", \"chang\", \"chang\", \"chang\", \"chant\", \"charact\", \"charact\", \"charact\", \"charact\", \"charact\", \"charact\", \"charact\", \"charact\", \"charact\", \"charact\", \"chart\", \"chart\", \"chart\", \"chart\", \"chart\", \"chart\", \"chart\", \"chart\", \"chart\", \"chart\", \"chat\", \"chat\", \"chat\", \"chat\", \"chat\", \"chat\", \"chat\", \"chat\", \"chat\", \"chatbot\", \"chatbot\", \"chatbot\", \"chatbot\", \"chatbot\", \"chatbot\", \"chatbot\", \"chatbot\", \"chatfuel\", \"chatfuel\", \"chess\", \"chess\", \"chess\", \"chess\", \"china\", \"china\", \"china\", \"china\", \"china\", \"china\", \"china\", \"churn\", \"churn\", \"churn\", \"churn\", \"churn\", \"churn\", \"churn\", \"churn\", \"class\", \"class\", \"class\", \"class\", \"class\", \"class\", \"class\", \"class\", \"class\", \"class\", \"classif\", \"classif\", \"classif\", \"classif\", \"classif\", \"classif\", \"classif\", \"classif\", \"classif\", \"classif\", \"classifi\", \"classifi\", \"classifi\", \"classifi\", \"classifi\", \"classifi\", \"classifi\", \"classifi\", \"classifi\", \"classifi\", \"classroom\", \"classroom\", \"classroom\", \"classroom\", \"classroom\", \"classroom\", \"classroom\", \"classroom\", \"classroom\", \"clinic\", \"clinic\", \"clinic\", \"clinic\", \"clinic\", \"clinic\", \"clinic\", \"clinic\", \"clinician\", \"cloud\", \"cloud\", \"cloud\", \"cloud\", \"cloud\", \"cloud\", \"cloud\", \"cloud\", \"cloud\", \"cloud\", \"cluster\", \"cluster\", \"cluster\", \"cluster\", \"cluster\", \"cluster\", \"cluster\", \"cluster\", \"cluster\", \"cluster\", \"cnn\", \"cnn\", \"cnn\", \"cnn\", \"cnn\", \"cnn\", \"cnn\", \"coco\", \"code\", \"code\", \"code\", \"code\", \"code\", \"code\", \"code\", \"code\", \"code\", \"code\", \"coeffici\", \"coeffici\", \"coeffici\", \"coeffici\", \"coeffici\", \"cohort\", \"cohort\", \"cohort\", \"cohort\", \"cohort\", \"cohort\", \"cohort\", \"cohort\", \"cohort\", \"coin\", \"coin\", \"coin\", \"coin\", \"coin\", \"coin\", \"coin\", \"coin\", \"coin\", \"colab\", \"colab\", \"colab\", \"colleg\", \"colleg\", \"colleg\", \"colleg\", \"colleg\", \"colleg\", \"colleg\", \"colleg\", \"colleg\", \"colleg\", \"collinear\", \"column\", \"column\", \"column\", \"column\", \"column\", \"column\", \"column\", \"column\", \"column\", \"column\", \"come\", \"come\", \"come\", \"come\", \"come\", \"come\", \"come\", \"come\", \"come\", \"come\", \"comic\", \"comic\", \"comic\", \"comic\", \"comic\", \"comic\", \"comic\", \"comic\", \"command\", \"command\", \"command\", \"command\", \"command\", \"command\", \"command\", \"command\", \"command\", \"command\", \"commun\", \"commun\", \"commun\", \"commun\", \"commun\", \"commun\", \"commun\", \"commun\", \"commun\", \"commun\", \"compa\", \"compa\", \"compani\", \"compani\", \"compani\", \"compani\", \"compani\", \"compani\", \"compani\", \"compani\", \"compani\", \"compani\", \"compassion\", \"compassion\", \"complex\", \"complex\", \"complex\", \"complex\", \"complex\", \"complex\", \"complex\", \"complex\", \"complex\", \"complex\", \"comput\", \"comput\", \"comput\", \"comput\", \"comput\", \"comput\", \"comput\", \"comput\", \"comput\", \"comput\", \"comscor\", \"concierg\", \"concierg\", \"concierg\", \"conda\", \"conda\", \"conda\", \"configur\", \"configur\", \"configur\", \"configur\", \"configur\", \"configur\", \"configur\", \"configur\", \"configur\", \"configur\", \"consum\", \"consum\", \"consum\", \"consum\", \"consum\", \"consum\", \"consum\", \"consum\", \"consum\", \"consum\", \"content\", \"content\", \"content\", \"content\", \"content\", \"content\", \"content\", \"content\", \"content\", \"content\", \"contract\", \"contract\", \"contract\", \"contract\", \"contract\", \"contract\", \"contract\", \"contract\", \"contract\", \"contract\", \"convers\", \"convers\", \"convers\", \"convers\", \"convers\", \"convers\", \"convers\", \"convers\", \"convers\", \"convers\", \"convolut\", \"convolut\", \"convolut\", \"convolut\", \"convolut\", \"convolut\", \"coreml\", \"corpora\", \"corpora\", \"corpora\", \"corpu\", \"corpu\", \"corpu\", \"corpu\", \"corpu\", \"corpu\", \"corsair\", \"corsair\", \"corsair\", \"corsair\", \"cortana\", \"cortana\", \"cortana\", \"cortana\", \"cortana\", \"cortana\", \"countvector\", \"cours\", \"cours\", \"cours\", \"cours\", \"cours\", \"cours\", \"cours\", \"cours\", \"cours\", \"cours\", \"coursera\", \"coursera\", \"coursera\", \"coursera\", \"coursera\", \"coursera\", \"coursera\", \"coursework\", \"covari\", \"crimin\", \"crimin\", \"crimin\", \"crimin\", \"crimin\", \"crimin\", \"crispr\", \"crispr\", \"crispr\", \"crm\", \"crm\", \"crm\", \"crm\", \"crowdsal\", \"crowdsal\", \"crypto\", \"crypto\", \"crypto\", \"crypto\", \"crypto\", \"cryptoasset\", \"cryptoasset\", \"cuda\", \"cuda\", \"custom\", \"custom\", \"custom\", \"custom\", \"custom\", \"custom\", \"custom\", \"custom\", \"custom\", \"custom\", \"danceabl\", \"danger\", \"danger\", \"danger\", \"danger\", \"danger\", \"danger\", \"danger\", \"danger\", \"danger\", \"danger\", \"dao\", \"dao\", \"dapp\", \"dapp\", \"dashboard\", \"dashboard\", \"dashboard\", \"dashboard\", \"dashboard\", \"dashboard\", \"dashboard\", \"dashboard\", \"databas\", \"databas\", \"databas\", \"databas\", \"databas\", \"databas\", \"databas\", \"databas\", \"databas\", \"databas\", \"databrick\", \"databrick\", \"datafram\", \"datafram\", \"datafram\", \"datafram\", \"dataset\", \"dataset\", \"dataset\", \"dataset\", \"dataset\", \"dataset\", \"dataset\", \"dataset\", \"dataset\", \"dataset\", \"day\", \"day\", \"day\", \"day\", \"day\", \"day\", \"day\", \"day\", \"day\", \"day\", \"dbc\", \"dbc\", \"dbrain\", \"ddpg\", \"decentr\", \"decentr\", \"decentr\", \"decentr\", \"decentr\", \"decis\", \"decis\", \"decis\", \"decis\", \"decis\", \"decis\", \"decis\", \"decis\", \"decis\", \"decis\", \"deep\", \"deep\", \"deep\", \"deep\", \"deep\", \"deep\", \"deep\", \"deep\", \"deep\", \"deep\", \"deepaero\", \"deepbrain\", \"deepbrain\", \"deepmind\", \"deepmind\", \"deepmind\", \"deepmind\", \"deepmind\", \"deepmind\", \"democraci\", \"democraci\", \"democraci\", \"democraci\", \"democraci\", \"dendrit\", \"deploy\", \"deploy\", \"deploy\", \"deploy\", \"deploy\", \"deploy\", \"deploy\", \"deploy\", \"deploy\", \"deploy\", \"depthwis\", \"descent\", \"descent\", \"descent\", \"descent\", \"descent\", \"descent\", \"design\", \"design\", \"design\", \"design\", \"design\", \"design\", \"design\", \"design\", \"design\", \"design\", \"detect\", \"detect\", \"detect\", \"detect\", \"detect\", \"detect\", \"detect\", \"detect\", \"detect\", \"detect\", \"detector\", \"detector\", \"detector\", \"detector\", \"detector\", \"detector\", \"deviat\", \"deviat\", \"deviat\", \"deviat\", \"deviat\", \"deviat\", \"deviat\", \"deviat\", \"deviat\", \"devic\", \"devic\", \"devic\", \"devic\", \"devic\", \"devic\", \"devic\", \"devic\", \"devic\", \"devic\", \"dialog\", \"dialog\", \"dialog\", \"dialog\", \"dialog\", \"dialog\", \"dialog\", \"dialog\", \"dialog\", \"dialogflow\", \"dialogflow\", \"dictionari\", \"dictionari\", \"dictionari\", \"dictionari\", \"dictionari\", \"dictionari\", \"dictionari\", \"dictionari\", \"dictionari\", \"differenc\", \"diseas\", \"diseas\", \"diseas\", \"diseas\", \"diseas\", \"diseas\", \"diseas\", \"diseas\", \"diseas\", \"disinform\", \"disinform\", \"disinform\", \"disinform\", \"distribut\", \"distribut\", \"distribut\", \"distribut\", \"distribut\", \"distribut\", \"distribut\", \"distribut\", \"distribut\", \"distribut\", \"dlib\", \"dn\", \"docker\", \"docker\", \"doctor\", \"doctor\", \"doctor\", \"doctor\", \"doctor\", \"doctor\", \"doctor\", \"doctor\", \"doctor\", \"document\", \"document\", \"document\", \"document\", \"document\", \"document\", \"document\", \"document\", \"document\", \"document\", \"dota\", \"dota\", \"dqn\", \"drawdown\", \"dribbbl\", \"dribbbl\", \"drive\", \"drive\", \"drive\", \"drive\", \"drive\", \"drive\", \"drive\", \"drive\", \"drive\", \"drive\", \"drone\", \"drone\", \"drone\", \"drone\", \"drone\", \"drone\", \"drone\", \"drug\", \"drug\", \"drug\", \"drug\", \"drug\", \"drug\", \"drug\", \"drug\", \"dsa\", \"dsa\", \"dsx\", \"dsx\", \"duplex\", \"duplex\", \"duplex\", \"duplex\", \"dynamodb\", \"echo\", \"echo\", \"echo\", \"echo\", \"echo\", \"echo\", \"echo\", \"echo\", \"echo\", \"ecommerc\", \"ecommerc\", \"ecommerc\", \"ecommerc\", \"ecosystem\", \"ecosystem\", \"ecosystem\", \"ecosystem\", \"ecosystem\", \"ecosystem\", \"ecosystem\", \"ecosystem\", \"ecosystem\", \"ecosystem\", \"edx\", \"edx\", \"eeg\", \"eeg\", \"efx\", \"ehr\", \"ehr\", \"eigenvalu\", \"ekkbaz\", \"embed\", \"embed\", \"embed\", \"embed\", \"embed\", \"embed\", \"embed\", \"embed\", \"embed\", \"embed\", \"emot\", \"emot\", \"emot\", \"emot\", \"emot\", \"emot\", \"emot\", \"emot\", \"endpoint\", \"endpoint\", \"endpoint\", \"endpoint\", \"endpoint\", \"endpoint\", \"endpoint\", \"engag\", \"engag\", \"engag\", \"engag\", \"engag\", \"engag\", \"engag\", \"engag\", \"engag\", \"engag\", \"engin\", \"engin\", \"engin\", \"engin\", \"engin\", \"engin\", \"engin\", \"engin\", \"engin\", \"engin\", \"eno\", \"eno\", \"entropi\", \"entropi\", \"entropi\", \"entropi\", \"entropi\", \"entropi\", \"entropi\", \"entropi\", \"environ\", \"environ\", \"environ\", \"environ\", \"environ\", \"environ\", \"environ\", \"environ\", \"environ\", \"environ\", \"equat\", \"equat\", \"equat\", \"equat\", \"equat\", \"equat\", \"equat\", \"equat\", \"equat\", \"equat\", \"error\", \"error\", \"error\", \"error\", \"error\", \"error\", \"error\", \"error\", \"error\", \"error\", \"estim\", \"estim\", \"estim\", \"estim\", \"estim\", \"estim\", \"estim\", \"estim\", \"estim\", \"estim\", \"ethereum\", \"ethereum\", \"ethereum\", \"ethereum\", \"ethic\", \"ethic\", \"ethic\", \"ethic\", \"ethic\", \"etl\", \"etl\", \"etl\", \"experi\", \"experi\", \"experi\", \"experi\", \"experi\", \"experi\", \"experi\", \"experi\", \"experi\", \"experi\", \"expo\", \"expo\", \"expo\", \"extermin\", \"extract\", \"extract\", \"extract\", \"extract\", \"extract\", \"extract\", \"extract\", \"extract\", \"extract\", \"extract\", \"face\", \"face\", \"face\", \"face\", \"face\", \"face\", \"face\", \"face\", \"face\", \"face\", \"facebook\", \"facebook\", \"facebook\", \"facebook\", \"facebook\", \"facebook\", \"facebook\", \"facebook\", \"facebook\", \"facebook\", \"facebox\", \"fasttext\", \"faviovaz\", \"faviovaz\", \"fcn\", \"featur\", \"featur\", \"featur\", \"featur\", \"featur\", \"featur\", \"featur\", \"featur\", \"featur\", \"featur\", \"feel\", \"feel\", \"feel\", \"feel\", \"feel\", \"feel\", \"feel\", \"feel\", \"feel\", \"feel\", \"felt\", \"felt\", \"felt\", \"felt\", \"felt\", \"felt\", \"felt\", \"felt\", \"felt\", \"felt\", \"file\", \"file\", \"file\", \"file\", \"file\", \"file\", \"file\", \"file\", \"file\", \"file\", \"film\", \"film\", \"film\", \"film\", \"film\", \"film\", \"film\", \"film\", \"film\", \"financi\", \"financi\", \"financi\", \"financi\", \"financi\", \"financi\", \"financi\", \"financi\", \"financi\", \"financi\", \"fintech\", \"fintech\", \"fintech\", \"follow\", \"follow\", \"follow\", \"follow\", \"follow\", \"follow\", \"follow\", \"follow\", \"follow\", \"follow\", \"forecast\", \"forecast\", \"forecast\", \"forecast\", \"forecast\", \"forecast\", \"forecast\", \"forecast\", \"forecast\", \"forecast\", \"forest\", \"forest\", \"forest\", \"forest\", \"forest\", \"forest\", \"forest\", \"forest\", \"forest\", \"forest\", \"founder\", \"founder\", \"founder\", \"founder\", \"founder\", \"founder\", \"founder\", \"founder\", \"founder\", \"fpr\", \"frequenc\", \"frequenc\", \"frequenc\", \"frequenc\", \"frequenc\", \"frequenc\", \"frequenc\", \"frequenc\", \"frequenc\", \"frequenc\", \"freshman\", \"friend\", \"friend\", \"friend\", \"friend\", \"friend\", \"friend\", \"friend\", \"friend\", \"friend\", \"friend\", \"fuck\", \"fuck\", \"fuck\", \"fuck\", \"function\", \"function\", \"function\", \"function\", \"function\", \"function\", \"function\", \"function\", \"function\", \"function\", \"fund\", \"fund\", \"fund\", \"fund\", \"fund\", \"fund\", \"fund\", \"fund\", \"fund\", \"funer\", \"futur\", \"futur\", \"futur\", \"futur\", \"futur\", \"futur\", \"futur\", \"futur\", \"futur\", \"futur\", \"game\", \"game\", \"game\", \"game\", \"game\", \"game\", \"game\", \"game\", \"game\", \"game\", \"gan\", \"gan\", \"gan\", \"gan\", \"gan\", \"gan\", \"gan\", \"gasp\", \"gate\", \"gate\", \"gate\", \"gate\", \"gate\", \"gate\", \"gate\", \"gate\", \"gate\", \"gate\", \"gaussian\", \"gaussian\", \"gaussian\", \"gaussian\", \"gbm\", \"geforc\", \"gensim\", \"geocod\", \"gestat\", \"gestat\", \"gestat\", \"gini\", \"gini\", \"girl\", \"girl\", \"girl\", \"girl\", \"girl\", \"girl\", \"girl\", \"git\", \"git\", \"git\", \"git\", \"git\", \"global\", \"global\", \"global\", \"global\", \"global\", \"global\", \"global\", \"global\", \"global\", \"global\", \"glove\", \"glove\", \"glove\", \"glove\", \"glove\", \"glove\", \"gluon\", \"gluon\", \"good\", \"good\", \"good\", \"good\", \"good\", \"good\", \"good\", \"good\", \"good\", \"good\", \"googl\", \"googl\", \"googl\", \"googl\", \"googl\", \"googl\", \"googl\", \"googl\", \"googl\", \"googl\", \"googlenet\", \"googlenet\", \"gospel\", \"gospel\", \"got\", \"got\", \"got\", \"got\", \"got\", \"got\", \"got\", \"got\", \"got\", \"got\", \"govern\", \"govern\", \"govern\", \"govern\", \"govern\", \"govern\", \"govern\", \"govern\", \"govern\", \"govern\", \"gpu\", \"gpu\", \"gpu\", \"gpu\", \"gpu\", \"gpu\", \"gpu\", \"gpu\", \"gradient\", \"gradient\", \"gradient\", \"gradient\", \"gradient\", \"gradient\", \"graffiti\", \"graffiti\", \"graffiti\", \"gram\", \"gram\", \"gram\", \"gram\", \"grammar\", \"grammar\", \"grammar\", \"grammar\", \"grammar\", \"grammar\", \"grammar\", \"graphgrail\", \"graphgrail\", \"great\", \"great\", \"great\", \"great\", \"great\", \"great\", \"great\", \"great\", \"great\", \"great\", \"growthbot\", \"grubhub\", \"gtx\", \"haar\", \"hadoop\", \"hadoop\", \"hadoop\", \"hadoop\", \"hadoop\", \"harm\", \"harm\", \"harm\", \"harm\", \"harm\", \"harm\", \"harm\", \"harm\", \"harm\", \"hash\", \"hash\", \"hash\", \"hash\", \"hash\", \"hash\", \"hash\", \"hash\", \"hashgraph\", \"hbase\", \"hdf\", \"health\", \"health\", \"health\", \"health\", \"health\", \"health\", \"health\", \"health\", \"health\", \"health\", \"healthcar\", \"healthcar\", \"healthcar\", \"healthcar\", \"healthcar\", \"healthcar\", \"healthcar\", \"healthcar\", \"hessian\", \"hft\", \"hft\", \"hft\", \"hippocampu\", \"hippocrat\", \"hitchhiker\", \"hodl\", \"hodl\", \"hog\", \"hog\", \"hog\", \"homepod\", \"homepod\", \"hospit\", \"hospit\", \"hospit\", \"hospit\", \"hospit\", \"hospit\", \"hospit\", \"hospit\", \"hotel\", \"hotel\", \"hotel\", \"hotel\", \"hotel\", \"hotel\", \"hotel\", \"hotel\", \"hotel\", \"htm\", \"http\", \"http\", \"http\", \"http\", \"http\", \"human\", \"human\", \"human\", \"human\", \"human\", \"human\", \"human\", \"human\", \"human\", \"human\", \"huobi\", \"hyperparamet\", \"hyperparamet\", \"hyperparamet\", \"hyperparamet\", \"hyperparamet\", \"hyperparamet\", \"hyperplan\", \"iagon\", \"ico\", \"ico\", \"ide\", \"ide\", \"ide\", \"ide\", \"ide\", \"ide\", \"idea\", \"idea\", \"idea\", \"idea\", \"idea\", \"idea\", \"idea\", \"idea\", \"idea\", \"idea\", \"idf\", \"iloc\", \"imag\", \"imag\", \"imag\", \"imag\", \"imag\", \"imag\", \"imag\", \"imag\", \"imag\", \"imag\", \"imagenet\", \"imagenet\", \"imagenet\", \"incept\", \"incept\", \"incept\", \"incept\", \"incept\", \"incept\", \"incept\", \"incept\", \"incept\", \"incept\", \"index\", \"index\", \"index\", \"index\", \"index\", \"index\", \"index\", \"index\", \"index\", \"index\", \"industri\", \"industri\", \"industri\", \"industri\", \"industri\", \"industri\", \"industri\", \"industri\", \"industri\", \"industri\", \"inform\", \"inform\", \"inform\", \"inform\", \"inform\", \"inform\", \"inform\", \"inform\", \"inform\", \"inform\", \"innov\", \"innov\", \"innov\", \"innov\", \"innov\", \"innov\", \"innov\", \"innov\", \"innov\", \"innov\", \"inpaint\", \"instal\", \"instal\", \"instal\", \"instal\", \"instal\", \"instal\", \"instal\", \"instal\", \"instal\", \"instal\", \"instructor\", \"instructor\", \"instructor\", \"instructor\", \"instructor\", \"instructor\", \"instructor\", \"instructor\", \"intent\", \"intent\", \"intent\", \"intent\", \"intent\", \"intent\", \"intent\", \"intent\", \"intent\", \"intent\", \"interact\", \"interact\", \"interact\", \"interact\", \"interact\", \"interact\", \"interact\", \"interact\", \"interact\", \"interact\", \"intercom\", \"intercom\", \"interfac\", \"interfac\", \"interfac\", \"interfac\", \"interfac\", \"interfac\", \"interfac\", \"interfac\", \"interfac\", \"interfac\", \"internship\", \"internship\", \"internship\", \"internship\", \"internship\", \"internship\", \"interview\", \"interview\", \"interview\", \"interview\", \"interview\", \"interview\", \"interview\", \"interview\", \"interview\", \"invest\", \"invest\", \"invest\", \"invest\", \"invest\", \"invest\", \"invest\", \"invest\", \"invest\", \"invest\", \"investor\", \"investor\", \"investor\", \"investor\", \"investor\", \"investor\", \"iou\", \"iou\", \"iqr\", \"item\", \"item\", \"item\", \"item\", \"item\", \"item\", \"item\", \"item\", \"item\", \"item\", \"jani\", \"jatana\", \"jatana\", \"jatana\", \"java\", \"java\", \"java\", \"java\", \"java\", \"java\", \"java\", \"javascript\", \"javascript\", \"javascript\", \"javascript\", \"javascript\", \"javascript\", \"javascript\", \"javascript\", \"javascript\", \"job\", \"job\", \"job\", \"job\", \"job\", \"job\", \"job\", \"job\", \"job\", \"job\", \"jupyt\", \"jupyt\", \"jupyt\", \"jupyt\", \"jupyt\", \"jupyt\", \"jupyt\", \"jupyterhub\", \"jupyterlab\", \"jvm\", \"kafka\", \"kafka\", \"kafka\", \"kalman\", \"kalman\", \"kalman\", \"kalman\", \"kera\", \"kera\", \"kera\", \"kera\", \"kera\", \"kera\", \"keypoint\", \"khurana\", \"kid\", \"kid\", \"kid\", \"kid\", \"kid\", \"kid\", \"kid\", \"kid\", \"kid\", \"kid\", \"kik\", \"kik\", \"kik\", \"kinesi\", \"kiss\", \"kiss\", \"kiss\", \"kiss\", \"knew\", \"knew\", \"knew\", \"knew\", \"knew\", \"knew\", \"knew\", \"knew\", \"knew\", \"knew\", \"kubernet\", \"kubernet\", \"kubernet\", \"kurtosi\", \"kyc\", \"kyc\", \"label\", \"label\", \"label\", \"label\", \"label\", \"label\", \"label\", \"label\", \"label\", \"label\", \"languag\", \"languag\", \"languag\", \"languag\", \"languag\", \"languag\", \"languag\", \"languag\", \"languag\", \"languag\", \"lasso\", \"lasso\", \"laugh\", \"laugh\", \"laugh\", \"laugh\", \"laugh\", \"law\", \"law\", \"law\", \"law\", \"law\", \"law\", \"law\", \"law\", \"law\", \"law\", \"layer\", \"layer\", \"layer\", \"layer\", \"layer\", \"layer\", \"layer\", \"layer\", \"layer\", \"layer\", \"lda\", \"lda\", \"ledger\", \"ledger\", \"ledger\", \"lemmat\", \"lender\", \"lender\", \"lenet\", \"lenet\", \"length\", \"length\", \"length\", \"length\", \"length\", \"length\", \"length\", \"length\", \"length\", \"length\", \"lesson\", \"lesson\", \"lesson\", \"lesson\", \"lesson\", \"lesson\", \"lesson\", \"lesson\", \"lesson\", \"lesson\", \"let\", \"let\", \"let\", \"let\", \"let\", \"let\", \"let\", \"let\", \"let\", \"let\", \"lex\", \"lex\", \"lex\", \"lex\", \"lex\", \"lex\", \"lex\", \"lex\", \"librari\", \"librari\", \"librari\", \"librari\", \"librari\", \"librari\", \"librari\", \"librari\", \"librari\", \"librari\", \"life\", \"life\", \"life\", \"life\", \"life\", \"life\", \"life\", \"life\", \"life\", \"life\", \"linda\", \"linear\", \"linear\", \"linear\", \"linear\", \"linear\", \"linear\", \"linear\", \"linear\", \"linear\", \"linear\", \"list\", \"list\", \"list\", \"list\", \"list\", \"list\", \"list\", \"list\", \"list\", \"list\", \"live\", \"live\", \"live\", \"live\", \"live\", \"live\", \"live\", \"live\", \"live\", \"live\", \"ll\", \"ll\", \"ll\", \"ll\", \"ll\", \"ll\", \"ll\", \"ll\", \"ll\", \"ll\", \"loss\", \"loss\", \"loss\", \"loss\", \"loss\", \"loss\", \"loss\", \"loss\", \"loss\", \"loss\", \"love\", \"love\", \"love\", \"love\", \"love\", \"love\", \"love\", \"love\", \"love\", \"love\", \"lsa\", \"lstm\", \"lstm\", \"lstm\", \"lstm\", \"lstm\", \"lstm\", \"ltc\", \"ltc\", \"ltc\", \"ltv\", \"ltv\", \"lui\", \"lui\", \"lui\", \"lui\", \"lui\", \"lui\", \"macd\", \"machin\", \"machin\", \"machin\", \"machin\", \"machin\", \"machin\", \"machin\", \"machin\", \"machin\", \"machin\", \"mae\", \"mae\", \"mainnet\", \"manag\", \"manag\", \"manag\", \"manag\", \"manag\", \"manag\", \"manag\", \"manag\", \"manag\", \"manag\", \"map\", \"map\", \"map\", \"map\", \"map\", \"map\", \"map\", \"map\", \"map\", \"map\", \"mapreduc\", \"mapreduc\", \"markdown\", \"markdown\", \"markdown\", \"markdown\", \"market\", \"market\", \"market\", \"market\", \"market\", \"market\", \"market\", \"market\", \"market\", \"market\", \"marketplac\", \"marketplac\", \"marketplac\", \"marketplac\", \"marketplac\", \"marketplac\", \"markov\", \"markov\", \"markov\", \"markov\", \"marriott\", \"mask\", \"mask\", \"mask\", \"mask\", \"mask\", \"mask\", \"mask\", \"mask\", \"mask\", \"mask\", \"matrix\", \"matrix\", \"matrix\", \"matrix\", \"matrix\", \"matrix\", \"matrix\", \"matrix\", \"matrix\", \"matrix\", \"mayb\", \"mayb\", \"mayb\", \"mayb\", \"mayb\", \"mayb\", \"mayb\", \"mayb\", \"mayb\", \"mayb\", \"mct\", \"mdp\", \"mean\", \"mean\", \"mean\", \"mean\", \"mean\", \"mean\", \"mean\", \"mean\", \"mean\", \"mean\", \"medic\", \"medic\", \"medic\", \"medic\", \"medic\", \"medic\", \"medic\", \"medic\", \"medic\", \"medicin\", \"medicin\", \"medicin\", \"medicin\", \"medicin\", \"medicin\", \"medicin\", \"medicin\", \"medicin\", \"memori\", \"memori\", \"memori\", \"memori\", \"memori\", \"memori\", \"memori\", \"memori\", \"memori\", \"memori\", \"mente\", \"meso\", \"meso\", \"messag\", \"messag\", \"messag\", \"messag\", \"messag\", \"messag\", \"messag\", \"messag\", \"messag\", \"messag\", \"messeng\", \"messeng\", \"messeng\", \"messeng\", \"messeng\", \"messeng\", \"messeng\", \"method\", \"method\", \"method\", \"method\", \"method\", \"method\", \"method\", \"method\", \"method\", \"method\", \"microservic\", \"microservic\", \"microservic\", \"mikolov\", \"militari\", \"militari\", \"militari\", \"minima\", \"minima\", \"minimax\", \"minimax\", \"mlkit\", \"mnist\", \"mnist\", \"mnist\", \"mobil\", \"mobil\", \"mobil\", \"mobil\", \"mobil\", \"mobil\", \"mobil\", \"mobil\", \"mobil\", \"mobil\", \"mobilenet\", \"mongo\", \"mongodb\", \"mongodb\", \"mongodb\", \"month\", \"month\", \"month\", \"month\", \"month\", \"month\", \"month\", \"month\", \"month\", \"month\", \"mooc\", \"mooc\", \"mooc\", \"mooc\", \"mooc\", \"mooc\", \"mooc\", \"moral\", \"moral\", \"moral\", \"moral\", \"moral\", \"morti\", \"movi\", \"movi\", \"movi\", \"movi\", \"movi\", \"movi\", \"movi\", \"movi\", \"movi\", \"movidiu\", \"mse\", \"mse\", \"multicollinear\", \"musk\", \"musk\", \"musk\", \"musk\", \"musk\", \"musk\", \"musk\", \"musk\", \"mxnet\", \"mxnet\", \"mxnet\", \"neocortex\", \"neocortex\", \"ner\", \"ner\", \"ner\", \"network\", \"network\", \"network\", \"network\", \"network\", \"network\", \"network\", \"network\", \"network\", \"network\", \"neural\", \"neural\", \"neural\", \"neural\", \"neural\", \"neural\", \"neural\", \"neural\", \"neural\", \"neural\", \"neurobot\", \"neurobot\", \"neurochain\", \"neuroevolut\", \"neuron\", \"neuron\", \"neuron\", \"neuron\", \"neuron\", \"nevolin\", \"nh\", \"nh\", \"nh\", \"nhtsa\", \"nlg\", \"nlg\", \"nlg\", \"nlp\", \"nlp\", \"nlp\", \"nlp\", \"nlp\", \"nlp\", \"nlp\", \"nlp\", \"nlp\", \"nlp\", \"nltk\", \"nlu\", \"nlu\", \"nlu\", \"nmf\", \"nmt\", \"normal\", \"normal\", \"normal\", \"normal\", \"normal\", \"normal\", \"normal\", \"normal\", \"normal\", \"normal\", \"nosql\", \"nosql\", \"nosql\", \"nosql\", \"notebook\", \"notebook\", \"notebook\", \"notebook\", \"notebook\", \"notebook\", \"notebook\", \"noun\", \"noun\", \"noun\", \"noun\", \"noun\", \"number\", \"number\", \"number\", \"number\", \"number\", \"number\", \"number\", \"number\", \"number\", \"number\", \"numenta\", \"nvidia\", \"nvidia\", \"nvidia\", \"nvidia\", \"nvidia\", \"nvidia\", \"obizcoin\", \"object\", \"object\", \"object\", \"object\", \"object\", \"object\", \"object\", \"object\", \"object\", \"object\", \"olai\", \"olport\", \"olport\", \"omic\", \"omnichannel\", \"omnichannel\", \"onnx\", \"oob\", \"open\", \"open\", \"open\", \"open\", \"open\", \"open\", \"open\", \"open\", \"open\", \"open\", \"openai\", \"openai\", \"openai\", \"openai\", \"openai\", \"opencv\", \"opencv\", \"opioid\", \"opioid\", \"optim\", \"optim\", \"optim\", \"optim\", \"optim\", \"optim\", \"optim\", \"optim\", \"optim\", \"optim\", \"osa\", \"osa\", \"outlier\", \"outlier\", \"outlier\", \"outlier\", \"outlier\", \"outlier\", \"outlier\", \"outlier\", \"outlier\", \"outlier\", \"overfit\", \"overfit\", \"overfit\", \"overfit\", \"overfit\", \"packag\", \"packag\", \"packag\", \"packag\", \"packag\", \"packag\", \"packag\", \"packag\", \"packag\", \"packag\", \"panda\", \"panda\", \"panda\", \"panda\", \"panda\", \"panda\", \"paper\", \"paper\", \"paper\", \"paper\", \"paper\", \"paper\", \"paper\", \"paper\", \"paper\", \"paper\", \"paramet\", \"paramet\", \"paramet\", \"paramet\", \"paramet\", \"paramet\", \"paramet\", \"paramet\", \"paramet\", \"paramet\", \"parquet\", \"parri\", \"parri\", \"particip\", \"particip\", \"particip\", \"particip\", \"particip\", \"particip\", \"particip\", \"particip\", \"particip\", \"particip\", \"partner\", \"partner\", \"partner\", \"partner\", \"partner\", \"partner\", \"partner\", \"partner\", \"partner\", \"partner\", \"partnership\", \"partnership\", \"partnership\", \"partnership\", \"partnership\", \"partnership\", \"partnership\", \"patient\", \"patient\", \"patient\", \"patient\", \"patient\", \"patient\", \"patient\", \"patient\", \"patient\", \"patient\", \"patients\", \"patients\", \"pca\", \"pca\", \"pca\", \"pca\", \"pca\", \"pcl\", \"peculium\", \"peopl\", \"peopl\", \"peopl\", \"peopl\", \"peopl\", \"peopl\", \"peopl\", \"peopl\", \"peopl\", \"peopl\", \"perform\", \"perform\", \"perform\", \"perform\", \"perform\", \"perform\", \"perform\", \"perform\", \"perform\", \"perform\", \"period\", \"period\", \"period\", \"period\", \"period\", \"period\", \"period\", \"period\", \"period\", \"period\", \"person\", \"person\", \"person\", \"person\", \"person\", \"person\", \"person\", \"person\", \"person\", \"person\", \"personalis\", \"personalis\", \"personalis\", \"personalis\", \"personalis\", \"personalis\", \"peterson\", \"phone\", \"phone\", \"phone\", \"phone\", \"phone\", \"phone\", \"phone\", \"phone\", \"phone\", \"phone\", \"physician\", \"physician\", \"pinterest\", \"pinterest\", \"pinterest\", \"pinterest\", \"pinterest\", \"pinterest\", \"pinterest\", \"pinterest\", \"pipelin\", \"pipelin\", \"pipelin\", \"pipelin\", \"pipelin\", \"pipelin\", \"pipelin\", \"pipelin\", \"pipelin\", \"pipelin\", \"pixel\", \"pixel\", \"pixel\", \"pixel\", \"pixel\", \"pixel\", \"pixel\", \"pixel\", \"platform\", \"platform\", \"platform\", \"platform\", \"platform\", \"platform\", \"platform\", \"platform\", \"platform\", \"platform\", \"play\", \"play\", \"play\", \"play\", \"play\", \"play\", \"play\", \"play\", \"play\", \"play\", \"player\", \"player\", \"player\", \"player\", \"player\", \"player\", \"player\", \"player\", \"player\", \"player\", \"plot\", \"plot\", \"plot\", \"plot\", \"plot\", \"plot\", \"plot\", \"plot\", \"plot\", \"plot\", \"pmml\", \"pmml\", \"podcast\", \"podcast\", \"podcast\", \"podcast\", \"podcast\", \"podcast\", \"poetic\", \"poetic\", \"poetic\", \"poetri\", \"poetri\", \"poetri\", \"poetri\", \"poetri\", \"point\", \"point\", \"point\", \"point\", \"point\", \"point\", \"point\", \"point\", \"point\", \"point\", \"polic\", \"polic\", \"polic\", \"polic\", \"polic\", \"polic\", \"polic\", \"polic\", \"polic\", \"polici\", \"polici\", \"polici\", \"polici\", \"polici\", \"polici\", \"polici\", \"polici\", \"polici\", \"polit\", \"polit\", \"polit\", \"polit\", \"polit\", \"polit\", \"polit\", \"polit\", \"poloniex\", \"poloniex\", \"polynomi\", \"polynomi\", \"portfolio\", \"portfolio\", \"portfolio\", \"portfolio\", \"portfolio\", \"portfolio\", \"portfolio\", \"portfolio\", \"portfolio\", \"possibl\", \"possibl\", \"possibl\", \"possibl\", \"possibl\", \"possibl\", \"possibl\", \"possibl\", \"possibl\", \"possibl\", \"post\", \"post\", \"post\", \"post\", \"post\", \"post\", \"post\", \"post\", \"post\", \"post\", \"posterior\", \"posterior\", \"postgr\", \"postgr\", \"postgresql\", \"power\", \"power\", \"power\", \"power\", \"power\", \"power\", \"power\", \"power\", \"power\", \"power\", \"ppo\", \"predict\", \"predict\", \"predict\", \"predict\", \"predict\", \"predict\", \"predict\", \"predict\", \"predict\", \"predict\", \"predictor\", \"predictor\", \"predictor\", \"predictor\", \"predictor\", \"predictor\", \"predictor\", \"predictor\", \"predictor\", \"predictor\", \"prefront\", \"presal\", \"price\", \"price\", \"price\", \"price\", \"price\", \"price\", \"price\", \"price\", \"price\", \"price\", \"probabl\", \"probabl\", \"probabl\", \"probabl\", \"probabl\", \"probabl\", \"probabl\", \"probabl\", \"probabl\", \"probabl\", \"problem\", \"problem\", \"problem\", \"problem\", \"problem\", \"problem\", \"problem\", \"problem\", \"problem\", \"problem\", \"procrastin\", \"procrastin\", \"product\", \"product\", \"product\", \"product\", \"product\", \"product\", \"product\", \"product\", \"product\", \"product\", \"professors\", \"program\", \"program\", \"program\", \"program\", \"program\", \"program\", \"program\", \"program\", \"program\", \"program\", \"project\", \"project\", \"project\", \"project\", \"project\", \"project\", \"project\", \"project\", \"project\", \"project\", \"propublica\", \"propublica\", \"protocol\", \"protocol\", \"protocol\", \"protocol\", \"protocol\", \"protocol\", \"protocol\", \"protocol\", \"protocol\", \"protocol\", \"provid\", \"provid\", \"provid\", \"provid\", \"provid\", \"provid\", \"provid\", \"provid\", \"provid\", \"provid\", \"psychiatr\", \"publishers\", \"puerto\", \"puerto\", \"puerto\", \"punctuat\", \"punctuat\", \"punctuat\", \"punctuat\", \"punctuat\", \"punctuat\", \"purchas\", \"purchas\", \"purchas\", \"purchas\", \"purchas\", \"purchas\", \"purchas\", \"purchas\", \"purchas\", \"purchas\", \"pyspark\", \"pyspark\", \"python\", \"python\", \"python\", \"python\", \"python\", \"python\", \"python\", \"python\", \"pytorch\", \"pytorch\", \"pytorch\", \"pytorch\", \"pytorch\", \"pytorch\", \"qna\", \"qna\", \"quantil\", \"quantil\", \"quantil\", \"quantum\", \"quantum\", \"quantum\", \"quantum\", \"quantum\", \"qubit\", \"qubit\", \"queri\", \"queri\", \"queri\", \"queri\", \"queri\", \"queri\", \"queri\", \"queri\", \"queri\", \"queri\", \"question\", \"question\", \"question\", \"question\", \"question\", \"question\", \"question\", \"question\", \"question\", \"question\", \"rabbitmq\", \"radiologist\", \"radiologist\", \"radiologist\", \"random\", \"random\", \"random\", \"random\", \"random\", \"random\", \"random\", \"random\", \"random\", \"random\", \"rasa\", \"rasa\", \"rate\", \"rate\", \"rate\", \"rate\", \"rate\", \"rate\", \"rate\", \"rate\", \"rate\", \"rate\", \"rcnn\", \"read\", \"read\", \"read\", \"read\", \"read\", \"read\", \"read\", \"read\", \"read\", \"read\", \"recenc\", \"recenc\", \"recenc\", \"recidiv\", \"recognit\", \"recognit\", \"recognit\", \"recognit\", \"recognit\", \"recognit\", \"recognit\", \"recognit\", \"recognit\", \"recognit\", \"recommend\", \"recommend\", \"recommend\", \"recommend\", \"recommend\", \"recommend\", \"recommend\", \"recommend\", \"recommend\", \"recommend\", \"recurr\", \"recurr\", \"recurr\", \"recurr\", \"recurr\", \"recurr\", \"recurr\", \"recurr\", \"recurr\", \"redshift\", \"regress\", \"regress\", \"regress\", \"regress\", \"regress\", \"regress\", \"regress\", \"regress\", \"regress\", \"reinforc\", \"reinforc\", \"reinforc\", \"reinforc\", \"reinforc\", \"reinforc\", \"reinforc\", \"reinforc\", \"reinforc\", \"reinforc\", \"requir\", \"requir\", \"requir\", \"requir\", \"requir\", \"requir\", \"requir\", \"requir\", \"requir\", \"requir\", \"research\", \"research\", \"research\", \"research\", \"research\", \"research\", \"research\", \"research\", \"research\", \"research\", \"resiz\", \"resiz\", \"resiz\", \"resiz\", \"resiz\", \"resnet\", \"resnet\", \"resnet\", \"result\", \"result\", \"result\", \"result\", \"result\", \"result\", \"result\", \"result\", \"result\", \"result\", \"retinanet\", \"return\", \"return\", \"return\", \"return\", \"return\", \"return\", \"return\", \"return\", \"return\", \"return\", \"reward\", \"reward\", \"reward\", \"reward\", \"reward\", \"reward\", \"reward\", \"reward\", \"reward\", \"reward\", \"rgb\", \"rgb\", \"rgb\", \"rgb\", \"rgb\", \"rick\", \"rick\", \"rick\", \"rico\", \"rico\", \"right\", \"right\", \"right\", \"right\", \"right\", \"right\", \"right\", \"right\", \"right\", \"right\", \"risk\", \"risk\", \"risk\", \"risk\", \"risk\", \"risk\", \"risk\", \"risk\", \"risk\", \"risk\", \"rmse\", \"rmse\", \"rnn\", \"rnn\", \"rnn\", \"rnn\", \"rnn\", \"rnn\", \"roast\", \"robot\", \"robot\", \"robot\", \"robot\", \"robot\", \"robot\", \"robot\", \"robot\", \"roc\", \"roc\", \"roc\", \"roc\", \"row\", \"row\", \"row\", \"row\", \"row\", \"row\", \"row\", \"row\", \"row\", \"row\", \"rsi\", \"run\", \"run\", \"run\", \"run\", \"run\", \"run\", \"run\", \"run\", \"run\", \"run\", \"safeti\", \"safeti\", \"safeti\", \"safeti\", \"safeti\", \"safeti\", \"safeti\", \"safeti\", \"safeti\", \"safeti\", \"sale\", \"sale\", \"sale\", \"sale\", \"sale\", \"sale\", \"sale\", \"sale\", \"sale\", \"sale\", \"sampl\", \"sampl\", \"sampl\", \"sampl\", \"sampl\", \"sampl\", \"sampl\", \"sampl\", \"sampl\", \"sampl\", \"sarsa\", \"sassi\", \"satir\", \"satir\", \"satir\", \"scala\", \"scala\", \"scala\", \"scala\", \"scholarship\", \"scholarship\", \"scholarship\", \"scholarship\", \"school\", \"school\", \"school\", \"school\", \"school\", \"school\", \"school\", \"school\", \"school\", \"school\", \"scienc\", \"scienc\", \"scienc\", \"scienc\", \"scienc\", \"scienc\", \"scienc\", \"scienc\", \"scienc\", \"scienc\", \"scientist\", \"scientist\", \"scientist\", \"scientist\", \"scientist\", \"scientist\", \"scientist\", \"scientist\", \"scientist\", \"scientist\", \"scream\", \"scream\", \"scream\", \"scream\", \"sculptur\", \"search\", \"search\", \"search\", \"search\", \"search\", \"search\", \"search\", \"search\", \"search\", \"search\", \"secur\", \"secur\", \"secur\", \"secur\", \"secur\", \"secur\", \"secur\", \"secur\", \"secur\", \"secur\", \"segment\", \"segment\", \"segment\", \"segment\", \"segment\", \"segment\", \"segment\", \"segment\", \"segment\", \"segment\", \"self\", \"self\", \"self\", \"self\", \"self\", \"self\", \"self\", \"self\", \"self\", \"self\", \"sell\", \"sell\", \"sell\", \"sell\", \"sell\", \"sell\", \"sell\", \"sell\", \"sell\", \"sell\", \"selu\", \"semest\", \"semest\", \"semest\", \"semest\", \"semest\", \"sensetim\", \"sensorimotor\", \"sentenc\", \"sentenc\", \"sentenc\", \"sentenc\", \"sentenc\", \"sentenc\", \"sentenc\", \"sentenc\", \"sentenc\", \"sentiment\", \"sentiment\", \"sentiment\", \"sentiment\", \"sentiment\", \"sentiment\", \"sentiment\", \"sentiment\", \"sentiment\", \"seo\", \"seo\", \"seo\", \"seo\", \"seo\", \"seo\", \"seo\", \"sequenc\", \"sequenc\", \"sequenc\", \"sequenc\", \"sequenc\", \"sequenc\", \"sequenc\", \"sequenc\", \"sequenc\", \"sequenc\", \"server\", \"server\", \"server\", \"server\", \"server\", \"server\", \"server\", \"server\", \"server\", \"server\", \"serverless\", \"serverless\", \"serverless\", \"serverless\", \"servic\", \"servic\", \"servic\", \"servic\", \"servic\", \"servic\", \"servic\", \"servic\", \"servic\", \"servic\", \"shap\", \"share\", \"share\", \"share\", \"share\", \"share\", \"share\", \"share\", \"share\", \"share\", \"share\", \"shit\", \"shit\", \"shit\", \"shit\", \"shit\", \"shit\", \"shogi\", \"shop\", \"shop\", \"shop\", \"shop\", \"shop\", \"shop\", \"shop\", \"shop\", \"shop\", \"shop\", \"shoppabl\", \"sigmoid\", \"sigmoid\", \"sigmoid\", \"sigmoid\", \"signal\", \"signal\", \"signal\", \"signal\", \"signal\", \"signal\", \"signal\", \"signal\", \"signal\", \"signal\", \"similar\", \"similar\", \"similar\", \"similar\", \"similar\", \"similar\", \"similar\", \"similar\", \"similar\", \"similar\", \"simul\", \"simul\", \"simul\", \"simul\", \"simul\", \"simul\", \"simul\", \"simul\", \"simul\", \"simul\", \"singularitynet\", \"singularitynet\", \"singularitynet\", \"singularitynet\", \"siri\", \"siri\", \"siri\", \"siri\", \"siri\", \"siri\", \"siri\", \"siri\", \"size\", \"size\", \"size\", \"size\", \"size\", \"size\", \"size\", \"size\", \"size\", \"size\", \"skill\", \"skill\", \"skill\", \"skill\", \"skill\", \"skill\", \"skill\", \"skill\", \"skill\", \"skill\", \"slackbot\", \"slackbot\", \"slope\", \"slope\", \"slope\", \"slope\", \"sma\", \"sma\", \"smart\", \"smart\", \"smart\", \"smart\", \"smart\", \"smart\", \"smart\", \"smart\", \"smart\", \"smart\", \"smartphon\", \"smartphon\", \"smartphon\", \"smartphon\", \"smartphon\", \"smartphon\", \"smartphon\", \"smartphon\", \"smote\", \"snip\", \"snip\", \"snip\", \"snip\", \"snip\", \"snip\", \"social\", \"social\", \"social\", \"social\", \"social\", \"social\", \"social\", \"social\", \"social\", \"social\", \"societi\", \"societi\", \"societi\", \"societi\", \"societi\", \"societi\", \"societi\", \"societi\", \"softwar\", \"softwar\", \"softwar\", \"softwar\", \"softwar\", \"softwar\", \"softwar\", \"softwar\", \"softwar\", \"softwar\", \"solut\", \"solut\", \"solut\", \"solut\", \"solut\", \"solut\", \"solut\", \"solut\", \"solut\", \"solut\", \"solv\", \"solv\", \"solv\", \"solv\", \"solv\", \"solv\", \"solv\", \"solv\", \"solv\", \"solv\", \"song\", \"song\", \"song\", \"song\", \"song\", \"song\", \"song\", \"song\", \"sono\", \"sophomor\", \"sourc\", \"sourc\", \"sourc\", \"sourc\", \"sourc\", \"sourc\", \"sourc\", \"sourc\", \"sourc\", \"sourc\", \"spaci\", \"spaci\", \"spaci\", \"spaci\", \"spaci\", \"spark\", \"spark\", \"spark\", \"spark\", \"spark\", \"spark\", \"spark\", \"spark\", \"spark\", \"spectrogram\", \"spectrogram\", \"spectrogram\", \"sql\", \"sql\", \"sql\", \"sql\", \"sql\", \"squar\", \"squar\", \"squar\", \"squar\", \"squar\", \"squar\", \"squar\", \"squar\", \"squar\", \"squar\", \"ssd\", \"ssd\", \"staircas\", \"starcraft\", \"startup\", \"startup\", \"startup\", \"startup\", \"startup\", \"startup\", \"startup\", \"startup\", \"startup\", \"startup\", \"state\", \"state\", \"state\", \"state\", \"state\", \"state\", \"state\", \"state\", \"state\", \"state\", \"stemmer\", \"step\", \"step\", \"step\", \"step\", \"step\", \"step\", \"step\", \"step\", \"step\", \"step\", \"sterl\", \"sterl\", \"sterl\", \"stock\", \"stock\", \"stock\", \"stock\", \"stock\", \"stock\", \"stock\", \"stock\", \"stock\", \"stock\", \"stockfish\", \"stopword\", \"stori\", \"stori\", \"stori\", \"stori\", \"stori\", \"stori\", \"stori\", \"stori\", \"stori\", \"stori\", \"storytel\", \"storytel\", \"storytel\", \"storytel\", \"storytel\", \"storytel\", \"strategi\", \"strategi\", \"strategi\", \"strategi\", \"strategi\", \"strategi\", \"strategi\", \"strategi\", \"strategi\", \"strategi\", \"string\", \"string\", \"string\", \"string\", \"string\", \"string\", \"string\", \"string\", \"string\", \"string\", \"student\", \"student\", \"student\", \"student\", \"student\", \"student\", \"student\", \"student\", \"student\", \"student\", \"stuff\", \"stuff\", \"stuff\", \"stuff\", \"stuff\", \"stuff\", \"stuff\", \"stuff\", \"stuff\", \"stuff\", \"sudoku\", \"sudoku\", \"sukant\", \"superintellig\", \"superintellig\", \"superintellig\", \"synapt\", \"synapt\", \"tableau\", \"tableau\", \"tableau\", \"tableau\", \"tac\", \"tag\", \"tag\", \"tag\", \"tag\", \"tag\", \"tag\", \"tag\", \"tag\", \"tag\", \"tag\", \"tagbox\", \"tagger\", \"tagger\", \"tagger\", \"tagger\", \"talent\", \"talent\", \"talent\", \"talent\", \"talent\", \"talent\", \"talent\", \"talent\", \"talent\", \"talk\", \"talk\", \"talk\", \"talk\", \"talk\", \"talk\", \"talk\", \"talk\", \"talk\", \"talk\", \"task\", \"task\", \"task\", \"task\", \"task\", \"task\", \"task\", \"task\", \"task\", \"task\", \"teacher\", \"teacher\", \"teacher\", \"teacher\", \"teacher\", \"teacher\", \"teacher\", \"teacher\", \"teacher\", \"teacher\", \"team\", \"team\", \"team\", \"team\", \"team\", \"team\", \"team\", \"team\", \"team\", \"team\", \"tech\", \"tech\", \"tech\", \"tech\", \"tech\", \"tech\", \"tech\", \"tech\", \"tech\", \"tech\", \"technolog\", \"technolog\", \"technolog\", \"technolog\", \"technolog\", \"technolog\", \"technolog\", \"technolog\", \"technolog\", \"technolog\", \"tenenbaum\", \"tensor\", \"tensor\", \"tensor\", \"tensor\", \"tensor\", \"tensor\", \"tensorboard\", \"tensorboard\", \"tensorboard\", \"tensorboard\", \"tensorflow\", \"tensorflow\", \"tensorflow\", \"tensorflow\", \"tensorflow\", \"tensorflow\", \"tensorflow\", \"tensorflow\", \"tensorflow\", \"tensorrt\", \"test\", \"test\", \"test\", \"test\", \"test\", \"test\", \"test\", \"test\", \"test\", \"test\", \"text\", \"text\", \"text\", \"text\", \"text\", \"text\", \"text\", \"text\", \"text\", \"text\", \"textblob\", \"textio\", \"textio\", \"textio\", \"tfidf\", \"tfidf\", \"tfrecord\", \"tfrecord\", \"tge\", \"tge\", \"therapeut\", \"therapeut\", \"therapeut\", \"therapi\", \"therapi\", \"therapi\", \"theta\", \"theta\", \"thing\", \"thing\", \"thing\", \"thing\", \"thing\", \"thing\", \"thing\", \"thing\", \"thing\", \"thing\", \"think\", \"think\", \"think\", \"think\", \"think\", \"think\", \"think\", \"think\", \"think\", \"think\", \"thought\", \"thought\", \"thought\", \"thought\", \"thought\", \"thought\", \"thought\", \"thought\", \"thought\", \"thought\", \"tibbl\", \"ticker\", \"ticker\", \"ticker\", \"token\", \"token\", \"token\", \"token\", \"token\", \"token\", \"token\", \"token\", \"tool\", \"tool\", \"tool\", \"tool\", \"tool\", \"tool\", \"tool\", \"tool\", \"tool\", \"tool\", \"topic\", \"topic\", \"topic\", \"topic\", \"topic\", \"topic\", \"topic\", \"topic\", \"topic\", \"topic\", \"touchscreen\", \"touchscreen\", \"tpr\", \"trade\", \"trade\", \"trade\", \"trade\", \"trade\", \"trade\", \"trade\", \"trade\", \"trade\", \"trade\", \"trader\", \"trader\", \"trader\", \"transact\", \"transact\", \"transact\", \"transact\", \"transact\", \"transact\", \"transact\", \"transact\", \"transact\", \"transact\", \"transhuman\", \"transhumanist\", \"treatment\", \"treatment\", \"treatment\", \"treatment\", \"treatment\", \"treatment\", \"treatment\", \"treatment\", \"treatment\", \"treatment\", \"tree\", \"tree\", \"tree\", \"tree\", \"tree\", \"tree\", \"tree\", \"tree\", \"tree\", \"tree\", \"treebank\", \"tri\", \"tri\", \"tri\", \"tri\", \"tri\", \"tri\", \"tri\", \"tri\", \"tri\", \"tri\", \"trigram\", \"trpo\", \"tsinghua\", \"tweet\", \"tweet\", \"tweet\", \"tweet\", \"tweet\", \"tweet\", \"tweet\", \"tweet\", \"tweet\", \"tweet\", \"type\", \"type\", \"type\", \"type\", \"type\", \"type\", \"type\", \"type\", \"type\", \"type\", \"ubex\", \"ubi\", \"ubi\", \"ubi\", \"udac\", \"udac\", \"udac\", \"udac\", \"udac\", \"udac\", \"udac\", \"uncorrel\", \"underfit\", \"underfit\", \"underfit\", \"undergradu\", \"undergradu\", \"undergradu\", \"undergradu\", \"undergradu\", \"undergradu\", \"understand\", \"understand\", \"understand\", \"understand\", \"understand\", \"understand\", \"understand\", \"understand\", \"understand\", \"understand\", \"unemploy\", \"unemploy\", \"unemploy\", \"unemploy\", \"unet\", \"unigram\", \"univers\", \"univers\", \"univers\", \"univers\", \"univers\", \"univers\", \"univers\", \"univers\", \"univers\", \"univers\", \"universidad\", \"universidad\", \"universidad\", \"unsubscrib\", \"unsubscrib\", \"uptrend\", \"usdt\", \"usdt\", \"user\", \"user\", \"user\", \"user\", \"user\", \"user\", \"user\", \"user\", \"user\", \"user\", \"utter\", \"utter\", \"utter\", \"utter\", \"utter\", \"utter\", \"utter\", \"vader\", \"valu\", \"valu\", \"valu\", \"valu\", \"valu\", \"valu\", \"valu\", \"valu\", \"valu\", \"valu\", \"variabl\", \"variabl\", \"variabl\", \"variabl\", \"variabl\", \"variabl\", \"variabl\", \"variabl\", \"variabl\", \"variabl\", \"varianc\", \"varianc\", \"varianc\", \"varianc\", \"varianc\", \"varianc\", \"varianc\", \"varianc\", \"vector\", \"vector\", \"vector\", \"vector\", \"vector\", \"vector\", \"vector\", \"vector\", \"vector\", \"vehicl\", \"vehicl\", \"vehicl\", \"vehicl\", \"vehicl\", \"vehicl\", \"vehicl\", \"vehicl\", \"vehicl\", \"vehicl\", \"ventur\", \"ventur\", \"ventur\", \"ventur\", \"ventur\", \"ventur\", \"ventur\", \"ventur\", \"ventur\", \"ventur\", \"verb\", \"verb\", \"verb\", \"verb\", \"verb\", \"verb\", \"version\", \"version\", \"version\", \"version\", \"version\", \"version\", \"version\", \"version\", \"version\", \"version\", \"vgg\", \"vgg\", \"vggnet\", \"viber\", \"viber\", \"video\", \"video\", \"video\", \"video\", \"video\", \"video\", \"video\", \"video\", \"video\", \"video\", \"vision\", \"vision\", \"vision\", \"vision\", \"vision\", \"vision\", \"vision\", \"vision\", \"vision\", \"vision\", \"visual\", \"visual\", \"visual\", \"visual\", \"visual\", \"visual\", \"visual\", \"visual\", \"visual\", \"visual\", \"voc\", \"voc\", \"vocab\", \"vocabulari\", \"vocabulari\", \"vocabulari\", \"vocabulari\", \"vocabulari\", \"vocabulari\", \"vocabulari\", \"vocabulari\", \"vocabulari\", \"voic\", \"voic\", \"voic\", \"voic\", \"voic\", \"voic\", \"voic\", \"voic\", \"voic\", \"voicemail\", \"volatil\", \"volatil\", \"volatil\", \"volatil\", \"volatil\", \"vpc\", \"vui\", \"vui\", \"wallet\", \"wallet\", \"wallet\", \"wallet\", \"wallet\", \"wallet\", \"warfar\", \"warfar\", \"warfar\", \"warfar\", \"wasn\", \"wasn\", \"wasn\", \"wasn\", \"wasn\", \"wasn\", \"wasn\", \"wasn\", \"wasn\", \"wasn\", \"watson\", \"watson\", \"watson\", \"watson\", \"watson\", \"watson\", \"watson\", \"watson\", \"watson\", \"waveform\", \"waveform\", \"waveform\", \"wavenet\", \"wavenet\", \"wavenet\", \"weapon\", \"weapon\", \"weapon\", \"weapon\", \"weapon\", \"weapon\", \"weapon\", \"web\", \"web\", \"web\", \"web\", \"web\", \"web\", \"web\", \"web\", \"web\", \"web\", \"webhook\", \"webpack\", \"week\", \"week\", \"week\", \"week\", \"week\", \"week\", \"week\", \"week\", \"week\", \"week\", \"weight\", \"weight\", \"weight\", \"weight\", \"weight\", \"weight\", \"weight\", \"weight\", \"weight\", \"weight\", \"weld\", \"wework\", \"whatsapp\", \"whatsapp\", \"whatsapp\", \"whatsapp\", \"whatsapp\", \"whatsapp\", \"whitepap\", \"whitepap\", \"whitepap\", \"whitepap\", \"whitepap\", \"word\", \"word\", \"word\", \"word\", \"word\", \"word\", \"word\", \"word\", \"word\", \"word\", \"wordcloud\", \"workflow\", \"workflow\", \"workflow\", \"workflow\", \"workflow\", \"workflow\", \"workflow\", \"workflow\", \"workflow\", \"workflow\", \"world\", \"world\", \"world\", \"world\", \"world\", \"world\", \"world\", \"world\", \"world\", \"world\", \"xai\", \"xcode\", \"year\", \"year\", \"year\", \"year\", \"year\", \"year\", \"year\", \"year\", \"year\", \"year\", \"yolo\", \"yolo\", \"\\u00f5pet\", \"\\u00f5pet\"]}, \"R\": 30, \"lambda.step\": 0.01, \"plot.opts\": {\"xlab\": \"PC1\", \"ylab\": \"PC2\"}, \"topic.order\": [1, 8, 9, 6, 7, 10, 5, 3, 2, 4]};\n",
       "\n",
       "function LDAvis_load_lib(url, callback){\n",
       "  var s = document.createElement('script');\n",
       "  s.src = url;\n",
       "  s.async = true;\n",
       "  s.onreadystatechange = s.onload = callback;\n",
       "  s.onerror = function(){console.warn(\"failed to load library \" + url);};\n",
       "  document.getElementsByTagName(\"head\")[0].appendChild(s);\n",
       "}\n",
       "\n",
       "if(typeof(LDAvis) !== \"undefined\"){\n",
       "   // already loaded: just create the visualization\n",
       "   !function(LDAvis){\n",
       "       new LDAvis(\"#\" + \"ldavis_el154671126478094484949187802\", ldavis_el154671126478094484949187802_data);\n",
       "   }(LDAvis);\n",
       "}else if(typeof define === \"function\" && define.amd){\n",
       "   // require.js is available: use it to load d3/LDAvis\n",
       "   require.config({paths: {d3: \"https://cdnjs.cloudflare.com/ajax/libs/d3/3.5.5/d3.min\"}});\n",
       "   require([\"d3\"], function(d3){\n",
       "      window.d3 = d3;\n",
       "      LDAvis_load_lib(\"https://cdn.rawgit.com/bmabey/pyLDAvis/files/ldavis.v1.0.0.js\", function(){\n",
       "        new LDAvis(\"#\" + \"ldavis_el154671126478094484949187802\", ldavis_el154671126478094484949187802_data);\n",
       "      });\n",
       "    });\n",
       "}else{\n",
       "    // require.js not available: dynamically load d3 & LDAvis\n",
       "    LDAvis_load_lib(\"https://cdnjs.cloudflare.com/ajax/libs/d3/3.5.5/d3.min.js\", function(){\n",
       "         LDAvis_load_lib(\"https://cdn.rawgit.com/bmabey/pyLDAvis/files/ldavis.v1.0.0.js\", function(){\n",
       "                 new LDAvis(\"#\" + \"ldavis_el154671126478094484949187802\", ldavis_el154671126478094484949187802_data);\n",
       "            })\n",
       "         });\n",
       "}\n",
       "</script>"
      ],
      "text/plain": [
       "PreparedData(topic_coordinates=              x         y  topics  cluster       Freq\n",
       "topic                                                \n",
       "0     -0.128995 -0.098729       1        1  14.370337\n",
       "7     -0.084354 -0.060934       2        1  14.033061\n",
       "8     -0.163981  0.015852       3        1  12.574184\n",
       "5      0.170585 -0.055670       4        1  12.170563\n",
       "6     -0.123260  0.058543       5        1  10.562901\n",
       "9      0.044327 -0.124784       6        1   8.735771\n",
       "4      0.014622  0.116534       7        1   8.364697\n",
       "2      0.135252 -0.008854       8        1   7.977193\n",
       "1      0.149619  0.052893       9        1   6.563869\n",
       "3     -0.013816  0.105149      10        1   4.647433, topic_info=     Category          Freq        Term         Total  loglift  logprob\n",
       "294   Default  48230.000000        imag  48230.000000  30.0000  30.0000\n",
       "941   Default  40230.000000        user  40230.000000  29.0000  29.0000\n",
       "947   Default  26121.000000        word  26121.000000  28.0000  28.0000\n",
       "375   Default  50048.000000     network  50048.000000  27.0000  27.0000\n",
       "77    Default  45235.000000       human  45235.000000  26.0000  26.0000\n",
       "376   Default  25812.000000      neural  25812.000000  25.0000  25.0000\n",
       "18    Default  26815.000000      custom  26815.000000  24.0000  24.0000\n",
       "204   Default  30117.000000        deep  30117.000000  23.0000  23.0000\n",
       "1093  Default  15347.000000     chatbot  15347.000000  22.0000  22.0000\n",
       "55    Default  39649.000000   technolog  39649.000000  21.0000  21.0000\n",
       "341   Default  21893.000000      market  21893.000000  20.0000  20.0000\n",
       "634   Default  21321.000000       layer  21321.000000  19.0000  19.0000\n",
       "5     Default  13407.000000  blockchain  13407.000000  18.0000  18.0000\n",
       "943   Default  41313.000000        valu  41313.000000  17.0000  17.0000\n",
       "415   Default  10473.000000       price  10473.000000  16.0000  16.0000\n",
       "11    Default  31481.000000     compani  31481.000000  15.0000  15.0000\n",
       "1304  Default  13337.000000         bot  13337.000000  14.0000  14.0000\n",
       "176   Default  29843.000000        code  29843.000000  13.0000  13.0000\n",
       "1240  Default  23125.000000     dataset  23125.000000  12.0000  12.0000\n",
       "413   Default  36586.000000     predict  36586.000000  11.0000  11.0000\n",
       "508   Default  14054.000000        text  14054.000000  10.0000  10.0000\n",
       "419   Default  33056.000000     product  33056.000000   9.0000   9.0000\n",
       "2482  Default  16078.000000      python  16078.000000   8.0000   8.0000\n",
       "267   Default  34947.000000    function  34947.000000   7.0000   7.0000\n",
       "1291  Default  12150.000000      vector  12150.000000   6.0000   6.0000\n",
       "253   Default  33315.000000      featur  33315.000000   5.0000   5.0000\n",
       "8     Default  27046.000000        busi  27046.000000   4.0000   4.0000\n",
       "697   Default   9879.000000  tensorflow   9879.000000   3.0000   3.0000\n",
       "271   Default  14257.000000        game  14257.000000   2.0000   2.0000\n",
       "1656  Default  12984.000000        file  12984.000000   1.0000   1.0000\n",
       "...       ...           ...         ...           ...      ...      ...\n",
       "1086  Topic10   1547.878662     bitcoin   3082.253906   2.3801  -5.8398\n",
       "2252  Topic10   1022.995789   portfolio   1885.219238   2.4575  -6.2539\n",
       "1304  Topic10   4494.267578         bot  13337.400391   1.9811  -4.7739\n",
       "155   Topic10   1968.619019         buy   4670.252441   2.2050  -5.5993\n",
       "2404  Topic10   1550.586670     purchas   3553.295898   2.2396  -5.8380\n",
       "5397  Topic10    758.038757     anomali   1425.980591   2.4370  -6.5537\n",
       "3236  Topic10   1429.884644      period   3638.098633   2.1350  -5.9191\n",
       "1035  Topic10   2101.843506        sale   6526.950195   1.9357  -5.5339\n",
       "341   Topic10   4538.554199      market  21893.906250   1.4953  -4.7641\n",
       "1036  Topic10   1358.786255        sell   3566.105469   2.1040  -5.9701\n",
       "1034  Topic10   2081.821533      return   7520.736328   1.7844  -5.5434\n",
       "413   Topic10   4990.318848     predict  36586.230469   1.0767  -4.6692\n",
       "773   Topic10   1506.384399        movi   4783.103027   1.9135  -5.8670\n",
       "18    Topic10   3847.414307      custom  26815.480469   1.1273  -4.9293\n",
       "419   Topic10   4193.933105     product  33056.617188   1.0043  -4.8430\n",
       "1182  Topic10   2705.855957        rate  15100.013672   1.3496  -5.2812\n",
       "127   Topic10   2606.843506     analysi  16173.201172   1.2436  -5.3185\n",
       "200   Topic10   2728.448486         day  19543.847656   1.0999  -5.2729\n",
       "1044  Topic10   1708.833374    strategi   7731.490723   1.5594  -5.7409\n",
       "3531  Topic10   1823.603760      averag   9086.647461   1.4629  -5.6759\n",
       "368   Topic10   1767.012329       month   8429.327148   1.5064  -5.7074\n",
       "906   Topic10   2289.885498    question  21911.382812   0.8104  -5.4482\n",
       "638   Topic10   2240.445557         let  29591.656250   0.4880  -5.4700\n",
       "258   Topic10   2096.546143      follow  26003.933594   0.5509  -5.5364\n",
       "455   Topic10   2086.723145      result  31683.640625   0.3486  -5.5411\n",
       "507   Topic10   1914.355347        test  26670.736328   0.4347  -5.6273\n",
       "943   Topic10   1960.307861        valu  41313.527344   0.0208  -5.6036\n",
       "306   Topic10   1878.701416      inform  29788.189453   0.3053  -5.6461\n",
       "1162  Topic10   1874.818970      number  29875.908203   0.3003  -5.6482\n",
       "523   Topic10   1833.171143  understand  29648.867188   0.2855  -5.6706\n",
       "\n",
       "[935 rows x 6 columns], token_table=       Topic      Freq      Term\n",
       "term                            \n",
       "13561      3  0.074781      aapl\n",
       "13561     10  0.922302      aapl\n",
       "12887      2  0.010318    abbeel\n",
       "12887      3  0.010318    abbeel\n",
       "12887      6  0.980243    abbeel\n",
       "108        1  0.039990  accuraci\n",
       "108        2  0.002910  accuraci\n",
       "108        3  0.018305  accuraci\n",
       "108        4  0.453969  accuraci\n",
       "108        5  0.030978  accuraci\n",
       "108        6  0.025533  accuraci\n",
       "108        7  0.001971  accuraci\n",
       "108        8  0.348550  accuraci\n",
       "108        9  0.056793  accuraci\n",
       "108       10  0.020840  accuraci\n",
       "10011      4  0.993110       acf\n",
       "7413       1  0.973616      aclu\n",
       "1295       1  0.094384    action\n",
       "1295       2  0.032836    action\n",
       "1295       3  0.028156    action\n",
       "1295       4  0.005393    action\n",
       "1295       5  0.118336    action\n",
       "1295       6  0.545204    action\n",
       "1295       7  0.036484    action\n",
       "1295       8  0.009518    action\n",
       "1295       9  0.006266    action\n",
       "1295      10  0.123492    action\n",
       "4315       4  0.993623  adaboost\n",
       "3286       9  0.984244    adverb\n",
       "116        1  0.064182  advertis\n",
       "...      ...       ...       ...\n",
       "60         7  0.644210  workflow\n",
       "60         8  0.044328  workflow\n",
       "60         9  0.033557  workflow\n",
       "60        10  0.008700  workflow\n",
       "61         1  0.294220     world\n",
       "61         2  0.244064     world\n",
       "61         3  0.218648     world\n",
       "61         4  0.014941     world\n",
       "61         5  0.075218     world\n",
       "61         6  0.098994     world\n",
       "61         7  0.027054     world\n",
       "61         8  0.014137     world\n",
       "61         9  0.009511     world\n",
       "61        10  0.003213     world\n",
       "11721      1  0.988998       xai\n",
       "5193       8  0.997020     xcode\n",
       "542        1  0.225752      year\n",
       "542        2  0.296303      year\n",
       "542        3  0.241606      year\n",
       "542        4  0.017119      year\n",
       "542        5  0.097479      year\n",
       "542        6  0.031919      year\n",
       "542        7  0.026329      year\n",
       "542        8  0.011776      year\n",
       "542        9  0.014413      year\n",
       "542       10  0.037332      year\n",
       "9248       4  0.001208      yolo\n",
       "9248       8  0.998033      yolo\n",
       "2274       3  0.983022      õpet\n",
       "2274       5  0.014206      õpet\n",
       "\n",
       "[4582 rows x 3 columns], R=30, lambda_step=0.01, plot_opts={'xlab': 'PC1', 'ylab': 'PC2'}, topic_order=[1, 8, 9, 6, 7, 10, 5, 3, 2, 4])"
      ]
     },
     "execution_count": 136,
     "metadata": {},
     "output_type": "execute_result"
    }
   ],
   "source": [
    "vis = pyLDAvis.gensim.prepare(lda, corpus, dictionary)\n",
    "vis"
   ]
  },
  {
   "cell_type": "code",
   "execution_count": null,
   "metadata": {},
   "outputs": [],
   "source": []
  }
 ],
 "metadata": {
  "kernelspec": {
   "display_name": "metis",
   "language": "python",
   "name": "metis"
  },
  "language_info": {
   "codemirror_mode": {
    "name": "ipython",
    "version": 3
   },
   "file_extension": ".py",
   "mimetype": "text/x-python",
   "name": "python",
   "nbconvert_exporter": "python",
   "pygments_lexer": "ipython3",
   "version": "3.7.3"
  }
 },
 "nbformat": 4,
 "nbformat_minor": 2
}
