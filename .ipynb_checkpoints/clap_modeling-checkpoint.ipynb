{
 "cells": [
  {
   "cell_type": "code",
   "execution_count": 1,
   "metadata": {},
   "outputs": [],
   "source": [
    "import pandas as pd\n",
    "import numpy as np\n",
    "import matplotlib.pyplot as plt\n",
    "import seaborn as sns\n",
    "%matplotlib inline"
   ]
  },
  {
   "cell_type": "markdown",
   "metadata": {},
   "source": [
    "### Load and clean data"
   ]
  },
  {
   "cell_type": "code",
   "execution_count": 2,
   "metadata": {},
   "outputs": [],
   "source": [
    "columns = ['codeBlockCount',\n",
    "       'firstPublishedDatetime', 'imageCount', 'isSubscriptionLocked',\n",
    "       'linksCount', 'readingTime',\n",
    "       'recommends', 'responsesCreatedCount', 'socialRecommendsCount',\n",
    "       'title', 'totalClapCount',\n",
    "       'wordCount', 'publicationfollowerCount',\n",
    "       'publicationname', 'author',\n",
    "       'usersFollowedCount', 'allTags']\n",
    "\n",
    "\n",
    "medium = pd.read_csv('medium_dataset.csv', usecols = columns)\n",
    "\n",
    "# Filter out posts which have less than 25 counts\n",
    "medium = medium[medium['totalClapCount'] >= 25]\n",
    "medium.reset_index(drop = True, inplace = True)\n",
    "medium.fillna(value = 0, inplace = True)"
   ]
  },
  {
   "cell_type": "code",
   "execution_count": 3,
   "metadata": {},
   "outputs": [],
   "source": [
    "# To control for effect of publication boosting an article, include publication as a feature in model\n",
    "# Need to remove publications with very few articles\n",
    "# Only keep publications with > 25 articles\n",
    "\n",
    "publication_counts = medium['publicationname'].value_counts()"
   ]
  },
  {
   "cell_type": "code",
   "execution_count": 5,
   "metadata": {},
   "outputs": [],
   "source": [
    "keep_pubs = []\n",
    "\n",
    "for i in range(len(publication_counts)):\n",
    "    if publication_counts[i] >= 25:\n",
    "        keep_pubs.append(publication_counts.index[i])"
   ]
  },
  {
   "cell_type": "code",
   "execution_count": 6,
   "metadata": {},
   "outputs": [
    {
     "data": {
      "text/plain": [
       "67"
      ]
     },
     "execution_count": 6,
     "metadata": {},
     "output_type": "execute_result"
    }
   ],
   "source": [
    "# 67 publications have 25 or more posts\n",
    "len(keep_pubs)"
   ]
  },
  {
   "cell_type": "code",
   "execution_count": 8,
   "metadata": {},
   "outputs": [],
   "source": [
    "medium['publicationname'] = medium['publicationname'].apply(lambda x: x if x in keep_pubs else np.NaN)"
   ]
  },
  {
   "cell_type": "code",
   "execution_count": 9,
   "metadata": {},
   "outputs": [
    {
     "data": {
      "text/plain": [
       "count     24331.000000\n",
       "mean        455.466524\n",
       "std        3095.901085\n",
       "min          25.000000\n",
       "25%          54.000000\n",
       "50%         106.000000\n",
       "75%         266.000000\n",
       "max      291706.000000\n",
       "Name: totalClapCount, dtype: float64"
      ]
     },
     "execution_count": 9,
     "metadata": {},
     "output_type": "execute_result"
    }
   ],
   "source": [
    "# Distribution of claps\n",
    "medium['totalClapCount'].describe()"
   ]
  },
  {
   "cell_type": "code",
   "execution_count": 14,
   "metadata": {},
   "outputs": [
    {
     "data": {
      "text/html": [
       "<div>\n",
       "<style scoped>\n",
       "    .dataframe tbody tr th:only-of-type {\n",
       "        vertical-align: middle;\n",
       "    }\n",
       "\n",
       "    .dataframe tbody tr th {\n",
       "        vertical-align: top;\n",
       "    }\n",
       "\n",
       "    .dataframe thead th {\n",
       "        text-align: right;\n",
       "    }\n",
       "</style>\n",
       "<table border=\"1\" class=\"dataframe\">\n",
       "  <thead>\n",
       "    <tr style=\"text-align: right;\">\n",
       "      <th></th>\n",
       "      <th>codeBlockCount</th>\n",
       "      <th>firstPublishedDatetime</th>\n",
       "      <th>imageCount</th>\n",
       "      <th>isSubscriptionLocked</th>\n",
       "      <th>linksCount</th>\n",
       "      <th>readingTime</th>\n",
       "      <th>recommends</th>\n",
       "      <th>responsesCreatedCount</th>\n",
       "      <th>socialRecommendsCount</th>\n",
       "      <th>title</th>\n",
       "      <th>totalClapCount</th>\n",
       "      <th>wordCount</th>\n",
       "      <th>publicationfollowerCount</th>\n",
       "      <th>publicationname</th>\n",
       "      <th>author</th>\n",
       "      <th>usersFollowedCount</th>\n",
       "      <th>allTags</th>\n",
       "    </tr>\n",
       "  </thead>\n",
       "  <tbody>\n",
       "    <tr>\n",
       "      <th>31035</th>\n",
       "      <td>0.0</td>\n",
       "      <td>2018-06-15 23:34:50</td>\n",
       "      <td>1</td>\n",
       "      <td>False</td>\n",
       "      <td>3</td>\n",
       "      <td>5.762264</td>\n",
       "      <td>42288</td>\n",
       "      <td>1153</td>\n",
       "      <td>3</td>\n",
       "      <td>The Most Important Skill Nobody Taught You</td>\n",
       "      <td>291706</td>\n",
       "      <td>1474</td>\n",
       "      <td>NaN</td>\n",
       "      <td>NaN</td>\n",
       "      <td>Zat Rana</td>\n",
       "      <td>98.0</td>\n",
       "      <td>['Self Improvement', 'Life', 'Life Lessons', '...</td>\n",
       "    </tr>\n",
       "  </tbody>\n",
       "</table>\n",
       "</div>"
      ],
      "text/plain": [
       "       codeBlockCount firstPublishedDatetime  imageCount  \\\n",
       "31035             0.0    2018-06-15 23:34:50           1   \n",
       "\n",
       "       isSubscriptionLocked  linksCount  readingTime  recommends  \\\n",
       "31035                 False           3     5.762264       42288   \n",
       "\n",
       "       responsesCreatedCount  socialRecommendsCount  \\\n",
       "31035                   1153                      3   \n",
       "\n",
       "                                            title  totalClapCount  wordCount  \\\n",
       "31035  The Most Important Skill Nobody Taught You          291706       1474   \n",
       "\n",
       "       publicationfollowerCount publicationname    author  usersFollowedCount  \\\n",
       "31035                       NaN             NaN  Zat Rana                98.0   \n",
       "\n",
       "                                                 allTags  \n",
       "31035  ['Self Improvement', 'Life', 'Life Lessons', '...  "
      ]
     },
     "execution_count": 14,
     "metadata": {},
     "output_type": "execute_result"
    }
   ],
   "source": [
    "# This post has a ridiculous number of claps!\n",
    "# Interesting enough it is not tagged to datascience, ML, or AI\n",
    "medium[medium['totalClapCount'] == 291706]"
   ]
  },
  {
   "cell_type": "code",
   "execution_count": 10,
   "metadata": {},
   "outputs": [
    {
     "data": {
      "text/plain": [
       "(array([13268.,  3960.,  1866.,  1098.,   718.,   568.,   414.,   318.,\n",
       "          257.,   188.]),\n",
       " array([  25. ,  122.5,  220. ,  317.5,  415. ,  512.5,  610. ,  707.5,\n",
       "         805. ,  902.5, 1000. ]),\n",
       " <a list of 10 Patch objects>)"
      ]
     },
     "execution_count": 10,
     "metadata": {},
     "output_type": "execute_result"
    },
    {
     "data": {
      "image/png": "[encoded data removed]",
      "text/plain": [
       "<Figure size 432x288 with 1 Axes>"
      ]
     },
     "metadata": {
      "needs_background": "light"
     },
     "output_type": "display_data"
    }
   ],
   "source": [
    "# Distribution of totalClapCount is extremely right skewed\n",
    "plt.hist(medium['totalClapCount'], range = (25, 1000))"
   ]
  },
  {
   "cell_type": "code",
   "execution_count": 57,
   "metadata": {},
   "outputs": [
    {
     "data": {
      "text/plain": [
       "(array([3.915e+03, 7.375e+03, 5.885e+03, 3.689e+03, 2.144e+03, 8.780e+02,\n",
       "        3.170e+02, 9.300e+01, 3.200e+01, 3.000e+00]),\n",
       " array([1.79412258, 1.96944264, 2.1447627 , 2.32008276, 2.49540282,\n",
       "        2.67072288, 2.84604294, 3.021363  , 3.19668306, 3.37200312,\n",
       "        3.54732318]),\n",
       " <a list of 10 Patch objects>)"
      ]
     },
     "execution_count": 57,
     "metadata": {},
     "output_type": "execute_result"
    },
    {
     "data": {
      "image/png": "[encoded data removed]",
      "text/plain": [
       "<Figure size 432x288 with 1 Axes>"
      ]
     },
     "metadata": {
      "needs_background": "light"
     },
     "output_type": "display_data"
    }
   ],
   "source": [
    "# This transformation makes the target much more normally distributed\n",
    "plt.hist(np.sqrt(np.log(medium['totalClapCount'])))"
   ]
  },
  {
   "cell_type": "code",
   "execution_count": 58,
   "metadata": {},
   "outputs": [],
   "source": [
    "# use this as the target\n",
    "medium['transformedClaps'] = np.sqrt(np.log(medium['totalClapCount']))"
   ]
  },
  {
   "cell_type": "markdown",
   "metadata": {},
   "source": [
    "### Write Linear Regression Function\n",
    "Function should do the following:\n",
    "1. Merge topic distributions with medium df, keep only columns used for prediction\n",
    "2. One-hot categorical variables\n",
    "3. Split into train and test set\n",
    "4. Run linear model\n",
    "5. Return adjusted-R2 score and dataframe of feature names, coefficients, and significance level"
   ]
  },
  {
   "cell_type": "code",
   "execution_count": 23,
   "metadata": {},
   "outputs": [],
   "source": [
    "from sklearn.model_selection import train_test_split\n",
    "import statsmodels.api as sm"
   ]
  },
  {
   "cell_type": "code",
   "execution_count": 74,
   "metadata": {},
   "outputs": [],
   "source": [
    "def mae(model, inputs, truth):\n",
    "    outputs = model.predict(inputs)\n",
    "    outputs = np.exp(np.power(outputs, 2))\n",
    "    truth = np.exp(np.power(truth, 2))\n",
    "    errors = np.abs(outputs - truth)\n",
    "    print(\"Mean Absolute Error: \", np.mean(errors))\n",
    "    return pd.DataFrame({'truth': truth, 'precition': outputs})"
   ]
  },
  {
   "cell_type": "code",
   "execution_count": 79,
   "metadata": {},
   "outputs": [],
   "source": [
    "def predict_claps(doc_topics, return_comp = True):\n",
    "    '''\n",
    "    This function takes as input a filepath to a doc_topic csv.\n",
    "    Output is printed MAE and a dataframe of test set truth vs prediction values\n",
    "    '''\n",
    "    \n",
    "    ols_columns = ['codeBlockCount', 'imageCount', 'isSubscriptionLocked', 'linksCount', 'wordCount',\n",
    "                    'publicationname', 'usersFollowedCount', 'topic1', 'topic2', 'topic3', 'topic4',\n",
    "                    'topic5', 'topic6', 'topic7', 'topic8', 'topic9', 'topic10', 'transformedClaps']\n",
    "\n",
    "    input_df = pd.read_csv(doc_topics)\n",
    "    input_df.drop(columns = 'Unnamed: 0', inplace = True)\n",
    "\n",
    "    input_df = input_df.merge(medium, on = 'title')\n",
    "    input_df = input_df[ols_columns]\n",
    "\n",
    "    # Define function to switch 'isSubscriptionLocked' to binary\n",
    "    def is_sub_locked(sub):\n",
    "        if sub == True:\n",
    "            return 1\n",
    "        else:\n",
    "            return 0\n",
    "\n",
    "    input_df['isSubscriptionLocked'] = input_df['isSubscriptionLocked'].apply(is_sub_locked)\n",
    "\n",
    "    # Convert 'publicationname' to dummy variables\n",
    "    pub_dummies = pd.get_dummies(input_df['publicationname']).drop(columns = 0)\n",
    "\n",
    "    input_df.drop(columns = 'publicationname', inplace = True)\n",
    "\n",
    "    input_df = pd.concat([input_df, pub_dummies], axis = 1)\n",
    "\n",
    "    # Add an intercept column\n",
    "    input_df['intercept'] = 1\n",
    "\n",
    "    y = input_df['transformedClaps']\n",
    "    X = input_df.drop(columns = 'transformedClaps')\n",
    "\n",
    "    X_train, X_test, y_train, y_test = train_test_split(X, y, test_size = 0.2, random_state = 42)\n",
    "\n",
    "    model = sm.OLS(y_train, X_train)\n",
    "    fit = model.fit()\n",
    "    print(\"R-squared: \", fit.rsquared)\n",
    "    print(\"Adjusted R-squared: \", fit.rsquared_adj)\n",
    "    \n",
    "    comparison = mae(fit, X_test, y_test)\n",
    "    if return_comp == True:\n",
    "        return comparison"
   ]
  },
  {
   "cell_type": "code",
   "execution_count": 80,
   "metadata": {},
   "outputs": [
    {
     "name": "stdout",
     "output_type": "stream",
     "text": [
      "R-squared:  0.19104880036118355\n",
      "Adjusted R-squared:  0.18758425187975825\n",
      "Mean Absolute Error:  363.4788401370585\n"
     ]
    }
   ],
   "source": [
    "predict_claps('doc_topics/cv_lda.csv', return_comp = False)"
   ]
  },
  {
   "cell_type": "code",
   "execution_count": 81,
   "metadata": {},
   "outputs": [
    {
     "name": "stdout",
     "output_type": "stream",
     "text": [
      "doc_topics/cv_lsa.csv\n",
      "R-squared:  0.18750771514783104\n",
      "Adjusted R-squared:  0.18402800102797912\n",
      "Mean Absolute Error:  362.3116176018232\n",
      "\n",
      "\n",
      "doc_topics/tfidf_lsa.csv\n",
      "R-squared:  0.1945324347688726\n",
      "Adjusted R-squared:  0.1910828058775319\n",
      "Mean Absolute Error:  363.1699541810216\n",
      "\n",
      "\n",
      "doc_topics/cv_nmf.csv\n",
      "R-squared:  0.1858229815920337\n",
      "Adjusted R-squared:  0.1823360521530315\n",
      "Mean Absolute Error:  362.97008304723573\n",
      "\n",
      "\n",
      "doc_topics/tfidf_nmf.csv\n",
      "R-squared:  0.19591760313575923\n",
      "Adjusted R-squared:  0.19247390659604136\n",
      "Mean Absolute Error:  362.77594062119886\n",
      "\n",
      "\n",
      "doc_topics/cv_lda.csv\n",
      "R-squared:  0.19104880036118355\n",
      "Adjusted R-squared:  0.18758425187975825\n",
      "Mean Absolute Error:  363.4788401370585\n",
      "\n",
      "\n"
     ]
    }
   ],
   "source": [
    "doc_topic_list = ['doc_topics/cv_lsa.csv', 'doc_topics/tfidf_lsa.csv', 'doc_topics/cv_nmf.csv',\n",
    "                  'doc_topics/tfidf_nmf.csv', 'doc_topics/cv_lda.csv']\n",
    "\n",
    "for doc_topics in doc_topic_list:\n",
    "    print(doc_topics)\n",
    "    predict_claps(doc_topics, return_comp = False)\n",
    "    print(\"\\n\")"
   ]
  },
  {
   "cell_type": "code",
   "execution_count": null,
   "metadata": {},
   "outputs": [],
   "source": [
    "# This shows that all topic models are equally useless for predicting claps\n",
    "# The only predictive power is likely coming from publication"
   ]
  }
 ],
 "metadata": {
  "kernelspec": {
   "display_name": "metis",
   "language": "python",
   "name": "metis"
  },
  "language_info": {
   "codemirror_mode": {
    "name": "ipython",
    "version": 3
   },
   "file_extension": ".py",
   "mimetype": "text/x-python",
   "name": "python",
   "nbconvert_exporter": "python",
   "pygments_lexer": "ipython3",
   "version": "3.7.3"
  }
 },
 "nbformat": 4,
 "nbformat_minor": 2
}
