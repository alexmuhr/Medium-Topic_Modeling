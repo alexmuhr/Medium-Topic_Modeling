{
 "cells": [
  {
   "cell_type": "code",
   "execution_count": 113,
   "metadata": {},
   "outputs": [],
   "source": [
    "import numpy as np\n",
    "import pandas as pd\n",
    "import matplotlib.pyplot as plt\n",
    "import seaborn as sns\n",
    "import string\n",
    "import re\n",
    "from ast import literal_eval\n",
    "from collections import Counter\n",
    "%matplotlib inline\n",
    "\n",
    "from sklearn.feature_extraction.text import CountVectorizer\n",
    "from sklearn.feature_extraction.text import TfidfVectorizer\n",
    "from sklearn.decomposition import TruncatedSVD\n",
    "from sklearn.decomposition import NMF\n",
    "from sklearn.metrics.pairwise import cosine_similarity\n",
    "\n",
    "import gensim\n",
    "from gensim.parsing.preprocessing import STOPWORDS\n",
    "from gensim import corpora, models, similarities, matutils\n",
    "from gensim.utils import simple_preprocess\n",
    "from gensim.models import CoherenceModel\n",
    "\n",
    "from nltk.stem.porter import PorterStemmer"
   ]
  },
  {
   "cell_type": "markdown",
   "metadata": {},
   "source": [
    "### Prep Data"
   ]
  },
  {
   "cell_type": "code",
   "execution_count": 2,
   "metadata": {},
   "outputs": [],
   "source": [
    "medium = pd.read_csv('medium_dataset.csv')"
   ]
  },
  {
   "cell_type": "code",
   "execution_count": 3,
   "metadata": {},
   "outputs": [
    {
     "data": {
      "text/plain": [
       "Index(['codeBlock', 'codeBlockCount', 'collectionId', 'createdDatetime',\n",
       "       'firstPublishedDatetime', 'imageCount', 'isSubscriptionLocked',\n",
       "       'latestPublishedDatetime', 'linksCount', 'postId', 'readingTime',\n",
       "       'recommends', 'responsesCreatedCount', 'socialRecommendsCount',\n",
       "       'subTitle', 'text', 'title', 'totalClapCount', 'updatedDatetime', 'url',\n",
       "       'wordCount', 'publicationdescription', 'publicationfollowerCount',\n",
       "       'publicationname', 'publicationtags', 'author', 'bio', 'userName',\n",
       "       'usersFollowedByCount', 'usersFollowedCount', 'allTags'],\n",
       "      dtype='object')"
      ]
     },
     "execution_count": 3,
     "metadata": {},
     "output_type": "execute_result"
    }
   ],
   "source": [
    "medium.columns"
   ]
  },
  {
   "cell_type": "code",
   "execution_count": 4,
   "metadata": {},
   "outputs": [],
   "source": [
    "# The allTags column needs to be converted to type list. By default pandas will read the lists in as strings.\n",
    "def convert_tags(tags):\n",
    "    try:\n",
    "        tags = literal_eval(tags)\n",
    "        return tags\n",
    "    except:\n",
    "        return tags\n",
    "\n",
    "medium['allTags'] = medium['allTags'].apply(convert_tags)"
   ]
  },
  {
   "cell_type": "code",
   "execution_count": 5,
   "metadata": {},
   "outputs": [],
   "source": [
    "# Define a function to remove links from text\n",
    "# Then remove non-alphanumeric characters, punctuation, and make lower case\n",
    "\n",
    "def clean_text(text):\n",
    "    # Remove links\n",
    "    text = re.sub('(?:(?:https?|ftp):\\/\\/)?[\\w/\\-?=%.]+\\.[\\w/\\-?=%.]+','', text)\n",
    "    # Remove non-alphanumerics\n",
    "    text = re.sub('\\w*\\d\\w*', ' ', text)\n",
    "    # Remove punctuation and lowercase\n",
    "    text = re.sub('[%s]' % re.escape(string.punctuation), ' ', text.lower())\n",
    "    # Remove newline characters\n",
    "    text = text.replace('\\n', ' ')\n",
    "    \n",
    "    return text\n",
    "\n",
    "medium['text'] = medium['text'].apply(clean_text)"
   ]
  },
  {
   "cell_type": "code",
   "execution_count": 6,
   "metadata": {},
   "outputs": [
    {
     "data": {
      "text/plain": [
       "'private business  government and blockchain  a major private it company implements blockchain  artificial intelligence  and internet of things to optimize and improve high technology workflow  the representatives of a major state structure from the same country like this experiment so much they decide to use it in their work and conclude an agreement with the it giant  this is an ideal example of interaction between private business and the state regarding blockchain  don’t you think  what is even better is that this story is real  in south korea a local customs office has signed the respective partnership agreement with samsung  i believe that the near term development of blockchain will be built on just such examples of cooperation  in a world where all the best technological decisions are copied at supersonic speed  one cannot remain behind the trends for long  that’s why i’m confident that blockchain and other crypto technologies will soon be adopted around the world  in the   century it would be strange to go searching for a telephone booth to make a call  when you can do so from anywhere on the planet with one click on your gadget   '"
      ]
     },
     "execution_count": 6,
     "metadata": {},
     "output_type": "execute_result"
    }
   ],
   "source": [
    "medium.loc[0,'text']"
   ]
  },
  {
   "cell_type": "code",
   "execution_count": 7,
   "metadata": {},
   "outputs": [
    {
     "data": {
      "text/plain": [
       "['Blockchain', 'Samsung', 'It']"
      ]
     },
     "execution_count": 7,
     "metadata": {},
     "output_type": "execute_result"
    }
   ],
   "source": [
    "medium.loc[0,'allTags']"
   ]
  },
  {
   "cell_type": "markdown",
   "metadata": {},
   "source": [
    "### Simple Analysis"
   ]
  },
  {
   "cell_type": "code",
   "execution_count": 14,
   "metadata": {},
   "outputs": [],
   "source": [
    "# Appears that our text and tags are looking good\n",
    "# Lets create a single list of tags to represent topics that people are writing about\n",
    "tag_list = []\n",
    "\n",
    "for tags in medium['allTags']:\n",
    "    if type(tags) == list:\n",
    "        for tag in tags:\n",
    "            tag_list.append(tag)\n",
    "    "
   ]
  },
  {
   "cell_type": "code",
   "execution_count": 20,
   "metadata": {},
   "outputs": [
    {
     "data": {
      "text/plain": [
       "257650"
      ]
     },
     "execution_count": 20,
     "metadata": {},
     "output_type": "execute_result"
    }
   ],
   "source": [
    "# Total number of tags applied\n",
    "len(tag_list)"
   ]
  },
  {
   "cell_type": "code",
   "execution_count": 22,
   "metadata": {},
   "outputs": [
    {
     "data": {
      "text/plain": [
       "64417"
      ]
     },
     "execution_count": 22,
     "metadata": {},
     "output_type": "execute_result"
    }
   ],
   "source": [
    "# Total number of articles\n",
    "medium.shape[0]"
   ]
  },
  {
   "cell_type": "code",
   "execution_count": 23,
   "metadata": {},
   "outputs": [
    {
     "data": {
      "text/plain": [
       "3.999720570656814"
      ]
     },
     "execution_count": 23,
     "metadata": {},
     "output_type": "execute_result"
    }
   ],
   "source": [
    "# Average tags per article\n",
    "len(tag_list)/medium.shape[0]"
   ]
  },
  {
   "cell_type": "code",
   "execution_count": 24,
   "metadata": {},
   "outputs": [
    {
     "data": {
      "text/plain": [
       "Artificial Intelligence    32824\n",
       "Machine Learning           27382\n",
       "Data Science               16689\n",
       "Deep Learning               6194\n",
       "Technology                  6163\n",
       "Blockchain                  4800\n",
       "Python                      3075\n",
       "Big Data                    2670\n",
       "Tech                        2599\n",
       "Chatbots                    2515\n",
       "Name: tags, dtype: int64"
      ]
     },
     "execution_count": 24,
     "metadata": {},
     "output_type": "execute_result"
    }
   ],
   "source": [
    "# Top 10 most popular tags in this dataset\n",
    "pd.DataFrame(data = tag_list, columns = ['tags'])['tags'].value_counts().head(10)"
   ]
  },
  {
   "cell_type": "code",
   "execution_count": 27,
   "metadata": {},
   "outputs": [
    {
     "data": {
      "text/plain": [
       "Artificial Intelligence    0.509555\n",
       "Machine Learning           0.425074\n",
       "Data Science               0.259078\n",
       "Deep Learning              0.096155\n",
       "Technology                 0.095674\n",
       "Blockchain                 0.074514\n",
       "Python                     0.047736\n",
       "Big Data                   0.041449\n",
       "Tech                       0.040346\n",
       "Chatbots                   0.039042\n",
       "Name: tags, dtype: float64"
      ]
     },
     "execution_count": 27,
     "metadata": {},
     "output_type": "execute_result"
    }
   ],
   "source": [
    "# Frequency at which popular tags appear in the dataset\n",
    "pd.DataFrame(data = tag_list, columns = ['tags'])['tags'].value_counts().head(10)/medium.shape[0]"
   ]
  },
  {
   "cell_type": "code",
   "execution_count": 34,
   "metadata": {},
   "outputs": [
    {
     "name": "stdout",
     "output_type": "stream",
     "text": [
      "Latest Published Date: 2018-09-30 23:52:12\n",
      "Earliest Published Date: 2010-10-27 07:00:00\n"
     ]
    }
   ],
   "source": [
    "# Dataset covers articles over an 8 year span from 2010 to 2018\n",
    "print(\"Latest Published Date: \" + str(medium['firstPublishedDatetime'].max()))\n",
    "print(\"Earliest Published Date: \" + str(medium['firstPublishedDatetime'].min()))"
   ]
  },
  {
   "cell_type": "code",
   "execution_count": 37,
   "metadata": {},
   "outputs": [
    {
     "data": {
      "text/plain": [
       "Towards Data Science                                3715\n",
       "Hacker Noon                                         1185\n",
       "Becoming Human: Artificial Intelligence Magazine     732\n",
       "Data Driven Investor                                 637\n",
       "Chatbots Life                                        461\n",
       "SyncedReview                                         366\n",
       "Chatbots Magazine                                    342\n",
       "The Startup                                          310\n",
       "DEEPAERODRONES                                       273\n",
       "Good Audience                                        258\n",
       "Name: publicationname, dtype: int64"
      ]
     },
     "execution_count": 37,
     "metadata": {},
     "output_type": "execute_result"
    }
   ],
   "source": [
    "# Towards Data Science is the most prolific publication in the dataset\n",
    "medium['publicationname'].value_counts().head(10)"
   ]
  },
  {
   "cell_type": "code",
   "execution_count": 39,
   "metadata": {},
   "outputs": [
    {
     "data": {
      "text/plain": [
       "Synced                  377\n",
       "DEEP AERO DRONES        279\n",
       "Yves Mulkers            182\n",
       "C Gavilanes             163\n",
       "Jae Duk Seo             158\n",
       "WELTARE Strategies      140\n",
       "TWiML & AI              134\n",
       "Michael K. Spencer      124\n",
       "Corsair's Publishing    121\n",
       "Vantagepoint ai         113\n",
       "Name: author, dtype: int64"
      ]
     },
     "execution_count": 39,
     "metadata": {},
     "output_type": "execute_result"
    }
   ],
   "source": [
    "medium['author'].value_counts().head(10)"
   ]
  },
  {
   "cell_type": "code",
   "execution_count": 53,
   "metadata": {},
   "outputs": [
    {
     "data": {
      "text/plain": [
       "[('', 20), ('the', 11), ('and', 6), ('a', 6), ('blockchain', 5)]"
      ]
     },
     "execution_count": 53,
     "metadata": {},
     "output_type": "execute_result"
    }
   ],
   "source": [
    "test = Counter(medium.loc[0, 'text'].split(' '))\n",
    "test.most_common(5)"
   ]
  },
  {
   "cell_type": "code",
   "execution_count": 57,
   "metadata": {},
   "outputs": [],
   "source": [
    "# Run a word count to determine most common words in corpus\n",
    "# These words will likely need to be added to the stopwords list\n",
    "# Don't count words that are allready in the default stopwords list\n",
    "\n",
    "def update_counter(text):\n",
    "    '''\n",
    "    Function to update a word counter for corpus of documents\n",
    "    '''\n",
    "    word_list = []\n",
    "    for word in text.split(' '):\n",
    "        if word not in STOPWORDS:\n",
    "            word_list.append(word)\n",
    "    word_counter.update(word_list)\n",
    "\n",
    "word_counter = Counter()\n",
    "\n",
    "medium['text'].apply(update_counter)"
   ]
  },
  {
   "cell_type": "code",
   "execution_count": 62,
   "metadata": {},
   "outputs": [
    {
     "name": "stdout",
     "output_type": "stream",
     "text": [
      "[('', 9268338), ('data', 405551), ('ai', 223239), ('learning', 195515), ('—', 189145), ('time', 128504), ('machine', 126912), ('like', 126808), ('use', 115446), ('new', 111253), ('model', 108896), ('intelligence', 84933), ('people', 82011), ('need', 81119), ('it’s', 80934), ('human', 79753), ('technology', 75069), ('”', 74216), ('work', 72607), ('way', 71261), ('artificial', 68172), ('based', 65169), ('different', 62642), ('information', 62467), ('world', 62111), ('business', 58426), ('example', 58218), ('deep', 56145), ('training', 55299), ('set', 54501), ('network', 53781), ('science', 53150), ('want', 52164), ('better', 51989), ('help', 51391), ('know', 51230), ('future', 49531), ('image', 48455), ('process', 48144), ('value', 48000), ('number', 46962), ('good', 46569), ('learn', 46234), ('neural', 46179), ('models', 45635), ('create', 45014), ('think', 43510), ('companies', 43006), ('don’t', 42986), ('problem', 42941), ('best', 42668), ('google', 42010), ('real', 41909), ('code', 41524), ('right', 41451), ('able', 40526), ('function', 40348), ('things', 39936), ('user', 39838), ('research', 38957), ('systems', 38623), ('algorithms', 38461), ('analysis', 37754), ('years', 37237), ('look', 36985), ('experience', 36802), ('important', 36380), ('understand', 36324), ('going', 36212), ('users', 35842), ('team', 35447), ('results', 34897), ('customer', 34499), ('big', 34308), ('features', 34178), ('project', 33848), ('build', 33336), ('product', 33317), ('start', 33257), ('algorithm', 33226), ('company', 32969), ('lot', 32421), ('making', 32321), ('case', 31952), ('language', 31913), ('high', 31819), ('read', 31623), ('point', 31507), ('networks', 31447), ('software', 31321), ('day', 31044), ('end', 30805), ('python', 30691), ('humans', 30662), ('let’s', 30491), ('simple', 30369), ('images', 30295), ('level', 30287), ('dataset', 29735), ('possible', 29589)]\n"
     ]
    }
   ],
   "source": [
    "print(word_counter.most_common(100))"
   ]
  },
  {
   "cell_type": "markdown",
   "metadata": {},
   "source": [
    "### Remove Stopwords and Stem"
   ]
  },
  {
   "cell_type": "code",
   "execution_count": 144,
   "metadata": {},
   "outputs": [],
   "source": [
    "# Need custom stopword list to remove extremely common words and uninformative words\n",
    "# List is based on word counter\n",
    "\n",
    "stop_list = STOPWORDS.union(set(['data', 'ai', 'learning', 'time', 'machine', 'like', 'use', 'new', 'intelligence', 'need', \"it's\", 'way',\n",
    "                                 'artificial', 'based', 'want', 'know', 'learn', \"don't\", 'things', 'lot', \"let's\", 'model', 'input',\n",
    "                                 'output', 'train', 'training', 'trained', 'it', 'we', 'don', 'you', 'ce', 'hasn', 'sa', 'do', 'som',\n",
    "                                 'can']))"
   ]
  },
  {
   "cell_type": "code",
   "execution_count": 12,
   "metadata": {},
   "outputs": [],
   "source": [
    "# Remove stopwords before stemming\n",
    "def remove_stopwords(text):\n",
    "    clean_text = []\n",
    "    for word in text.split(' '):\n",
    "        if word not in stop_list and (len(word) > 2):\n",
    "            clean_text.append(word)\n",
    "    return ' '.join(clean_text)\n",
    "\n",
    "# medium['processedText'] = medium['text'].apply(remove_stopwords)"
   ]
  },
  {
   "cell_type": "code",
   "execution_count": 15,
   "metadata": {},
   "outputs": [],
   "source": [
    "# Apply stemmer to processedText\n",
    "stemmer = PorterStemmer()\n",
    "\n",
    "def stem_text(text):\n",
    "    word_list = []\n",
    "    for word in text.split(' '):\n",
    "        word_list.append(stemmer.stem(word))\n",
    "    return ' '.join(word_list)\n",
    "\n",
    "# medium['processedText'] = medium['processedText'].apply(stem_text)"
   ]
  },
  {
   "cell_type": "code",
   "execution_count": 16,
   "metadata": {},
   "outputs": [],
   "source": [
    "# Text processing takes a long time so lets save this to a csv file.\n",
    "# Only include title and processed text. Can merge later if needed.\n",
    "\n",
    "# medium[['title', 'processedText']].to_csv('processed_text.csv')"
   ]
  },
  {
   "cell_type": "code",
   "execution_count": null,
   "metadata": {},
   "outputs": [],
   "source": [
    "processed_text = pd.read_csv('processed_text.csv')\n",
    "medium.merge(processed_text, on = 'title')"
   ]
  },
  {
   "cell_type": "markdown",
   "metadata": {},
   "source": [
    "### LSA with Count-Vectorizer"
   ]
  },
  {
   "cell_type": "code",
   "execution_count": 39,
   "metadata": {},
   "outputs": [
    {
     "name": "stderr",
     "output_type": "stream",
     "text": [
      "/Users/alex/anaconda3/lib/python3.7/site-packages/sklearn/feature_extraction/text.py:286: UserWarning: Your stop_words may be inconsistent with your preprocessing. Tokenizing the stop words generated tokens ['let'] not in stop_words.\n",
      "  sorted(inconsistent))\n"
     ]
    },
    {
     "data": {
      "text/plain": [
       "(64417, 204391)"
      ]
     },
     "execution_count": 39,
     "metadata": {},
     "output_type": "execute_result"
    }
   ],
   "source": [
    "vectorizer = CountVectorizer(stop_words = stop_list, ngram_range = (1,1))\n",
    "doc_word = vectorizer.fit_transform(medium['processedText'])\n",
    "doc_word.shape"
   ]
  },
  {
   "cell_type": "code",
   "execution_count": 40,
   "metadata": {},
   "outputs": [
    {
     "data": {
      "text/plain": [
       "0.16987495189526358"
      ]
     },
     "execution_count": 40,
     "metadata": {},
     "output_type": "execute_result"
    }
   ],
   "source": [
    "lsa = TruncatedSVD(10)\n",
    "doc_topic = lsa.fit_transform(doc_word)\n",
    "sum(lsa.explained_variance_ratio_)"
   ]
  },
  {
   "cell_type": "code",
   "execution_count": 41,
   "metadata": {},
   "outputs": [],
   "source": [
    "def display_topics(model, feature_names, no_top_words, no_top_topics, topic_names=None):\n",
    "    count = 0\n",
    "    for ix, topic in enumerate(model.components_):\n",
    "        if count == no_top_topics:\n",
    "            break\n",
    "        if not topic_names or not topic_names[ix]:\n",
    "            print(\"\\nTopic \", (ix + 1))\n",
    "        else:\n",
    "            print(\"\\nTopic: '\",topic_names[ix],\"'\")\n",
    "        print(\", \".join([feature_names[i]\n",
    "                        for i in topic.argsort()[:-no_top_words - 1:-1]]))\n",
    "        count += 1"
   ]
  },
  {
   "cell_type": "code",
   "execution_count": 42,
   "metadata": {},
   "outputs": [
    {
     "name": "stdout",
     "output_type": "stream",
     "text": [
      "\n",
      "Topic  1\n",
      "work, human, technolog, network, imag, differ, process, valu, gener, creat, peopl, develop, exampl, user, algorithm\n",
      "\n",
      "Topic  2\n",
      "imag, network, layer, function, neural, featur, valu, set, dataset, word, predict, number, deep, weight, vector\n",
      "\n",
      "Topic  3\n",
      "human, network, imag, neural, deep, robot, layer, think, technolog, world, univers, brain, gener, machin, peopl\n",
      "\n",
      "Topic  4\n",
      "imag, network, user, custom, neural, layer, servic, busi, deep, product, compani, chatbot, market, develop, platform\n",
      "\n",
      "Topic  5\n",
      "word, user, imag, post, read, text, articl, languag, think, python, code, recommend, scienc, peopl, work\n"
     ]
    }
   ],
   "source": [
    "display_topics(lsa, vectorizer.get_feature_names(), 15, 5)"
   ]
  },
  {
   "cell_type": "code",
   "execution_count": 43,
   "metadata": {},
   "outputs": [
    {
     "data": {
      "image/png": "[encoded data removed]",
      "text/plain": [
       "<Figure size 432x288 with 1 Axes>"
      ]
     },
     "metadata": {
      "needs_background": "light"
     },
     "output_type": "display_data"
    }
   ],
   "source": [
    "# Make scree plot to find \"elbow\" in the curve\n",
    "def scree_plot(model):\n",
    "    sns.scatterplot(range(1,len(model.singular_values_) + 1), model.singular_values_)\n",
    "    sns.lineplot(range(1, len(model.singular_values_) + 1), model.singular_values_)\n",
    "    plt.ylabel('Singular Values')\n",
    "    plt.xlabel('Components')\n",
    "    plt.title('Scree Plot');\n",
    "\n",
    "scree_plot(lsa)"
   ]
  },
  {
   "cell_type": "code",
   "execution_count": 44,
   "metadata": {},
   "outputs": [],
   "source": [
    "column_names = ['title', 'topic1', 'topic2', 'topic3', 'topic4', 'topic5', 'topic6', 'topic7', 'topic8', 'topic9', 'topic10']\n",
    "doc_topic_df = pd.DataFrame(data = doc_topic)\n",
    "doc_topic_df = pd.concat([medium['title'], doc_topic_df], axis = 1)\n",
    "doc_topic_df.columns = column_names\n",
    "doc_topic_df.to_csv('doc_topics/cv_lsa.csv')"
   ]
  },
  {
   "cell_type": "code",
   "execution_count": 45,
   "metadata": {},
   "outputs": [
    {
     "data": {
      "text/html": [
       "<div>\n",
       "<style scoped>\n",
       "    .dataframe tbody tr th:only-of-type {\n",
       "        vertical-align: middle;\n",
       "    }\n",
       "\n",
       "    .dataframe tbody tr th {\n",
       "        vertical-align: top;\n",
       "    }\n",
       "\n",
       "    .dataframe thead th {\n",
       "        text-align: right;\n",
       "    }\n",
       "</style>\n",
       "<table border=\"1\" class=\"dataframe\">\n",
       "  <thead>\n",
       "    <tr style=\"text-align: right;\">\n",
       "      <th></th>\n",
       "      <th>title</th>\n",
       "      <th>topic1</th>\n",
       "      <th>topic2</th>\n",
       "      <th>topic3</th>\n",
       "      <th>topic4</th>\n",
       "      <th>topic5</th>\n",
       "      <th>topic6</th>\n",
       "      <th>topic7</th>\n",
       "      <th>topic8</th>\n",
       "      <th>topic9</th>\n",
       "      <th>topic10</th>\n",
       "    </tr>\n",
       "  </thead>\n",
       "  <tbody>\n",
       "    <tr>\n",
       "      <th>0</th>\n",
       "      <td>Private Business, Government and Blockchain</td>\n",
       "      <td>2.832539</td>\n",
       "      <td>-1.951656</td>\n",
       "      <td>0.000391</td>\n",
       "      <td>0.589473</td>\n",
       "      <td>-1.637829</td>\n",
       "      <td>-0.162166</td>\n",
       "      <td>0.264776</td>\n",
       "      <td>0.537037</td>\n",
       "      <td>-0.911609</td>\n",
       "      <td>0.362432</td>\n",
       "    </tr>\n",
       "    <tr>\n",
       "      <th>1</th>\n",
       "      <td>EPQ draft 1 (4844 words)</td>\n",
       "      <td>52.485111</td>\n",
       "      <td>-28.927785</td>\n",
       "      <td>18.275392</td>\n",
       "      <td>-15.404712</td>\n",
       "      <td>-4.395032</td>\n",
       "      <td>-13.303169</td>\n",
       "      <td>0.398916</td>\n",
       "      <td>7.502483</td>\n",
       "      <td>-16.956658</td>\n",
       "      <td>-0.960371</td>\n",
       "    </tr>\n",
       "    <tr>\n",
       "      <th>2</th>\n",
       "      <td>Ascent of data Science, SAS and Big data Analy...</td>\n",
       "      <td>6.062477</td>\n",
       "      <td>-1.917943</td>\n",
       "      <td>-1.836766</td>\n",
       "      <td>0.030939</td>\n",
       "      <td>-0.289857</td>\n",
       "      <td>-1.888093</td>\n",
       "      <td>4.198456</td>\n",
       "      <td>-0.255921</td>\n",
       "      <td>0.521296</td>\n",
       "      <td>-2.021636</td>\n",
       "    </tr>\n",
       "    <tr>\n",
       "      <th>3</th>\n",
       "      <td>Can a robot love us better than another human ...</td>\n",
       "      <td>2.520721</td>\n",
       "      <td>-2.098237</td>\n",
       "      <td>3.195226</td>\n",
       "      <td>-1.762770</td>\n",
       "      <td>0.850919</td>\n",
       "      <td>0.296447</td>\n",
       "      <td>-2.378298</td>\n",
       "      <td>0.161632</td>\n",
       "      <td>1.216356</td>\n",
       "      <td>-0.842829</td>\n",
       "    </tr>\n",
       "    <tr>\n",
       "      <th>4</th>\n",
       "      <td>2017 Big Data, AI and IOT Use Cases</td>\n",
       "      <td>22.212373</td>\n",
       "      <td>-3.860623</td>\n",
       "      <td>0.025721</td>\n",
       "      <td>2.605350</td>\n",
       "      <td>-3.700272</td>\n",
       "      <td>-2.409332</td>\n",
       "      <td>3.362608</td>\n",
       "      <td>0.027383</td>\n",
       "      <td>-2.487108</td>\n",
       "      <td>-1.464364</td>\n",
       "    </tr>\n",
       "    <tr>\n",
       "      <th>5</th>\n",
       "      <td>Artificial Intelligence is the Next Frontier</td>\n",
       "      <td>6.111079</td>\n",
       "      <td>-4.196018</td>\n",
       "      <td>-2.413820</td>\n",
       "      <td>2.345992</td>\n",
       "      <td>-4.000895</td>\n",
       "      <td>-0.858618</td>\n",
       "      <td>0.415790</td>\n",
       "      <td>0.855190</td>\n",
       "      <td>-1.848082</td>\n",
       "      <td>-0.362796</td>\n",
       "    </tr>\n",
       "    <tr>\n",
       "      <th>6</th>\n",
       "      <td>Aidoc Gets CE Mark for Deep Learning Solution</td>\n",
       "      <td>6.272456</td>\n",
       "      <td>0.207639</td>\n",
       "      <td>1.189711</td>\n",
       "      <td>3.375014</td>\n",
       "      <td>-0.587351</td>\n",
       "      <td>-3.534856</td>\n",
       "      <td>-1.300702</td>\n",
       "      <td>2.297198</td>\n",
       "      <td>0.138787</td>\n",
       "      <td>-1.052710</td>\n",
       "    </tr>\n",
       "    <tr>\n",
       "      <th>7</th>\n",
       "      <td>Ai and it’s impact on the world</td>\n",
       "      <td>2.381105</td>\n",
       "      <td>-1.290166</td>\n",
       "      <td>1.987520</td>\n",
       "      <td>-1.555113</td>\n",
       "      <td>0.410389</td>\n",
       "      <td>-0.079643</td>\n",
       "      <td>-0.906423</td>\n",
       "      <td>0.154594</td>\n",
       "      <td>0.327475</td>\n",
       "      <td>-0.850395</td>\n",
       "    </tr>\n",
       "    <tr>\n",
       "      <th>8</th>\n",
       "      <td>The Meta Model and Meta Meta-Model of Deep Lea...</td>\n",
       "      <td>16.788840</td>\n",
       "      <td>10.250712</td>\n",
       "      <td>11.172268</td>\n",
       "      <td>4.783181</td>\n",
       "      <td>-2.767895</td>\n",
       "      <td>6.844751</td>\n",
       "      <td>5.511717</td>\n",
       "      <td>-7.371296</td>\n",
       "      <td>1.532328</td>\n",
       "      <td>-1.021208</td>\n",
       "    </tr>\n",
       "    <tr>\n",
       "      <th>9</th>\n",
       "      <td>Top 10 Tips for the Data Science Team To Succeed</td>\n",
       "      <td>8.706918</td>\n",
       "      <td>-2.747284</td>\n",
       "      <td>-1.896228</td>\n",
       "      <td>-0.447831</td>\n",
       "      <td>0.958910</td>\n",
       "      <td>-2.873613</td>\n",
       "      <td>4.798915</td>\n",
       "      <td>-2.095712</td>\n",
       "      <td>-1.600559</td>\n",
       "      <td>-1.836608</td>\n",
       "    </tr>\n",
       "  </tbody>\n",
       "</table>\n",
       "</div>"
      ],
      "text/plain": [
       "                                               title     topic1     topic2  \\\n",
       "0        Private Business, Government and Blockchain   2.832539  -1.951656   \n",
       "1                           EPQ draft 1 (4844 words)  52.485111 -28.927785   \n",
       "2  Ascent of data Science, SAS and Big data Analy...   6.062477  -1.917943   \n",
       "3  Can a robot love us better than another human ...   2.520721  -2.098237   \n",
       "4                2017 Big Data, AI and IOT Use Cases  22.212373  -3.860623   \n",
       "5       Artificial Intelligence is the Next Frontier   6.111079  -4.196018   \n",
       "6      Aidoc Gets CE Mark for Deep Learning Solution   6.272456   0.207639   \n",
       "7                    Ai and it’s impact on the world   2.381105  -1.290166   \n",
       "8  The Meta Model and Meta Meta-Model of Deep Lea...  16.788840  10.250712   \n",
       "9   Top 10 Tips for the Data Science Team To Succeed   8.706918  -2.747284   \n",
       "\n",
       "      topic3     topic4    topic5     topic6    topic7    topic8     topic9  \\\n",
       "0   0.000391   0.589473 -1.637829  -0.162166  0.264776  0.537037  -0.911609   \n",
       "1  18.275392 -15.404712 -4.395032 -13.303169  0.398916  7.502483 -16.956658   \n",
       "2  -1.836766   0.030939 -0.289857  -1.888093  4.198456 -0.255921   0.521296   \n",
       "3   3.195226  -1.762770  0.850919   0.296447 -2.378298  0.161632   1.216356   \n",
       "4   0.025721   2.605350 -3.700272  -2.409332  3.362608  0.027383  -2.487108   \n",
       "5  -2.413820   2.345992 -4.000895  -0.858618  0.415790  0.855190  -1.848082   \n",
       "6   1.189711   3.375014 -0.587351  -3.534856 -1.300702  2.297198   0.138787   \n",
       "7   1.987520  -1.555113  0.410389  -0.079643 -0.906423  0.154594   0.327475   \n",
       "8  11.172268   4.783181 -2.767895   6.844751  5.511717 -7.371296   1.532328   \n",
       "9  -1.896228  -0.447831  0.958910  -2.873613  4.798915 -2.095712  -1.600559   \n",
       "\n",
       "    topic10  \n",
       "0  0.362432  \n",
       "1 -0.960371  \n",
       "2 -2.021636  \n",
       "3 -0.842829  \n",
       "4 -1.464364  \n",
       "5 -0.362796  \n",
       "6 -1.052710  \n",
       "7 -0.850395  \n",
       "8 -1.021208  \n",
       "9 -1.836608  "
      ]
     },
     "execution_count": 45,
     "metadata": {},
     "output_type": "execute_result"
    }
   ],
   "source": [
    "doc_topic_df.head(10)"
   ]
  },
  {
   "cell_type": "markdown",
   "metadata": {},
   "source": [
    "### LSA topic modeling with TF-IDF"
   ]
  },
  {
   "cell_type": "code",
   "execution_count": 32,
   "metadata": {},
   "outputs": [
    {
     "name": "stderr",
     "output_type": "stream",
     "text": [
      "/Users/alex/anaconda3/lib/python3.7/site-packages/sklearn/feature_extraction/text.py:286: UserWarning: Your stop_words may be inconsistent with your preprocessing. Tokenizing the stop words generated tokens ['let'] not in stop_words.\n",
      "  sorted(inconsistent))\n"
     ]
    },
    {
     "data": {
      "text/plain": [
       "(64417, 204391)"
      ]
     },
     "execution_count": 32,
     "metadata": {},
     "output_type": "execute_result"
    }
   ],
   "source": [
    "# Now use TF-IDF on stemmed words\n",
    "vectorizer = TfidfVectorizer(stop_words = stop_list, ngram_range = (1,1))\n",
    "doc_word = vectorizer.fit_transform(medium['processedText'])\n",
    "doc_word.shape"
   ]
  },
  {
   "cell_type": "code",
   "execution_count": 33,
   "metadata": {},
   "outputs": [
    {
     "data": {
      "text/plain": [
       "0.054381459919353496"
      ]
     },
     "execution_count": 33,
     "metadata": {},
     "output_type": "execute_result"
    }
   ],
   "source": [
    "lsa = TruncatedSVD(10)\n",
    "doc_topic = lsa.fit_transform(doc_word)\n",
    "sum(lsa.explained_variance_ratio_)"
   ]
  },
  {
   "cell_type": "code",
   "execution_count": 34,
   "metadata": {},
   "outputs": [
    {
     "name": "stdout",
     "output_type": "stream",
     "text": [
      "\n",
      "Topic  1\n",
      "human, technolog, busi, custom, work, compani, network, user, peopl, algorithm, product, develop, process, imag, predict\n",
      "\n",
      "Topic  2\n",
      "imag, network, layer, neural, function, dataset, featur, valu, deep, regress, variabl, predict, weight, python, code\n",
      "\n",
      "Topic  3\n",
      "chatbot, custom, bot, user, convers, servic, app, busi, chat, messag, brand, featur, market, messeng, voic\n",
      "\n",
      "Topic  4\n",
      "human, chatbot, robot, network, imag, neural, bot, layer, brain, machin, deep, neuron, convers, voic, assist\n",
      "\n",
      "Topic  5\n",
      "network, imag, blockchain, layer, neural, market, technolog, deep, custom, drone, compani, iot, busi, convolut, servic\n"
     ]
    }
   ],
   "source": [
    "display_topics(lsa, vectorizer.get_feature_names(), 15, 5)"
   ]
  },
  {
   "cell_type": "code",
   "execution_count": 35,
   "metadata": {},
   "outputs": [
    {
     "data": {
      "image/png": "[encoded data removed]",
      "text/plain": [
       "<Figure size 432x288 with 1 Axes>"
      ]
     },
     "metadata": {
      "needs_background": "light"
     },
     "output_type": "display_data"
    }
   ],
   "source": [
    "scree_plot(lsa)"
   ]
  },
  {
   "cell_type": "code",
   "execution_count": 36,
   "metadata": {},
   "outputs": [],
   "source": [
    "column_names = ['title', 'topic1', 'topic2', 'topic3', 'topic4', 'topic5', 'topic6', 'topic7', 'topic8', 'topic9', 'topic10']\n",
    "doc_topic_df = pd.DataFrame(data = doc_topic)\n",
    "doc_topic_df = pd.concat([medium['title'], doc_topic_df], axis = 1)\n",
    "doc_topic_df.columns = column_names\n",
    "doc_topic_df.to_csv('doc_topics/tfidf_lsa.csv')"
   ]
  },
  {
   "cell_type": "code",
   "execution_count": 38,
   "metadata": {},
   "outputs": [
    {
     "data": {
      "text/html": [
       "<div>\n",
       "<style scoped>\n",
       "    .dataframe tbody tr th:only-of-type {\n",
       "        vertical-align: middle;\n",
       "    }\n",
       "\n",
       "    .dataframe tbody tr th {\n",
       "        vertical-align: top;\n",
       "    }\n",
       "\n",
       "    .dataframe thead th {\n",
       "        text-align: right;\n",
       "    }\n",
       "</style>\n",
       "<table border=\"1\" class=\"dataframe\">\n",
       "  <thead>\n",
       "    <tr style=\"text-align: right;\">\n",
       "      <th></th>\n",
       "      <th>title</th>\n",
       "      <th>topic1</th>\n",
       "      <th>topic2</th>\n",
       "      <th>topic3</th>\n",
       "      <th>topic4</th>\n",
       "      <th>topic5</th>\n",
       "      <th>topic6</th>\n",
       "      <th>topic7</th>\n",
       "      <th>topic8</th>\n",
       "      <th>topic9</th>\n",
       "      <th>topic10</th>\n",
       "    </tr>\n",
       "  </thead>\n",
       "  <tbody>\n",
       "    <tr>\n",
       "      <th>0</th>\n",
       "      <td>Private Business, Government and Blockchain</td>\n",
       "      <td>0.187290</td>\n",
       "      <td>-0.098567</td>\n",
       "      <td>-0.043601</td>\n",
       "      <td>-0.051716</td>\n",
       "      <td>0.153232</td>\n",
       "      <td>0.026955</td>\n",
       "      <td>-0.039050</td>\n",
       "      <td>0.205851</td>\n",
       "      <td>0.008528</td>\n",
       "      <td>0.035324</td>\n",
       "    </tr>\n",
       "    <tr>\n",
       "      <th>1</th>\n",
       "      <td>EPQ draft 1 (4844 words)</td>\n",
       "      <td>0.313964</td>\n",
       "      <td>-0.103073</td>\n",
       "      <td>-0.188857</td>\n",
       "      <td>0.060603</td>\n",
       "      <td>-0.070781</td>\n",
       "      <td>0.077871</td>\n",
       "      <td>0.044592</td>\n",
       "      <td>0.018216</td>\n",
       "      <td>0.121085</td>\n",
       "      <td>-0.029210</td>\n",
       "    </tr>\n",
       "    <tr>\n",
       "      <th>2</th>\n",
       "      <td>Ascent of data Science, SAS and Big data Analy...</td>\n",
       "      <td>0.196178</td>\n",
       "      <td>-0.016077</td>\n",
       "      <td>-0.029103</td>\n",
       "      <td>-0.148684</td>\n",
       "      <td>-0.039422</td>\n",
       "      <td>-0.020882</td>\n",
       "      <td>0.122059</td>\n",
       "      <td>-0.025285</td>\n",
       "      <td>-0.022949</td>\n",
       "      <td>0.016616</td>\n",
       "    </tr>\n",
       "    <tr>\n",
       "      <th>3</th>\n",
       "      <td>Can a robot love us better than another human ...</td>\n",
       "      <td>0.139055</td>\n",
       "      <td>-0.068256</td>\n",
       "      <td>-0.126953</td>\n",
       "      <td>0.184118</td>\n",
       "      <td>-0.098802</td>\n",
       "      <td>0.040329</td>\n",
       "      <td>-0.009721</td>\n",
       "      <td>-0.037270</td>\n",
       "      <td>0.111557</td>\n",
       "      <td>-0.093627</td>\n",
       "    </tr>\n",
       "    <tr>\n",
       "      <th>4</th>\n",
       "      <td>2017 Big Data, AI and IOT Use Cases</td>\n",
       "      <td>0.313220</td>\n",
       "      <td>-0.005794</td>\n",
       "      <td>-0.041812</td>\n",
       "      <td>-0.034393</td>\n",
       "      <td>0.061201</td>\n",
       "      <td>0.013493</td>\n",
       "      <td>-0.008191</td>\n",
       "      <td>0.023023</td>\n",
       "      <td>-0.023669</td>\n",
       "      <td>0.038935</td>\n",
       "    </tr>\n",
       "    <tr>\n",
       "      <th>5</th>\n",
       "      <td>Artificial Intelligence is the Next Frontier</td>\n",
       "      <td>0.232383</td>\n",
       "      <td>-0.126522</td>\n",
       "      <td>-0.003847</td>\n",
       "      <td>-0.115525</td>\n",
       "      <td>0.123267</td>\n",
       "      <td>0.063223</td>\n",
       "      <td>0.037285</td>\n",
       "      <td>-0.011855</td>\n",
       "      <td>0.009013</td>\n",
       "      <td>-0.007721</td>\n",
       "    </tr>\n",
       "    <tr>\n",
       "      <th>6</th>\n",
       "      <td>Aidoc Gets CE Mark for Deep Learning Solution</td>\n",
       "      <td>0.098779</td>\n",
       "      <td>0.008917</td>\n",
       "      <td>-0.014479</td>\n",
       "      <td>0.008928</td>\n",
       "      <td>0.056772</td>\n",
       "      <td>-0.005956</td>\n",
       "      <td>0.004986</td>\n",
       "      <td>-0.026076</td>\n",
       "      <td>0.047571</td>\n",
       "      <td>0.088992</td>\n",
       "    </tr>\n",
       "    <tr>\n",
       "      <th>7</th>\n",
       "      <td>Ai and it’s impact on the world</td>\n",
       "      <td>0.156800</td>\n",
       "      <td>-0.040497</td>\n",
       "      <td>-0.116151</td>\n",
       "      <td>0.097239</td>\n",
       "      <td>-0.101091</td>\n",
       "      <td>0.038575</td>\n",
       "      <td>0.033033</td>\n",
       "      <td>-0.032703</td>\n",
       "      <td>0.055240</td>\n",
       "      <td>-0.039719</td>\n",
       "    </tr>\n",
       "    <tr>\n",
       "      <th>8</th>\n",
       "      <td>The Meta Model and Meta Meta-Model of Deep Lea...</td>\n",
       "      <td>0.142145</td>\n",
       "      <td>0.134330</td>\n",
       "      <td>-0.008229</td>\n",
       "      <td>0.082786</td>\n",
       "      <td>0.057417</td>\n",
       "      <td>-0.035461</td>\n",
       "      <td>0.087441</td>\n",
       "      <td>0.017726</td>\n",
       "      <td>-0.048833</td>\n",
       "      <td>-0.050443</td>\n",
       "    </tr>\n",
       "    <tr>\n",
       "      <th>9</th>\n",
       "      <td>Top 10 Tips for the Data Science Team To Succeed</td>\n",
       "      <td>0.286595</td>\n",
       "      <td>-0.017864</td>\n",
       "      <td>-0.041603</td>\n",
       "      <td>-0.158152</td>\n",
       "      <td>-0.074879</td>\n",
       "      <td>-0.082733</td>\n",
       "      <td>0.087463</td>\n",
       "      <td>0.018845</td>\n",
       "      <td>-0.010851</td>\n",
       "      <td>0.032296</td>\n",
       "    </tr>\n",
       "  </tbody>\n",
       "</table>\n",
       "</div>"
      ],
      "text/plain": [
       "                                               title    topic1    topic2  \\\n",
       "0        Private Business, Government and Blockchain  0.187290 -0.098567   \n",
       "1                           EPQ draft 1 (4844 words)  0.313964 -0.103073   \n",
       "2  Ascent of data Science, SAS and Big data Analy...  0.196178 -0.016077   \n",
       "3  Can a robot love us better than another human ...  0.139055 -0.068256   \n",
       "4                2017 Big Data, AI and IOT Use Cases  0.313220 -0.005794   \n",
       "5       Artificial Intelligence is the Next Frontier  0.232383 -0.126522   \n",
       "6      Aidoc Gets CE Mark for Deep Learning Solution  0.098779  0.008917   \n",
       "7                    Ai and it’s impact on the world  0.156800 -0.040497   \n",
       "8  The Meta Model and Meta Meta-Model of Deep Lea...  0.142145  0.134330   \n",
       "9   Top 10 Tips for the Data Science Team To Succeed  0.286595 -0.017864   \n",
       "\n",
       "     topic3    topic4    topic5    topic6    topic7    topic8    topic9  \\\n",
       "0 -0.043601 -0.051716  0.153232  0.026955 -0.039050  0.205851  0.008528   \n",
       "1 -0.188857  0.060603 -0.070781  0.077871  0.044592  0.018216  0.121085   \n",
       "2 -0.029103 -0.148684 -0.039422 -0.020882  0.122059 -0.025285 -0.022949   \n",
       "3 -0.126953  0.184118 -0.098802  0.040329 -0.009721 -0.037270  0.111557   \n",
       "4 -0.041812 -0.034393  0.061201  0.013493 -0.008191  0.023023 -0.023669   \n",
       "5 -0.003847 -0.115525  0.123267  0.063223  0.037285 -0.011855  0.009013   \n",
       "6 -0.014479  0.008928  0.056772 -0.005956  0.004986 -0.026076  0.047571   \n",
       "7 -0.116151  0.097239 -0.101091  0.038575  0.033033 -0.032703  0.055240   \n",
       "8 -0.008229  0.082786  0.057417 -0.035461  0.087441  0.017726 -0.048833   \n",
       "9 -0.041603 -0.158152 -0.074879 -0.082733  0.087463  0.018845 -0.010851   \n",
       "\n",
       "    topic10  \n",
       "0  0.035324  \n",
       "1 -0.029210  \n",
       "2  0.016616  \n",
       "3 -0.093627  \n",
       "4  0.038935  \n",
       "5 -0.007721  \n",
       "6  0.088992  \n",
       "7 -0.039719  \n",
       "8 -0.050443  \n",
       "9  0.032296  "
      ]
     },
     "execution_count": 38,
     "metadata": {},
     "output_type": "execute_result"
    }
   ],
   "source": [
    "doc_topic_df.head(10)"
   ]
  },
  {
   "cell_type": "markdown",
   "metadata": {},
   "source": [
    "### NMF with Count-Vectorizer"
   ]
  },
  {
   "cell_type": "code",
   "execution_count": 77,
   "metadata": {},
   "outputs": [
    {
     "name": "stderr",
     "output_type": "stream",
     "text": [
      "/Users/alex/anaconda3/lib/python3.7/site-packages/sklearn/feature_extraction/text.py:286: UserWarning: Your stop_words may be inconsistent with your preprocessing. Tokenizing the stop words generated tokens ['let'] not in stop_words.\n",
      "  sorted(inconsistent))\n"
     ]
    },
    {
     "data": {
      "text/plain": [
       "(64417, 204391)"
      ]
     },
     "execution_count": 77,
     "metadata": {},
     "output_type": "execute_result"
    }
   ],
   "source": [
    "vectorizer = CountVectorizer(stop_words = stop_list, ngram_range = (1,1))\n",
    "doc_word = vectorizer.fit_transform(medium['processedText'])\n",
    "doc_word.shape"
   ]
  },
  {
   "cell_type": "code",
   "execution_count": 78,
   "metadata": {},
   "outputs": [],
   "source": [
    "nmf = NMF(10)\n",
    "doc_topic = nmf.fit_transform(doc_word)"
   ]
  },
  {
   "cell_type": "code",
   "execution_count": 79,
   "metadata": {},
   "outputs": [
    {
     "name": "stdout",
     "output_type": "stream",
     "text": [
      "\n",
      "Topic  1\n",
      "technolog, compani, busi, market, custom, develop, product, servic, process, industri, provid, manag, platform, help, year\n",
      "\n",
      "Topic  2\n",
      "valu, predict, function, featur, set, variabl, test, number, mean, algorithm, exampl, differ, result, dataset, point\n",
      "\n",
      "Topic  3\n",
      "human, robot, technolog, think, peopl, world, futur, machin, life, brain, autom, gener, work, job, understand\n",
      "\n",
      "Topic  4\n",
      "user, chatbot, custom, bot, voic, convers, product, recommend, app, design, experi, interact, servic, assist, person\n",
      "\n",
      "Topic  5\n",
      "imag, detect, gener, object, featur, dataset, layer, post, convolut, label, result, face, creat, pixel, class\n",
      "\n",
      "Topic  6\n",
      "network, neural, layer, deep, function, convolut, weight, neuron, paper, gener, activ, architectur, comput, gradient, connect\n",
      "\n",
      "Topic  7\n",
      "work, peopl, think, scienc, start, look, project, build, good, code, creat, scientist, problem, read, cours\n",
      "\n",
      "Topic  8\n",
      "word, text, vector, languag, sentenc, document, embed, process, gener, similar, exampl, context, sentiment, translat, represent\n",
      "\n",
      "Topic  9\n",
      "game, chess, play, deep, algorithm, player, program, state, posit, comput, blue, search, agent, action, evalu\n",
      "\n",
      "Topic  10\n",
      "univers, scienc, technolog, introduct, institut, research, state, cours, universidad, school, develop, econom, program, health, nation\n"
     ]
    }
   ],
   "source": [
    "display_topics(nmf, vectorizer.get_feature_names(), 15, 10)"
   ]
  },
  {
   "cell_type": "code",
   "execution_count": 80,
   "metadata": {},
   "outputs": [],
   "source": [
    "# Not as sure how to interpret NMF results. Discuss with Jonathan or Kelly.\n",
    "# Are there equivalents to explained variance, singular value, scree plots."
   ]
  },
  {
   "cell_type": "code",
   "execution_count": 81,
   "metadata": {},
   "outputs": [
    {
     "data": {
      "text/html": [
       "<div>\n",
       "<style scoped>\n",
       "    .dataframe tbody tr th:only-of-type {\n",
       "        vertical-align: middle;\n",
       "    }\n",
       "\n",
       "    .dataframe tbody tr th {\n",
       "        vertical-align: top;\n",
       "    }\n",
       "\n",
       "    .dataframe thead th {\n",
       "        text-align: right;\n",
       "    }\n",
       "</style>\n",
       "<table border=\"1\" class=\"dataframe\">\n",
       "  <thead>\n",
       "    <tr style=\"text-align: right;\">\n",
       "      <th></th>\n",
       "      <th>title</th>\n",
       "      <th>topic1</th>\n",
       "      <th>topic2</th>\n",
       "      <th>topic3</th>\n",
       "      <th>topic4</th>\n",
       "      <th>topic5</th>\n",
       "      <th>topic6</th>\n",
       "      <th>topic7</th>\n",
       "      <th>topic8</th>\n",
       "      <th>topic9</th>\n",
       "      <th>topic10</th>\n",
       "    </tr>\n",
       "  </thead>\n",
       "  <tbody>\n",
       "    <tr>\n",
       "      <th>0</th>\n",
       "      <td>Private Business, Government and Blockchain</td>\n",
       "      <td>0.062459</td>\n",
       "      <td>0.000260</td>\n",
       "      <td>0.013721</td>\n",
       "      <td>0.00000</td>\n",
       "      <td>0.000000</td>\n",
       "      <td>0.000000</td>\n",
       "      <td>0.001283</td>\n",
       "      <td>0.000000</td>\n",
       "      <td>0.006732</td>\n",
       "      <td>0.006632</td>\n",
       "    </tr>\n",
       "    <tr>\n",
       "      <th>1</th>\n",
       "      <td>EPQ draft 1 (4844 words)</td>\n",
       "      <td>0.321021</td>\n",
       "      <td>0.000000</td>\n",
       "      <td>0.782720</td>\n",
       "      <td>0.00000</td>\n",
       "      <td>0.000000</td>\n",
       "      <td>0.007039</td>\n",
       "      <td>0.605241</td>\n",
       "      <td>0.000000</td>\n",
       "      <td>0.000000</td>\n",
       "      <td>0.177057</td>\n",
       "    </tr>\n",
       "    <tr>\n",
       "      <th>2</th>\n",
       "      <td>Ascent of data Science, SAS and Big data Analy...</td>\n",
       "      <td>0.068915</td>\n",
       "      <td>0.008067</td>\n",
       "      <td>0.000000</td>\n",
       "      <td>0.00000</td>\n",
       "      <td>0.000000</td>\n",
       "      <td>0.000000</td>\n",
       "      <td>0.085487</td>\n",
       "      <td>0.000000</td>\n",
       "      <td>0.049179</td>\n",
       "      <td>0.034239</td>\n",
       "    </tr>\n",
       "    <tr>\n",
       "      <th>3</th>\n",
       "      <td>Can a robot love us better than another human ...</td>\n",
       "      <td>0.000000</td>\n",
       "      <td>0.000000</td>\n",
       "      <td>0.126255</td>\n",
       "      <td>0.00000</td>\n",
       "      <td>0.000000</td>\n",
       "      <td>0.000000</td>\n",
       "      <td>0.000000</td>\n",
       "      <td>0.000000</td>\n",
       "      <td>0.000000</td>\n",
       "      <td>0.000000</td>\n",
       "    </tr>\n",
       "    <tr>\n",
       "      <th>4</th>\n",
       "      <td>2017 Big Data, AI and IOT Use Cases</td>\n",
       "      <td>0.251619</td>\n",
       "      <td>0.095842</td>\n",
       "      <td>0.044172</td>\n",
       "      <td>0.00004</td>\n",
       "      <td>0.036651</td>\n",
       "      <td>0.102235</td>\n",
       "      <td>0.162619</td>\n",
       "      <td>0.000000</td>\n",
       "      <td>0.049850</td>\n",
       "      <td>0.023556</td>\n",
       "    </tr>\n",
       "    <tr>\n",
       "      <th>5</th>\n",
       "      <td>Artificial Intelligence is the Next Frontier</td>\n",
       "      <td>0.168745</td>\n",
       "      <td>0.011476</td>\n",
       "      <td>0.000000</td>\n",
       "      <td>0.00000</td>\n",
       "      <td>0.000000</td>\n",
       "      <td>0.000000</td>\n",
       "      <td>0.000000</td>\n",
       "      <td>0.000000</td>\n",
       "      <td>0.000000</td>\n",
       "      <td>0.000000</td>\n",
       "    </tr>\n",
       "    <tr>\n",
       "      <th>6</th>\n",
       "      <td>Aidoc Gets CE Mark for Deep Learning Solution</td>\n",
       "      <td>0.084031</td>\n",
       "      <td>0.004320</td>\n",
       "      <td>0.011945</td>\n",
       "      <td>0.00000</td>\n",
       "      <td>0.140413</td>\n",
       "      <td>0.001937</td>\n",
       "      <td>0.000000</td>\n",
       "      <td>0.000000</td>\n",
       "      <td>0.031701</td>\n",
       "      <td>0.006260</td>\n",
       "    </tr>\n",
       "    <tr>\n",
       "      <th>7</th>\n",
       "      <td>Ai and it’s impact on the world</td>\n",
       "      <td>0.000000</td>\n",
       "      <td>0.000000</td>\n",
       "      <td>0.078826</td>\n",
       "      <td>0.00000</td>\n",
       "      <td>0.000000</td>\n",
       "      <td>0.000000</td>\n",
       "      <td>0.010300</td>\n",
       "      <td>0.000000</td>\n",
       "      <td>0.007096</td>\n",
       "      <td>0.000000</td>\n",
       "    </tr>\n",
       "    <tr>\n",
       "      <th>8</th>\n",
       "      <td>The Meta Model and Meta Meta-Model of Deep Lea...</td>\n",
       "      <td>0.000000</td>\n",
       "      <td>0.041138</td>\n",
       "      <td>0.063516</td>\n",
       "      <td>0.00000</td>\n",
       "      <td>0.027880</td>\n",
       "      <td>0.465786</td>\n",
       "      <td>0.093710</td>\n",
       "      <td>0.051487</td>\n",
       "      <td>0.125027</td>\n",
       "      <td>0.000470</td>\n",
       "    </tr>\n",
       "    <tr>\n",
       "      <th>9</th>\n",
       "      <td>Top 10 Tips for the Data Science Team To Succeed</td>\n",
       "      <td>0.062023</td>\n",
       "      <td>0.006457</td>\n",
       "      <td>0.000000</td>\n",
       "      <td>0.00000</td>\n",
       "      <td>0.000000</td>\n",
       "      <td>0.000000</td>\n",
       "      <td>0.186137</td>\n",
       "      <td>0.000000</td>\n",
       "      <td>0.035690</td>\n",
       "      <td>0.012935</td>\n",
       "    </tr>\n",
       "  </tbody>\n",
       "</table>\n",
       "</div>"
      ],
      "text/plain": [
       "                                               title    topic1    topic2  \\\n",
       "0        Private Business, Government and Blockchain  0.062459  0.000260   \n",
       "1                           EPQ draft 1 (4844 words)  0.321021  0.000000   \n",
       "2  Ascent of data Science, SAS and Big data Analy...  0.068915  0.008067   \n",
       "3  Can a robot love us better than another human ...  0.000000  0.000000   \n",
       "4                2017 Big Data, AI and IOT Use Cases  0.251619  0.095842   \n",
       "5       Artificial Intelligence is the Next Frontier  0.168745  0.011476   \n",
       "6      Aidoc Gets CE Mark for Deep Learning Solution  0.084031  0.004320   \n",
       "7                    Ai and it’s impact on the world  0.000000  0.000000   \n",
       "8  The Meta Model and Meta Meta-Model of Deep Lea...  0.000000  0.041138   \n",
       "9   Top 10 Tips for the Data Science Team To Succeed  0.062023  0.006457   \n",
       "\n",
       "     topic3   topic4    topic5    topic6    topic7    topic8    topic9  \\\n",
       "0  0.013721  0.00000  0.000000  0.000000  0.001283  0.000000  0.006732   \n",
       "1  0.782720  0.00000  0.000000  0.007039  0.605241  0.000000  0.000000   \n",
       "2  0.000000  0.00000  0.000000  0.000000  0.085487  0.000000  0.049179   \n",
       "3  0.126255  0.00000  0.000000  0.000000  0.000000  0.000000  0.000000   \n",
       "4  0.044172  0.00004  0.036651  0.102235  0.162619  0.000000  0.049850   \n",
       "5  0.000000  0.00000  0.000000  0.000000  0.000000  0.000000  0.000000   \n",
       "6  0.011945  0.00000  0.140413  0.001937  0.000000  0.000000  0.031701   \n",
       "7  0.078826  0.00000  0.000000  0.000000  0.010300  0.000000  0.007096   \n",
       "8  0.063516  0.00000  0.027880  0.465786  0.093710  0.051487  0.125027   \n",
       "9  0.000000  0.00000  0.000000  0.000000  0.186137  0.000000  0.035690   \n",
       "\n",
       "    topic10  \n",
       "0  0.006632  \n",
       "1  0.177057  \n",
       "2  0.034239  \n",
       "3  0.000000  \n",
       "4  0.023556  \n",
       "5  0.000000  \n",
       "6  0.006260  \n",
       "7  0.000000  \n",
       "8  0.000470  \n",
       "9  0.012935  "
      ]
     },
     "execution_count": 81,
     "metadata": {},
     "output_type": "execute_result"
    }
   ],
   "source": [
    "column_names = ['title', 'topic1', 'topic2', 'topic3', 'topic4', 'topic5', 'topic6', 'topic7', 'topic8', 'topic9', 'topic10']\n",
    "doc_topic_df = pd.DataFrame(data = doc_topic)\n",
    "doc_topic_df = pd.concat([medium['title'], doc_topic_df], axis = 1)\n",
    "doc_topic_df.columns = column_names\n",
    "doc_topic_df.to_csv('doc_topics/cv_nmf.csv')\n",
    "doc_topic_df.head(10)"
   ]
  },
  {
   "cell_type": "code",
   "execution_count": 82,
   "metadata": {},
   "outputs": [
    {
     "data": {
      "text/plain": [
       "array([4762.19816817, 4517.33264229, 3838.88980911, 3254.30901673,\n",
       "       2473.37607657, 2675.67941191, 4918.62237783, 1943.25243947,\n",
       "       1859.85425667, 1065.36522629])"
      ]
     },
     "execution_count": 82,
     "metadata": {},
     "output_type": "execute_result"
    }
   ],
   "source": [
    "np.sum(doc_topic, axis = 0)"
   ]
  },
  {
   "cell_type": "markdown",
   "metadata": {},
   "source": [
    "### NMF with TF-IDF"
   ]
  },
  {
   "cell_type": "code",
   "execution_count": 71,
   "metadata": {},
   "outputs": [
    {
     "name": "stderr",
     "output_type": "stream",
     "text": [
      "/Users/alex/anaconda3/lib/python3.7/site-packages/sklearn/feature_extraction/text.py:286: UserWarning: Your stop_words may be inconsistent with your preprocessing. Tokenizing the stop words generated tokens ['let'] not in stop_words.\n",
      "  sorted(inconsistent))\n"
     ]
    },
    {
     "data": {
      "text/plain": [
       "(64417, 204391)"
      ]
     },
     "execution_count": 71,
     "metadata": {},
     "output_type": "execute_result"
    }
   ],
   "source": [
    "vectorizer = TfidfVectorizer(stop_words = stop_list, ngram_range = (1,1))\n",
    "doc_word = vectorizer.fit_transform(medium['processedText'])\n",
    "doc_word.shape"
   ]
  },
  {
   "cell_type": "code",
   "execution_count": 72,
   "metadata": {},
   "outputs": [],
   "source": [
    "nmf = NMF(10)\n",
    "doc_topic = nmf.fit_transform(doc_word)"
   ]
  },
  {
   "cell_type": "code",
   "execution_count": 73,
   "metadata": {},
   "outputs": [
    {
     "name": "stdout",
     "output_type": "stream",
     "text": [
      "\n",
      "Topic  1\n",
      "custom, busi, market, compani, product, servic, analyt, autom, technolog, process, sale, manag, digit, retail, industri\n",
      "\n",
      "Topic  2\n",
      "valu, predict, regress, variabl, featur, algorithm, function, linear, dataset, test, set, sampl, number, tree, distribut\n",
      "\n",
      "Topic  3\n",
      "chatbot, bot, custom, convers, user, chat, messeng, messag, servic, interact, answer, question, agent, human, languag\n",
      "\n",
      "Topic  4\n",
      "human, technolog, machin, peopl, think, world, brain, futur, algorithm, life, comput, live, game, work, understand\n",
      "\n",
      "Topic  5\n",
      "network, imag, neural, layer, deep, convolut, neuron, weight, cnn, function, gener, architectur, loss, detect, pixel\n",
      "\n",
      "Topic  6\n",
      "python, code, tensorflow, file, instal, librari, notebook, run, api, languag, creat, jupyt, packag, download, ml\n",
      "\n",
      "Topic  7\n",
      "scienc, scientist, skill, cours, work, job, team, project, statist, analyt, engin, program, student, research, peopl\n",
      "\n",
      "Topic  8\n",
      "blockchain, technolog, drone, token, secur, platform, iot, develop, decentr, industri, aero, compani, govern, transact, cryptocurr\n",
      "\n",
      "Topic  9\n",
      "robot, job, autom, human, rpa, worker, industri, technolog, task, futur, skill, work, autonom, replac, manufactur\n",
      "\n",
      "Topic  10\n",
      "voic, user, googl, app, assist, devic, amazon, alexa, search, home, design, convers, content, product, mobil\n"
     ]
    }
   ],
   "source": [
    "display_topics(nmf, vectorizer.get_feature_names(), 15, 10)"
   ]
  },
  {
   "cell_type": "code",
   "execution_count": 76,
   "metadata": {},
   "outputs": [
    {
     "data": {
      "text/html": [
       "<div>\n",
       "<style scoped>\n",
       "    .dataframe tbody tr th:only-of-type {\n",
       "        vertical-align: middle;\n",
       "    }\n",
       "\n",
       "    .dataframe tbody tr th {\n",
       "        vertical-align: top;\n",
       "    }\n",
       "\n",
       "    .dataframe thead th {\n",
       "        text-align: right;\n",
       "    }\n",
       "</style>\n",
       "<table border=\"1\" class=\"dataframe\">\n",
       "  <thead>\n",
       "    <tr style=\"text-align: right;\">\n",
       "      <th></th>\n",
       "      <th>title</th>\n",
       "      <th>topic1</th>\n",
       "      <th>topic2</th>\n",
       "      <th>topic3</th>\n",
       "      <th>topic4</th>\n",
       "      <th>topic5</th>\n",
       "      <th>topic6</th>\n",
       "      <th>topic7</th>\n",
       "      <th>topic8</th>\n",
       "      <th>topic9</th>\n",
       "      <th>topic10</th>\n",
       "    </tr>\n",
       "  </thead>\n",
       "  <tbody>\n",
       "    <tr>\n",
       "      <th>0</th>\n",
       "      <td>Private Business, Government and Blockchain</td>\n",
       "      <td>0.004819</td>\n",
       "      <td>0.001204</td>\n",
       "      <td>0.000845</td>\n",
       "      <td>0.001793</td>\n",
       "      <td>0.000000</td>\n",
       "      <td>0.000000</td>\n",
       "      <td>0.000000</td>\n",
       "      <td>0.083231</td>\n",
       "      <td>0.000000</td>\n",
       "      <td>0.000000</td>\n",
       "    </tr>\n",
       "    <tr>\n",
       "      <th>1</th>\n",
       "      <td>EPQ draft 1 (4844 words)</td>\n",
       "      <td>0.003480</td>\n",
       "      <td>0.005012</td>\n",
       "      <td>0.000000</td>\n",
       "      <td>0.022155</td>\n",
       "      <td>0.000000</td>\n",
       "      <td>0.000000</td>\n",
       "      <td>0.020868</td>\n",
       "      <td>0.012163</td>\n",
       "      <td>0.071295</td>\n",
       "      <td>0.000000</td>\n",
       "    </tr>\n",
       "    <tr>\n",
       "      <th>2</th>\n",
       "      <td>Ascent of data Science, SAS and Big data Analy...</td>\n",
       "      <td>0.017673</td>\n",
       "      <td>0.004790</td>\n",
       "      <td>0.000000</td>\n",
       "      <td>0.000000</td>\n",
       "      <td>0.000000</td>\n",
       "      <td>0.000000</td>\n",
       "      <td>0.044906</td>\n",
       "      <td>0.000000</td>\n",
       "      <td>0.000000</td>\n",
       "      <td>0.000000</td>\n",
       "    </tr>\n",
       "    <tr>\n",
       "      <th>3</th>\n",
       "      <td>Can a robot love us better than another human ...</td>\n",
       "      <td>0.000000</td>\n",
       "      <td>0.000000</td>\n",
       "      <td>0.000487</td>\n",
       "      <td>0.016526</td>\n",
       "      <td>0.000000</td>\n",
       "      <td>0.000000</td>\n",
       "      <td>0.000000</td>\n",
       "      <td>0.000000</td>\n",
       "      <td>0.073757</td>\n",
       "      <td>0.000000</td>\n",
       "    </tr>\n",
       "    <tr>\n",
       "      <th>4</th>\n",
       "      <td>2017 Big Data, AI and IOT Use Cases</td>\n",
       "      <td>0.015837</td>\n",
       "      <td>0.013591</td>\n",
       "      <td>0.000000</td>\n",
       "      <td>0.014589</td>\n",
       "      <td>0.010593</td>\n",
       "      <td>0.001604</td>\n",
       "      <td>0.012178</td>\n",
       "      <td>0.022953</td>\n",
       "      <td>0.000000</td>\n",
       "      <td>0.010642</td>\n",
       "    </tr>\n",
       "    <tr>\n",
       "      <th>5</th>\n",
       "      <td>Artificial Intelligence is the Next Frontier</td>\n",
       "      <td>0.043321</td>\n",
       "      <td>0.000726</td>\n",
       "      <td>0.000000</td>\n",
       "      <td>0.000089</td>\n",
       "      <td>0.000000</td>\n",
       "      <td>0.000000</td>\n",
       "      <td>0.002981</td>\n",
       "      <td>0.019101</td>\n",
       "      <td>0.001322</td>\n",
       "      <td>0.002265</td>\n",
       "    </tr>\n",
       "    <tr>\n",
       "      <th>6</th>\n",
       "      <td>Aidoc Gets CE Mark for Deep Learning Solution</td>\n",
       "      <td>0.005381</td>\n",
       "      <td>0.000436</td>\n",
       "      <td>0.000000</td>\n",
       "      <td>0.005135</td>\n",
       "      <td>0.010169</td>\n",
       "      <td>0.001365</td>\n",
       "      <td>0.000174</td>\n",
       "      <td>0.010860</td>\n",
       "      <td>0.000000</td>\n",
       "      <td>0.000410</td>\n",
       "    </tr>\n",
       "    <tr>\n",
       "      <th>7</th>\n",
       "      <td>Ai and it’s impact on the world</td>\n",
       "      <td>0.000000</td>\n",
       "      <td>0.000000</td>\n",
       "      <td>0.000000</td>\n",
       "      <td>0.033916</td>\n",
       "      <td>0.000000</td>\n",
       "      <td>0.001691</td>\n",
       "      <td>0.003299</td>\n",
       "      <td>0.000000</td>\n",
       "      <td>0.017494</td>\n",
       "      <td>0.000000</td>\n",
       "    </tr>\n",
       "    <tr>\n",
       "      <th>8</th>\n",
       "      <td>The Meta Model and Meta Meta-Model of Deep Lea...</td>\n",
       "      <td>0.000000</td>\n",
       "      <td>0.000498</td>\n",
       "      <td>0.000183</td>\n",
       "      <td>0.009124</td>\n",
       "      <td>0.035789</td>\n",
       "      <td>0.007136</td>\n",
       "      <td>0.003537</td>\n",
       "      <td>0.000000</td>\n",
       "      <td>0.000000</td>\n",
       "      <td>0.000000</td>\n",
       "    </tr>\n",
       "    <tr>\n",
       "      <th>9</th>\n",
       "      <td>Top 10 Tips for the Data Science Team To Succeed</td>\n",
       "      <td>0.010434</td>\n",
       "      <td>0.005993</td>\n",
       "      <td>0.000000</td>\n",
       "      <td>0.001112</td>\n",
       "      <td>0.000000</td>\n",
       "      <td>0.011483</td>\n",
       "      <td>0.060998</td>\n",
       "      <td>0.007653</td>\n",
       "      <td>0.000000</td>\n",
       "      <td>0.003369</td>\n",
       "    </tr>\n",
       "  </tbody>\n",
       "</table>\n",
       "</div>"
      ],
      "text/plain": [
       "                                               title    topic1    topic2  \\\n",
       "0        Private Business, Government and Blockchain  0.004819  0.001204   \n",
       "1                           EPQ draft 1 (4844 words)  0.003480  0.005012   \n",
       "2  Ascent of data Science, SAS and Big data Analy...  0.017673  0.004790   \n",
       "3  Can a robot love us better than another human ...  0.000000  0.000000   \n",
       "4                2017 Big Data, AI and IOT Use Cases  0.015837  0.013591   \n",
       "5       Artificial Intelligence is the Next Frontier  0.043321  0.000726   \n",
       "6      Aidoc Gets CE Mark for Deep Learning Solution  0.005381  0.000436   \n",
       "7                    Ai and it’s impact on the world  0.000000  0.000000   \n",
       "8  The Meta Model and Meta Meta-Model of Deep Lea...  0.000000  0.000498   \n",
       "9   Top 10 Tips for the Data Science Team To Succeed  0.010434  0.005993   \n",
       "\n",
       "     topic3    topic4    topic5    topic6    topic7    topic8    topic9  \\\n",
       "0  0.000845  0.001793  0.000000  0.000000  0.000000  0.083231  0.000000   \n",
       "1  0.000000  0.022155  0.000000  0.000000  0.020868  0.012163  0.071295   \n",
       "2  0.000000  0.000000  0.000000  0.000000  0.044906  0.000000  0.000000   \n",
       "3  0.000487  0.016526  0.000000  0.000000  0.000000  0.000000  0.073757   \n",
       "4  0.000000  0.014589  0.010593  0.001604  0.012178  0.022953  0.000000   \n",
       "5  0.000000  0.000089  0.000000  0.000000  0.002981  0.019101  0.001322   \n",
       "6  0.000000  0.005135  0.010169  0.001365  0.000174  0.010860  0.000000   \n",
       "7  0.000000  0.033916  0.000000  0.001691  0.003299  0.000000  0.017494   \n",
       "8  0.000183  0.009124  0.035789  0.007136  0.003537  0.000000  0.000000   \n",
       "9  0.000000  0.001112  0.000000  0.011483  0.060998  0.007653  0.000000   \n",
       "\n",
       "    topic10  \n",
       "0  0.000000  \n",
       "1  0.000000  \n",
       "2  0.000000  \n",
       "3  0.000000  \n",
       "4  0.010642  \n",
       "5  0.002265  \n",
       "6  0.000410  \n",
       "7  0.000000  \n",
       "8  0.000000  \n",
       "9  0.003369  "
      ]
     },
     "execution_count": 76,
     "metadata": {},
     "output_type": "execute_result"
    }
   ],
   "source": [
    "column_names = ['title', 'topic1', 'topic2', 'topic3', 'topic4', 'topic5', 'topic6', 'topic7', 'topic8', 'topic9', 'topic10']\n",
    "doc_topic_df = pd.DataFrame(data = doc_topic)\n",
    "doc_topic_df = pd.concat([medium['title'], doc_topic_df], axis = 1)\n",
    "doc_topic_df.columns = column_names\n",
    "doc_topic_df.to_csv('doc_topics/tfidf_nmf.csv')\n",
    "doc_topic_df.head(10)"
   ]
  },
  {
   "cell_type": "code",
   "execution_count": 75,
   "metadata": {},
   "outputs": [
    {
     "data": {
      "text/plain": [
       "array([487.15195887, 583.37218089, 255.5031599 , 587.81221074,\n",
       "       401.48061241, 500.88553984, 548.25049211, 490.60340891,\n",
       "       270.2987032 , 502.62158405])"
      ]
     },
     "execution_count": 75,
     "metadata": {},
     "output_type": "execute_result"
    }
   ],
   "source": [
    "np.sum(doc_topic, axis = 0)"
   ]
  },
  {
   "cell_type": "markdown",
   "metadata": {},
   "source": [
    "### Use Coherence to Determine Optimal Number of Topics"
   ]
  },
  {
   "cell_type": "code",
   "execution_count": 108,
   "metadata": {},
   "outputs": [],
   "source": [
    "tokenized_docs = medium['processedText'].apply(simple_preprocess)"
   ]
  },
  {
   "cell_type": "code",
   "execution_count": 145,
   "metadata": {},
   "outputs": [],
   "source": [
    "# There are still some useless words that tend to get through the pre-processing steps.\n",
    "# Mostly they are longer forms of useless words that become reduced by stemming or they are partial contractions.\n",
    "# Clean this up.\n",
    "\n",
    "def clean_tokens(tokenized_docs):\n",
    "    '''\n",
    "    Removes useless word tokens\n",
    "    '''\n",
    "    clean_tokenized_docs = []\n",
    "    \n",
    "    # Iterate through the documents\n",
    "    for doc in tokenized_docs:\n",
    "        clean_doc = []\n",
    "        # Iterate through words of document\n",
    "        for word in doc:\n",
    "            # Remove words in stop_list\n",
    "            if word not in stop_list:\n",
    "                clean_doc.append(word)\n",
    "      \n",
    "        clean_tokenized_docs.append(clean_doc)\n",
    "        \n",
    "    return clean_tokenized_docs"
   ]
  },
  {
   "cell_type": "code",
   "execution_count": 146,
   "metadata": {},
   "outputs": [],
   "source": [
    "tokenized_docs = clean_tokens(tokenized_docs)"
   ]
  },
  {
   "cell_type": "code",
   "execution_count": 147,
   "metadata": {},
   "outputs": [
    {
     "name": "stderr",
     "output_type": "stream",
     "text": [
      "2019-08-19 20:41:24,744 : INFO : adding document #0 to Dictionary(0 unique tokens: [])\n",
      "2019-08-19 20:41:27,308 : INFO : adding document #10000 to Dictionary(66120 unique tokens: ['adopt', 'agreement', 'believ', 'best', 'better']...)\n",
      "2019-08-19 20:41:29,687 : INFO : adding document #20000 to Dictionary(100439 unique tokens: ['adopt', 'agreement', 'believ', 'best', 'better']...)\n",
      "2019-08-19 20:41:32,044 : INFO : adding document #30000 to Dictionary(126234 unique tokens: ['adopt', 'agreement', 'believ', 'best', 'better']...)\n",
      "2019-08-19 20:41:34,489 : INFO : adding document #40000 to Dictionary(151249 unique tokens: ['adopt', 'agreement', 'believ', 'best', 'better']...)\n",
      "2019-08-19 20:41:36,923 : INFO : adding document #50000 to Dictionary(172325 unique tokens: ['adopt', 'agreement', 'believ', 'best', 'better']...)\n",
      "2019-08-19 20:41:39,803 : INFO : adding document #60000 to Dictionary(192572 unique tokens: ['adopt', 'agreement', 'believ', 'best', 'better']...)\n",
      "2019-08-19 20:41:41,169 : INFO : built Dictionary(200597 unique tokens: ['adopt', 'agreement', 'believ', 'best', 'better']...) from 64417 documents (total 26064354 corpus positions)\n",
      "2019-08-19 20:41:41,433 : INFO : discarding 178863 tokens: [('work', 40106), ('aed', 8), ('aegypti', 1), ('agz', 8), ('andru', 12), ('ansip', 5), ('arntz', 9), ('benifit', 8), ('berriman', 2), ('bogglingli', 7)]...\n",
      "2019-08-19 20:41:41,434 : INFO : keeping 21734 tokens which were in no less than 15 and no more than 32208 (=50.0%) documents\n",
      "2019-08-19 20:41:41,510 : INFO : resulting dictionary: Dictionary(21734 unique tokens: ['adopt', 'agreement', 'believ', 'best', 'better']...)\n"
     ]
    }
   ],
   "source": [
    "dictionary = gensim.corpora.Dictionary(tokenized_docs)\n",
    "dictionary.filter_extremes(no_below=15, no_above=0.5, keep_n=100000)\n",
    "corpus = [dictionary.doc2bow(doc) for doc in tokenized_docs]"
   ]
  },
  {
   "cell_type": "code",
   "execution_count": 125,
   "metadata": {},
   "outputs": [],
   "source": [
    "def compute_coherence_values(dictionary, corpus, texts, limit = 21, start=4, step=4):\n",
    "    \"\"\"\n",
    "    Compute c_v coherence for various number of topics\n",
    "\n",
    "    Parameters:\n",
    "    ----------\n",
    "    dictionary : Gensim dictionary\n",
    "    corpus : Gensim corpus\n",
    "    texts : List of input texts\n",
    "    limit : Max num of topics\n",
    "\n",
    "    Returns:\n",
    "    -------\n",
    "    model_list : List of LDA topic models\n",
    "    coherence_values : Coherence values corresponding to the LDA model with respective number of topics\n",
    "    \"\"\"\n",
    "    coherence_values = []\n",
    "    num_topics_list = []\n",
    "    for num_topics in range(start, limit, step):\n",
    "        model = gensim.models.LdaMulticore(corpus = corpus, num_topics=num_topics, id2word=dictionary, passes=3, workers=3)\n",
    "        num_topics_list.append(num_topics)\n",
    "        coherencemodel = CoherenceModel(model=model, texts=texts, dictionary=dictionary, coherence='c_v')\n",
    "        coherence_values.append(coherencemodel.get_coherence())\n",
    "\n",
    "    return num_topics_list, coherence_values"
   ]
  },
  {
   "cell_type": "code",
   "execution_count": null,
   "metadata": {},
   "outputs": [],
   "source": [
    "num_topics, coherence_values = compute_coherence_values(dictionary, corpus, tokenized_docs)"
   ]
  },
  {
   "cell_type": "code",
   "execution_count": 126,
   "metadata": {},
   "outputs": [
    {
     "data": {
      "text/plain": [
       "<matplotlib.axes._subplots.AxesSubplot at 0x1a4fd09f28>"
      ]
     },
     "execution_count": 126,
     "metadata": {},
     "output_type": "execute_result"
    },
    {
     "data": {
      "image/png": "[encoded data removed]",
      "text/plain": [
       "<Figure size 432x288 with 1 Axes>"
      ]
     },
     "metadata": {
      "needs_background": "light"
     },
     "output_type": "display_data"
    }
   ],
   "source": [
    "sns.scatterplot(num_topics, coherence_values)"
   ]
  },
  {
   "cell_type": "code",
   "execution_count": 127,
   "metadata": {},
   "outputs": [],
   "source": [
    "# It appears that coherence is more or less constant across number of topics.\n",
    "# This plot seems to just be showing noise.\n",
    "# Stick with 10 topics to be consistent with other methods"
   ]
  },
  {
   "cell_type": "markdown",
   "metadata": {},
   "source": [
    "### LDA with Bag of Words\n",
    "(BOW is the same as Count-Vectorizer)"
   ]
  },
  {
   "cell_type": "code",
   "execution_count": null,
   "metadata": {},
   "outputs": [],
   "source": [
    "# Use 10 passes to allow algorithm more time to converge\n",
    "lda = models.LdaMulticore(corpus=corpus, num_topics=10, id2word=dictionary, passes=10, workers = 3)"
   ]
  },
  {
   "cell_type": "code",
   "execution_count": 149,
   "metadata": {},
   "outputs": [
    {
     "name": "stderr",
     "output_type": "stream",
     "text": [
      "2019-08-19 20:48:41,638 : INFO : topic #0 (0.100): 0.009*\"year\" + 0.008*\"research\" + 0.006*\"week\" + 0.006*\"compani\" + 0.005*\"univers\" + 0.005*\"team\" + 0.005*\"world\" + 0.005*\"develop\" + 0.005*\"project\" + 0.005*\"tech\"\n",
      "2019-08-19 20:48:41,640 : INFO : topic #1 (0.100): 0.014*\"valu\" + 0.011*\"featur\" + 0.010*\"predict\" + 0.009*\"word\" + 0.009*\"set\" + 0.008*\"number\" + 0.007*\"differ\" + 0.007*\"exampl\" + 0.007*\"mean\" + 0.007*\"variabl\"\n",
      "2019-08-19 20:48:41,641 : INFO : topic #2 (0.100): 0.022*\"user\" + 0.016*\"custom\" + 0.015*\"chatbot\" + 0.011*\"bot\" + 0.009*\"app\" + 0.008*\"convers\" + 0.008*\"product\" + 0.008*\"servic\" + 0.007*\"voic\" + 0.007*\"experi\"\n",
      "2019-08-19 20:48:41,642 : INFO : topic #3 (0.100): 0.013*\"imag\" + 0.013*\"code\" + 0.010*\"creat\" + 0.009*\"file\" + 0.009*\"python\" + 0.009*\"run\" + 0.006*\"api\" + 0.006*\"project\" + 0.005*\"set\" + 0.005*\"start\"\n",
      "2019-08-19 20:48:41,643 : INFO : topic #4 (0.100): 0.018*\"technolog\" + 0.011*\"human\" + 0.008*\"robot\" + 0.007*\"autom\" + 0.006*\"industri\" + 0.006*\"car\" + 0.006*\"futur\" + 0.006*\"compani\" + 0.005*\"develop\" + 0.005*\"job\"\n",
      "2019-08-19 20:48:41,645 : INFO : topic #5 (0.100): 0.015*\"busi\" + 0.010*\"compani\" + 0.010*\"scienc\" + 0.010*\"product\" + 0.009*\"process\" + 0.008*\"analyt\" + 0.008*\"team\" + 0.007*\"manag\" + 0.007*\"develop\" + 0.007*\"custom\"\n",
      "2019-08-19 20:48:41,646 : INFO : topic #6 (0.100): 0.015*\"human\" + 0.010*\"think\" + 0.010*\"peopl\" + 0.006*\"world\" + 0.005*\"look\" + 0.004*\"robot\" + 0.004*\"come\" + 0.004*\"life\" + 0.004*\"good\" + 0.004*\"creat\"\n",
      "2019-08-19 20:48:41,647 : INFO : topic #7 (0.100): 0.023*\"blockchain\" + 0.016*\"market\" + 0.012*\"price\" + 0.010*\"token\" + 0.010*\"trade\" + 0.009*\"platform\" + 0.007*\"network\" + 0.007*\"invest\" + 0.007*\"transact\" + 0.006*\"financi\"\n",
      "2019-08-19 20:48:41,648 : INFO : topic #8 (0.100): 0.014*\"game\" + 0.009*\"algorithm\" + 0.008*\"agent\" + 0.008*\"state\" + 0.008*\"research\" + 0.008*\"action\" + 0.008*\"patient\" + 0.006*\"play\" + 0.006*\"medic\" + 0.006*\"human\"\n",
      "2019-08-19 20:48:41,651 : INFO : topic #9 (0.100): 0.042*\"network\" + 0.026*\"neural\" + 0.024*\"imag\" + 0.021*\"deep\" + 0.021*\"layer\" + 0.011*\"function\" + 0.009*\"gener\" + 0.008*\"convolut\" + 0.008*\"read\" + 0.007*\"gradient\"\n"
     ]
    },
    {
     "data": {
      "text/plain": [
       "[(0,\n",
       "  '0.009*\"year\" + 0.008*\"research\" + 0.006*\"week\" + 0.006*\"compani\" + 0.005*\"univers\" + 0.005*\"team\" + 0.005*\"world\" + 0.005*\"develop\" + 0.005*\"project\" + 0.005*\"tech\"'),\n",
       " (1,\n",
       "  '0.014*\"valu\" + 0.011*\"featur\" + 0.010*\"predict\" + 0.009*\"word\" + 0.009*\"set\" + 0.008*\"number\" + 0.007*\"differ\" + 0.007*\"exampl\" + 0.007*\"mean\" + 0.007*\"variabl\"'),\n",
       " (2,\n",
       "  '0.022*\"user\" + 0.016*\"custom\" + 0.015*\"chatbot\" + 0.011*\"bot\" + 0.009*\"app\" + 0.008*\"convers\" + 0.008*\"product\" + 0.008*\"servic\" + 0.007*\"voic\" + 0.007*\"experi\"'),\n",
       " (3,\n",
       "  '0.013*\"imag\" + 0.013*\"code\" + 0.010*\"creat\" + 0.009*\"file\" + 0.009*\"python\" + 0.009*\"run\" + 0.006*\"api\" + 0.006*\"project\" + 0.005*\"set\" + 0.005*\"start\"'),\n",
       " (4,\n",
       "  '0.018*\"technolog\" + 0.011*\"human\" + 0.008*\"robot\" + 0.007*\"autom\" + 0.006*\"industri\" + 0.006*\"car\" + 0.006*\"futur\" + 0.006*\"compani\" + 0.005*\"develop\" + 0.005*\"job\"'),\n",
       " (5,\n",
       "  '0.015*\"busi\" + 0.010*\"compani\" + 0.010*\"scienc\" + 0.010*\"product\" + 0.009*\"process\" + 0.008*\"analyt\" + 0.008*\"team\" + 0.007*\"manag\" + 0.007*\"develop\" + 0.007*\"custom\"'),\n",
       " (6,\n",
       "  '0.015*\"human\" + 0.010*\"think\" + 0.010*\"peopl\" + 0.006*\"world\" + 0.005*\"look\" + 0.004*\"robot\" + 0.004*\"come\" + 0.004*\"life\" + 0.004*\"good\" + 0.004*\"creat\"'),\n",
       " (7,\n",
       "  '0.023*\"blockchain\" + 0.016*\"market\" + 0.012*\"price\" + 0.010*\"token\" + 0.010*\"trade\" + 0.009*\"platform\" + 0.007*\"network\" + 0.007*\"invest\" + 0.007*\"transact\" + 0.006*\"financi\"'),\n",
       " (8,\n",
       "  '0.014*\"game\" + 0.009*\"algorithm\" + 0.008*\"agent\" + 0.008*\"state\" + 0.008*\"research\" + 0.008*\"action\" + 0.008*\"patient\" + 0.006*\"play\" + 0.006*\"medic\" + 0.006*\"human\"'),\n",
       " (9,\n",
       "  '0.042*\"network\" + 0.026*\"neural\" + 0.024*\"imag\" + 0.021*\"deep\" + 0.021*\"layer\" + 0.011*\"function\" + 0.009*\"gener\" + 0.008*\"convolut\" + 0.008*\"read\" + 0.007*\"gradient\"')]"
      ]
     },
     "execution_count": 149,
     "metadata": {},
     "output_type": "execute_result"
    }
   ],
   "source": [
    "lda.print_topics()"
   ]
  },
  {
   "cell_type": "code",
   "execution_count": 150,
   "metadata": {},
   "outputs": [
    {
     "name": "stdout",
     "output_type": "stream",
     "text": [
      "0\n",
      "10000\n",
      "20000\n",
      "30000\n",
      "40000\n",
      "50000\n",
      "60000\n"
     ]
    },
    {
     "data": {
      "text/html": [
       "<div>\n",
       "<style scoped>\n",
       "    .dataframe tbody tr th:only-of-type {\n",
       "        vertical-align: middle;\n",
       "    }\n",
       "\n",
       "    .dataframe tbody tr th {\n",
       "        vertical-align: top;\n",
       "    }\n",
       "\n",
       "    .dataframe thead th {\n",
       "        text-align: right;\n",
       "    }\n",
       "</style>\n",
       "<table border=\"1\" class=\"dataframe\">\n",
       "  <thead>\n",
       "    <tr style=\"text-align: right;\">\n",
       "      <th></th>\n",
       "      <th>title</th>\n",
       "      <th>topic1</th>\n",
       "      <th>topic2</th>\n",
       "      <th>topic3</th>\n",
       "      <th>topic4</th>\n",
       "      <th>topic5</th>\n",
       "      <th>topic6</th>\n",
       "      <th>topic7</th>\n",
       "      <th>topic8</th>\n",
       "      <th>topic9</th>\n",
       "      <th>topic10</th>\n",
       "    </tr>\n",
       "  </thead>\n",
       "  <tbody>\n",
       "    <tr>\n",
       "      <th>0</th>\n",
       "      <td>Private Business, Government and Blockchain</td>\n",
       "      <td>0.115743</td>\n",
       "      <td>0.120885</td>\n",
       "      <td>0.341271</td>\n",
       "      <td>0.073062</td>\n",
       "      <td>0.038475</td>\n",
       "      <td>0.305563</td>\n",
       "      <td>0.000000</td>\n",
       "      <td>0.000000</td>\n",
       "      <td>0.000000</td>\n",
       "      <td>0.000000</td>\n",
       "    </tr>\n",
       "    <tr>\n",
       "      <th>1</th>\n",
       "      <td>EPQ draft 1 (4844 words)</td>\n",
       "      <td>0.102191</td>\n",
       "      <td>0.000000</td>\n",
       "      <td>0.623358</td>\n",
       "      <td>0.000000</td>\n",
       "      <td>0.203883</td>\n",
       "      <td>0.035535</td>\n",
       "      <td>0.000000</td>\n",
       "      <td>0.025676</td>\n",
       "      <td>0.000000</td>\n",
       "      <td>0.000000</td>\n",
       "    </tr>\n",
       "    <tr>\n",
       "      <th>2</th>\n",
       "      <td>Ascent of data Science, SAS and Big data Analy...</td>\n",
       "      <td>0.000000</td>\n",
       "      <td>0.000000</td>\n",
       "      <td>0.074569</td>\n",
       "      <td>0.633955</td>\n",
       "      <td>0.136102</td>\n",
       "      <td>0.000000</td>\n",
       "      <td>0.083181</td>\n",
       "      <td>0.070118</td>\n",
       "      <td>0.000000</td>\n",
       "      <td>0.000000</td>\n",
       "    </tr>\n",
       "    <tr>\n",
       "      <th>3</th>\n",
       "      <td>Can a robot love us better than another human ...</td>\n",
       "      <td>0.068597</td>\n",
       "      <td>0.000000</td>\n",
       "      <td>0.000000</td>\n",
       "      <td>0.000000</td>\n",
       "      <td>0.856761</td>\n",
       "      <td>0.000000</td>\n",
       "      <td>0.064916</td>\n",
       "      <td>0.000000</td>\n",
       "      <td>0.000000</td>\n",
       "      <td>0.000000</td>\n",
       "    </tr>\n",
       "    <tr>\n",
       "      <th>4</th>\n",
       "      <td>2017 Big Data, AI and IOT Use Cases</td>\n",
       "      <td>0.267196</td>\n",
       "      <td>0.083804</td>\n",
       "      <td>0.227932</td>\n",
       "      <td>0.094184</td>\n",
       "      <td>0.057072</td>\n",
       "      <td>0.025340</td>\n",
       "      <td>0.164596</td>\n",
       "      <td>0.056568</td>\n",
       "      <td>0.000000</td>\n",
       "      <td>0.023178</td>\n",
       "    </tr>\n",
       "    <tr>\n",
       "      <th>5</th>\n",
       "      <td>Artificial Intelligence is the Next Frontier</td>\n",
       "      <td>0.000000</td>\n",
       "      <td>0.000000</td>\n",
       "      <td>0.303875</td>\n",
       "      <td>0.691473</td>\n",
       "      <td>0.000000</td>\n",
       "      <td>0.000000</td>\n",
       "      <td>0.000000</td>\n",
       "      <td>0.000000</td>\n",
       "      <td>0.000000</td>\n",
       "      <td>0.000000</td>\n",
       "    </tr>\n",
       "    <tr>\n",
       "      <th>6</th>\n",
       "      <td>Aidoc Gets CE Mark for Deep Learning Solution</td>\n",
       "      <td>0.116459</td>\n",
       "      <td>0.000000</td>\n",
       "      <td>0.150972</td>\n",
       "      <td>0.150362</td>\n",
       "      <td>0.000000</td>\n",
       "      <td>0.000000</td>\n",
       "      <td>0.579563</td>\n",
       "      <td>0.000000</td>\n",
       "      <td>0.000000</td>\n",
       "      <td>0.000000</td>\n",
       "    </tr>\n",
       "    <tr>\n",
       "      <th>7</th>\n",
       "      <td>Ai and it’s impact on the world</td>\n",
       "      <td>0.000000</td>\n",
       "      <td>0.000000</td>\n",
       "      <td>0.165751</td>\n",
       "      <td>0.116550</td>\n",
       "      <td>0.611120</td>\n",
       "      <td>0.000000</td>\n",
       "      <td>0.000000</td>\n",
       "      <td>0.000000</td>\n",
       "      <td>0.094331</td>\n",
       "      <td>0.000000</td>\n",
       "    </tr>\n",
       "    <tr>\n",
       "      <th>8</th>\n",
       "      <td>The Meta Model and Meta Meta-Model of Deep Lea...</td>\n",
       "      <td>0.000000</td>\n",
       "      <td>0.000000</td>\n",
       "      <td>0.000000</td>\n",
       "      <td>0.000000</td>\n",
       "      <td>0.077536</td>\n",
       "      <td>0.000000</td>\n",
       "      <td>0.318060</td>\n",
       "      <td>0.018013</td>\n",
       "      <td>0.080844</td>\n",
       "      <td>0.504516</td>\n",
       "    </tr>\n",
       "    <tr>\n",
       "      <th>9</th>\n",
       "      <td>Top 10 Tips for the Data Science Team To Succeed</td>\n",
       "      <td>0.000000</td>\n",
       "      <td>0.000000</td>\n",
       "      <td>0.000000</td>\n",
       "      <td>0.733041</td>\n",
       "      <td>0.205420</td>\n",
       "      <td>0.000000</td>\n",
       "      <td>0.000000</td>\n",
       "      <td>0.000000</td>\n",
       "      <td>0.058856</td>\n",
       "      <td>0.000000</td>\n",
       "    </tr>\n",
       "  </tbody>\n",
       "</table>\n",
       "</div>"
      ],
      "text/plain": [
       "                                               title    topic1    topic2  \\\n",
       "0        Private Business, Government and Blockchain  0.115743  0.120885   \n",
       "1                           EPQ draft 1 (4844 words)  0.102191  0.000000   \n",
       "2  Ascent of data Science, SAS and Big data Analy...  0.000000  0.000000   \n",
       "3  Can a robot love us better than another human ...  0.068597  0.000000   \n",
       "4                2017 Big Data, AI and IOT Use Cases  0.267196  0.083804   \n",
       "5       Artificial Intelligence is the Next Frontier  0.000000  0.000000   \n",
       "6      Aidoc Gets CE Mark for Deep Learning Solution  0.116459  0.000000   \n",
       "7                    Ai and it’s impact on the world  0.000000  0.000000   \n",
       "8  The Meta Model and Meta Meta-Model of Deep Lea...  0.000000  0.000000   \n",
       "9   Top 10 Tips for the Data Science Team To Succeed  0.000000  0.000000   \n",
       "\n",
       "     topic3    topic4    topic5    topic6    topic7    topic8    topic9  \\\n",
       "0  0.341271  0.073062  0.038475  0.305563  0.000000  0.000000  0.000000   \n",
       "1  0.623358  0.000000  0.203883  0.035535  0.000000  0.025676  0.000000   \n",
       "2  0.074569  0.633955  0.136102  0.000000  0.083181  0.070118  0.000000   \n",
       "3  0.000000  0.000000  0.856761  0.000000  0.064916  0.000000  0.000000   \n",
       "4  0.227932  0.094184  0.057072  0.025340  0.164596  0.056568  0.000000   \n",
       "5  0.303875  0.691473  0.000000  0.000000  0.000000  0.000000  0.000000   \n",
       "6  0.150972  0.150362  0.000000  0.000000  0.579563  0.000000  0.000000   \n",
       "7  0.165751  0.116550  0.611120  0.000000  0.000000  0.000000  0.094331   \n",
       "8  0.000000  0.000000  0.077536  0.000000  0.318060  0.018013  0.080844   \n",
       "9  0.000000  0.733041  0.205420  0.000000  0.000000  0.000000  0.058856   \n",
       "\n",
       "    topic10  \n",
       "0  0.000000  \n",
       "1  0.000000  \n",
       "2  0.000000  \n",
       "3  0.000000  \n",
       "4  0.023178  \n",
       "5  0.000000  \n",
       "6  0.000000  \n",
       "7  0.000000  \n",
       "8  0.504516  \n",
       "9  0.000000  "
      ]
     },
     "execution_count": 150,
     "metadata": {},
     "output_type": "execute_result"
    }
   ],
   "source": [
    "from collections import defaultdict\n",
    "# Initialize a dictionary to store results\n",
    "doc_topic_df = defaultdict(list)\n",
    "\n",
    "# List of column names to use later\n",
    "column_names = ['title', 'topic1', 'topic2', 'topic3', 'topic4', 'topic5', 'topic6', 'topic7', 'topic8', 'topic9', 'topic10']\n",
    "\n",
    "# Set of all topics\n",
    "topics = set([0,1,2,3,4,5,6,7,8,9])\n",
    "\n",
    "# Iterate through topic breakdown of document\n",
    "for i, row in enumerate(lda[corpus]):\n",
    "    \n",
    "    # Initialize a set of topics included in document breakdown\n",
    "    row_topics = []\n",
    "    \n",
    "    # Iterate through topics of document\n",
    "    for topic in row:\n",
    "        # Add topic to row_topics\n",
    "        row_topics.append(topic[0])\n",
    "        # Add topic strength to dictionary\n",
    "        doc_topic_df[topic[0]].append(topic[1])\n",
    "    \n",
    "    # Make row topics a set then determine remaining topics\n",
    "    # Set strength of remaining topics to 0\n",
    "    row_topics = set(row_topics)\n",
    "    remaining_topics = topics - row_topics\n",
    "    \n",
    "    for topic in remaining_topics:\n",
    "        doc_topic_df[topic].append(0)\n",
    "        \n",
    "    if i % 10000 == 0:\n",
    "        print(i)\n",
    "\n",
    "doc_topic_df = pd.DataFrame(doc_topic_df)\n",
    "doc_topic_df = pd.concat([medium['title'], doc_topic_df], axis = 1)\n",
    "doc_topic_df.columns = column_names\n",
    "doc_topic_df.head(10)\n",
    "        "
   ]
  },
  {
   "cell_type": "code",
   "execution_count": 151,
   "metadata": {},
   "outputs": [],
   "source": [
    "doc_topic_df.to_csv('doc_topics/cv_lda.csv')"
   ]
  },
  {
   "cell_type": "code",
   "execution_count": 152,
   "metadata": {},
   "outputs": [
    {
     "data": {
      "text/plain": [
       "array([ 6489.00452576,  7118.28517865,  6957.57385532,  9020.58648022,\n",
       "       10003.3860953 ,  3378.37543944,  3445.71239543,  7704.90670977,\n",
       "        6066.58504616,  3942.77149347])"
      ]
     },
     "execution_count": 152,
     "metadata": {},
     "output_type": "execute_result"
    }
   ],
   "source": [
    "np.sum(np.array(doc_topic_df.iloc[:,1:]), axis = 0)"
   ]
  },
  {
   "cell_type": "code",
   "execution_count": 154,
   "metadata": {},
   "outputs": [],
   "source": [
    "import pickle\n",
    "with open('models/cv_lsa_10tp_10pa.pkl', 'wb') as file:\n",
    "    pickle.dump(lsa, file)"
   ]
  },
  {
   "cell_type": "code",
   "execution_count": null,
   "metadata": {},
   "outputs": [],
   "source": []
  }
 ],
 "metadata": {
  "kernelspec": {
   "display_name": "metis",
   "language": "python",
   "name": "metis"
  },
  "language_info": {
   "codemirror_mode": {
    "name": "ipython",
    "version": 3
   },
   "file_extension": ".py",
   "mimetype": "text/x-python",
   "name": "python",
   "nbconvert_exporter": "python",
   "pygments_lexer": "ipython3",
   "version": "3.7.3"
  }
 },
 "nbformat": 4,
 "nbformat_minor": 2
}
